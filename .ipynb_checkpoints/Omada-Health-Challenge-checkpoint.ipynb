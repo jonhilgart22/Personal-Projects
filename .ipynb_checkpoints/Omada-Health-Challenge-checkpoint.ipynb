{
 "cells": [
  {
   "cell_type": "code",
   "execution_count": 79,
   "metadata": {
    "collapsed": false
   },
   "outputs": [
    {
     "ename": "ERROR",
     "evalue": "Error in library(gtools): there is no package called ‘gtools’\n",
     "output_type": "error",
     "traceback": [
      "Error in library(gtools): there is no package called ‘gtools’\nTraceback:\n",
      "1. library(gtools)",
      "2. stop(txt, domain = NA)"
     ]
    }
   ],
   "source": [
    "library(gtools)"
   ]
  },
  {
   "cell_type": "code",
   "execution_count": 13,
   "metadata": {
    "collapsed": true
   },
   "outputs": [],
   "source": [
    "dataframe <- data.frame('account_id'=c(1,1,1,2,2,3,4,5), 'item_id'=c(1,2,3,2,3,1,4,5), 'rating'=c(3,3,1,1,1,3,1,2))"
   ]
  },
  {
   "cell_type": "code",
   "execution_count": 14,
   "metadata": {
    "collapsed": false
   },
   "outputs": [
    {
     "data": {
      "text/html": [
       "<table>\n",
       "<thead><tr><th scope=col>account_id</th><th scope=col>item_id</th><th scope=col>rating</th></tr></thead>\n",
       "<tbody>\n",
       "\t<tr><td>1</td><td>1</td><td>3</td></tr>\n",
       "\t<tr><td>1</td><td>2</td><td>3</td></tr>\n",
       "\t<tr><td>1</td><td>3</td><td>1</td></tr>\n",
       "</tbody>\n",
       "</table>\n"
      ],
      "text/latex": [
       "\\begin{tabular}{r|lll}\n",
       " account\\_id & item\\_id & rating\\\\\n",
       "\\hline\n",
       "\t 1 & 1 & 3\\\\\n",
       "\t 1 & 2 & 3\\\\\n",
       "\t 1 & 3 & 1\\\\\n",
       "\\end{tabular}\n"
      ],
      "text/markdown": [
       "\n",
       "account_id | item_id | rating | \n",
       "|---|---|---|\n",
       "| 1 | 1 | 3 | \n",
       "| 1 | 2 | 3 | \n",
       "| 1 | 3 | 1 | \n",
       "\n",
       "\n"
      ],
      "text/plain": [
       "  account_id item_id rating\n",
       "1 1          1       3     \n",
       "2 1          2       3     \n",
       "3 1          3       1     "
      ]
     },
     "metadata": {},
     "output_type": "display_data"
    }
   ],
   "source": [
    "dataframe[dataframe$account_id == 1,]"
   ]
  },
  {
   "cell_type": "code",
   "execution_count": 21,
   "metadata": {
    "collapsed": false
   },
   "outputs": [],
   "source": [
    "d <- split(dataframe,dataframe$account_id)"
   ]
  },
  {
   "cell_type": "code",
   "execution_count": 78,
   "metadata": {
    "collapsed": false
   },
   "outputs": [
    {
     "data": {
      "text/html": [
       "<strong>$`1`</strong> = <table>\n",
       "<thead><tr><th scope=col>account_id</th><th scope=col>item_id</th><th scope=col>rating</th></tr></thead>\n",
       "<tbody>\n",
       "\t<tr><td>1</td><td>1</td><td>3</td></tr>\n",
       "\t<tr><td>1</td><td>2</td><td>3</td></tr>\n",
       "\t<tr><td>1</td><td>3</td><td>1</td></tr>\n",
       "</tbody>\n",
       "</table>\n"
      ],
      "text/latex": [
       "\\textbf{\\$`1`} = \\begin{tabular}{r|lll}\n",
       " account\\_id & item\\_id & rating\\\\\n",
       "\\hline\n",
       "\t 1 & 1 & 3\\\\\n",
       "\t 1 & 2 & 3\\\\\n",
       "\t 1 & 3 & 1\\\\\n",
       "\\end{tabular}\n"
      ],
      "text/markdown": [
       "**$`1`** = \n",
       "account_id | item_id | rating | \n",
       "|---|---|---|\n",
       "| 1 | 1 | 3 | \n",
       "| 1 | 2 | 3 | \n",
       "| 1 | 3 | 1 | \n",
       "\n",
       "\n"
      ],
      "text/plain": [
       "$`1`\n",
       "  account_id item_id rating\n",
       "1          1       1      3\n",
       "2          1       2      3\n",
       "3          1       3      1\n"
      ]
     },
     "metadata": {},
     "output_type": "display_data"
    }
   ],
   "source": [
    "d[1]"
   ]
  },
  {
   "cell_type": "code",
   "execution_count": null,
   "metadata": {
    "collapsed": false
   },
   "outputs": [],
   "source": []
  },
  {
   "cell_type": "code",
   "execution_count": 80,
   "metadata": {
    "collapsed": false
   },
   "outputs": [
    {
     "ename": "ERROR",
     "evalue": "Error in rbind(deparse.level, ...): numbers of columns of arguments do not match\n",
     "output_type": "error",
     "traceback": [
      "Error in rbind(deparse.level, ...): numbers of columns of arguments do not match\nTraceback:\n",
      "1. rbind(d[1], acct_one)",
      "2. rbind(deparse.level, ...)",
      "3. stop(\"numbers of columns of arguments do not match\")"
     ]
    }
   ],
   "source": [
    "acct_one <- data.frame('account_id'=c(1,1),'item_id'=c(4,5),'rating'=c('NA','NA'))\n",
    "\n",
    "d[1]<- rbind(d[1][,,acct_one)\n"
   ]
  },
  {
   "cell_type": "code",
   "execution_count": 81,
   "metadata": {
    "collapsed": false
   },
   "outputs": [
    {
     "data": {
      "text/html": [
       "<table>\n",
       "<thead><tr><th scope=col>account_id</th><th scope=col>item_id</th><th scope=col>rating</th></tr></thead>\n",
       "<tbody>\n",
       "\t<tr><td>1 </td><td>4 </td><td>NA</td></tr>\n",
       "\t<tr><td>1 </td><td>5 </td><td>NA</td></tr>\n",
       "</tbody>\n",
       "</table>\n"
      ],
      "text/latex": [
       "\\begin{tabular}{r|lll}\n",
       " account\\_id & item\\_id & rating\\\\\n",
       "\\hline\n",
       "\t 1  & 4  & NA\\\\\n",
       "\t 1  & 5  & NA\\\\\n",
       "\\end{tabular}\n"
      ],
      "text/markdown": [
       "\n",
       "account_id | item_id | rating | \n",
       "|---|---|\n",
       "| 1  | 4  | NA | \n",
       "| 1  | 5  | NA | \n",
       "\n",
       "\n"
      ],
      "text/plain": [
       "  account_id item_id rating\n",
       "1 1          4       NA    \n",
       "2 1          5       NA    "
      ]
     },
     "metadata": {},
     "output_type": "display_data"
    }
   ],
   "source": [
    "acct_one"
   ]
  },
  {
   "cell_type": "code",
   "execution_count": null,
   "metadata": {
    "collapsed": true
   },
   "outputs": [],
   "source": [
    "> newRow <- data.frame(Sex=’F’,Bwt=2.1,Hwt=8.1)\n",
    "\n",
    ">Cats <- rbind(Cats,newRow)"
   ]
  },
  {
   "cell_type": "code",
   "execution_count": null,
   "metadata": {
    "collapsed": true
   },
   "outputs": [],
   "source": [
    "d[1][nrow(d[1])+1, ]<- c(1,5,'NA')"
   ]
  },
  {
   "cell_type": "code",
   "execution_count": 54,
   "metadata": {
    "collapsed": false
   },
   "outputs": [],
   "source": [
    "munged_df <- data.frame('item1'=integer(),'item2'=integer(),'item3'=integer(),'item4'=integer(),'item5'=integer())"
   ]
  },
  {
   "cell_type": "code",
   "execution_count": 50,
   "metadata": {
    "collapsed": false
   },
   "outputs": [
    {
     "ename": "ERROR",
     "evalue": "Error in `row.names<-.data.frame`(`*tmp*`, value = 1): invalid 'row.names' length\n",
     "output_type": "error",
     "traceback": [
      "Error in `row.names<-.data.frame`(`*tmp*`, value = 1): invalid 'row.names' length\nTraceback:\n",
      "1. `row.names<-`(`*tmp*`, value = 1)",
      "2. `row.names<-.data.frame`(`*tmp*`, value = 1)",
      "3. stop(\"invalid 'row.names' length\")"
     ]
    }
   ],
   "source": [
    "row.names(munged_df)<-1"
   ]
  },
  {
   "cell_type": "code",
   "execution_count": 55,
   "metadata": {
    "collapsed": false
   },
   "outputs": [
    {
     "data": {
      "text/html": [
       "<table>\n",
       "<thead><tr><th scope=col>item1</th><th scope=col>item2</th><th scope=col>item3</th><th scope=col>item4</th><th scope=col>item5</th></tr></thead>\n",
       "<tbody>\n",
       "</tbody>\n",
       "</table>\n"
      ],
      "text/latex": [
       "\\begin{tabular}{r|lllll}\n",
       " item1 & item2 & item3 & item4 & item5\\\\\n",
       "\\hline\n",
       "\\end{tabular}\n"
      ],
      "text/markdown": [
       "\n",
       "item1 | item2 | item3 | item4 | item5 | \n",
       "||\n",
       "\n",
       "\n"
      ],
      "text/plain": [
       "     item1 item2 item3 item4 item5"
      ]
     },
     "metadata": {},
     "output_type": "display_data"
    }
   ],
   "source": [
    "munged_df"
   ]
  },
  {
   "cell_type": "code",
   "execution_count": 58,
   "metadata": {
    "collapsed": false
   },
   "outputs": [],
   "source": [
    "munged_df[nrow(munged_df)+1,] <- c(3,3,1,'NA','NA')"
   ]
  },
  {
   "cell_type": "code",
   "execution_count": 59,
   "metadata": {
    "collapsed": false
   },
   "outputs": [
    {
     "data": {
      "text/html": [
       "<table>\n",
       "<thead><tr><th scope=col>item1</th><th scope=col>item2</th><th scope=col>item3</th><th scope=col>item4</th><th scope=col>item5</th></tr></thead>\n",
       "<tbody>\n",
       "\t<tr><td>3 </td><td>3 </td><td>1 </td><td>NA</td><td>NA</td></tr>\n",
       "</tbody>\n",
       "</table>\n"
      ],
      "text/latex": [
       "\\begin{tabular}{r|lllll}\n",
       " item1 & item2 & item3 & item4 & item5\\\\\n",
       "\\hline\n",
       "\t 3  & 3  & 1  & NA & NA\\\\\n",
       "\\end{tabular}\n"
      ],
      "text/markdown": [
       "\n",
       "item1 | item2 | item3 | item4 | item5 | \n",
       "|---|\n",
       "| 3  | 3  | 1  | NA | NA | \n",
       "\n",
       "\n"
      ],
      "text/plain": [
       "  item1 item2 item3 item4 item5\n",
       "1 3     3     1     NA    NA   "
      ]
     },
     "metadata": {},
     "output_type": "display_data"
    }
   ],
   "source": [
    "munged_df"
   ]
  },
  {
   "cell_type": "code",
   "execution_count": null,
   "metadata": {
    "collapsed": true
   },
   "outputs": [],
   "source": []
  },
  {
   "cell_type": "code",
   "execution_count": null,
   "metadata": {
    "collapsed": true
   },
   "outputs": [],
   "source": [
    "teachers[nrow(teachers) + 1, ] <- c( \"ted\", 50)"
   ]
  }
 ],
 "metadata": {
  "anaconda-cloud": {},
  "kernelspec": {
   "display_name": "R",
   "language": "R",
   "name": "ir"
  },
  "language_info": {
   "codemirror_mode": "r",
   "file_extension": ".r",
   "mimetype": "text/x-r-source",
   "name": "R",
   "pygments_lexer": "r",
   "version": "3.3.2"
  }
 },
 "nbformat": 4,
 "nbformat_minor": 1
}
