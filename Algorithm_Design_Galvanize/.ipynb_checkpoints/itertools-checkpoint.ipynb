{
 "cells": [
  {
   "cell_type": "markdown",
   "metadata": {},
   "source": [
    "You have a sequence of dictionaries or instances and you want to iterate over the data in groups based on the value of a particular field, such as date."
   ]
  },
  {
   "cell_type": "markdown",
   "metadata": {},
   "source": [
    "# Input\n",
    "rows = [\n",
    "    {'address': '5412 N CLARK', 'date': '07/01/2012'},\n",
    "    \n",
    "    {'address': '5148 N CLARK', 'date': '07/04/2012'},\n",
    "    \n",
    "    {'address': '5800 E 58TH', 'date': '07/02/2012'},\n",
    "    \n",
    "    {'address': '2122 N CLARK', 'date': '07/03/2012'},\n",
    "    \n",
    "    {'address': '5645 N RAVENSWOOD', 'date': '07/02/2012'},\n",
    "    \n",
    "    {'address': '1060 W ADDISON', 'date': '07/02/2012'},\n",
    "    {'address': '4801 N BROADWAY', 'date': '07/01/2012'},\n",
    "    {'address': '1039 W GRANVILLE', 'date': '07/04/2012'},\n",
    "]\n",
    "\n",
    "# Output\n",
    "\"\"\"\n",
    "07/01/2012\n",
    "     {'date': '07/01/2012', 'address': '5412 N CLARK'}\n",
    "     {'date': '07/01/2012', 'address': '4801 N BROADWAY'}\n",
    "\n",
    "07/02/2012\n",
    "     {'date': '07/02/2012', 'address': '5800 E 58TH'}\n",
    "     {'date': '07/02/2012', 'address': '5645 N RAVENSWOOD'}\n",
    "     {'date': '07/02/2012', 'address': '1060 W ADDISON'}\n",
    "\n",
    "07/03/2012\n",
    "     {'date': '07/03/2012', 'address': '2122 N CLARK'}\n",
    "\n",
    "07/04/2012\n",
    "     {'date': '07/04/2012', 'address': '5148 N CLARK'}\n",
    "     {'date': '07/04/2012', 'address': '1039 W GRANVILLE'}"
   ]
  },
  {
   "cell_type": "code",
   "execution_count": 81,
   "metadata": {
    "collapsed": false
   },
   "outputs": [],
   "source": [
    "def sorting_function(element,data):\n",
    "    import pandas as pd\n",
    "    data = pd.DataFrame(data)\n",
    "    data = data.groupby(element)\n",
    "    #data=data.unstack()\n",
    "    #print(data)\n",
    "    return [item for item in data]\n",
    "    "
   ]
  },
  {
   "cell_type": "code",
   "execution_count": 82,
   "metadata": {
    "collapsed": true
   },
   "outputs": [],
   "source": [
    "rows = [ {'address': '5412 N CLARK', 'date': '07/01/2012'},\n",
    "{'address': '5148 N CLARK', 'date': '07/04/2012'},\n",
    "\n",
    "{'address': '5800 E 58TH', 'date': '07/02/2012'},\n",
    "\n",
    "{'address': '2122 N CLARK', 'date': '07/03/2012'},\n",
    "\n",
    "{'address': '5645 N RAVENSWOOD', 'date': '07/02/2012'},\n",
    "\n",
    "{'address': '1060 W ADDISON', 'date': '07/02/2012'},\n",
    "{'address': '4801 N BROADWAY', 'date': '07/01/2012'},\n",
    "{'address': '1039 W GRANVILLE', 'date': '07/04/2012'},\n",
    "]"
   ]
  },
  {
   "cell_type": "code",
   "execution_count": 83,
   "metadata": {
    "collapsed": false
   },
   "outputs": [
    {
     "data": {
      "text/plain": [
       "[('07/01/2012',            address        date\n",
       "  0     5412 N CLARK  07/01/2012\n",
       "  6  4801 N BROADWAY  07/01/2012),\n",
       " ('07/02/2012',              address        date\n",
       "  2        5800 E 58TH  07/02/2012\n",
       "  4  5645 N RAVENSWOOD  07/02/2012\n",
       "  5     1060 W ADDISON  07/02/2012),\n",
       " ('07/03/2012',         address        date\n",
       "  3  2122 N CLARK  07/03/2012),\n",
       " ('07/04/2012',             address        date\n",
       "  1      5148 N CLARK  07/04/2012\n",
       "  7  1039 W GRANVILLE  07/04/2012)]"
      ]
     },
     "execution_count": 83,
     "metadata": {},
     "output_type": "execute_result"
    }
   ],
   "source": [
    "sorting_function('date',rows)"
   ]
  },
  {
   "cell_type": "code",
   "execution_count": null,
   "metadata": {
    "collapsed": true
   },
   "outputs": [],
   "source": []
  }
 ],
 "metadata": {
  "anaconda-cloud": {},
  "kernelspec": {
   "display_name": "Python [Root]",
   "language": "python",
   "name": "Python [Root]"
  },
  "language_info": {
   "codemirror_mode": {
    "name": "ipython",
    "version": 3
   },
   "file_extension": ".py",
   "mimetype": "text/x-python",
   "name": "python",
   "nbconvert_exporter": "python",
   "pygments_lexer": "ipython3",
   "version": "3.5.2"
  }
 },
 "nbformat": 4,
 "nbformat_minor": 0
}
