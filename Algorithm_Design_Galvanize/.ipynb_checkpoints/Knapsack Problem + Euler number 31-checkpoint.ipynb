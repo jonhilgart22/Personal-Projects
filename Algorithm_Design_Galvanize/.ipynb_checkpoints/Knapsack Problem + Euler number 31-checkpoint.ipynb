{
 "cells": [
  {
   "cell_type": "code",
   "execution_count": 24,
   "metadata": {
    "collapsed": false
   },
   "outputs": [],
   "source": [
    "#weight first in key then value\n",
    "items={'tv':(20,200),'phone':(1,2000),'book':(5,20),'broom':(2,5),'socks':(1,1),'speakers':(10,40)}"
   ]
  },
  {
   "cell_type": "code",
   "execution_count": 39,
   "metadata": {
    "collapsed": true
   },
   "outputs": [],
   "source": [
    "### Greedy\n",
    "\n",
    "def fill_knapsack(weight_capacity,list_of_items):\n",
    "    '''maximize the value of a knpasack with given weights and values using a greedy algorithm'''\n",
    "    current_weight = 0\n",
    "    current_value = 0\n",
    "    list_of_objects = []\n",
    "    \n",
    "    \n",
    "    for count,individual_item in enumerate(items):\n",
    "        #print (individual_item ,'item')\n",
    "        #print(list_of_items[individual_item ][0],\"item's weight\")\n",
    "        #print(list_of_items[individual_item][1],\"item's value\")\n",
    "        \n",
    "        if list_of_items[individual_item][0] +current_weight <=weight_capacity:\n",
    "            #print(list_of_items[individual_item ][0],\"item's weight\")\n",
    "            current_value+=list_of_items[individual_item][1]\n",
    "            current_weight+=list_of_items[individual_item ][0]\n",
    "            list_of_objects.append(individual_item)\n",
    "            #print(list_of_objects)\n",
    "\n",
    "        else:\n",
    "            print(\"This item, {}, doesn't fit into the knapsack\".format(individual_item))\n",
    "    print(\"Value of knapsack \",current_value)\n",
    "    print(\"Objects you took \",list_of_objects)\n",
    "    print(\"Weight of your knapsack {}, and Weight capacity of the bag {}\".format(current_weight,weight_capacity))\n",
    "            "
   ]
  },
  {
   "cell_type": "code",
   "execution_count": 41,
   "metadata": {
    "collapsed": false
   },
   "outputs": [
    {
     "name": "stdout",
     "output_type": "stream",
     "text": [
      "This item, tv, doesn't fit into the knapsack\n",
      "This item, book, doesn't fit into the knapsack\n",
      "Value of knapsack  2046\n",
      "Objects you took  ['speakers', 'broom', 'socks', 'phone']\n",
      "Weight of your knapsack 14, and Weight capacity of the bag 15\n"
     ]
    }
   ],
   "source": [
    "fill_knapsack(15,items)"
   ]
  },
  {
   "cell_type": "code",
   "execution_count": null,
   "metadata": {
    "collapsed": true
   },
   "outputs": [],
   "source": []
  },
  {
   "cell_type": "markdown",
   "metadata": {},
   "source": [
    "In England the currency is made up of pound, £, and pence, p, and there are eight coins in general circulation:\n",
    "\n",
    "> 1p, 2p, 5p, 10p, 20p, 50p, £1 (100p) and £2 (200p).\n",
    "> It is possible to make £2 in the following way:\n",
    "\n",
    "> 1×£1 + 1×50p + 2×20p + 1×5p + 1×2p + 3×1p\n",
    "> How many different ways can £2 be made using any number of coins?"
   ]
  },
  {
   "cell_type": "code",
   "execution_count": 42,
   "metadata": {
    "collapsed": true
   },
   "outputs": [],
   "source": [
    "coins=[1,2,5,10,20,50,100,200]"
   ]
  },
  {
   "cell_type": "code",
   "execution_count": null,
   "metadata": {
    "collapsed": true
   },
   "outputs": [],
   "source": []
  }
 ],
 "metadata": {
  "kernelspec": {
   "display_name": "Python [Root]",
   "language": "python",
   "name": "Python [Root]"
  },
  "language_info": {
   "codemirror_mode": {
    "name": "ipython",
    "version": 3
   },
   "file_extension": ".py",
   "mimetype": "text/x-python",
   "name": "python",
   "nbconvert_exporter": "python",
   "pygments_lexer": "ipython3",
   "version": "3.5.2"
  }
 },
 "nbformat": 4,
 "nbformat_minor": 0
}
