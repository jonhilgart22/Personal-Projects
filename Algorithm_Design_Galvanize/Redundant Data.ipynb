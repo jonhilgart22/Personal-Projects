{
 "cells": [
  {
   "cell_type": "code",
   "execution_count": 48,
   "metadata": {
    "collapsed": false
   },
   "outputs": [
    {
     "name": "stdout",
     "output_type": "stream",
     "text": [
      "['Brian', 'Brian', 'Alex', 'Lambda', 'Lambda', 'Lambda', 'Brian', 'Brian', 'Brian']\n"
     ]
    }
   ],
   "source": [
    "#Efficiently remove duplicates and keep order (i.e., if an item appears later only keep 1st occurance).\n",
    "data_raw = (\"Brian Brian Alex Lambda Lambda Lambda Brian Brian Brian\").split()\n",
    "\n",
    "print(data_raw)"
   ]
  },
  {
   "cell_type": "code",
   "execution_count": 49,
   "metadata": {
    "collapsed": false
   },
   "outputs": [
    {
     "name": "stdout",
     "output_type": "stream",
     "text": [
      "['Brian', 'Alex', 'Lambda']\n"
     ]
    }
   ],
   "source": [
    "data_deduped  = []\n",
    "\n",
    "for item in data_raw:\n",
    "    if item not in data_deduped:\n",
    "        data_deduped.append(item)\n",
    "\n",
    "print(data_deduped)"
   ]
  },
  {
   "cell_type": "code",
   "execution_count": 53,
   "metadata": {
    "collapsed": false
   },
   "outputs": [],
   "source": [
    "assert data_deduped == ['Brian', 'Alex', 'Lambda']\n",
    "\n",
    "new = [1,2,2,2,2,1,1,2,2,4,4,4,2,2,233,435,435,546,34,234,23,22,2,3,3,232,2]"
   ]
  },
  {
   "cell_type": "code",
   "execution_count": 54,
   "metadata": {
    "collapsed": false
   },
   "outputs": [],
   "source": [
    "data_d = list(set(new))"
   ]
  },
  {
   "cell_type": "code",
   "execution_count": 58,
   "metadata": {
    "collapsed": false
   },
   "outputs": [
    {
     "name": "stdout",
     "output_type": "stream",
     "text": [
      "[1, 546, 2, 4, 34, 3, 232, 233, 234, 435, 22, 23]\n"
     ]
    }
   ],
   "source": [
    "import math\n",
    "print(data_d)"
   ]
  },
  {
   "cell_type": "code",
   "execution_count": 74,
   "metadata": {
    "collapsed": false
   },
   "outputs": [
    {
     "data": {
      "text/plain": [
       "0.0009765625"
      ]
     },
     "execution_count": 74,
     "metadata": {},
     "output_type": "execute_result"
    }
   ],
   "source": [
    "\n",
    "\n",
    "math.factorial(10) /(math.factorial(10-10)*math.factorial(10))*(.5)**10*(.5)**0"
   ]
  },
  {
   "cell_type": "code",
   "execution_count": 76,
   "metadata": {
    "collapsed": false
   },
   "outputs": [
    {
     "data": {
      "text/plain": [
       "5.0"
      ]
     },
     "execution_count": 76,
     "metadata": {},
     "output_type": "execute_result"
    }
   ],
   "source": [
    " 0.0009765625*0+0.009765625*1+0.0439453125*2+0.1171875*3+ 0.205078125*4+0.24609375*5+0.205078125*6+0.1171875*7+0.0439453125*8+0.009765625*9+0.0009765625*10   "
   ]
  },
  {
   "cell_type": "code",
   "execution_count": 77,
   "metadata": {
    "collapsed": false
   },
   "outputs": [
    {
     "data": {
      "text/plain": [
       "2.5"
      ]
     },
     "execution_count": 77,
     "metadata": {},
     "output_type": "execute_result"
    }
   ],
   "source": [
    " 0.0009765625*(0-5)**2+0.009765625*(1-5)**2+0.0439453125*(2-5)**2+0.1171875*(3-5)**2+ 0.205078125*(4-5)**2+0.24609375*(5-5)**2+0.205078125*(6-5)**2+0.1171875*(7-5)**2+0.0439453125*(8-5)**2+0.009765625*(9-5)**2+0.0009765625*(10-5)**2   "
   ]
  },
  {
   "cell_type": "code",
   "execution_count": null,
   "metadata": {
    "collapsed": true
   },
   "outputs": [],
   "source": []
  }
 ],
 "metadata": {
  "kernelspec": {
   "display_name": "Python [Root]",
   "language": "python",
   "name": "Python [Root]"
  },
  "language_info": {
   "codemirror_mode": {
    "name": "ipython",
    "version": 3
   },
   "file_extension": ".py",
   "mimetype": "text/x-python",
   "name": "python",
   "nbconvert_exporter": "python",
   "pygments_lexer": "ipython3",
   "version": "3.5.2"
  }
 },
 "nbformat": 4,
 "nbformat_minor": 0
}
