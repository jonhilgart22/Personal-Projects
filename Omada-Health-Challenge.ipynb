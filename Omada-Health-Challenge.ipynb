{
 "cells": [
  {
   "cell_type": "code",
   "execution_count": 79,
   "metadata": {
    "collapsed": false
   },
   "outputs": [
    {
     "ename": "ERROR",
     "evalue": "Error in library(gtools): there is no package called ‘gtools’\n",
     "output_type": "error",
     "traceback": [
      "Error in library(gtools): there is no package called ‘gtools’\nTraceback:\n",
      "1. library(gtools)",
      "2. stop(txt, domain = NA)"
     ]
    }
   ],
   "source": [
    "library(gtools)"
   ]
  },
  {
   "cell_type": "code",
   "execution_count": 13,
   "metadata": {
    "collapsed": true
   },
   "outputs": [],
   "source": [
    "dataframe <- data.frame('account_id'=c(1,1,1,2,2,3,4,5), 'item_id'=c(1,2,3,2,3,1,4,5), 'rating'=c(3,3,1,1,1,3,1,2))"
   ]
  },
  {
   "cell_type": "code",
   "execution_count": 197,
   "metadata": {
    "collapsed": false
   },
   "outputs": [],
   "source": [
    "## split the dataframe into separate dataframes based upon the account\n",
    "d <- split(dataframe,dataframe$account_id)"
   ]
  },
  {
   "cell_type": "code",
   "execution_count": 203,
   "metadata": {
    "collapsed": false
   },
   "outputs": [
    {
     "data": {
      "text/html": [
       "<dl>\n",
       "\t<dt>$`1`</dt>\n",
       "\t\t<dd><table>\n",
       "<thead><tr><th scope=col>account_id</th><th scope=col>item_id</th><th scope=col>rating</th></tr></thead>\n",
       "<tbody>\n",
       "\t<tr><td>1</td><td>1</td><td>3</td></tr>\n",
       "\t<tr><td>1</td><td>2</td><td>3</td></tr>\n",
       "\t<tr><td>1</td><td>3</td><td>1</td></tr>\n",
       "</tbody>\n",
       "</table>\n",
       "</dd>\n",
       "\t<dt>$`2`</dt>\n",
       "\t\t<dd><table>\n",
       "<thead><tr><th></th><th scope=col>account_id</th><th scope=col>item_id</th><th scope=col>rating</th></tr></thead>\n",
       "<tbody>\n",
       "\t<tr><th scope=row>4</th><td>2</td><td>2</td><td>1</td></tr>\n",
       "\t<tr><th scope=row>5</th><td>2</td><td>3</td><td>1</td></tr>\n",
       "</tbody>\n",
       "</table>\n",
       "</dd>\n",
       "\t<dt>$`3`</dt>\n",
       "\t\t<dd><table>\n",
       "<thead><tr><th></th><th scope=col>account_id</th><th scope=col>item_id</th><th scope=col>rating</th></tr></thead>\n",
       "<tbody>\n",
       "\t<tr><th scope=row>6</th><td>3</td><td>1</td><td>3</td></tr>\n",
       "</tbody>\n",
       "</table>\n",
       "</dd>\n",
       "\t<dt>$`4`</dt>\n",
       "\t\t<dd><table>\n",
       "<thead><tr><th></th><th scope=col>account_id</th><th scope=col>item_id</th><th scope=col>rating</th></tr></thead>\n",
       "<tbody>\n",
       "\t<tr><th scope=row>7</th><td>4</td><td>4</td><td>1</td></tr>\n",
       "</tbody>\n",
       "</table>\n",
       "</dd>\n",
       "\t<dt>$`5`</dt>\n",
       "\t\t<dd><table>\n",
       "<thead><tr><th></th><th scope=col>account_id</th><th scope=col>item_id</th><th scope=col>rating</th></tr></thead>\n",
       "<tbody>\n",
       "\t<tr><th scope=row>8</th><td>5</td><td>5</td><td>2</td></tr>\n",
       "</tbody>\n",
       "</table>\n",
       "</dd>\n",
       "</dl>\n"
      ],
      "text/latex": [
       "\\begin{description}\n",
       "\\item[\\$`1`] \\begin{tabular}{r|lll}\n",
       " account\\_id & item\\_id & rating\\\\\n",
       "\\hline\n",
       "\t 1 & 1 & 3\\\\\n",
       "\t 1 & 2 & 3\\\\\n",
       "\t 1 & 3 & 1\\\\\n",
       "\\end{tabular}\n",
       "\n",
       "\\item[\\$`2`] \\begin{tabular}{r|lll}\n",
       "  & account\\_id & item\\_id & rating\\\\\n",
       "\\hline\n",
       "\t4 & 2 & 2 & 1\\\\\n",
       "\t5 & 2 & 3 & 1\\\\\n",
       "\\end{tabular}\n",
       "\n",
       "\\item[\\$`3`] \\begin{tabular}{r|lll}\n",
       "  & account\\_id & item\\_id & rating\\\\\n",
       "\\hline\n",
       "\t6 & 3 & 1 & 3\\\\\n",
       "\\end{tabular}\n",
       "\n",
       "\\item[\\$`4`] \\begin{tabular}{r|lll}\n",
       "  & account\\_id & item\\_id & rating\\\\\n",
       "\\hline\n",
       "\t7 & 4 & 4 & 1\\\\\n",
       "\\end{tabular}\n",
       "\n",
       "\\item[\\$`5`] \\begin{tabular}{r|lll}\n",
       "  & account\\_id & item\\_id & rating\\\\\n",
       "\\hline\n",
       "\t8 & 5 & 5 & 2\\\\\n",
       "\\end{tabular}\n",
       "\n",
       "\\end{description}\n"
      ],
      "text/markdown": [
       "$`1`\n",
       ":   \n",
       "account_id | item_id | rating | \n",
       "|---|---|---|\n",
       "| 1 | 1 | 3 | \n",
       "| 1 | 2 | 3 | \n",
       "| 1 | 3 | 1 | \n",
       "\n",
       "\n",
       "\n",
       "$`2`\n",
       ":   \n",
       "| <!--/--> | account_id | item_id | rating | \n",
       "|---|---|\n",
       "| 4 | 2 | 2 | 1 | \n",
       "| 5 | 2 | 3 | 1 | \n",
       "\n",
       "\n",
       "\n",
       "$`3`\n",
       ":   \n",
       "| <!--/--> | account_id | item_id | rating | \n",
       "|---|\n",
       "| 6 | 3 | 1 | 3 | \n",
       "\n",
       "\n",
       "\n",
       "$`4`\n",
       ":   \n",
       "| <!--/--> | account_id | item_id | rating | \n",
       "|---|\n",
       "| 7 | 4 | 4 | 1 | \n",
       "\n",
       "\n",
       "\n",
       "$`5`\n",
       ":   \n",
       "| <!--/--> | account_id | item_id | rating | \n",
       "|---|\n",
       "| 8 | 5 | 5 | 2 | \n",
       "\n",
       "\n",
       "\n",
       "\n",
       "\n"
      ],
      "text/plain": [
       "$`1`\n",
       "  account_id item_id rating\n",
       "1          1       1      3\n",
       "2          1       2      3\n",
       "3          1       3      1\n",
       "\n",
       "$`2`\n",
       "  account_id item_id rating\n",
       "4          2       2      1\n",
       "5          2       3      1\n",
       "\n",
       "$`3`\n",
       "  account_id item_id rating\n",
       "6          3       1      3\n",
       "\n",
       "$`4`\n",
       "  account_id item_id rating\n",
       "7          4       4      1\n",
       "\n",
       "$`5`\n",
       "  account_id item_id rating\n",
       "8          5       5      2\n"
      ]
     },
     "metadata": {},
     "output_type": "display_data"
    }
   ],
   "source": [
    "d"
   ]
  },
  {
   "cell_type": "code",
   "execution_count": 214,
   "metadata": {
    "collapsed": false
   },
   "outputs": [],
   "source": [
    "# Create null values for the items that have not been rated yet for each account dataframe\n",
    "## account one\n",
    "acct_one <- data.frame('account_id'=c(1,1),'item_id'=c(4,5),'rating'=c('NA','NA'),stringsAsFactors=FALSE)\n",
    "acct_one_final<-rbind(d[[1]],acct_one)\n",
    "## account two\n",
    "acct_two_pre <- data.frame('account_id'=c(2),'item_id'=c(1),'rating'=c('NA'),stringsAsFactors=FALSE)\n",
    "acct_two_post<- data.frame('account_id'=c(2,2),'item_id'=c(4,5),'rating'=c('NA','NA'),stringsAsFactors=FALSE)\n",
    "acct_two_final <-rbind(acct_two_pre,d[[2]],stringsAsFactors=FALSE)\n",
    "acct_two_final <-rbind(acct_two_final,acct_two_post)\n",
    "## account three\n",
    "acct_three_post <- data.frame('account_id'=c(3,3,3,3),'item_id'=c(2,3,4,5),'rating'=c('NA','NA','NA','NA')\n",
    "                              ,stringsAsFactors=FALSE)\n",
    "acct_three_final <- rbind(d[[3]],acct_three_post)\n",
    "## account four\n",
    "acct_four_pre <- data.frame('account_id'=c(4,4,4),'item_id'=c(1,2,3),'rating'=c('NA',\"NA\",'NA'),\n",
    "                            stringsAsFactors=FALSE)\n",
    "acct_four_post <- data.frame('account_id'=c(4),'item_id'=c(5),'rating'=c('NA'),stringsAsFactors=FALSE)\n",
    "acct_four_final <- rbind(acct_four_pre,d[[4]])\n",
    "acct_four_final <- rbind(acct_four_final,acct_four_post)\n",
    "## Account five\n",
    "acct_five_pre <- data.frame('account_id'=c(5,5,5,5),'item_id'=c(1,2,3,4),'rating'=c('NA',\"NA\",'NA','NA'),\n",
    "                            stringsAsFactors=FALSE)\n",
    "acct_five_final <-rbind(acct_five_pre,d[[5]])"
   ]
  },
  {
   "cell_type": "code",
   "execution_count": 229,
   "metadata": {
    "collapsed": false
   },
   "outputs": [],
   "source": [
    "## create a new dataframe to add in the ratings for each account\n",
    "munged_df <- data.frame('item1'=integer(),'item2'=integer(),'item3'=integer(),'item4'=integer(),'item5'=integer())"
   ]
  },
  {
   "cell_type": "code",
   "execution_count": 230,
   "metadata": {
    "collapsed": false
   },
   "outputs": [],
   "source": [
    "## add in ratings for account one\n",
    "munged_df[nrow(munged_df)+1,] <- c(acct_one_final[1,3],acct_one_final[2,3],\n",
    "                                   acct_one_final[3,3],acct_one_final[4,3],acct_one_final[5,3])\n",
    "## add in ratings for account two\n",
    "munged_df[nrow(munged_df)+1,] <- c(acct_two_final[1,3],acct_two_final[2,3],\n",
    "                                   acct_two_final[3,3],acct_two_final[4,3],acct_two_final[5,3])\n",
    "## add in ratings for account three\n",
    "munged_df[nrow(munged_df)+1,] <- c(acct_three_final[1,3],acct_three_final[2,3],\n",
    "                                   acct_three_final[3,3],acct_three_final[4,3],acct_three_final[5,3])\n",
    "## add in ratings for account four\n",
    "munged_df[nrow(munged_df)+1,] <- c(acct_four_final[1,3],acct_four_final[2,3],\n",
    "                                   acct_four_final[3,3],acct_four_final[4,3],acct_four_final[5,3])\n",
    "## add in ratings for account five\n",
    "munged_df[nrow(munged_df)+1,] <- c(acct_five_final[1,3],acct_five_final[2,3],\n",
    "                                   acct_five_final[3,3],acct_five_final[4,3],acct_five_final[5,3])"
   ]
  },
  {
   "cell_type": "code",
   "execution_count": 231,
   "metadata": {
    "collapsed": false
   },
   "outputs": [
    {
     "data": {
      "text/html": [
       "<table>\n",
       "<thead><tr><th scope=col>item1</th><th scope=col>item2</th><th scope=col>item3</th><th scope=col>item4</th><th scope=col>item5</th></tr></thead>\n",
       "<tbody>\n",
       "\t<tr><td>3 </td><td>3 </td><td>1 </td><td>NA</td><td>NA</td></tr>\n",
       "\t<tr><td>NA</td><td>1 </td><td>1 </td><td>NA</td><td>NA</td></tr>\n",
       "\t<tr><td>3 </td><td>NA</td><td>NA</td><td>NA</td><td>NA</td></tr>\n",
       "\t<tr><td>NA</td><td>NA</td><td>NA</td><td>1 </td><td>NA</td></tr>\n",
       "\t<tr><td>NA</td><td>NA</td><td>NA</td><td>NA</td><td>2 </td></tr>\n",
       "</tbody>\n",
       "</table>\n"
      ],
      "text/latex": [
       "\\begin{tabular}{r|lllll}\n",
       " item1 & item2 & item3 & item4 & item5\\\\\n",
       "\\hline\n",
       "\t 3  & 3  & 1  & NA & NA\\\\\n",
       "\t NA & 1  & 1  & NA & NA\\\\\n",
       "\t 3  & NA & NA & NA & NA\\\\\n",
       "\t NA & NA & NA & 1  & NA\\\\\n",
       "\t NA & NA & NA & NA & 2 \\\\\n",
       "\\end{tabular}\n"
      ],
      "text/markdown": [
       "\n",
       "item1 | item2 | item3 | item4 | item5 | \n",
       "|---|---|---|---|---|\n",
       "| 3  | 3  | 1  | NA | NA | \n",
       "| NA | 1  | 1  | NA | NA | \n",
       "| 3  | NA | NA | NA | NA | \n",
       "| NA | NA | NA | 1  | NA | \n",
       "| NA | NA | NA | NA | 2  | \n",
       "\n",
       "\n"
      ],
      "text/plain": [
       "  item1 item2 item3 item4 item5\n",
       "1 3     3     1     NA    NA   \n",
       "2 NA    1     1     NA    NA   \n",
       "3 3     NA    NA    NA    NA   \n",
       "4 NA    NA    NA    1     NA   \n",
       "5 NA    NA    NA    NA    2    "
      ]
     },
     "metadata": {},
     "output_type": "display_data"
    }
   ],
   "source": [
    "munged_df"
   ]
  }
 ],
 "metadata": {
  "anaconda-cloud": {},
  "kernelspec": {
   "display_name": "R",
   "language": "R",
   "name": "ir"
  },
  "language_info": {
   "codemirror_mode": "r",
   "file_extension": ".r",
   "mimetype": "text/x-r-source",
   "name": "R",
   "pygments_lexer": "r",
   "version": "3.3.2"
  }
 },
 "nbformat": 4,
 "nbformat_minor": 1
}
