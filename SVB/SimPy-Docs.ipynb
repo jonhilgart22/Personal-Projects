{
 "cells": [
  {
   "cell_type": "code",
   "execution_count": 3,
   "metadata": {
    "collapsed": false,
    "deletable": true,
    "editable": true
   },
   "outputs": [],
   "source": [
    "import simpy"
   ]
  },
  {
   "cell_type": "code",
   "execution_count": 4,
   "metadata": {
    "collapsed": false,
    "deletable": true,
    "editable": true
   },
   "outputs": [
    {
     "name": "stdout",
     "output_type": "stream",
     "text": [
      "Python 3.5.2 :: Anaconda custom (x86_64)\r\n"
     ]
    }
   ],
   "source": [
    "!python -V"
   ]
  },
  {
   "cell_type": "code",
   "execution_count": 5,
   "metadata": {
    "collapsed": false,
    "deletable": true,
    "editable": true
   },
   "outputs": [],
   "source": [
    ">>> class Car(object):\n",
    "...     def __init__(self, env):\n",
    "...         self.env = env\n",
    "...         self.action = env.process(self.run())\n",
    "...\n",
    "...     def run(self):\n",
    "...         while True:\n",
    "...             print('Start parking and charging at %d' % self.env.now)\n",
    "...             charge_duration = 5\n",
    "...             # We may get interrupted while charging the battery\n",
    "...             try:\n",
    "...                 yield self.env.process(self.charge(charge_duration))\n",
    "...             except simpy.Interrupt:\n",
    "...                 # When we received an interrupt, we stop charging and\n",
    "...                 # switch to the \"driving\" state\n",
    "...                 print('Was interrupted. Hope, the battery is full enough ...')\n",
    "...\n",
    "...             print('Start driving at %d' % self.env.now)\n",
    "...             trip_duration = 2\n",
    "...             yield self.env.timeout(trip_duration)\n",
    "...\n",
    "...     def charge(self, duration):\n",
    "...         yield self.env.timeout(duration)\n",
    "\n",
    ">>> def driver(env, car):\n",
    "...     yield env.timeout(3)\n",
    "...     car.action.interrupt()\n",
    "\n",
    "\n",
    ">>> def car(env, name, bcs, driving_time, charge_duration):\n",
    "        # Simulate driving to the BCS\n",
    "        yield env.timeout(driving_time)\n",
    "        # Request one of its charging spots\n",
    "        print('%s arriving at %d' % (name, env.now))\n",
    "        number_of_cars_charging = 0\n",
    "        with bcs.request() as req:\n",
    "            yield req\n",
    "            \n",
    "            # Charge the battery\n",
    "            print('%s starting to charge at %s' % (name, env.now))\n",
    "            number_of_cars_charging+=1\n",
    "            print()\n",
    "            print('There are {} cars charging start'.format(number_of_cars_charging))\n",
    "            yield env.timeout(charge_duration)\n",
    "            print('%s leaving the bcs at %s' % (name, env.now))\n",
    "            number_of_cars_charging -=1\n",
    "            print('There are {} cars charging left'.format(number_of_cars_charging))\n",
    "\n"
   ]
  },
  {
   "cell_type": "code",
   "execution_count": 6,
   "metadata": {
    "collapsed": false,
    "deletable": true,
    "editable": true
   },
   "outputs": [
    {
     "name": "stdout",
     "output_type": "stream",
     "text": [
      "0\n",
      "1\n",
      "2\n",
      "3\n"
     ]
    }
   ],
   "source": [
    ">>> env = simpy.Environment()\n",
    ">>> bcs = simpy.Resource(env, capacity=2)\n",
    "\n",
    "for i in range(4):\n",
    "    print(i)\n",
    "    env.process(car(env, 'Car %d' % i, bcs, i*2, 5))"
   ]
  },
  {
   "cell_type": "code",
   "execution_count": 7,
   "metadata": {
    "collapsed": false,
    "deletable": true,
    "editable": true
   },
   "outputs": [
    {
     "name": "stdout",
     "output_type": "stream",
     "text": [
      "Car 0 arriving at 0\n",
      "Car 0 starting to charge at 0\n",
      "\n",
      "There are 1 cars charging start\n",
      "Car 1 arriving at 2\n",
      "Car 1 starting to charge at 2\n",
      "\n",
      "There are 1 cars charging start\n",
      "Car 2 arriving at 4\n",
      "Car 0 leaving the bcs at 5\n",
      "There are 0 cars charging left\n",
      "Car 2 starting to charge at 5\n",
      "\n",
      "There are 1 cars charging start\n",
      "Car 3 arriving at 6\n",
      "Car 1 leaving the bcs at 7\n",
      "There are 0 cars charging left\n",
      "Car 3 starting to charge at 7\n",
      "\n",
      "There are 1 cars charging start\n",
      "Car 2 leaving the bcs at 10\n",
      "There are 0 cars charging left\n",
      "Car 3 leaving the bcs at 12\n",
      "There are 0 cars charging left\n"
     ]
    }
   ],
   "source": [
    "env.run()"
   ]
  },
  {
   "cell_type": "code",
   "execution_count": 8,
   "metadata": {
    "collapsed": false,
    "deletable": true,
    "editable": true
   },
   "outputs": [],
   "source": [
    "\"\"\"\n",
    "Bank renege example\n",
    "\n",
    "Covers:\n",
    "\n",
    "- Resources: Resource\n",
    "- Condition events\n",
    "\n",
    "Scenario:\n",
    "  A counter with a random service time and customers who renege. Based on the\n",
    "  program bank08.py from TheBank tutorial of SimPy 2. (KGM)\n",
    "\n",
    "\"\"\"\n",
    "import random\n",
    "\n",
    "import simpy\n",
    "\n",
    "\n",
    "\n",
    "\n",
    "def source(env, number, interval, counter):\n",
    "    \"\"\"Source generates customers randomly\"\"\"\n",
    "    for i in range(number):\n",
    "        c = customer(env, 'Customer%02d' % i, counter, time_in_bank=12.0)\n",
    "        env.process(c)\n",
    "        t = random.expovariate(1.0 / interval)\n",
    "        yield env.timeout(t)\n",
    "\n",
    "\n",
    "def customer(env, name, counter, time_in_bank):\n",
    "    \"\"\"Customer arrives, is served and leaves.\"\"\"\n",
    "    global total_card_holders ### should set this as a class variable in the future\n",
    "    arrive = env.now\n",
    "    print('%7.4f %s: Here I am' % (arrive, name))\n",
    "\n",
    "    with counter.request() as req:\n",
    "        patience = random.uniform(MIN_PATIENCE, MAX_PATIENCE)\n",
    "        # Wait for the counter or abort at the end of our tether\n",
    "        results = yield req | env.timeout(patience)\n",
    "\n",
    "        wait = env.now - arrive\n",
    "        \n",
    "        if req in results:\n",
    "            # We got to the counter\n",
    "            print('%7.4f %s: Waited %6.3f' % (env.now, name, wait))\n",
    "            total_card_holders += counter.count\n",
    "            \n",
    "            tib = random.expovariate(1.0 / time_in_bank)\n",
    "            yield env.timeout(tib)\n",
    "            print('%7.4f %s: Finished' % (env.now, name))\n",
    "            ### assign people who reach the counter a credit card for 100 time steps\n",
    "            number_of_card_holders = simpy.Resource(env, capacity=1000)\n",
    "            yield env.process(purchase_card(env,name,1,number_of_card_holders))\n",
    "            #purchase_card(env,name,1)\n",
    "            \n",
    "        \n",
    "        else:\n",
    "            # We reneged\n",
    "            print('%7.4f %s: RENEGED after %6.3f' % (env.now, name, wait))\n",
    "\n",
    "    \n",
    "    \n",
    "def purchase_card(env, n, number,num_card_holders):\n",
    "    \"\"\"Generate 'card purchases' for people who reached the bank teller\"\"\"\n",
    "    global total_card_holders\n",
    "    purchase_card_time = env.now\n",
    "    with num_card_holders.request() as req:\n",
    "        \n",
    "    #card_purchaser = ('Card-Holder%02d' %  total_card_holders, card_lifetime=100.0)\n",
    "  \n",
    "        yield env.timeout(1) # no delay\n",
    "        print( \" {} got a credit card at time {}\".format(n,purchase_card_time,purchase_card_time))\n",
    "        \n",
    "\n"
   ]
  },
  {
   "cell_type": "code",
   "execution_count": 11,
   "metadata": {
    "collapsed": false,
    "deletable": true,
    "editable": true
   },
   "outputs": [
    {
     "name": "stdout",
     "output_type": "stream",
     "text": [
      "Bank renege\n",
      " 0.0000 Customer00: Here I am\n",
      " 0.0000 Customer00: Waited  0.000\n",
      " 8.4724 Customer01: Here I am\n",
      "10.3556 Customer00: Finished\n",
      "10.7803 Customer02: Here I am\n",
      "11.0990 Customer01: RENEGED after  2.627\n",
      " Customer00 got a credit card at time 10.355596101037406\n",
      "11.3556 Customer02: Waited  0.575\n",
      "13.4511 Customer02: Finished\n",
      " Customer02 got a credit card at time 13.451116573793573\n",
      "28.1297 Customer03: Here I am\n",
      "28.1297 Customer03: Waited  0.000\n",
      "31.5818 Customer03: Finished\n",
      " Customer03 got a credit card at time 31.58184019457356\n",
      "35.4834 Customer04: Here I am\n",
      "35.4834 Customer04: Waited  0.000\n",
      "36.0303 Customer04: Finished\n",
      " Customer04 got a credit card at time 36.03030927790481\n",
      "66.0206 Customer05: Here I am\n",
      "66.0206 Customer05: Waited  0.000\n",
      "71.7881 Customer05: Finished\n",
      " Customer05 got a credit card at time 71.78810546279168\n",
      "85.6932 Customer06: Here I am\n",
      "85.6932 Customer06: Waited  0.000\n",
      "89.0286 Customer07: Here I am\n",
      "91.3523 Customer07: RENEGED after  2.324\n",
      "93.0172 Customer06: Finished\n",
      " Customer06 got a credit card at time 93.01721039343484\n",
      "100.6078 Customer08: Here I am\n",
      "100.6078 Customer08: Waited  0.000\n",
      "102.0347 Customer09: Here I am\n",
      "104.2614 Customer09: RENEGED after  2.227\n",
      "149.0951 Customer08: Finished\n",
      " Customer08 got a credit card at time 149.09513611690483\n",
      "Total card holdres finished 7\n"
     ]
    }
   ],
   "source": [
    "# Setup and start the simulation\n",
    "print('Bank renege')\n",
    "random.seed(10)\n",
    "env = simpy.Environment()\n",
    "\n",
    "\n",
    "\n",
    "RANDOM_SEED = 42\n",
    "NEW_CUSTOMERS = 10  # Total number of customers\n",
    "INTERVAL_CUSTOMERS = 10.0  # Generate new customers roughly every x seconds\n",
    "MIN_PATIENCE = 1  # Min. customer patience\n",
    "MAX_PATIENCE = 3  # Max. customer patience\n",
    "\n",
    "# Start processes and run\n",
    "counter = simpy.Resource(env, capacity=1)\n",
    "total_card_holders = 0\n",
    "env.process(source(env, NEW_CUSTOMERS, INTERVAL_CUSTOMERS, counter))\n",
    "env.run()\n",
    "print('Total card holdres finished {}'.format(total_card_holders ))"
   ]
  },
  {
   "cell_type": "code",
   "execution_count": 10,
   "metadata": {
    "collapsed": false,
    "deletable": true,
    "editable": true
   },
   "outputs": [
    {
     "data": {
      "text/plain": [
       "23"
      ]
     },
     "execution_count": 10,
     "metadata": {},
     "output_type": "execute_result"
    }
   ],
   "source": [
    ">>> def sub(env):\n",
    "...     yield env.timeout(1)\n",
    "...     return 23\n",
    "...\n",
    ">>> def parent(env):\n",
    "...     ret = yield env.process(sub(env))\n",
    "...     return ret\n",
    "...\n",
    ">>> env.run(env.process(parent(env)))\n"
   ]
  },
  {
   "cell_type": "code",
   "execution_count": null,
   "metadata": {
    "collapsed": true,
    "deletable": true,
    "editable": true
   },
   "outputs": [],
   "source": []
  },
  {
   "cell_type": "code",
   "execution_count": 18,
   "metadata": {
    "collapsed": true
   },
   "outputs": [],
   "source": [
    "import numpy as np"
   ]
  },
  {
   "cell_type": "code",
   "execution_count": 21,
   "metadata": {
    "collapsed": true
   },
   "outputs": [],
   "source": [
    "def customer(env,number_of_weekly_customers, avg_customer_lifetime_weeks):\n",
    "    \"\"\"This creates a simpy process for each customer where the lifetime\n",
    "    of each customer is defined by an exponenetial distribution.\"\"\"\n",
    "    print(\"Starting customer transaction at {}\".format(env.now))\n",
    "\n",
    "    customer_lifetime = np.random.exponential(scale =\n",
    "                                              1/avg_customer_lifetime_weeks)\n",
    "    # start the process for each customer's lifetime\n",
    "\n",
    "    for i in range(number_of_weekly_customers): # one customer for the ones we\n",
    "        #received this  week\n",
    "        c = open_bank_account(env, 'Customer%02d' % i,\n",
    "                              cust_lifetime = avg_customer_lifetime_weeks)\n",
    "        env.process(c)\n",
    "        # how frequently do coustomers come in?\n",
    "        time_between_customers = \\\n",
    "            random.expovariate(1.0 / number_of_weekly_customers)\n",
    "        print('The time between each customer is {} weeks'.format(\n",
    "            time_between_customers))\n",
    "        yield env.timeout(time_between_customers) # time in weeks between customers\n",
    "\n",
    "\n",
    "def open_bank_account(env,customer_id,cust_lifetime):\n",
    "    \"\"\"This is a simpy process for creating a bank account\"\"\"\n",
    "    global total_customer_with_bankaccount  # set to class var in future\n",
    "    print(' {} opened a bank account'.format(customer_id))\n",
    "    total_customer_with_bankaccount +=1\n",
    "    print(' There are {} people with bank accounts at time-weeks {}'.format(\n",
    "        total_customer_with_bankaccount, env.now\n",
    "    ))\n",
    "    yield env.timeout(cust_lifetime)\n"
   ]
  },
  {
   "cell_type": "code",
   "execution_count": 22,
   "metadata": {
    "collapsed": false
   },
   "outputs": [
    {
     "name": "stdout",
     "output_type": "stream",
     "text": [
      "Starting customer transaction at 0\n",
      "The time between each customer is 0.45270031620124374 weeks\n",
      " Customer00 opened a bank account\n"
     ]
    },
    {
     "ename": "NameError",
     "evalue": "name 'total_customer_with_bankaccount' is not defined",
     "output_type": "error",
     "traceback": [
      "\u001b[0;31m---------------------------------------------------------------------------\u001b[0m",
      "\u001b[0;31mNameError\u001b[0m                                 Traceback (most recent call last)",
      "\u001b[0;32m<ipython-input-21-8d1077db121d>\u001b[0m in \u001b[0;36mopen_bank_account\u001b[0;34m(env, customer_id, cust_lifetime)\u001b[0m\n\u001b[1;32m     25\u001b[0m     \u001b[0mprint\u001b[0m\u001b[0;34m(\u001b[0m\u001b[0;34m' {} opened a bank account'\u001b[0m\u001b[0;34m.\u001b[0m\u001b[0mformat\u001b[0m\u001b[0;34m(\u001b[0m\u001b[0mcustomer_id\u001b[0m\u001b[0;34m)\u001b[0m\u001b[0;34m)\u001b[0m\u001b[0;34m\u001b[0m\u001b[0m\n\u001b[0;32m---> 26\u001b[0;31m     \u001b[0mtotal_customer_with_bankaccount\u001b[0m \u001b[0;34m+=\u001b[0m\u001b[0;36m1\u001b[0m\u001b[0;34m\u001b[0m\u001b[0m\n\u001b[0m\u001b[1;32m     27\u001b[0m     print(' There are {} people with bank accounts at time-weeks {}'.format(\n",
      "\u001b[0;31mNameError\u001b[0m: name 'total_customer_with_bankaccount' is not defined",
      "\nThe above exception was the direct cause of the following exception:\n",
      "\u001b[0;31mNameError\u001b[0m                                 Traceback (most recent call last)",
      "\u001b[0;32m<ipython-input-22-753180050366>\u001b[0m in \u001b[0;36m<module>\u001b[0;34m()\u001b[0m\n\u001b[1;32m      1\u001b[0m \u001b[0menv\u001b[0m \u001b[0;34m=\u001b[0m \u001b[0msimpy\u001b[0m\u001b[0;34m.\u001b[0m\u001b[0mEnvironment\u001b[0m\u001b[0;34m(\u001b[0m\u001b[0;34m)\u001b[0m\u001b[0;34m\u001b[0m\u001b[0m\n\u001b[1;32m      2\u001b[0m \u001b[0menv\u001b[0m\u001b[0;34m.\u001b[0m\u001b[0mprocess\u001b[0m\u001b[0;34m(\u001b[0m\u001b[0mcustomer\u001b[0m\u001b[0;34m(\u001b[0m\u001b[0menv\u001b[0m\u001b[0;34m,\u001b[0m\u001b[0;36m10\u001b[0m\u001b[0;34m,\u001b[0m\u001b[0;36m100\u001b[0m\u001b[0;34m)\u001b[0m\u001b[0;34m)\u001b[0m\u001b[0;34m\u001b[0m\u001b[0m\n\u001b[0;32m----> 3\u001b[0;31m \u001b[0menv\u001b[0m\u001b[0;34m.\u001b[0m\u001b[0mrun\u001b[0m\u001b[0;34m(\u001b[0m\u001b[0muntil\u001b[0m\u001b[0;34m=\u001b[0m\u001b[0;36m100\u001b[0m\u001b[0;34m)\u001b[0m\u001b[0;34m\u001b[0m\u001b[0m\n\u001b[0m",
      "\u001b[0;32m/Users/jonathanhilgart/anaconda/lib/python3.5/site-packages/simpy/core.py\u001b[0m in \u001b[0;36mrun\u001b[0;34m(self, until)\u001b[0m\n\u001b[1;32m    135\u001b[0m         \u001b[0;32mtry\u001b[0m\u001b[0;34m:\u001b[0m\u001b[0;34m\u001b[0m\u001b[0m\n\u001b[1;32m    136\u001b[0m             \u001b[0;32mwhile\u001b[0m \u001b[0;32mTrue\u001b[0m\u001b[0;34m:\u001b[0m\u001b[0;34m\u001b[0m\u001b[0m\n\u001b[0;32m--> 137\u001b[0;31m                 \u001b[0mself\u001b[0m\u001b[0;34m.\u001b[0m\u001b[0mstep\u001b[0m\u001b[0;34m(\u001b[0m\u001b[0;34m)\u001b[0m\u001b[0;34m\u001b[0m\u001b[0m\n\u001b[0m\u001b[1;32m    138\u001b[0m         \u001b[0;32mexcept\u001b[0m \u001b[0mStopSimulation\u001b[0m \u001b[0;32mas\u001b[0m \u001b[0mexc\u001b[0m\u001b[0;34m:\u001b[0m\u001b[0;34m\u001b[0m\u001b[0m\n\u001b[1;32m    139\u001b[0m             \u001b[0;32mreturn\u001b[0m \u001b[0mexc\u001b[0m\u001b[0;34m.\u001b[0m\u001b[0margs\u001b[0m\u001b[0;34m[\u001b[0m\u001b[0;36m0\u001b[0m\u001b[0;34m]\u001b[0m  \u001b[0;31m# == until.value\u001b[0m\u001b[0;34m\u001b[0m\u001b[0m\n",
      "\u001b[0;32m/Users/jonathanhilgart/anaconda/lib/python3.5/site-packages/simpy/core.py\u001b[0m in \u001b[0;36mstep\u001b[0;34m(self)\u001b[0m\n\u001b[1;32m    227\u001b[0m             \u001b[0mexc\u001b[0m \u001b[0;34m=\u001b[0m \u001b[0mtype\u001b[0m\u001b[0;34m(\u001b[0m\u001b[0mevent\u001b[0m\u001b[0;34m.\u001b[0m\u001b[0m_value\u001b[0m\u001b[0;34m)\u001b[0m\u001b[0;34m(\u001b[0m\u001b[0;34m*\u001b[0m\u001b[0mevent\u001b[0m\u001b[0;34m.\u001b[0m\u001b[0m_value\u001b[0m\u001b[0;34m.\u001b[0m\u001b[0margs\u001b[0m\u001b[0;34m)\u001b[0m\u001b[0;34m\u001b[0m\u001b[0m\n\u001b[1;32m    228\u001b[0m             \u001b[0mexc\u001b[0m\u001b[0;34m.\u001b[0m\u001b[0m__cause__\u001b[0m \u001b[0;34m=\u001b[0m \u001b[0mevent\u001b[0m\u001b[0;34m.\u001b[0m\u001b[0m_value\u001b[0m\u001b[0;34m\u001b[0m\u001b[0m\n\u001b[0;32m--> 229\u001b[0;31m             \u001b[0;32mraise\u001b[0m \u001b[0mexc\u001b[0m\u001b[0;34m\u001b[0m\u001b[0m\n\u001b[0m",
      "\u001b[0;31mNameError\u001b[0m: name 'total_customer_with_bankaccount' is not defined"
     ]
    }
   ],
   "source": [
    "env = simpy.Environment()\n",
    "env.process(customer(env,10,100))\n",
    "env.run(until=100)"
   ]
  },
  {
   "cell_type": "code",
   "execution_count": 27,
   "metadata": {
    "collapsed": false
   },
   "outputs": [
    {
     "data": {
      "text/plain": [
       "[30.733270941562385,\n",
       " 9.912318158116713,\n",
       " 277.0957472588501,\n",
       " 18.558318820651255,\n",
       " 24.29235546794653,\n",
       " 33.797585213965256,\n",
       " 41.272001949311665,\n",
       " 369.8779388987962,\n",
       " 97.29785689775596,\n",
       " 195.70654972061078,\n",
       " 121.58428575160742,\n",
       " 252.08624956207726,\n",
       " 39.0333600803136,\n",
       " 79.10382109540734,\n",
       " 123.52503420819112,\n",
       " 83.98223803175104,\n",
       " 332.6650683369942,\n",
       " 107.98442420701926,\n",
       " 40.22612819543268,\n",
       " 211.90652876629787,\n",
       " 151.36519633217057,\n",
       " 30.41399714910088,\n",
       " 39.333728468191225,\n",
       " 280.26037354437176,\n",
       " 33.28870808391596,\n",
       " 178.30942815458272,\n",
       " 20.380793142626086,\n",
       " 36.00762142752567,\n",
       " 303.8812337528769,\n",
       " 34.66694324106035,\n",
       " 27.033363151782265,\n",
       " 0.4371399924492804,\n",
       " 90.38401827298297,\n",
       " 80.99710339181767,\n",
       " 407.8096960120597,\n",
       " 9.180392352167841,\n",
       " 7.366699666850504,\n",
       " 75.4907738824404,\n",
       " 244.73051125038813,\n",
       " 67.28254197980795,\n",
       " 1.5026637845425623,\n",
       " 22.116839690887264,\n",
       " 130.13037358297152,\n",
       " 27.396881576583876,\n",
       " 78.65229020642181,\n",
       " 264.7931088246426,\n",
       " 278.1376291369951,\n",
       " 34.013622968735,\n",
       " 65.50312833833333,\n",
       " 42.544708874769015,\n",
       " 5.836449573251865,\n",
       " 51.03847464599747,\n",
       " 99.13333813383072,\n",
       " 98.23866129571364,\n",
       " 46.31363375772787,\n",
       " 58.40894757495838,\n",
       " 54.07293022677134,\n",
       " 332.8271488547414,\n",
       " 50.25939588201105,\n",
       " 130.05028460262056,\n",
       " 1.7457807045017724,\n",
       " 52.468751385121934,\n",
       " 17.54746952938894,\n",
       " 93.88283815808124,\n",
       " 58.88910166259576,\n",
       " 131.83599876641134,\n",
       " 26.713522239848466,\n",
       " 359.0322076699002,\n",
       " 76.79740288494075,\n",
       " 94.63916182565725,\n",
       " 93.35316027232746,\n",
       " 48.62479733582785,\n",
       " 57.3838750876444,\n",
       " 164.2377457713981,\n",
       " 176.96258666488973,\n",
       " 290.6535897517059,\n",
       " 171.47062291613832,\n",
       " 95.98042773543743,\n",
       " 2.635524227921475,\n",
       " 194.23058712956305,\n",
       " 47.152218898655754,\n",
       " 142.95384559413807,\n",
       " 46.21708227546296,\n",
       " 125.47676841753682,\n",
       " 41.402211648844364,\n",
       " 21.634653394896773,\n",
       " 106.13584947461072,\n",
       " 93.34242651347694,\n",
       " 95.25287079782692,\n",
       " 108.71406704679345,\n",
       " 31.030549973450217,\n",
       " 300.87781006755415,\n",
       " 69.19688591858925,\n",
       " 75.11810513725321,\n",
       " 187.162645697991,\n",
       " 53.86221124764179,\n",
       " 10.205642843881051,\n",
       " 221.46807851132598,\n",
       " 23.787220195337223,\n",
       " 15.59770741418556]"
      ]
     },
     "execution_count": 27,
     "metadata": {},
     "output_type": "execute_result"
    }
   ],
   "source": [
    "[np.random.exponential(100) for _ in range(100)]"
   ]
  },
  {
   "cell_type": "code",
   "execution_count": null,
   "metadata": {
    "collapsed": true
   },
   "outputs": [],
   "source": []
  }
 ],
 "metadata": {
  "kernelspec": {
   "display_name": "Python [default]",
   "language": "python",
   "name": "python3"
  },
  "language_info": {
   "codemirror_mode": {
    "name": "ipython",
    "version": 3
   },
   "file_extension": ".py",
   "mimetype": "text/x-python",
   "name": "python",
   "nbconvert_exporter": "python",
   "pygments_lexer": "ipython3",
   "version": "3.5.2"
  }
 },
 "nbformat": 4,
 "nbformat_minor": 2
}
