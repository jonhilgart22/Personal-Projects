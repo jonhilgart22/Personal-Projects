{
 "cells": [
  {
   "cell_type": "code",
   "execution_count": 181,
   "metadata": {
    "collapsed": false
   },
   "outputs": [
    {
     "name": "stdout",
     "output_type": "stream",
     "text": [
      "Populating the interactive namespace from numpy and matplotlib\n"
     ]
    }
   ],
   "source": [
    "from pgmpy.models import MarkovModel, BayesianModel\n",
    "from pgmpy.factors import Factor\n",
    "from pgmpy.readwrite import XMLBIFWriter\n",
    "from pgmpy.inference import BeliefPropagation\n",
    "import scipy.stats as stats\n",
    "import pandas as pd\n",
    "import numpy as np\n",
    "import seaborn as sns\n",
    "import matplotlib.pyplot as plt\n",
    "from pgmpy.inference import VariableElimination\n",
    "import time\n",
    "%pylab inline"
   ]
  },
  {
   "cell_type": "code",
   "execution_count": 53,
   "metadata": {
    "collapsed": true
   },
   "outputs": [],
   "source": [
    "esp_eligible_products = ['Money Market Bonus','Collateral MMA',\n",
    "'Cash Management',\n",
    "'FX Products',\n",
    "'Letters of Credit',\n",
    "'Enterprise Sweep',\n",
    "'Checking USD']"
   ]
  },
  {
   "cell_type": "code",
   "execution_count": 6,
   "metadata": {
    "collapsed": false
   },
   "outputs": [],
   "source": [
    "from pgmpy.factors import JointProbabilityDistribution as Joint"
   ]
  },
  {
   "cell_type": "code",
   "execution_count": null,
   "metadata": {
    "collapsed": true
   },
   "outputs": [],
   "source": []
  },
  {
   "cell_type": "code",
   "execution_count": 4,
   "metadata": {
    "collapsed": false
   },
   "outputs": [],
   "source": [
    " checking_prob = np.poly1d([ -1.25712688e-07,  -2.44667686e-04,   9.74145030e-01])"
   ]
  },
  {
   "cell_type": "code",
   "execution_count": 722,
   "metadata": {
    "collapsed": false
   },
   "outputs": [],
   "source": [
    "t = np.poly1d([  2.59374752e-07 , -1.88617729e-04 ,  6.49014381e-02] )"
   ]
  },
  {
   "cell_type": "code",
   "execution_count": 824,
   "metadata": {
    "collapsed": false
   },
   "outputs": [],
   "source": [
    "## define a probability distribution over each pair of varaibles\n",
    "def ESP_Joint_Product_Probabilities(week_n):\n",
    "    \"\"\"Returns the conditions probabilities of money market and every other ESP product.\n",
    "    Joint probability are from 2013-2016 GP with L10 desc data.\n",
    "    \n",
    "    Returns a dictionary of each probabilitiy distribution given the time.\n",
    "    \n",
    "    Takes inputs as weeks. need to convert to days interally in the function\"\"\"\n",
    "    days = week_n*7\n",
    "\n",
    "    \n",
    "    # find the probabilities given a month number for money market bonus\n",
    " \n",
    "\n",
    "    mmb1_cmma1 = np.poly1d([  5.09697810e-10 , -7.87681585e-07  , 3.98747080e-04 , -9.38197612e-03] )\n",
    "    mmb1_cmma0 = np.poly1d([  5.11203255e-07 , -3.93504162e-04  , 8.65187565e-02] )\n",
    "    mmb0_cmma1 = np.poly1d([  8.93640080e-08  ,-2.73628077e-05  , 3.08964000e-02] )\n",
    "    mmb0_cmma0 = np.poly1d([ -4.13059280e-10  , 6.11359398e-07 , -3.05824121e-04 ,  9.89071502e-01] )\n",
    "\n",
    "    mmb1_cm1 = np.poly1d([  3.05658516e-10 , -4.16908301e-07  , 2.19973221e-04 ,  9.61539864e-03] )\n",
    "    mmb1_cm0 = np.poly1d([  1.25156157e-07  ,-5.13406963e-05 ,  3.73298790e-02] )\n",
    "    mmb0_cm1 = np.poly1d([  9.69383263e-08 , -3.28438149e-05  , 3.00073625e-02]  )\n",
    "    mmb0_cm0 = np.poly1d([ -2.91981414e-10  , 3.94459511e-07 , -2.05293548e-04 ,  9.80712362e-01]  )\n",
    "\n",
    "    mmb1_fx1 = np.poly1d( [  4.41114775e-07 , -4.20398500e-04 ,  1.16137062e-01]    )\n",
    "    mmb1_fx0 = np.poly1d([  1.44750265e-07 , -8.48382013e-05 ,  3.81870969e-02] )\n",
    "    mmb0_fx1 = np.poly1d([  1.29548781e-07 , -7.11314558e-05 ,  3.28901347e-02]  )\n",
    "    mmb0_fx0 = np.poly1d([ -2.84971316e-07 ,  2.25339787e-04  , 9.26590005e-01] )\n",
    "\n",
    "    mmb1_loc1 = np.poly1d([  2.38999361e-07 , -2.27710822e-04 , 8.72372274e-02]  )\n",
    "    mmb1_loc0 = np.poly1d([  9.94784572e-05 , -5.29243826e-03]  )\n",
    "    mmb0_loc1 = np.poly1d([  2.92320532e-05 ,  2.15732110e-02] )\n",
    "    mmb0_loc0 = np.poly1d([ -1.40634408e-07 ,  8.10811999e-05 ,  9.58259362e-01]   )\n",
    "    \n",
    "    mmb1_es1 = np.poly1d([  9.91665473e-05 , -5.33080983e-03]   )\n",
    "    mmb1_es0 = np.poly1d([  1.25628587e-07  ,-4.47767703e-05 ,  3.27668970e-02] )\n",
    "    mmb0_es1 = np.poly1d([  9.25679399e-07,  -9.59889000e-04  , 2.82714546e-01]  )\n",
    "    mmb0_es0 = np.poly1d( [ -9.52605164e-08 ,  2.12675676e-05  , 9.74853407e-01]  )\n",
    "\n",
    "    mmb1_checking1 = np.poly1d([  6.49902941e-10  ,-1.10568473e-06  , 5.92170334e-04 , -8.34084886e-03])\n",
    "    mmb1_checking0 = np.poly1d([  6.93577473e-05  , 1.03343043e-02] )\n",
    "    mmb0_checking1 = np.poly1d([  1.55819102e-07 , -1.27149531e-04 ,  6.26752001e-02]  )\n",
    "    mmb0_checking0 = np.poly1d([ -2.26116728e-07  , 1.68940580e-04  , 8.81699716e-01]  )\n",
    "    \n",
    "    ## Collatral CMMA\n",
    "    cmma1_cm1 = np.poly1d([  5.58946953e-10 , -1.05047354e-06  , 6.76515055e-04  , 4.73745849e-02]   ) # done\n",
    "    cmma1_cm0 = np.poly1d([  2.25396742e-07  ,-1.82287488e-04 ,  6.92818305e-02]  )# done \n",
    "    cmma0_cm1 = np.poly1d([  3.03369281e-08 , -1.41113270e-05 ,  3.71766593e-02] )\n",
    "    cmma0_cm0 = np.poly1d([ -3.86025989e-10  , 6.92671641e-07 , -4.47011538e-04  , 8.96213471e-01] ) # done\n",
    "    \n",
    "    cmma1_fx1 = np.poly1d([  3.06569322e-07 , -2.11982644e-04,   8.15093761e-02] )\n",
    "    cmma1_fx0 = np.poly1d([  1.28605301e-07 , -6.04282161e-05 ,  4.82462616e-02])\n",
    "    cmma0_fx1 = np.poly1d([  3.03189980e-07  ,-2.37790868e-04 ,  6.67285624e-02] )\n",
    "    cmma0_fx0 = np.poly1d([ -2.15472003e-07  , 1.21641879e-04 ,  9.09272227e-01] )\n",
    "\n",
    "    \n",
    "    cmma1_loc1 = np.poly1d([  3.67579683e-07 , -3.12304992e-04 ,  8.26883352e-02])\n",
    "    cmma1_loc0 = np.poly1d([  1.17932213e-07 , -3.48415893e-05  , 3.02641802e-02] )\n",
    "    cmma0_loc1 = np.poly1d([ 0.00010498 ,-0.02384952])\n",
    "    cmma0_loc0 = np.poly1d([ -2.18614677e-07 ,  1.46167637e-04  , 9.48359692e-01]   )\n",
    "    \n",
    "    cmma1_es1 = np.poly1d([  1.47707023e-07  ,-8.22711316e-05  , 4.24696448e-02] )\n",
    "    cmma1_es0 = np.poly1d([  6.83197487e-11 , -5.75116564e-08 ,  3.21772794e-05   ,2.42777081e-02]  )\n",
    "    cmma0_es1 = np.poly1d([  9.39667586e-08  ,-2.43586448e-05 ,  3.14199019e-02] )\n",
    "    cmma0_es0 = np.poly1d([ -2.17291012e-10,   2.70186612e-07  ,-1.21299972e-04  , 9.78019028e-01]  )\n",
    "    \n",
    "    cmma1_checking1 = np.poly1d([  4.80817975e-10  ,-8.68739693e-07 ,  5.38414731e-04 ,  1.02754131e-01])\n",
    "    cmma1_checking0 = np.poly1d([  2.53481141e-05 ,  1.44230769e-02] )\n",
    "    cmma0_checking1 = np.poly1d([  3.42775485e-07  ,-3.79634995e-04  , 1.58929486e-01]  )\n",
    "    cmma0_checking0 = np.poly1d([ -1.87153288e-07  , 1.82610158e-04 ,  7.05269321e-01]  )\n",
    "    # Cash Management  HERE\n",
    "    cm1_fx1 = np.poly1d([  3.16937519e-07  ,-2.32888433e-04 ,  8.80105415e-02]  )\n",
    "    cm1_fx0 = np.poly1d([  1.20252327e-07 , -5.33114760e-05 ,  4.04515569e-02] )\n",
    "    cm0_fx1 = np.poly1d([  2.45151748e-07 , -1.66459541e-04 ,  5.53943882e-02] )\n",
    "    cm0_fx0 = np.poly1d([ -2.04346976e-07  , 1.09311877e-04  , 9.17874893e-01]  )\n",
    "    \n",
    "    cm1_loc1 = np.poly1d([  5.74909371e-07 , -6.19333952e-04  , 1.88663127e-01] )\n",
    "    cm1_loc0 = np.poly1d([  1.92172955e-07 , -7.08769920e-05 ,  3.19232652e-02])\n",
    "    cm0_loc1 = np.poly1d([  8.52798460e-08 ,-6.86493735e-06  , 2.61767739e-02] )\n",
    "    cm0_loc0 = np.poly1d([ -2.45562667e-07  , 1.59251270e-04  , 9.46049755e-01] )\n",
    "    \n",
    "    cm1_es1 = np.poly1d([  1.51938867e-07 , -8.76975787e-05 ,  4.33560032e-02]  )\n",
    "    cm1_es0 = np.poly1d([  3.25335390e-11 , -6.36472924e-09  , 1.39712585e-05  , 2.49594650e-02]  )\n",
    "    cm0_es1 = np.poly1d([  1.78124468e-07 , -5.96795076e-05  , 3.30512228e-02] )\n",
    "    cm0_es0 = np.poly1d([ -1.50703792e-07 ,  9.41032552e-05 ,  9.53017957e-01]  )\n",
    "    \n",
    "    cm1_checking1 = np.poly1d([  4.88168425e-10  ,-9.73584945e-07 ,  6.90420415e-04 ,  5.78464721e-02])\n",
    "    cm1_checking0 = np.poly1d([  7.91828332e-05 ,  5.78034682e-03])\n",
    "    cm0_checking1 = np.poly1d([ -5.94945412e-11  , 5.33561816e-07 , -5.50659356e-04  , 2.02678397e-01] )\n",
    "    cm0_checking0 = np.poly1d([ -2.32291052e-10  , 3.45717160e-07 , -1.54256747e-04 ,  7.54715790e-01])\n",
    "    # FX Product \n",
    "    fx1_loc1  = np.poly1d([  6.05644457e-07  ,-7.14065839e-04 ,  2.18561936e-01]  )\n",
    "    fx1_loc0 = np.poly1d([  5.45458203e-08 , -5.84656236e-06 ,  2.60382815e-02] )\n",
    "    fx0_loc1 = np.poly1d( [  1.95556200e-07,  -1.34253375e-04 ,  5.08936481e-02]   )\n",
    "    fx0_loc0 = np.poly1d([ -2.72252243e-07 ,  2.24852192e-04 ,  9.26408526e-01] )\n",
    "\n",
    "    fx1_es1 = np.poly1d([  1.08012209e-07 , -4.39865495e-05 ,  2.77159470e-02]  )\n",
    "    fx1_es0 = np.poly1d([  4.99543690e-07 , -3.86823829e-04 ,  7.22661292e-02] )\n",
    "    fx0_es1 = np.poly1d([  3.85525982e-08  , 5.50808216e-06 ,  2.49361208e-02])\n",
    "    fx0_es0 = np.poly1d([ -3.24185905e-07 ,  2.54758065e-04  , 9.34492960e-01] )\n",
    "\n",
    "    fx1_checking1 = np.poly1d([  7.11530103e-08 ,  1.27819993e-04 ,  1.03840618e-01]  )\n",
    "    fx1_checking0 = np.poly1d([ 0.00057208 , 0.01086957] )\n",
    "    fx0_checking1 = np.poly1d([  2.87933932e-07 , -4.02225352e-04 ,  2.13374764e-01]  )\n",
    "    fx0_checking0 = np.poly1d([ -3.83157405e-10  , 7.58657236e-07 , -4.56540667e-04  , 7.78667126e-01])\n",
    "    # Letters of Credit\n",
    "    loc1_es1 = np.poly1d([ 0.00010352  ,0.00874544]  )\n",
    "    loc1_es0 = np.poly1d([  3.25923995e-05  , 2.17391304e-02] )\n",
    "    loc0_es1 = np.poly1d([ 0.00012056, -0.02219957]  )\n",
    "    loc0_es0 = np.poly1d( [ -5.08702337e-04 ,  1.37313581e+00])\n",
    "\n",
    "    loc1_checking1 = np.poly1d([  3.73910713e-07 , -3.35001854e-04 ,  8.97930433e-02] )\n",
    "    loc1_checking0 = np.poly1d([  1.19975953e-08 , -4.36318499e-06 ,  8.83611847e-03] )\n",
    "    loc0_checking1 = np.poly1d([  9.96594870e-08 , -2.91213786e-05 ,  3.26717142e-02])\n",
    "    loc0_checking0 = np.poly1d([ -2.09688601e-07 ,  1.38741780e-04  , 9.44958118e-01]  )\n",
    "    # Enterprise sweep\n",
    "    es1_checking1 = np.poly1d([  8.46748572e-08 , -3.13639671e-05  , 2.86308972e-02])\n",
    "    es1_checking0 = np.poly1d([ 0.00057208  ,0.01086957])\n",
    "    es0_checking1 = np.poly1d([  3.47519315e-07 , -2.51445400e-04  , 5.43058648e-02] )\n",
    "    es0_checking0 = np.poly1d([ -1.58296608e-07  , 1.02305182e-04  , 9.55841238e-01]  )\n",
    "    \n",
    "\n",
    "    # return the probabilities in the form of a dictionary\n",
    "    # ensure that nothing has a 0% probabiliy (will block the markob model)\n",
    "    money_market_joint_probabilities = {}\n",
    "    #print(mmb1_cmma1 , 'mmb1_cmma1')\n",
    "    #print(mmb1_cmma1(days),'mmb1_cmma1(days)')\n",
    "    money_market_joint_probabilities['mmb1_cmma1'] = mmb1_cmma1(days)\n",
    "    money_market_joint_probabilities['mmb1_cmma0'] = mmb1_cmma0(days)\n",
    "    money_market_joint_probabilities['mmb0_cmma1'] = mmb0_cmma1(days)\n",
    "    money_market_joint_probabilities['mmb0_cmma0'] = mmb0_cmma0(days)\n",
    "    money_market_joint_probabilities['mmb1_checking1'] = mmb1_checking1(days)\n",
    "    money_market_joint_probabilities['mmb1_checking0'] = mmb1_checking0(days)\n",
    "    money_market_joint_probabilities['mmb0_checking1'] = mmb0_checking1(days)\n",
    "    money_market_joint_probabilities['mmb0_checking0'] = mmb0_checking0(days)\n",
    "    money_market_joint_probabilities['mmb1_cm1'] = mmb1_cm1(days)\n",
    "    money_market_joint_probabilities['mmb1_cm0'] = mmb1_cm0(days)\n",
    "    money_market_joint_probabilities['mmb0_cm1'] =mmb0_cm1(days)\n",
    "    money_market_joint_probabilities['mmb0_cm0'] = mmb0_cm0(days)\n",
    "    money_market_joint_probabilities['mmb1_fx1'] =mmb1_fx1(days)\n",
    "    money_market_joint_probabilities['mmb1_fx0'] = mmb1_fx0(days)\n",
    "\n",
    "    #         money_market_joint_probabilities['mmb0_fx1'] =mmb0_fx1(days)\n",
    "    money_market_joint_probabilities['mmb0_fx0'] = mmb0_fx0(days)\n",
    "    money_market_joint_probabilities['mmb0_fx1'] = mmb0_fx1(days)\n",
    "    money_market_joint_probabilities['mmb1_loc1'] = mmb1_loc1(days)\n",
    "    money_market_joint_probabilities['mmb1_loc0'] = mmb1_loc0(days)\n",
    "    money_market_joint_probabilities['mmb0_loc1'] = mmb0_loc1(days)\n",
    "    money_market_joint_probabilities['mmb0_loc0'] = mmb0_loc0(days)\n",
    "    money_market_joint_probabilities['mmb1_es1'] = mmb1_es1(days)\n",
    "    money_market_joint_probabilities['mmb1_es0'] =mmb1_es0(days)\n",
    "    money_market_joint_probabilities['mmb0_es1'] = mmb0_es1(days)\n",
    "    money_market_joint_probabilities['mmb0_es0'] =mmb0_es0(days)\n",
    "    money_market_joint_probabilities['mmb1_checking1'] =  mmb1_checking1(days)\n",
    "    money_market_joint_probabilities['mmb1_checking0'] = mmb1_checking0(days)\n",
    "    money_market_joint_probabilities['mmb0_checking1'] = mmb0_checking1(days)\n",
    "    money_market_joint_probabilities['mmb0_checking0'] = mmb0_checking0(days)\n",
    "    money_market_joint_probabilities['cmma1_cm1'] =  cmma1_cm1(days)\n",
    "\n",
    "    money_market_joint_probabilities['cmma1_cm0'] =cmma1_cm0(days)\n",
    "    money_market_joint_probabilities['cmma0_cm1'] = cmma0_cm1(days)\n",
    "    money_market_joint_probabilities['cmma0_cm0'] =  cmma0_cm0(days)\n",
    "\n",
    "    #         money_market_joint_probabilities['cmma1_fx1'] =  cmma1_fx1(days)\n",
    "    money_market_joint_probabilities['cmma1_fx1'] = cmma1_fx1(days)\n",
    "    money_market_joint_probabilities['cmma1_fx0'] = cmma1_fx0(days)\n",
    "    money_market_joint_probabilities['cmma0_fx1'] =cmma0_fx1(days)\n",
    "    money_market_joint_probabilities['cmma0_fx0'] =  cmma0_fx0(days)\n",
    "\n",
    "    money_market_joint_probabilities['cmma1_loc1'] =  cmma1_loc1(days)\n",
    "    money_market_joint_probabilities['cmma1_loc0'] =cmma1_loc0(days)\n",
    "    money_market_joint_probabilities['cmma0_loc1'] = cmma0_loc1(days)\n",
    "    money_market_joint_probabilities['cmma0_loc0'] =  cmma0_loc0(days)\n",
    "    \n",
    "    money_market_joint_probabilities['cmma1_es1'] =  cmma1_es1(days)\n",
    "    money_market_joint_probabilities['cmma1_es0'] = cmma1_es0(days)\n",
    "    money_market_joint_probabilities['cmma0_es1'] = cmma0_es1(days)\n",
    "    money_market_joint_probabilities['cmma0_es0'] =  cmma0_es0(days)\n",
    "    \n",
    "    money_market_joint_probabilities['cmma1_checking1'] =  cmma1_checking1(days)\n",
    "    money_market_joint_probabilities['cmma1_checking0'] =cmma1_checking0(days)\n",
    "    money_market_joint_probabilities['cmma0_checking1'] =  cmma0_checking1(days)\n",
    "    money_market_joint_probabilities['cmma0_checking0'] =  cmma0_checking0(days)\n",
    "    \n",
    "    money_market_joint_probabilities['cm1_fx1'] =  cm1_fx1(days)\n",
    "    money_market_joint_probabilities['cm1_fx0'] =  cm1_fx0(days)\n",
    "    #     if round( cm0_fx1(days),3)== 0:\n",
    "    money_market_joint_probabilities['cm0_fx1'] = cm0_fx1(days)\n",
    "    money_market_joint_probabilities['cm0_fx0'] = cm0_fx0(days)\n",
    "    money_market_joint_probabilities['cm1_loc1'] = cm1_loc1(days)\n",
    "    money_market_joint_probabilities['cm1_loc0'] =  cm1_loc0(days)\n",
    "    money_market_joint_probabilities['cm0_loc1'] =cm0_loc1(days)\n",
    "    money_market_joint_probabilities['cm0_loc0'] =cm0_loc0(days)\n",
    "    money_market_joint_probabilities['cm1_es1'] =cm1_es1(days)\n",
    "    money_market_joint_probabilities['cm1_es0'] =  cm1_es0(days)\n",
    "    money_market_joint_probabilities['cm0_es1'] = cm0_es1(days)\n",
    "    money_market_joint_probabilities['cm0_es0'] = cm0_es0(days)\n",
    "    \n",
    "    money_market_joint_probabilities['cm1_checking1'] = cm1_checking1(days)\n",
    "    money_market_joint_probabilities['cm1_checking0'] =  cm1_checking0(days)\n",
    "    money_market_joint_probabilities['cm0_checking1'] =  cm0_checking1(days)\n",
    "    money_market_joint_probabilities['cm0_checking0'] =cm0_checking0(days)\n",
    "    money_market_joint_probabilities['fx1_loc1'] =fx1_loc1(days)\n",
    "    money_market_joint_probabilities['fx1_loc0'] =  fx1_loc0(days)\n",
    "    money_market_joint_probabilities['fx0_loc1'] =  fx0_loc1(days)\n",
    "    money_market_joint_probabilities['fx0_loc0'] = fx0_loc0(days)\n",
    "    \n",
    "    money_market_joint_probabilities['fx1_es1'] = fx1_es1(days)\n",
    "    money_market_joint_probabilities['fx1_es0'] =   fx1_es0(days)\n",
    "    money_market_joint_probabilities['fx0_es1'] = fx0_es1(days)\n",
    "    money_market_joint_probabilities['fx0_es0'] =  fx0_es0(days)\n",
    "    money_market_joint_probabilities['fx1_checking1'] = fx1_checking1(days)\n",
    "    money_market_joint_probabilities['fx1_checking0'] =   fx1_checking0(days)\n",
    "    money_market_joint_probabilities['fx0_checking1'] = fx0_checking1(days)\n",
    "    money_market_joint_probabilities['fx0_checking0'] =  fx0_checking0(days)\n",
    "    money_market_joint_probabilities['loc1_es1'] =loc1_es1(days)\n",
    "    money_market_joint_probabilities['loc1_es0'] =  loc1_es0(days)\n",
    "    money_market_joint_probabilities['loc0_es1'] = loc0_es1(days)\n",
    "    money_market_joint_probabilities['loc0_es0'] = loc0_es0(days)\n",
    "    money_market_joint_probabilities['loc1_checking1'] =  loc1_checking1(days)\n",
    "    money_market_joint_probabilities['loc1_checking0'] =  loc1_checking0(days)\n",
    "    money_market_joint_probabilities['loc0_checking1'] = loc0_checking1(days)\n",
    "    money_market_joint_probabilities['loc0_checking0'] = loc0_checking0(days)\n",
    "\n",
    "    money_market_joint_probabilities['es1_checking1'] =  es1_checking1(days)\n",
    "    money_market_joint_probabilities['es1_checking0'] =  es1_checking0(days)\n",
    "    money_market_joint_probabilities['es0_checking1'] = es0_checking1(days)\n",
    "    money_market_joint_probabilities['es0_checking0'] = es0_checking0(days)\n",
    "\n",
    "\n",
    " \n",
    "                             \n",
    "                                                                      \n",
    "    \n",
    "    return money_market_joint_probabilities\n",
    "    \n",
    "    \n",
    "    \n",
    "                        \n",
    "                        \n",
    "\n",
    "    "
   ]
  },
  {
   "cell_type": "code",
   "execution_count": 131,
   "metadata": {
    "collapsed": false
   },
   "outputs": [
    {
     "data": {
      "text/plain": [
       "0.01"
      ]
     },
     "execution_count": 131,
     "metadata": {},
     "output_type": "execute_result"
    }
   ],
   "source": [
    "round(.009,2)"
   ]
  },
  {
   "cell_type": "code",
   "execution_count": null,
   "metadata": {
    "collapsed": true
   },
   "outputs": [],
   "source": []
  },
  {
   "cell_type": "code",
   "execution_count": 308,
   "metadata": {
    "collapsed": false
   },
   "outputs": [],
   "source": [
    "dict_of_esp_money_market_joint_prob = ESP_Joint_Product_Probabilities(1) \n",
    "\n"
   ]
  },
  {
   "cell_type": "code",
   "execution_count": 309,
   "metadata": {
    "collapsed": false
   },
   "outputs": [
    {
     "data": {
      "text/plain": [
       "True"
      ]
     },
     "execution_count": 309,
     "metadata": {},
     "output_type": "execute_result"
    }
   ],
   "source": [
    "round(-2.9566401782722501e-05,3) == 0"
   ]
  },
  {
   "cell_type": "code",
   "execution_count": null,
   "metadata": {
    "collapsed": true
   },
   "outputs": [],
   "source": []
  },
  {
   "cell_type": "code",
   "execution_count": 502,
   "metadata": {
    "collapsed": false
   },
   "outputs": [
    {
     "data": {
      "text/plain": [
       "{'cm0_checking0': 0.66680645308000008,\n",
       " 'cm0_checking1': 0.10142385472999998,\n",
       " 'cm0_es0': 0.88371501603999991,\n",
       " 'cm0_es1': 0.73009667640999998,\n",
       " 'cm0_fx0': 0.93506638843750001,\n",
       " 'cm0_fx1': 0.045049647529999987,\n",
       " 'cm0_loc0': 0.68757961488999997,\n",
       " 'cm0_loc1': 1.0827093030500006,\n",
       " 'cm1_checking0': 0.056393796877999995,\n",
       " 'cm1_checking1': 0.23790235930999998,\n",
       " 'cm1_es0': 0.98128310010000008,\n",
       " 'cm1_es1': 0.92368039186000017,\n",
       " 'cm1_fx0': 0.052458999700999986,\n",
       " 'cm1_fx1': 0.046501020089999998,\n",
       " 'cm1_loc0': 0.94655739150000018,\n",
       " 'cm1_loc1': 0.92948056490000019,\n",
       " 'cmma0_checking0': 0.64253012007999988,\n",
       " 'cmma0_checking1': 0.11134033868599999,\n",
       " 'cmma0_cm0': 0.90791484916699994,\n",
       " 'cmma0_cm1': 0.027903760520000001,\n",
       " 'cmma0_es0': 0.92546990201000001,\n",
       " 'cmma0_es1': 0.7517318611199999,\n",
       " 'cmma0_fx0': 0.92533576261149997,\n",
       " 'cmma0_fx1': 0.031327227792999977,\n",
       " 'cmma0_loc0': 0.94288068950399995,\n",
       " 'cmma0_loc1': 0.14372016032000001,\n",
       " 'cmma1_checking0': 0.056700723849999995,\n",
       " 'cmma1_checking1': 0.25624180858999995,\n",
       " 'cmma1_cm0': 0.025786943004000001,\n",
       " 'cmma1_cm1': 0.078465929357999994,\n",
       " 'cmma1_es0': 0.53821091184000003,\n",
       " 'cmma1_es1': 0.62229884000000002,\n",
       " 'cmma1_fx0': 0.059259948369000094,\n",
       " 'cmma1_fx1': 0.044459156410000006,\n",
       " 'cmma1_loc0': 0.22172317253700008,\n",
       " 'cmma1_loc1': 0.24961859443000001,\n",
       " 'es0_checking0': 0.84388443349999998,\n",
       " 'es0_checking1': 0.97515691272999994,\n",
       " 'es1_checking0': 0.8943472400000001,\n",
       " 'es1_checking1': 0.86024250570000005,\n",
       " 'fx0_checking0': 0.6641266844,\n",
       " 'fx0_checking1': 0.24629900871000007,\n",
       " 'fx0_es0': 0.97633811620400002,\n",
       " 'fx0_es1': 0.26022582383000004,\n",
       " 'fx0_loc0': 0.94857719049699996,\n",
       " 'fx0_loc1': 0.30437979110799995,\n",
       " 'fx1_checking0': 0.038537027379999998,\n",
       " 'fx1_checking1': 0.082436139450000001,\n",
       " 'fx1_es0': 0.34198494681999997,\n",
       " 'fx1_es1': 0.27182780851100002,\n",
       " 'fx1_loc0': 0.30654241106700003,\n",
       " 'fx1_loc1': 0.32001248209999994,\n",
       " 'loc0_checking0': 0.77752056500000011,\n",
       " 'loc0_checking1': 0.83479245619999998,\n",
       " 'loc0_es0': 0.99332324932800009,\n",
       " 'loc0_es1': 0.55555555599999917,\n",
       " 'loc1_checking0': 0.011660710673999999,\n",
       " 'loc1_checking1': 0.82352254689999993,\n",
       " 'loc1_es0': 0.45544121999999998,\n",
       " 'loc1_es1': 0.5555555559999994,\n",
       " 'mmb0_checking0': 0.61821737870000026,\n",
       " 'mmb0_checking1': 0.17819022061000006,\n",
       " 'mmb0_cm0': 0.22890673051000004,\n",
       " 'mmb0_cm1': 0.010315877876249999,\n",
       " 'mmb0_cmma0': 0.90297242705799996,\n",
       " 'mmb0_cmma1': 0.25358879257999994,\n",
       " 'mmb0_es0': 0.90477792343000008,\n",
       " 'mmb0_es1': 0.89722130454999982,\n",
       " 'mmb0_fx0': 0.95999330892759993,\n",
       " 'mmb0_fx1': 0.054695993546999978,\n",
       " 'mmb0_loc0': 0.97036962499000012,\n",
       " 'mmb0_loc1': 0.74353013999999995,\n",
       " 'mmb1_checking0': -1.0775094387999997,\n",
       " 'mmb1_checking1': 0.27906416330000017,\n",
       " 'mmb1_cm0': 0.0058048010812999998,\n",
       " 'mmb1_cm1': 0.026309819878000001,\n",
       " 'mmb1_cmma0': 0.21590052124,\n",
       " 'mmb1_cmma1': 0.21780860999999996,\n",
       " 'mmb1_es0': 0.81398499420000003,\n",
       " 'mmb1_es1': 0.60815146360000005,\n",
       " 'mmb1_fx0': 0.081192538630000005,\n",
       " 'mmb1_fx1': 0.073771158779999985,\n",
       " 'mmb1_loc0': 1.03670453,\n",
       " 'mmb1_loc1': 1.0130598083000002}"
      ]
     },
     "execution_count": 502,
     "metadata": {},
     "output_type": "execute_result"
    }
   ],
   "source": [
    "# week 1\n",
    "dict_of_esp_money_market_joint_prob"
   ]
  },
  {
   "cell_type": "code",
   "execution_count": 311,
   "metadata": {
    "collapsed": false
   },
   "outputs": [
    {
     "data": {
      "text/plain": [
       "{'cm0_checking0': 0.66680645308000008,\n",
       " 'cm0_checking1': 0.10142385472999998,\n",
       " 'cm0_es0': 0.88371501603999991,\n",
       " 'cm0_es1': 0.73009667640999998,\n",
       " 'cm0_fx0': 0.93506638843750001,\n",
       " 'cm0_fx1': 0.045049647529999987,\n",
       " 'cm0_loc0': 0.68757961488999997,\n",
       " 'cm0_loc1': 1.0827093030500006,\n",
       " 'cm1_checking0': 0.056393796877999995,\n",
       " 'cm1_checking1': 0.23790235930999998,\n",
       " 'cm1_es0': 0.98128310010000008,\n",
       " 'cm1_es1': 0.92368039186000017,\n",
       " 'cm1_fx0': 0.052458999700999986,\n",
       " 'cm1_fx1': 0.046501020089999998,\n",
       " 'cm1_loc0': 0.94655739150000018,\n",
       " 'cm1_loc1': 0.92948056490000019,\n",
       " 'cmma0_checking0': 0.64253012007999988,\n",
       " 'cmma0_checking1': 0.11134033868599999,\n",
       " 'cmma0_cm0': 0.90791484916699994,\n",
       " 'cmma0_cm1': 0.027903760520000001,\n",
       " 'cmma0_es0': 0.92546990201000001,\n",
       " 'cmma0_es1': 0.7517318611199999,\n",
       " 'cmma0_fx0': 0.92533576261149997,\n",
       " 'cmma0_fx1': 0.031327227792999977,\n",
       " 'cmma0_loc0': 0.94288068950399995,\n",
       " 'cmma0_loc1': 0.14372016032000001,\n",
       " 'cmma1_checking0': 0.056700723849999995,\n",
       " 'cmma1_checking1': 0.25624180858999995,\n",
       " 'cmma1_cm0': 0.025786943004000001,\n",
       " 'cmma1_cm1': 0.078465929357999994,\n",
       " 'cmma1_es0': 0.53821091184000003,\n",
       " 'cmma1_es1': 0.62229884000000002,\n",
       " 'cmma1_fx0': 0.059259948369000094,\n",
       " 'cmma1_fx1': 0.044459156410000006,\n",
       " 'cmma1_loc0': 0.22172317253700008,\n",
       " 'cmma1_loc1': 0.24961859443000001,\n",
       " 'es0_checking0': 0.84388443349999998,\n",
       " 'es0_checking1': 0.97515691272999994,\n",
       " 'es1_checking0': 0.8943472400000001,\n",
       " 'es1_checking1': 0.86024250570000005,\n",
       " 'fx0_checking0': 0.6641266844,\n",
       " 'fx0_checking1': 0.24629900871000007,\n",
       " 'fx0_es0': 0.97633811620400002,\n",
       " 'fx0_es1': 0.26022582383000004,\n",
       " 'fx0_loc0': 0.94857719049699996,\n",
       " 'fx0_loc1': 0.30437979110799995,\n",
       " 'fx1_checking0': 0.038537027379999998,\n",
       " 'fx1_checking1': 0.082436139450000001,\n",
       " 'fx1_es0': 0.34198494681999997,\n",
       " 'fx1_es1': 0.27182780851100002,\n",
       " 'fx1_loc0': 0.30654241106700003,\n",
       " 'fx1_loc1': 0.32001248209999994,\n",
       " 'loc0_checking0': 0.77752056500000011,\n",
       " 'loc0_checking1': 0.83479245619999998,\n",
       " 'loc0_es0': 0.99332324932800009,\n",
       " 'loc0_es1': 0.55555555599999917,\n",
       " 'loc1_checking0': 0.011660710673999999,\n",
       " 'loc1_checking1': 0.82352254689999993,\n",
       " 'loc1_es0': 0.45544121999999998,\n",
       " 'loc1_es1': 0.5555555559999994,\n",
       " 'mmb0_checking0': 0.61821737870000026,\n",
       " 'mmb0_checking1': 0.17819022061000006,\n",
       " 'mmb0_cm0': 0.22890673051000004,\n",
       " 'mmb0_cm1': 0.010315877876249999,\n",
       " 'mmb0_cmma0': 0.90297242705799996,\n",
       " 'mmb0_cmma1': 0.25358879257999994,\n",
       " 'mmb0_es0': 0.90477792343000008,\n",
       " 'mmb0_es1': 0.89722130454999982,\n",
       " 'mmb0_fx0': 0.95999330892759993,\n",
       " 'mmb0_fx1': 0.054695993546999978,\n",
       " 'mmb0_loc0': 0.97036962499000012,\n",
       " 'mmb0_loc1': 0.74353013999999995,\n",
       " 'mmb1_checking0': -1.0775094387999997,\n",
       " 'mmb1_checking1': 0.27906416330000017,\n",
       " 'mmb1_cm0': 0.0058048010812999998,\n",
       " 'mmb1_cm1': 0.026309819878000001,\n",
       " 'mmb1_cmma0': 0.21590052124,\n",
       " 'mmb1_cmma1': 0.21780860999999996,\n",
       " 'mmb1_es0': 0.81398499420000003,\n",
       " 'mmb1_es1': 0.60815146360000005,\n",
       " 'mmb1_fx0': 0.081192538630000005,\n",
       " 'mmb1_fx1': 0.073771158779999985,\n",
       " 'mmb1_loc0': 1.03670453,\n",
       " 'mmb1_loc1': 1.0130598083000002}"
      ]
     },
     "execution_count": 311,
     "metadata": {},
     "output_type": "execute_result"
    }
   ],
   "source": [
    "# week 100\n",
    "dict_of_esp_money_market_joint_prob = ESP_Joint_Product_Probabilities(100)\n",
    "dict_of_esp_money_market_joint_prob "
   ]
  },
  {
   "cell_type": "code",
   "execution_count": 198,
   "metadata": {
    "collapsed": true
   },
   "outputs": [],
   "source": [
    "model = MarkovModel([('money_market_bonus', 'collateral_mma')])\n",
    "model.add_factors(factor_mmb_cmma)"
   ]
  },
  {
   "cell_type": "code",
   "execution_count": 228,
   "metadata": {
    "collapsed": false
   },
   "outputs": [
    {
     "name": "stdout",
     "output_type": "stream",
     "text": [
      "0.905712561 dict_of_esp_jointprob['mmb0_cmma0']\n",
      "-0.0272233407 dict_of_esp_jointprob['mmb0_cmma1']\n",
      "0.0427823822 dict_of_esp_jointprob['mmb1_cmma0']\n",
      "0.04285061 dict_of_esp_jointprob['mmb1_cmma1']\n",
      "0.905685159661 dict_of_esp_jointprob['mmb0_cmma0']\n",
      "-0.0233375577449 dict_of_esp_jointprob['mmb0_cmma1']\n",
      "0.0435909449344 dict_of_esp_jointprob['mmb1_cmma0']\n",
      "0.04460019 dict_of_esp_jointprob['mmb1_cmma1']\n",
      "0.905657758321 dict_of_esp_jointprob['mmb0_cmma0']\n",
      "-0.0194735457317 dict_of_esp_jointprob['mmb0_cmma1']\n",
      "0.0444181464295 dict_of_esp_jointprob['mmb1_cmma0']\n",
      "0.04634977 dict_of_esp_jointprob['mmb1_cmma1']\n",
      "0.905630356982 dict_of_esp_jointprob['mmb0_cmma0']\n",
      "-0.0156313046604 dict_of_esp_jointprob['mmb0_cmma1']\n",
      "0.0452639866853 dict_of_esp_jointprob['mmb1_cmma0']\n",
      "0.04809935 dict_of_esp_jointprob['mmb1_cmma1']\n",
      "0.905602955642 dict_of_esp_jointprob['mmb0_cmma0']\n",
      "-0.0118108345309 dict_of_esp_jointprob['mmb0_cmma1']\n",
      "0.0461284657018 dict_of_esp_jointprob['mmb1_cmma0']\n",
      "0.04984893 dict_of_esp_jointprob['mmb1_cmma1']\n",
      "0.905575554303 dict_of_esp_jointprob['mmb0_cmma0']\n",
      "-0.0080121353433 dict_of_esp_jointprob['mmb0_cmma1']\n",
      "0.0470115834791 dict_of_esp_jointprob['mmb1_cmma0']\n",
      "0.05159851 dict_of_esp_jointprob['mmb1_cmma1']\n",
      "0.905548152963 dict_of_esp_jointprob['mmb0_cmma0']\n",
      "-0.00423520709755 dict_of_esp_jointprob['mmb0_cmma1']\n",
      "0.0479133400171 dict_of_esp_jointprob['mmb1_cmma0']\n",
      "0.05334809 dict_of_esp_jointprob['mmb1_cmma1']\n",
      "0.905520751624 dict_of_esp_jointprob['mmb0_cmma0']\n",
      "-0.000480049793668 dict_of_esp_jointprob['mmb0_cmma1']\n",
      "0.0488337353158 dict_of_esp_jointprob['mmb1_cmma0']\n",
      "0.05509767 dict_of_esp_jointprob['mmb1_cmma1']\n",
      "0.905493350285 dict_of_esp_jointprob['mmb0_cmma0']\n",
      "0.00325333656835 dict_of_esp_jointprob['mmb0_cmma1']\n",
      "0.0497727693753 dict_of_esp_jointprob['mmb1_cmma0']\n",
      "0.05684725 dict_of_esp_jointprob['mmb1_cmma1']\n",
      "0.905465948945 dict_of_esp_jointprob['mmb0_cmma0']\n",
      "0.00696495198851 dict_of_esp_jointprob['mmb0_cmma1']\n",
      "0.0507304421955 dict_of_esp_jointprob['mmb1_cmma0']\n",
      "0.05859683 dict_of_esp_jointprob['mmb1_cmma1']\n",
      "0.905438547606 dict_of_esp_jointprob['mmb0_cmma0']\n",
      "0.0106547964668 dict_of_esp_jointprob['mmb0_cmma1']\n",
      "0.0517067537764 dict_of_esp_jointprob['mmb1_cmma0']\n",
      "0.06034641 dict_of_esp_jointprob['mmb1_cmma1']\n",
      "0.905411146266 dict_of_esp_jointprob['mmb0_cmma0']\n",
      "0.0143228700032 dict_of_esp_jointprob['mmb0_cmma1']\n",
      "0.052701704118 dict_of_esp_jointprob['mmb1_cmma0']\n",
      "0.06209599 dict_of_esp_jointprob['mmb1_cmma1']\n",
      "0.905383744927 dict_of_esp_jointprob['mmb0_cmma0']\n",
      "0.0179691725978 dict_of_esp_jointprob['mmb0_cmma1']\n",
      "0.0537152932204 dict_of_esp_jointprob['mmb1_cmma0']\n",
      "0.06384557 dict_of_esp_jointprob['mmb1_cmma1']\n",
      "0.905356343588 dict_of_esp_jointprob['mmb0_cmma0']\n",
      "0.0215937042505 dict_of_esp_jointprob['mmb0_cmma1']\n",
      "0.0547475210835 dict_of_esp_jointprob['mmb1_cmma0']\n",
      "0.06559515 dict_of_esp_jointprob['mmb1_cmma1']\n",
      "0.905328942248 dict_of_esp_jointprob['mmb0_cmma0']\n",
      "0.0251964649613 dict_of_esp_jointprob['mmb0_cmma1']\n",
      "0.0557983877073 dict_of_esp_jointprob['mmb1_cmma0']\n",
      "0.06734473 dict_of_esp_jointprob['mmb1_cmma1']\n",
      "0.905301540909 dict_of_esp_jointprob['mmb0_cmma0']\n",
      "0.0287774547303 dict_of_esp_jointprob['mmb0_cmma1']\n",
      "0.0568678930919 dict_of_esp_jointprob['mmb1_cmma0']\n",
      "0.06909431 dict_of_esp_jointprob['mmb1_cmma1']\n",
      "0.905274139569 dict_of_esp_jointprob['mmb0_cmma0']\n",
      "0.0323366735574 dict_of_esp_jointprob['mmb0_cmma1']\n",
      "0.0579560372372 dict_of_esp_jointprob['mmb1_cmma0']\n",
      "0.07084389 dict_of_esp_jointprob['mmb1_cmma1']\n",
      "0.90524673823 dict_of_esp_jointprob['mmb0_cmma0']\n",
      "0.0358741214427 dict_of_esp_jointprob['mmb0_cmma1']\n",
      "0.0590628201432 dict_of_esp_jointprob['mmb1_cmma0']\n",
      "0.07259347 dict_of_esp_jointprob['mmb1_cmma1']\n",
      "0.90521933689 dict_of_esp_jointprob['mmb0_cmma0']\n",
      "0.039389798386 dict_of_esp_jointprob['mmb0_cmma1']\n",
      "0.0601882418099 dict_of_esp_jointprob['mmb1_cmma0']\n",
      "0.07434305 dict_of_esp_jointprob['mmb1_cmma1']\n",
      "0.905191935551 dict_of_esp_jointprob['mmb0_cmma0']\n",
      "0.0428837043875 dict_of_esp_jointprob['mmb0_cmma1']\n",
      "0.0613323022374 dict_of_esp_jointprob['mmb1_cmma0']\n",
      "0.07609263 dict_of_esp_jointprob['mmb1_cmma1']\n",
      "0.905164534212 dict_of_esp_jointprob['mmb0_cmma0']\n",
      "0.0463558394472 dict_of_esp_jointprob['mmb0_cmma1']\n",
      "0.0624950014256 dict_of_esp_jointprob['mmb1_cmma0']\n",
      "0.07784221 dict_of_esp_jointprob['mmb1_cmma1']\n",
      "0.905137132872 dict_of_esp_jointprob['mmb0_cmma0']\n",
      "0.049806203565 dict_of_esp_jointprob['mmb0_cmma1']\n",
      "0.0636763393745 dict_of_esp_jointprob['mmb1_cmma0']\n",
      "0.07959179 dict_of_esp_jointprob['mmb1_cmma1']\n",
      "0.905109731533 dict_of_esp_jointprob['mmb0_cmma0']\n",
      "0.0532347967409 dict_of_esp_jointprob['mmb0_cmma1']\n",
      "0.0648763160842 dict_of_esp_jointprob['mmb1_cmma0']\n",
      "0.08134137 dict_of_esp_jointprob['mmb1_cmma1']\n",
      "0.905082330193 dict_of_esp_jointprob['mmb0_cmma0']\n",
      "0.056641618975 dict_of_esp_jointprob['mmb0_cmma1']\n",
      "0.0660949315546 dict_of_esp_jointprob['mmb1_cmma0']\n",
      "0.08309095 dict_of_esp_jointprob['mmb1_cmma1']\n",
      "0.905054928854 dict_of_esp_jointprob['mmb0_cmma0']\n",
      "0.0600266702672 dict_of_esp_jointprob['mmb0_cmma1']\n",
      "0.0673321857857 dict_of_esp_jointprob['mmb1_cmma0']\n",
      "0.08484053 dict_of_esp_jointprob['mmb1_cmma1']\n",
      "0.905027527514 dict_of_esp_jointprob['mmb0_cmma0']\n",
      "0.0633899506175 dict_of_esp_jointprob['mmb0_cmma1']\n",
      "0.0685880787775 dict_of_esp_jointprob['mmb1_cmma0']\n",
      "0.08659011 dict_of_esp_jointprob['mmb1_cmma1']\n",
      "0.905000126175 dict_of_esp_jointprob['mmb0_cmma0']\n",
      "0.066731460026 dict_of_esp_jointprob['mmb0_cmma1']\n",
      "0.0698626105301 dict_of_esp_jointprob['mmb1_cmma0']\n",
      "0.08833969 dict_of_esp_jointprob['mmb1_cmma1']\n",
      "0.904972724836 dict_of_esp_jointprob['mmb0_cmma0']\n",
      "0.0700511984926 dict_of_esp_jointprob['mmb0_cmma1']\n",
      "0.0711557810434 dict_of_esp_jointprob['mmb1_cmma0']\n",
      "0.09008927 dict_of_esp_jointprob['mmb1_cmma1']\n",
      "0.904945323496 dict_of_esp_jointprob['mmb0_cmma0']\n",
      "0.0733491660173 dict_of_esp_jointprob['mmb0_cmma1']\n",
      "0.0724675903174 dict_of_esp_jointprob['mmb1_cmma0']\n",
      "0.09183885 dict_of_esp_jointprob['mmb1_cmma1']\n",
      "0.904917922157 dict_of_esp_jointprob['mmb0_cmma0']\n",
      "0.0766253626002 dict_of_esp_jointprob['mmb0_cmma1']\n",
      "0.0737980383521 dict_of_esp_jointprob['mmb1_cmma0']\n",
      "0.09358843 dict_of_esp_jointprob['mmb1_cmma1']\n",
      "0.904890520817 dict_of_esp_jointprob['mmb0_cmma0']\n",
      "0.0798797882412 dict_of_esp_jointprob['mmb0_cmma1']\n",
      "0.0751471251476 dict_of_esp_jointprob['mmb1_cmma0']\n",
      "0.09533801 dict_of_esp_jointprob['mmb1_cmma1']\n",
      "0.904863119478 dict_of_esp_jointprob['mmb0_cmma0']\n",
      "0.0831124429403 dict_of_esp_jointprob['mmb0_cmma1']\n",
      "0.0765148507038 dict_of_esp_jointprob['mmb1_cmma0']\n",
      "0.09708759 dict_of_esp_jointprob['mmb1_cmma1']\n",
      "0.904835718139 dict_of_esp_jointprob['mmb0_cmma0']\n",
      "0.0863233266976 dict_of_esp_jointprob['mmb0_cmma1']\n",
      "0.0779012150207 dict_of_esp_jointprob['mmb1_cmma0']\n",
      "0.09883717 dict_of_esp_jointprob['mmb1_cmma1']\n",
      "0.904808316799 dict_of_esp_jointprob['mmb0_cmma0']\n",
      "0.0895124395131 dict_of_esp_jointprob['mmb0_cmma1']\n",
      "0.0793062180984 dict_of_esp_jointprob['mmb1_cmma0']\n",
      "0.10058675 dict_of_esp_jointprob['mmb1_cmma1']\n",
      "0.90478091546 dict_of_esp_jointprob['mmb0_cmma0']\n",
      "0.0926797813866 dict_of_esp_jointprob['mmb0_cmma1']\n",
      "0.0807298599368 dict_of_esp_jointprob['mmb1_cmma0']\n",
      "0.10233633 dict_of_esp_jointprob['mmb1_cmma1']\n",
      "0.90475351412 dict_of_esp_jointprob['mmb0_cmma0']\n",
      "0.0958253523183 dict_of_esp_jointprob['mmb0_cmma1']\n",
      "0.0821721405359 dict_of_esp_jointprob['mmb1_cmma0']\n",
      "0.10408591 dict_of_esp_jointprob['mmb1_cmma1']\n",
      "0.904726112781 dict_of_esp_jointprob['mmb0_cmma0']\n",
      "0.0989491523081 dict_of_esp_jointprob['mmb0_cmma1']\n",
      "0.0836330598957 dict_of_esp_jointprob['mmb1_cmma0']\n",
      "0.10583549 dict_of_esp_jointprob['mmb1_cmma1']\n",
      "0.904698711441 dict_of_esp_jointprob['mmb0_cmma0']\n",
      "0.102051181356 dict_of_esp_jointprob['mmb0_cmma1']\n",
      "0.0851126180163 dict_of_esp_jointprob['mmb1_cmma0']\n",
      "0.10758507 dict_of_esp_jointprob['mmb1_cmma1']\n",
      "0.904671310102 dict_of_esp_jointprob['mmb0_cmma0']\n",
      "0.105131439462 dict_of_esp_jointprob['mmb0_cmma1']\n",
      "0.0866108148976 dict_of_esp_jointprob['mmb1_cmma0']\n",
      "0.10933465 dict_of_esp_jointprob['mmb1_cmma1']\n",
      "0.904643908763 dict_of_esp_jointprob['mmb0_cmma0']\n",
      "0.108189926626 dict_of_esp_jointprob['mmb0_cmma1']\n",
      "0.0881276505396 dict_of_esp_jointprob['mmb1_cmma0']\n",
      "0.11108423 dict_of_esp_jointprob['mmb1_cmma1']\n",
      "0.904616507423 dict_of_esp_jointprob['mmb0_cmma0']\n",
      "0.111226642849 dict_of_esp_jointprob['mmb0_cmma1']\n",
      "0.0896631249424 dict_of_esp_jointprob['mmb1_cmma0']\n",
      "0.11283381 dict_of_esp_jointprob['mmb1_cmma1']\n",
      "0.904589106084 dict_of_esp_jointprob['mmb0_cmma0']\n",
      "0.114241588129 dict_of_esp_jointprob['mmb0_cmma1']\n",
      "0.0912172381059 dict_of_esp_jointprob['mmb1_cmma0']\n",
      "0.11458339 dict_of_esp_jointprob['mmb1_cmma1']\n",
      "0.904561704744 dict_of_esp_jointprob['mmb0_cmma0']\n",
      "0.117234762468 dict_of_esp_jointprob['mmb0_cmma1']\n",
      "0.0927899900301 dict_of_esp_jointprob['mmb1_cmma0']\n",
      "0.11633297 dict_of_esp_jointprob['mmb1_cmma1']\n",
      "0.904534303405 dict_of_esp_jointprob['mmb0_cmma0']\n",
      "0.120206165865 dict_of_esp_jointprob['mmb0_cmma1']\n",
      "0.094381380715 dict_of_esp_jointprob['mmb1_cmma0']\n",
      "0.11808255 dict_of_esp_jointprob['mmb1_cmma1']\n",
      "0.904506902066 dict_of_esp_jointprob['mmb0_cmma0']\n",
      "0.12315579832 dict_of_esp_jointprob['mmb0_cmma1']\n",
      "0.0959914101607 dict_of_esp_jointprob['mmb1_cmma0']\n",
      "0.11983213 dict_of_esp_jointprob['mmb1_cmma1']\n",
      "0.904479500726 dict_of_esp_jointprob['mmb0_cmma0']\n",
      "0.126083659833 dict_of_esp_jointprob['mmb0_cmma1']\n",
      "0.0976200783671 dict_of_esp_jointprob['mmb1_cmma0']\n",
      "0.12158171 dict_of_esp_jointprob['mmb1_cmma1']\n",
      "0.904452099387 dict_of_esp_jointprob['mmb0_cmma0']\n",
      "0.128989750404 dict_of_esp_jointprob['mmb0_cmma1']\n",
      "0.0992673853342 dict_of_esp_jointprob['mmb1_cmma0']\n",
      "0.12333129 dict_of_esp_jointprob['mmb1_cmma1']\n",
      "0.904424698047 dict_of_esp_jointprob['mmb0_cmma0']\n",
      "0.131874070033 dict_of_esp_jointprob['mmb0_cmma1']\n",
      "0.100933331062 dict_of_esp_jointprob['mmb1_cmma0']\n",
      "0.12508087 dict_of_esp_jointprob['mmb1_cmma1']\n",
      "0.904397296708 dict_of_esp_jointprob['mmb0_cmma0']\n",
      "0.134736618721 dict_of_esp_jointprob['mmb0_cmma1']\n",
      "0.102617915551 dict_of_esp_jointprob['mmb1_cmma0']\n",
      "0.12683045 dict_of_esp_jointprob['mmb1_cmma1']\n",
      "0.904369895368 dict_of_esp_jointprob['mmb0_cmma0']\n",
      "0.137577396466 dict_of_esp_jointprob['mmb0_cmma1']\n",
      "0.1043211388 dict_of_esp_jointprob['mmb1_cmma0']\n",
      "0.12858003 dict_of_esp_jointprob['mmb1_cmma1']\n",
      "0.904342494029 dict_of_esp_jointprob['mmb0_cmma0']\n",
      "0.14039640327 dict_of_esp_jointprob['mmb0_cmma1']\n",
      "0.10604300081 dict_of_esp_jointprob['mmb1_cmma0']\n",
      "0.13032961 dict_of_esp_jointprob['mmb1_cmma1']\n",
      "0.90431509269 dict_of_esp_jointprob['mmb0_cmma0']\n",
      "0.143193639132 dict_of_esp_jointprob['mmb0_cmma1']\n",
      "0.107783501581 dict_of_esp_jointprob['mmb1_cmma0']\n",
      "0.13207919 dict_of_esp_jointprob['mmb1_cmma1']\n",
      "0.90428769135 dict_of_esp_jointprob['mmb0_cmma0']\n",
      "0.145969104052 dict_of_esp_jointprob['mmb0_cmma1']\n",
      "0.109542641112 dict_of_esp_jointprob['mmb1_cmma0']\n",
      "0.13382877 dict_of_esp_jointprob['mmb1_cmma1']\n",
      "0.904260290011 dict_of_esp_jointprob['mmb0_cmma0']\n",
      "0.14872279803 dict_of_esp_jointprob['mmb0_cmma1']\n",
      "0.111320419404 dict_of_esp_jointprob['mmb1_cmma0']\n",
      "0.13557835 dict_of_esp_jointprob['mmb1_cmma1']\n",
      "0.904232888671 dict_of_esp_jointprob['mmb0_cmma0']\n",
      "0.151454721066 dict_of_esp_jointprob['mmb0_cmma1']\n",
      "0.113116836457 dict_of_esp_jointprob['mmb1_cmma0']\n",
      "0.13732793 dict_of_esp_jointprob['mmb1_cmma1']\n",
      "0.904205487332 dict_of_esp_jointprob['mmb0_cmma0']\n",
      "0.154164873161 dict_of_esp_jointprob['mmb0_cmma1']\n",
      "0.114931892271 dict_of_esp_jointprob['mmb1_cmma0']\n",
      "0.13907751 dict_of_esp_jointprob['mmb1_cmma1']\n",
      "0.904178085992 dict_of_esp_jointprob['mmb0_cmma0']\n",
      "0.156853254313 dict_of_esp_jointprob['mmb0_cmma1']\n",
      "0.116765586846 dict_of_esp_jointprob['mmb1_cmma0']\n",
      "0.14082709 dict_of_esp_jointprob['mmb1_cmma1']\n",
      "0.904150684653 dict_of_esp_jointprob['mmb0_cmma0']\n",
      "0.159519864524 dict_of_esp_jointprob['mmb0_cmma1']\n",
      "0.118617920181 dict_of_esp_jointprob['mmb1_cmma0']\n",
      "0.14257667 dict_of_esp_jointprob['mmb1_cmma1']\n",
      "0.904123283314 dict_of_esp_jointprob['mmb0_cmma0']\n",
      "0.162164703793 dict_of_esp_jointprob['mmb0_cmma1']\n",
      "0.120488892276 dict_of_esp_jointprob['mmb1_cmma0']\n",
      "0.14432625 dict_of_esp_jointprob['mmb1_cmma1']\n",
      "0.904095881974 dict_of_esp_jointprob['mmb0_cmma0']\n",
      "0.16478777212 dict_of_esp_jointprob['mmb0_cmma1']\n",
      "0.122378503133 dict_of_esp_jointprob['mmb1_cmma0']\n",
      "0.14607583 dict_of_esp_jointprob['mmb1_cmma1']\n",
      "0.904068480635 dict_of_esp_jointprob['mmb0_cmma0']\n",
      "0.167389069505 dict_of_esp_jointprob['mmb0_cmma1']\n",
      "0.12428675275 dict_of_esp_jointprob['mmb1_cmma0']\n",
      "0.14782541 dict_of_esp_jointprob['mmb1_cmma1']\n",
      "0.904041079295 dict_of_esp_jointprob['mmb0_cmma0']\n",
      "0.169968595948 dict_of_esp_jointprob['mmb0_cmma1']\n",
      "0.126213641128 dict_of_esp_jointprob['mmb1_cmma0']\n",
      "0.14957499 dict_of_esp_jointprob['mmb1_cmma1']\n",
      "0.904013677956 dict_of_esp_jointprob['mmb0_cmma0']\n",
      "0.172526351449 dict_of_esp_jointprob['mmb0_cmma1']\n",
      "0.128159168267 dict_of_esp_jointprob['mmb1_cmma0']\n",
      "0.15132457 dict_of_esp_jointprob['mmb1_cmma1']\n",
      "0.903986276617 dict_of_esp_jointprob['mmb0_cmma0']\n",
      "0.175062336009 dict_of_esp_jointprob['mmb0_cmma1']\n",
      "0.130123334167 dict_of_esp_jointprob['mmb1_cmma0']\n",
      "0.15307415 dict_of_esp_jointprob['mmb1_cmma1']\n",
      "0.903958875277 dict_of_esp_jointprob['mmb0_cmma0']\n",
      "0.177576549627 dict_of_esp_jointprob['mmb0_cmma1']\n",
      "0.132106138827 dict_of_esp_jointprob['mmb1_cmma0']\n",
      "0.15482373 dict_of_esp_jointprob['mmb1_cmma1']\n",
      "0.903931473938 dict_of_esp_jointprob['mmb0_cmma0']\n",
      "0.180068992302 dict_of_esp_jointprob['mmb0_cmma1']\n",
      "0.134107582248 dict_of_esp_jointprob['mmb1_cmma0']\n",
      "0.15657331 dict_of_esp_jointprob['mmb1_cmma1']\n",
      "0.903904072598 dict_of_esp_jointprob['mmb0_cmma0']\n",
      "0.182539664036 dict_of_esp_jointprob['mmb0_cmma1']\n",
      "0.13612766443 dict_of_esp_jointprob['mmb1_cmma0']\n",
      "0.15832289 dict_of_esp_jointprob['mmb1_cmma1']\n",
      "0.903876671259 dict_of_esp_jointprob['mmb0_cmma0']\n",
      "0.184988564828 dict_of_esp_jointprob['mmb0_cmma1']\n",
      "0.138166385372 dict_of_esp_jointprob['mmb1_cmma0']\n",
      "0.16007247 dict_of_esp_jointprob['mmb1_cmma1']\n",
      "0.903849269919 dict_of_esp_jointprob['mmb0_cmma0']\n",
      "0.187415694678 dict_of_esp_jointprob['mmb0_cmma1']\n",
      "0.140223745075 dict_of_esp_jointprob['mmb1_cmma0']\n",
      "0.16182205 dict_of_esp_jointprob['mmb1_cmma1']\n",
      "0.90382186858 dict_of_esp_jointprob['mmb0_cmma0']\n",
      "0.189821053587 dict_of_esp_jointprob['mmb0_cmma1']\n",
      "0.142299743539 dict_of_esp_jointprob['mmb1_cmma0']\n",
      "0.16357163 dict_of_esp_jointprob['mmb1_cmma1']\n",
      "0.903794467241 dict_of_esp_jointprob['mmb0_cmma0']\n",
      "0.192204641553 dict_of_esp_jointprob['mmb0_cmma1']\n",
      "0.144394380764 dict_of_esp_jointprob['mmb1_cmma0']\n",
      "0.16532121 dict_of_esp_jointprob['mmb1_cmma1']\n",
      "0.903767065901 dict_of_esp_jointprob['mmb0_cmma0']\n",
      "0.194566458578 dict_of_esp_jointprob['mmb0_cmma1']\n",
      "0.146507656749 dict_of_esp_jointprob['mmb1_cmma0']\n",
      "0.16707079 dict_of_esp_jointprob['mmb1_cmma1']\n",
      "0.903739664562 dict_of_esp_jointprob['mmb0_cmma0']\n",
      "0.196906504661 dict_of_esp_jointprob['mmb0_cmma1']\n",
      "0.148639571495 dict_of_esp_jointprob['mmb1_cmma0']\n",
      "0.16882037 dict_of_esp_jointprob['mmb1_cmma1']\n",
      "0.903712263222 dict_of_esp_jointprob['mmb0_cmma0']\n",
      "0.199224779801 dict_of_esp_jointprob['mmb0_cmma1']\n",
      "0.150790125002 dict_of_esp_jointprob['mmb1_cmma0']\n",
      "0.17056995 dict_of_esp_jointprob['mmb1_cmma1']\n",
      "0.903684861883 dict_of_esp_jointprob['mmb0_cmma0']\n",
      "0.201521284 dict_of_esp_jointprob['mmb0_cmma1']\n",
      "0.152959317269 dict_of_esp_jointprob['mmb1_cmma0']\n",
      "0.17231953 dict_of_esp_jointprob['mmb1_cmma1']\n",
      "0.903657460543 dict_of_esp_jointprob['mmb0_cmma0']\n",
      "0.203796017257 dict_of_esp_jointprob['mmb0_cmma1']\n",
      "0.155147148298 dict_of_esp_jointprob['mmb1_cmma0']\n",
      "0.17406911 dict_of_esp_jointprob['mmb1_cmma1']\n",
      "0.903630059204 dict_of_esp_jointprob['mmb0_cmma0']\n",
      "0.206048979573 dict_of_esp_jointprob['mmb0_cmma1']\n",
      "0.157353618086 dict_of_esp_jointprob['mmb1_cmma0']\n",
      "0.17581869 dict_of_esp_jointprob['mmb1_cmma1']\n",
      "0.903602657865 dict_of_esp_jointprob['mmb0_cmma0']\n",
      "0.208280170946 dict_of_esp_jointprob['mmb0_cmma1']\n",
      "0.159578726636 dict_of_esp_jointprob['mmb1_cmma0']\n",
      "0.17756827 dict_of_esp_jointprob['mmb1_cmma1']\n",
      "0.903575256525 dict_of_esp_jointprob['mmb0_cmma0']\n",
      "0.210489591378 dict_of_esp_jointprob['mmb0_cmma1']\n",
      "0.161822473947 dict_of_esp_jointprob['mmb1_cmma0']\n",
      "0.17931785 dict_of_esp_jointprob['mmb1_cmma1']\n",
      "0.903547855186 dict_of_esp_jointprob['mmb0_cmma0']\n",
      "0.212677240867 dict_of_esp_jointprob['mmb0_cmma1']\n",
      "0.164084860018 dict_of_esp_jointprob['mmb1_cmma0']\n",
      "0.18106743 dict_of_esp_jointprob['mmb1_cmma1']\n",
      "0.903520453846 dict_of_esp_jointprob['mmb0_cmma0']\n",
      "0.214843119415 dict_of_esp_jointprob['mmb0_cmma1']\n",
      "0.16636588485 dict_of_esp_jointprob['mmb1_cmma0']\n",
      "0.18281701 dict_of_esp_jointprob['mmb1_cmma1']\n",
      "0.903493052507 dict_of_esp_jointprob['mmb0_cmma0']\n",
      "0.216987227021 dict_of_esp_jointprob['mmb0_cmma1']\n",
      "0.168665548442 dict_of_esp_jointprob['mmb1_cmma0']\n",
      "0.18456659 dict_of_esp_jointprob['mmb1_cmma1']\n",
      "0.903465651168 dict_of_esp_jointprob['mmb0_cmma0']\n",
      "0.219109563685 dict_of_esp_jointprob['mmb0_cmma1']\n",
      "0.170983850796 dict_of_esp_jointprob['mmb1_cmma0']\n",
      "0.18631617 dict_of_esp_jointprob['mmb1_cmma1']\n",
      "0.903438249828 dict_of_esp_jointprob['mmb0_cmma0']\n",
      "0.221210129407 dict_of_esp_jointprob['mmb0_cmma1']\n",
      "0.17332079191 dict_of_esp_jointprob['mmb1_cmma0']\n",
      "0.18806575 dict_of_esp_jointprob['mmb1_cmma1']\n",
      "0.903410848489 dict_of_esp_jointprob['mmb0_cmma0']\n",
      "0.223288924188 dict_of_esp_jointprob['mmb0_cmma1']\n",
      "0.175676371784 dict_of_esp_jointprob['mmb1_cmma0']\n",
      "0.18981533 dict_of_esp_jointprob['mmb1_cmma1']\n",
      "0.903383447149 dict_of_esp_jointprob['mmb0_cmma0']\n",
      "0.225345948026 dict_of_esp_jointprob['mmb0_cmma1']\n",
      "0.17805059042 dict_of_esp_jointprob['mmb1_cmma0']\n",
      "0.19156491 dict_of_esp_jointprob['mmb1_cmma1']\n",
      "0.90335604581 dict_of_esp_jointprob['mmb0_cmma0']\n",
      "0.227381200923 dict_of_esp_jointprob['mmb0_cmma1']\n",
      "0.180443447816 dict_of_esp_jointprob['mmb1_cmma0']\n",
      "0.19331449 dict_of_esp_jointprob['mmb1_cmma1']\n",
      "0.90332864447 dict_of_esp_jointprob['mmb0_cmma0']\n",
      "0.229394682878 dict_of_esp_jointprob['mmb0_cmma1']\n",
      "0.182854943973 dict_of_esp_jointprob['mmb1_cmma0']\n",
      "0.19506407 dict_of_esp_jointprob['mmb1_cmma1']\n",
      "0.903301243131 dict_of_esp_jointprob['mmb0_cmma0']\n",
      "0.231386393891 dict_of_esp_jointprob['mmb0_cmma1']\n",
      "0.185285078891 dict_of_esp_jointprob['mmb1_cmma0']\n",
      "0.19681365 dict_of_esp_jointprob['mmb1_cmma1']\n",
      "0.903273841792 dict_of_esp_jointprob['mmb0_cmma0']\n",
      "0.233356333962 dict_of_esp_jointprob['mmb0_cmma1']\n",
      "0.187733852569 dict_of_esp_jointprob['mmb1_cmma0']\n",
      "0.19856323 dict_of_esp_jointprob['mmb1_cmma1']\n",
      "0.903246440452 dict_of_esp_jointprob['mmb0_cmma0']\n",
      "0.235304503091 dict_of_esp_jointprob['mmb0_cmma1']\n",
      "0.190201265008 dict_of_esp_jointprob['mmb1_cmma0']\n",
      "0.20031281 dict_of_esp_jointprob['mmb1_cmma1']\n",
      "0.903219039113 dict_of_esp_jointprob['mmb0_cmma0']\n",
      "0.237230901278 dict_of_esp_jointprob['mmb0_cmma1']\n",
      "0.192687316208 dict_of_esp_jointprob['mmb1_cmma0']\n",
      "0.20206239 dict_of_esp_jointprob['mmb1_cmma1']\n",
      "0.903191637773 dict_of_esp_jointprob['mmb0_cmma0']\n",
      "0.239135528524 dict_of_esp_jointprob['mmb0_cmma1']\n",
      "0.195192006169 dict_of_esp_jointprob['mmb1_cmma0']\n",
      "0.20381197 dict_of_esp_jointprob['mmb1_cmma1']\n",
      "0.903164236434 dict_of_esp_jointprob['mmb0_cmma0']\n",
      "0.241018384827 dict_of_esp_jointprob['mmb0_cmma1']\n",
      "0.19771533489 dict_of_esp_jointprob['mmb1_cmma0']\n",
      "0.20556155 dict_of_esp_jointprob['mmb1_cmma1']\n",
      "0.903136835095 dict_of_esp_jointprob['mmb0_cmma0']\n",
      "0.242879470189 dict_of_esp_jointprob['mmb0_cmma1']\n",
      "0.200257302372 dict_of_esp_jointprob['mmb1_cmma0']\n",
      "0.20731113 dict_of_esp_jointprob['mmb1_cmma1']\n",
      "0.903109433755 dict_of_esp_jointprob['mmb0_cmma0']\n",
      "0.244718784609 dict_of_esp_jointprob['mmb0_cmma1']\n",
      "0.202817908615 dict_of_esp_jointprob['mmb1_cmma0']\n",
      "0.20906071 dict_of_esp_jointprob['mmb1_cmma1']\n",
      "0.903082032416 dict_of_esp_jointprob['mmb0_cmma0']\n",
      "0.246536328087 dict_of_esp_jointprob['mmb0_cmma1']\n",
      "0.205397153619 dict_of_esp_jointprob['mmb1_cmma0']\n",
      "0.21081029 dict_of_esp_jointprob['mmb1_cmma1']\n",
      "0.903054631076 dict_of_esp_jointprob['mmb0_cmma0']\n",
      "0.248332100623 dict_of_esp_jointprob['mmb0_cmma1']\n",
      "0.207995037383 dict_of_esp_jointprob['mmb1_cmma0']\n",
      "0.21255987 dict_of_esp_jointprob['mmb1_cmma1']\n",
      "0.903027229737 dict_of_esp_jointprob['mmb0_cmma0']\n",
      "0.250106102217 dict_of_esp_jointprob['mmb0_cmma1']\n",
      "0.210611559908 dict_of_esp_jointprob['mmb1_cmma0']\n",
      "0.21430945 dict_of_esp_jointprob['mmb1_cmma1']\n",
      "0.902999828397 dict_of_esp_jointprob['mmb0_cmma0']\n",
      "0.251858332869 dict_of_esp_jointprob['mmb0_cmma1']\n",
      "0.213246721194 dict_of_esp_jointprob['mmb1_cmma0']\n",
      "0.21605903 dict_of_esp_jointprob['mmb1_cmma1']\n",
      "0.902972427058 dict_of_esp_jointprob['mmb0_cmma0']\n",
      "0.25358879258 dict_of_esp_jointprob['mmb0_cmma1']\n",
      "0.21590052124 dict_of_esp_jointprob['mmb1_cmma0']\n",
      "0.21780861 dict_of_esp_jointprob['mmb1_cmma1']\n",
      "0.902945025719 dict_of_esp_jointprob['mmb0_cmma0']\n",
      "0.255297481349 dict_of_esp_jointprob['mmb0_cmma1']\n",
      "0.218572960047 dict_of_esp_jointprob['mmb1_cmma0']\n",
      "0.21955819 dict_of_esp_jointprob['mmb1_cmma1']\n",
      "0.902917624379 dict_of_esp_jointprob['mmb0_cmma0']\n",
      "0.256984399175 dict_of_esp_jointprob['mmb0_cmma1']\n",
      "0.221264037615 dict_of_esp_jointprob['mmb1_cmma0']\n",
      "0.22130777 dict_of_esp_jointprob['mmb1_cmma1']\n",
      "0.90289022304 dict_of_esp_jointprob['mmb0_cmma0']\n",
      "0.25864954606 dict_of_esp_jointprob['mmb0_cmma1']\n",
      "0.223973753944 dict_of_esp_jointprob['mmb1_cmma0']\n",
      "0.22305735 dict_of_esp_jointprob['mmb1_cmma1']\n",
      "0.9028628217 dict_of_esp_jointprob['mmb0_cmma0']\n",
      "0.260292922003 dict_of_esp_jointprob['mmb0_cmma1']\n",
      "0.226702109033 dict_of_esp_jointprob['mmb1_cmma0']\n",
      "0.22480693 dict_of_esp_jointprob['mmb1_cmma1']\n",
      "0.902835420361 dict_of_esp_jointprob['mmb0_cmma0']\n",
      "0.261914527005 dict_of_esp_jointprob['mmb0_cmma1']\n",
      "0.229449102883 dict_of_esp_jointprob['mmb1_cmma0']\n",
      "0.22655651 dict_of_esp_jointprob['mmb1_cmma1']\n",
      "0.902808019021 dict_of_esp_jointprob['mmb0_cmma0']\n",
      "0.263514361064 dict_of_esp_jointprob['mmb0_cmma1']\n",
      "0.232214735494 dict_of_esp_jointprob['mmb1_cmma0']\n",
      "0.22830609 dict_of_esp_jointprob['mmb1_cmma1']\n",
      "0.902780617682 dict_of_esp_jointprob['mmb0_cmma0']\n",
      "0.265092424182 dict_of_esp_jointprob['mmb0_cmma1']\n",
      "0.234999006865 dict_of_esp_jointprob['mmb1_cmma0']\n",
      "0.23005567 dict_of_esp_jointprob['mmb1_cmma1']\n",
      "0.902753216343 dict_of_esp_jointprob['mmb0_cmma0']\n",
      "0.266648716357 dict_of_esp_jointprob['mmb0_cmma1']\n",
      "0.237801916998 dict_of_esp_jointprob['mmb1_cmma0']\n",
      "0.23180525 dict_of_esp_jointprob['mmb1_cmma1']\n",
      "0.902725815003 dict_of_esp_jointprob['mmb0_cmma0']\n",
      "0.268183237591 dict_of_esp_jointprob['mmb0_cmma1']\n",
      "0.240623465891 dict_of_esp_jointprob['mmb1_cmma0']\n",
      "0.23355483 dict_of_esp_jointprob['mmb1_cmma1']\n",
      "0.902698413664 dict_of_esp_jointprob['mmb0_cmma0']\n",
      "0.269695987883 dict_of_esp_jointprob['mmb0_cmma1']\n",
      "0.243463653544 dict_of_esp_jointprob['mmb1_cmma0']\n",
      "0.23530441 dict_of_esp_jointprob['mmb1_cmma1']\n",
      "0.902671012324 dict_of_esp_jointprob['mmb0_cmma0']\n",
      "0.271186967233 dict_of_esp_jointprob['mmb0_cmma1']\n",
      "0.246322479959 dict_of_esp_jointprob['mmb1_cmma0']\n",
      "0.23705399 dict_of_esp_jointprob['mmb1_cmma1']\n",
      "0.902643610985 dict_of_esp_jointprob['mmb0_cmma0']\n",
      "0.272656175641 dict_of_esp_jointprob['mmb0_cmma1']\n",
      "0.249199945134 dict_of_esp_jointprob['mmb1_cmma0']\n",
      "0.23880357 dict_of_esp_jointprob['mmb1_cmma1']\n",
      "0.902616209646 dict_of_esp_jointprob['mmb0_cmma0']\n",
      "0.274103613107 dict_of_esp_jointprob['mmb0_cmma1']\n",
      "0.25209604907 dict_of_esp_jointprob['mmb1_cmma0']\n",
      "0.24055315 dict_of_esp_jointprob['mmb1_cmma1']\n",
      "0.902588808306 dict_of_esp_jointprob['mmb0_cmma0']\n",
      "0.275529279632 dict_of_esp_jointprob['mmb0_cmma1']\n",
      "0.255010791767 dict_of_esp_jointprob['mmb1_cmma0']\n",
      "0.24230273 dict_of_esp_jointprob['mmb1_cmma1']\n",
      "0.902561406967 dict_of_esp_jointprob['mmb0_cmma0']\n",
      "0.276933175214 dict_of_esp_jointprob['mmb0_cmma1']\n",
      "0.257944173224 dict_of_esp_jointprob['mmb1_cmma0']\n",
      "0.24405231 dict_of_esp_jointprob['mmb1_cmma1']\n",
      "0.902534005627 dict_of_esp_jointprob['mmb0_cmma0']\n",
      "0.278315299855 dict_of_esp_jointprob['mmb0_cmma1']\n",
      "0.260896193442 dict_of_esp_jointprob['mmb1_cmma0']\n",
      "0.24580189 dict_of_esp_jointprob['mmb1_cmma1']\n",
      "0.902506604288 dict_of_esp_jointprob['mmb0_cmma0']\n",
      "0.279675653554 dict_of_esp_jointprob['mmb0_cmma1']\n",
      "0.263866852421 dict_of_esp_jointprob['mmb1_cmma0']\n",
      "0.24755147 dict_of_esp_jointprob['mmb1_cmma1']\n",
      "0.902479202948 dict_of_esp_jointprob['mmb0_cmma0']\n",
      "0.281014236311 dict_of_esp_jointprob['mmb0_cmma1']\n",
      "0.26685615016 dict_of_esp_jointprob['mmb1_cmma0']\n",
      "0.24930105 dict_of_esp_jointprob['mmb1_cmma1']\n",
      "0.902451801609 dict_of_esp_jointprob['mmb0_cmma0']\n",
      "0.282331048126 dict_of_esp_jointprob['mmb0_cmma1']\n",
      "0.269864086661 dict_of_esp_jointprob['mmb1_cmma0']\n",
      "0.25105063 dict_of_esp_jointprob['mmb1_cmma1']\n",
      "0.90242440027 dict_of_esp_jointprob['mmb0_cmma0']\n",
      "0.283626088999 dict_of_esp_jointprob['mmb0_cmma1']\n",
      "0.272890661922 dict_of_esp_jointprob['mmb1_cmma0']\n",
      "0.25280021 dict_of_esp_jointprob['mmb1_cmma1']\n",
      "0.90239699893 dict_of_esp_jointprob['mmb0_cmma0']\n",
      "0.284899358931 dict_of_esp_jointprob['mmb0_cmma1']\n",
      "0.275935875943 dict_of_esp_jointprob['mmb1_cmma0']\n",
      "0.25454979 dict_of_esp_jointprob['mmb1_cmma1']\n",
      "0.902369597591 dict_of_esp_jointprob['mmb0_cmma0']\n",
      "0.28615085792 dict_of_esp_jointprob['mmb0_cmma1']\n",
      "0.278999728726 dict_of_esp_jointprob['mmb1_cmma0']\n",
      "0.25629937 dict_of_esp_jointprob['mmb1_cmma1']\n",
      "0.902342196251 dict_of_esp_jointprob['mmb0_cmma0']\n",
      "0.287380585968 dict_of_esp_jointprob['mmb0_cmma1']\n",
      "0.282082220269 dict_of_esp_jointprob['mmb1_cmma0']\n",
      "0.25804895 dict_of_esp_jointprob['mmb1_cmma1']\n",
      "0.902314794912 dict_of_esp_jointprob['mmb0_cmma0']\n",
      "0.288588543074 dict_of_esp_jointprob['mmb0_cmma1']\n",
      "0.285183350573 dict_of_esp_jointprob['mmb1_cmma0']\n",
      "0.25979853 dict_of_esp_jointprob['mmb1_cmma1']\n",
      "0.902287393572 dict_of_esp_jointprob['mmb0_cmma0']\n",
      "0.289774729237 dict_of_esp_jointprob['mmb0_cmma1']\n",
      "0.288303119637 dict_of_esp_jointprob['mmb1_cmma0']\n",
      "0.26154811 dict_of_esp_jointprob['mmb1_cmma1']\n",
      "0.902259992233 dict_of_esp_jointprob['mmb0_cmma0']\n",
      "0.29093914446 dict_of_esp_jointprob['mmb0_cmma1']\n",
      "0.291441527463 dict_of_esp_jointprob['mmb1_cmma0']\n",
      "0.26329769 dict_of_esp_jointprob['mmb1_cmma1']\n",
      "0.902232590894 dict_of_esp_jointprob['mmb0_cmma0']\n",
      "0.29208178874 dict_of_esp_jointprob['mmb0_cmma1']\n",
      "0.294598574049 dict_of_esp_jointprob['mmb1_cmma0']\n",
      "0.26504727 dict_of_esp_jointprob['mmb1_cmma1']\n",
      "0.902205189554 dict_of_esp_jointprob['mmb0_cmma0']\n",
      "0.293202662078 dict_of_esp_jointprob['mmb0_cmma1']\n",
      "0.297774259396 dict_of_esp_jointprob['mmb1_cmma0']\n",
      "0.26679685 dict_of_esp_jointprob['mmb1_cmma1']\n",
      "0.902177788215 dict_of_esp_jointprob['mmb0_cmma0']\n",
      "0.294301764475 dict_of_esp_jointprob['mmb0_cmma1']\n",
      "0.300968583503 dict_of_esp_jointprob['mmb1_cmma0']\n",
      "0.26854643 dict_of_esp_jointprob['mmb1_cmma1']\n",
      "0.902150386875 dict_of_esp_jointprob['mmb0_cmma0']\n",
      "0.295379095929 dict_of_esp_jointprob['mmb0_cmma1']\n",
      "0.304181546372 dict_of_esp_jointprob['mmb1_cmma0']\n",
      "0.27029601 dict_of_esp_jointprob['mmb1_cmma1']\n",
      "0.902122985536 dict_of_esp_jointprob['mmb0_cmma0']\n",
      "0.296434656442 dict_of_esp_jointprob['mmb0_cmma1']\n",
      "0.307413148001 dict_of_esp_jointprob['mmb1_cmma0']\n",
      "0.27204559 dict_of_esp_jointprob['mmb1_cmma1']\n",
      "0.902095584197 dict_of_esp_jointprob['mmb0_cmma0']\n",
      "0.297468446013 dict_of_esp_jointprob['mmb0_cmma1']\n",
      "0.31066338839 dict_of_esp_jointprob['mmb1_cmma0']\n",
      "0.27379517 dict_of_esp_jointprob['mmb1_cmma1']\n",
      "0.902068182857 dict_of_esp_jointprob['mmb0_cmma0']\n",
      "0.298480464642 dict_of_esp_jointprob['mmb0_cmma1']\n",
      "0.313932267541 dict_of_esp_jointprob['mmb1_cmma0']\n",
      "0.27554475 dict_of_esp_jointprob['mmb1_cmma1']\n",
      "0.902040781518 dict_of_esp_jointprob['mmb0_cmma0']\n",
      "0.299470712329 dict_of_esp_jointprob['mmb0_cmma1']\n",
      "0.317219785452 dict_of_esp_jointprob['mmb1_cmma0']\n",
      "0.27729433 dict_of_esp_jointprob['mmb1_cmma1']\n",
      "0.902013380178 dict_of_esp_jointprob['mmb0_cmma0']\n",
      "0.300439189074 dict_of_esp_jointprob['mmb0_cmma1']\n",
      "0.320525942124 dict_of_esp_jointprob['mmb1_cmma0']\n",
      "0.27904391 dict_of_esp_jointprob['mmb1_cmma1']\n",
      "0.901985978839 dict_of_esp_jointprob['mmb0_cmma0']\n",
      "0.301385894878 dict_of_esp_jointprob['mmb0_cmma1']\n",
      "0.323850737557 dict_of_esp_jointprob['mmb1_cmma0']\n",
      "0.28079349 dict_of_esp_jointprob['mmb1_cmma1']\n",
      "0.901958577499 dict_of_esp_jointprob['mmb0_cmma0']\n",
      "0.302310829739 dict_of_esp_jointprob['mmb0_cmma1']\n",
      "0.32719417175 dict_of_esp_jointprob['mmb1_cmma0']\n",
      "0.28254307 dict_of_esp_jointprob['mmb1_cmma1']\n",
      "0.90193117616 dict_of_esp_jointprob['mmb0_cmma0']\n",
      "0.303213993659 dict_of_esp_jointprob['mmb0_cmma1']\n",
      "0.330556244704 dict_of_esp_jointprob['mmb1_cmma0']\n",
      "0.28429265 dict_of_esp_jointprob['mmb1_cmma1']\n",
      "0.901903774821 dict_of_esp_jointprob['mmb0_cmma0']\n",
      "0.304095386637 dict_of_esp_jointprob['mmb0_cmma1']\n",
      "0.333936956419 dict_of_esp_jointprob['mmb1_cmma0']\n",
      "0.28604223 dict_of_esp_jointprob['mmb1_cmma1']\n",
      "0.901876373481 dict_of_esp_jointprob['mmb0_cmma0']\n",
      "0.304955008673 dict_of_esp_jointprob['mmb0_cmma1']\n",
      "0.337336306894 dict_of_esp_jointprob['mmb1_cmma0']\n",
      "0.28779181 dict_of_esp_jointprob['mmb1_cmma1']\n",
      "0.901848972142 dict_of_esp_jointprob['mmb0_cmma0']\n",
      "0.305792859767 dict_of_esp_jointprob['mmb0_cmma1']\n",
      "0.340754296131 dict_of_esp_jointprob['mmb1_cmma0']\n",
      "0.28954139 dict_of_esp_jointprob['mmb1_cmma1']\n",
      "0.901821570802 dict_of_esp_jointprob['mmb0_cmma0']\n",
      "0.306608939919 dict_of_esp_jointprob['mmb0_cmma1']\n",
      "0.344190924128 dict_of_esp_jointprob['mmb1_cmma0']\n",
      "0.29129097 dict_of_esp_jointprob['mmb1_cmma1']\n",
      "0.901794169463 dict_of_esp_jointprob['mmb0_cmma0']\n",
      "0.30740324913 dict_of_esp_jointprob['mmb0_cmma1']\n",
      "0.347646190885 dict_of_esp_jointprob['mmb1_cmma0']\n",
      "0.29304055 dict_of_esp_jointprob['mmb1_cmma1']\n",
      "0.901766768124 dict_of_esp_jointprob['mmb0_cmma0']\n",
      "0.308175787398 dict_of_esp_jointprob['mmb0_cmma1']\n",
      "0.351120096404 dict_of_esp_jointprob['mmb1_cmma0']\n",
      "0.29479013 dict_of_esp_jointprob['mmb1_cmma1']\n",
      "0.901739366784 dict_of_esp_jointprob['mmb0_cmma0']\n",
      "0.308926554725 dict_of_esp_jointprob['mmb0_cmma1']\n",
      "0.354612640683 dict_of_esp_jointprob['mmb1_cmma0']\n",
      "0.29653971 dict_of_esp_jointprob['mmb1_cmma1']\n",
      "0.901711965445 dict_of_esp_jointprob['mmb0_cmma0']\n",
      "0.309655551109 dict_of_esp_jointprob['mmb0_cmma1']\n",
      "0.358123823723 dict_of_esp_jointprob['mmb1_cmma0']\n",
      "0.29828929 dict_of_esp_jointprob['mmb1_cmma1']\n",
      "0.901684564105 dict_of_esp_jointprob['mmb0_cmma0']\n",
      "0.310362776552 dict_of_esp_jointprob['mmb0_cmma1']\n",
      "0.361653645524 dict_of_esp_jointprob['mmb1_cmma0']\n",
      "0.30003887 dict_of_esp_jointprob['mmb1_cmma1']\n",
      "0.901657162766 dict_of_esp_jointprob['mmb0_cmma0']\n",
      "0.311048231053 dict_of_esp_jointprob['mmb0_cmma1']\n",
      "0.365202106085 dict_of_esp_jointprob['mmb1_cmma0']\n",
      "0.30178845 dict_of_esp_jointprob['mmb1_cmma1']\n",
      "0.901629761426 dict_of_esp_jointprob['mmb0_cmma0']\n",
      "0.311711914613 dict_of_esp_jointprob['mmb0_cmma1']\n",
      "0.368769205407 dict_of_esp_jointprob['mmb1_cmma0']\n",
      "0.30353803 dict_of_esp_jointprob['mmb1_cmma1']\n",
      "0.901602360087 dict_of_esp_jointprob['mmb0_cmma0']\n",
      "0.31235382723 dict_of_esp_jointprob['mmb0_cmma1']\n",
      "0.37235494349 dict_of_esp_jointprob['mmb1_cmma0']\n",
      "0.30528761 dict_of_esp_jointprob['mmb1_cmma1']\n",
      "0.901574958748 dict_of_esp_jointprob['mmb0_cmma0']\n",
      "0.312973968905 dict_of_esp_jointprob['mmb0_cmma1']\n",
      "0.375959320334 dict_of_esp_jointprob['mmb1_cmma0']\n",
      "0.30703719 dict_of_esp_jointprob['mmb1_cmma1']\n",
      "0.901547557408 dict_of_esp_jointprob['mmb0_cmma0']\n",
      "0.313572339639 dict_of_esp_jointprob['mmb0_cmma1']\n",
      "0.379582335938 dict_of_esp_jointprob['mmb1_cmma0']\n",
      "0.30878677 dict_of_esp_jointprob['mmb1_cmma1']\n",
      "0.901520156069 dict_of_esp_jointprob['mmb0_cmma0']\n",
      "0.314148939431 dict_of_esp_jointprob['mmb0_cmma1']\n",
      "0.383223990303 dict_of_esp_jointprob['mmb1_cmma0']\n",
      "0.31053635 dict_of_esp_jointprob['mmb1_cmma1']\n",
      "0.901492754729 dict_of_esp_jointprob['mmb0_cmma0']\n",
      "0.314703768281 dict_of_esp_jointprob['mmb0_cmma1']\n",
      "0.386884283429 dict_of_esp_jointprob['mmb1_cmma0']\n",
      "0.31228593 dict_of_esp_jointprob['mmb1_cmma1']\n",
      "0.90146535339 dict_of_esp_jointprob['mmb0_cmma0']\n",
      "0.315236826189 dict_of_esp_jointprob['mmb0_cmma1']\n",
      "0.390563215315 dict_of_esp_jointprob['mmb1_cmma0']\n",
      "0.31403551 dict_of_esp_jointprob['mmb1_cmma1']\n",
      "0.90143795205 dict_of_esp_jointprob['mmb0_cmma0']\n",
      "0.315748113155 dict_of_esp_jointprob['mmb0_cmma1']\n",
      "0.394260785962 dict_of_esp_jointprob['mmb1_cmma0']\n",
      "0.31578509 dict_of_esp_jointprob['mmb1_cmma1']\n",
      "0.901410550711 dict_of_esp_jointprob['mmb0_cmma0']\n",
      "0.316237629179 dict_of_esp_jointprob['mmb0_cmma1']\n",
      "0.39797699537 dict_of_esp_jointprob['mmb1_cmma0']\n",
      "0.31753467 dict_of_esp_jointprob['mmb1_cmma1']\n",
      "0.901383149372 dict_of_esp_jointprob['mmb0_cmma0']\n",
      "0.316705374262 dict_of_esp_jointprob['mmb0_cmma1']\n",
      "0.401711843539 dict_of_esp_jointprob['mmb1_cmma0']\n",
      "0.31928425 dict_of_esp_jointprob['mmb1_cmma1']\n",
      "0.901355748032 dict_of_esp_jointprob['mmb0_cmma0']\n",
      "0.317151348402 dict_of_esp_jointprob['mmb0_cmma1']\n",
      "0.405465330468 dict_of_esp_jointprob['mmb1_cmma0']\n",
      "0.32103383 dict_of_esp_jointprob['mmb1_cmma1']\n",
      "0.901328346693 dict_of_esp_jointprob['mmb0_cmma0']\n",
      "0.317575551601 dict_of_esp_jointprob['mmb0_cmma1']\n",
      "0.409237456158 dict_of_esp_jointprob['mmb1_cmma0']\n",
      "0.32278341 dict_of_esp_jointprob['mmb1_cmma1']\n",
      "0.901300945353 dict_of_esp_jointprob['mmb0_cmma0']\n",
      "0.317977983858 dict_of_esp_jointprob['mmb0_cmma1']\n",
      "0.413028220609 dict_of_esp_jointprob['mmb1_cmma0']\n",
      "0.32453299 dict_of_esp_jointprob['mmb1_cmma1']\n",
      "0.901273544014 dict_of_esp_jointprob['mmb0_cmma0']\n",
      "0.318358645173 dict_of_esp_jointprob['mmb0_cmma1']\n",
      "0.416837623821 dict_of_esp_jointprob['mmb1_cmma0']\n",
      "0.32628257 dict_of_esp_jointprob['mmb1_cmma1']\n",
      "0.901246142675 dict_of_esp_jointprob['mmb0_cmma0']\n",
      "0.318717535546 dict_of_esp_jointprob['mmb0_cmma1']\n",
      "0.420665665793 dict_of_esp_jointprob['mmb1_cmma0']\n",
      "0.32803215 dict_of_esp_jointprob['mmb1_cmma1']\n",
      "0.901218741335 dict_of_esp_jointprob['mmb0_cmma0']\n",
      "0.319054654977 dict_of_esp_jointprob['mmb0_cmma1']\n",
      "0.424512346526 dict_of_esp_jointprob['mmb1_cmma0']\n",
      "0.32978173 dict_of_esp_jointprob['mmb1_cmma1']\n",
      "0.901191339996 dict_of_esp_jointprob['mmb0_cmma0']\n",
      "0.319370003466 dict_of_esp_jointprob['mmb0_cmma1']\n",
      "0.42837766602 dict_of_esp_jointprob['mmb1_cmma0']\n",
      "0.33153131 dict_of_esp_jointprob['mmb1_cmma1']\n",
      "0.901163938656 dict_of_esp_jointprob['mmb0_cmma0']\n",
      "0.319663581014 dict_of_esp_jointprob['mmb0_cmma1']\n",
      "0.432261624274 dict_of_esp_jointprob['mmb1_cmma0']\n",
      "0.33328089 dict_of_esp_jointprob['mmb1_cmma1']\n",
      "0.901136537317 dict_of_esp_jointprob['mmb0_cmma0']\n",
      "0.319935387619 dict_of_esp_jointprob['mmb0_cmma1']\n",
      "0.43616422129 dict_of_esp_jointprob['mmb1_cmma0']\n",
      "0.33503047 dict_of_esp_jointprob['mmb1_cmma1']\n",
      "0.901109135977 dict_of_esp_jointprob['mmb0_cmma0']\n",
      "0.320185423283 dict_of_esp_jointprob['mmb0_cmma1']\n",
      "0.440085457066 dict_of_esp_jointprob['mmb1_cmma0']\n",
      "0.33678005 dict_of_esp_jointprob['mmb1_cmma1']\n",
      "0.901081734638 dict_of_esp_jointprob['mmb0_cmma0']\n",
      "0.320413688005 dict_of_esp_jointprob['mmb0_cmma1']\n",
      "0.444025331602 dict_of_esp_jointprob['mmb1_cmma0']\n",
      "0.33852963 dict_of_esp_jointprob['mmb1_cmma1']\n",
      "0.901054333299 dict_of_esp_jointprob['mmb0_cmma0']\n",
      "0.320620181785 dict_of_esp_jointprob['mmb0_cmma1']\n",
      "0.4479838449 dict_of_esp_jointprob['mmb1_cmma0']\n",
      "0.34027921 dict_of_esp_jointprob['mmb1_cmma1']\n",
      "0.901026931959 dict_of_esp_jointprob['mmb0_cmma0']\n",
      "0.320804904623 dict_of_esp_jointprob['mmb0_cmma1']\n",
      "0.451960996958 dict_of_esp_jointprob['mmb1_cmma0']\n",
      "0.34202879 dict_of_esp_jointprob['mmb1_cmma1']\n",
      "0.90099953062 dict_of_esp_jointprob['mmb0_cmma0']\n",
      "0.32096785652 dict_of_esp_jointprob['mmb0_cmma1']\n",
      "0.455956787777 dict_of_esp_jointprob['mmb1_cmma0']\n",
      "0.34377837 dict_of_esp_jointprob['mmb1_cmma1']\n",
      "0.90097212928 dict_of_esp_jointprob['mmb0_cmma0']\n",
      "0.321109037474 dict_of_esp_jointprob['mmb0_cmma1']\n",
      "0.459971217356 dict_of_esp_jointprob['mmb1_cmma0']\n",
      "0.34552795 dict_of_esp_jointprob['mmb1_cmma1']\n",
      "0.900944727941 dict_of_esp_jointprob['mmb0_cmma0']\n",
      "0.321228447487 dict_of_esp_jointprob['mmb0_cmma1']\n",
      "0.464004285696 dict_of_esp_jointprob['mmb1_cmma0']\n",
      "0.34727753 dict_of_esp_jointprob['mmb1_cmma1']\n",
      "0.900917326601 dict_of_esp_jointprob['mmb0_cmma0']\n",
      "0.321326086557 dict_of_esp_jointprob['mmb0_cmma1']\n",
      "0.468055992797 dict_of_esp_jointprob['mmb1_cmma0']\n",
      "0.34902711 dict_of_esp_jointprob['mmb1_cmma1']\n",
      "0.900889925262 dict_of_esp_jointprob['mmb0_cmma0']\n",
      "0.321401954686 dict_of_esp_jointprob['mmb0_cmma1']\n",
      "0.472126338659 dict_of_esp_jointprob['mmb1_cmma0']\n",
      "0.35077669 dict_of_esp_jointprob['mmb1_cmma1']\n",
      "0.900862523923 dict_of_esp_jointprob['mmb0_cmma0']\n",
      "0.321456051873 dict_of_esp_jointprob['mmb0_cmma1']\n",
      "0.476215323282 dict_of_esp_jointprob['mmb1_cmma0']\n",
      "0.35252627 dict_of_esp_jointprob['mmb1_cmma1']\n",
      "0.900835122583 dict_of_esp_jointprob['mmb0_cmma0']\n",
      "0.321488378119 dict_of_esp_jointprob['mmb0_cmma1']\n",
      "0.480322946665 dict_of_esp_jointprob['mmb1_cmma0']\n",
      "0.35427585 dict_of_esp_jointprob['mmb1_cmma1']\n",
      "0.900807721244 dict_of_esp_jointprob['mmb0_cmma0']\n",
      "0.321498933422 dict_of_esp_jointprob['mmb0_cmma1']\n",
      "0.484449208809 dict_of_esp_jointprob['mmb1_cmma0']\n",
      "0.35602543 dict_of_esp_jointprob['mmb1_cmma1']\n",
      "0.900780319904 dict_of_esp_jointprob['mmb0_cmma0']\n",
      "0.321487717783 dict_of_esp_jointprob['mmb0_cmma1']\n",
      "0.488594109714 dict_of_esp_jointprob['mmb1_cmma0']\n",
      "0.35777501 dict_of_esp_jointprob['mmb1_cmma1']\n",
      "0.900752918565 dict_of_esp_jointprob['mmb0_cmma0']\n",
      "0.321454731203 dict_of_esp_jointprob['mmb0_cmma1']\n",
      "0.492757649379 dict_of_esp_jointprob['mmb1_cmma0']\n",
      "0.35952459 dict_of_esp_jointprob['mmb1_cmma1']\n",
      "0.900725517226 dict_of_esp_jointprob['mmb0_cmma0']\n",
      "0.32139997368 dict_of_esp_jointprob['mmb0_cmma1']\n",
      "0.496939827805 dict_of_esp_jointprob['mmb1_cmma0']\n",
      "0.36127417 dict_of_esp_jointprob['mmb1_cmma1']\n",
      "0.900698115886 dict_of_esp_jointprob['mmb0_cmma0']\n",
      "0.321323445216 dict_of_esp_jointprob['mmb0_cmma1']\n",
      "0.501140644992 dict_of_esp_jointprob['mmb1_cmma0']\n",
      "0.36302375 dict_of_esp_jointprob['mmb1_cmma1']\n",
      "0.900670714547 dict_of_esp_jointprob['mmb0_cmma0']\n",
      "0.32122514581 dict_of_esp_jointprob['mmb0_cmma1']\n",
      "0.50536010094 dict_of_esp_jointprob['mmb1_cmma0']\n",
      "0.36477333 dict_of_esp_jointprob['mmb1_cmma1']\n",
      "0.900643313207 dict_of_esp_jointprob['mmb0_cmma0']\n",
      "0.321105075462 dict_of_esp_jointprob['mmb0_cmma1']\n",
      "0.509598195648 dict_of_esp_jointprob['mmb1_cmma0']\n",
      "0.36652291 dict_of_esp_jointprob['mmb1_cmma1']\n",
      "0.900615911868 dict_of_esp_jointprob['mmb0_cmma0']\n",
      "0.320963234173 dict_of_esp_jointprob['mmb0_cmma1']\n",
      "0.513854929117 dict_of_esp_jointprob['mmb1_cmma0']\n",
      "0.36827249 dict_of_esp_jointprob['mmb1_cmma1']\n",
      "0.900588510528 dict_of_esp_jointprob['mmb0_cmma0']\n",
      "0.320799621941 dict_of_esp_jointprob['mmb0_cmma1']\n",
      "0.518130301347 dict_of_esp_jointprob['mmb1_cmma0']\n",
      "0.37002207 dict_of_esp_jointprob['mmb1_cmma1']\n",
      "0.900561109189 dict_of_esp_jointprob['mmb0_cmma0']\n",
      "0.320614238767 dict_of_esp_jointprob['mmb0_cmma1']\n",
      "0.522424312337 dict_of_esp_jointprob['mmb1_cmma0']\n",
      "0.37177165 dict_of_esp_jointprob['mmb1_cmma1']\n",
      "0.90053370785 dict_of_esp_jointprob['mmb0_cmma0']\n",
      "0.320407084652 dict_of_esp_jointprob['mmb0_cmma1']\n",
      "0.526736962088 dict_of_esp_jointprob['mmb1_cmma0']\n",
      "0.37352123 dict_of_esp_jointprob['mmb1_cmma1']\n",
      "0.90050630651 dict_of_esp_jointprob['mmb0_cmma0']\n",
      "0.320178159595 dict_of_esp_jointprob['mmb0_cmma1']\n",
      "0.5310682506 dict_of_esp_jointprob['mmb1_cmma0']\n",
      "0.37527081 dict_of_esp_jointprob['mmb1_cmma1']\n",
      "0.900478905171 dict_of_esp_jointprob['mmb0_cmma0']\n",
      "0.319927463596 dict_of_esp_jointprob['mmb0_cmma1']\n",
      "0.535418177873 dict_of_esp_jointprob['mmb1_cmma0']\n",
      "0.37702039 dict_of_esp_jointprob['mmb1_cmma1']\n",
      "0.900451503831 dict_of_esp_jointprob['mmb0_cmma0']\n",
      "0.319654996655 dict_of_esp_jointprob['mmb0_cmma1']\n",
      "0.539786743906 dict_of_esp_jointprob['mmb1_cmma0']\n",
      "0.37876997 dict_of_esp_jointprob['mmb1_cmma1']\n",
      "0.900424102492 dict_of_esp_jointprob['mmb0_cmma0']\n",
      "0.319360758772 dict_of_esp_jointprob['mmb0_cmma1']\n",
      "0.544173948701 dict_of_esp_jointprob['mmb1_cmma0']\n",
      "0.38051955 dict_of_esp_jointprob['mmb1_cmma1']\n",
      "0.900396701153 dict_of_esp_jointprob['mmb0_cmma0']\n",
      "0.319044749947 dict_of_esp_jointprob['mmb0_cmma1']\n",
      "0.548579792256 dict_of_esp_jointprob['mmb1_cmma0']\n",
      "0.38226913 dict_of_esp_jointprob['mmb1_cmma1']\n",
      "0.900369299813 dict_of_esp_jointprob['mmb0_cmma0']\n",
      "0.318706970181 dict_of_esp_jointprob['mmb0_cmma1']\n",
      "0.553004274571 dict_of_esp_jointprob['mmb1_cmma0']\n",
      "0.38401871 dict_of_esp_jointprob['mmb1_cmma1']\n",
      "0.900341898474 dict_of_esp_jointprob['mmb0_cmma0']\n",
      "0.318347419472 dict_of_esp_jointprob['mmb0_cmma1']\n",
      "0.557447395647 dict_of_esp_jointprob['mmb1_cmma0']\n",
      "0.38576829 dict_of_esp_jointprob['mmb1_cmma1']\n",
      "0.900314497134 dict_of_esp_jointprob['mmb0_cmma0']\n",
      "0.317966097822 dict_of_esp_jointprob['mmb0_cmma1']\n",
      "0.561909155484 dict_of_esp_jointprob['mmb1_cmma0']\n",
      "0.38751787 dict_of_esp_jointprob['mmb1_cmma1']\n",
      "0.900287095795 dict_of_esp_jointprob['mmb0_cmma0']\n",
      "0.31756300523 dict_of_esp_jointprob['mmb0_cmma1']\n",
      "0.566389554082 dict_of_esp_jointprob['mmb1_cmma0']\n",
      "0.38926745 dict_of_esp_jointprob['mmb1_cmma1']\n",
      "0.900259694455 dict_of_esp_jointprob['mmb0_cmma0']\n",
      "0.317138141696 dict_of_esp_jointprob['mmb0_cmma1']\n",
      "0.570888591441 dict_of_esp_jointprob['mmb1_cmma0']\n",
      "0.39101703 dict_of_esp_jointprob['mmb1_cmma1']\n"
     ]
    }
   ],
   "source": [
    "cmma = []\n",
    "mmb = []\n",
    "for i in range(200):\n",
    "    dict_of_esp_jointprob = ESP_Joint_Product_Probabilities(i) \n",
    "    print(dict_of_esp_jointprob['mmb0_cmma0'],\"dict_of_esp_jointprob['mmb0_cmma0']\")\n",
    "    print(dict_of_esp_jointprob['mmb0_cmma1'],\"dict_of_esp_jointprob['mmb0_cmma1']\")\n",
    "    print(dict_of_esp_jointprob['mmb1_cmma0'],\"dict_of_esp_jointprob['mmb1_cmma0']\")\n",
    "    print(dict_of_esp_jointprob['mmb1_cmma1'],\"dict_of_esp_jointprob['mmb1_cmma1']\")\n",
    "    \n",
    "    factor_mmb_cmma = Factor(variables=['money_market_bonus', 'collateral_mma'],\n",
    "                            cardinality=[2, 2],\n",
    "                            values=[dict_of_esp_jointprob['mmb0_cmma0'], dict_of_esp_jointprob['mmb0_cmma1'],\n",
    "                                dict_of_esp_jointprob['mmb1_cmma0'], dict_of_esp_jointprob['mmb1_cmma1']])\n",
    "    belief_propagation = BeliefPropagation(model)\n",
    "    belief_nopriors = belief_propagation.query(variables=['money_market_bonus','collateral_mma'])\n",
    "    cmma.append(belief_nopriors['collateral_mma'].values[1])\n",
    "    mmb.append(belief_nopriors['money_market_bonus'].values[1])"
   ]
  },
  {
   "cell_type": "code",
   "execution_count": 229,
   "metadata": {
    "collapsed": false
   },
   "outputs": [
    {
     "data": {
      "text/plain": [
       "[<matplotlib.lines.Line2D at 0x11cb0d2b0>]"
      ]
     },
     "execution_count": 229,
     "metadata": {},
     "output_type": "execute_result"
    },
    {
     "data": {
      "image/png": "[encoded data removed]",
      "text/plain": [
       "<matplotlib.figure.Figure at 0x11cb0dc50>"
      ]
     },
     "metadata": {},
     "output_type": "display_data"
    }
   ],
   "source": [
    "plt.plot([_ for _ in range(len(cmma))],cmma)\n",
    "plt.plot([_ for _ in range(len(mmb))],mmb)"
   ]
  },
  {
   "cell_type": "code",
   "execution_count": 218,
   "metadata": {
    "collapsed": false
   },
   "outputs": [
    {
     "name": "stdout",
     "output_type": "stream",
     "text": [
      "╒══════════════════════╤══════════════════╤══════════════════════════════════════════╕\n",
      "│ money_market_bonus   │ collateral_mma   │   phi(money_market_bonus,collateral_mma) │\n",
      "╞══════════════════════╪══════════════════╪══════════════════════════════════════════╡\n",
      "│ money_market_bonus_0 │ collateral_mma_0 │                                   0.9049 │\n",
      "├──────────────────────┼──────────────────┼──────────────────────────────────────────┤\n",
      "│ money_market_bonus_0 │ collateral_mma_1 │                                   0.0799 │\n",
      "├──────────────────────┼──────────────────┼──────────────────────────────────────────┤\n",
      "│ money_market_bonus_1 │ collateral_mma_0 │                                   0.0751 │\n",
      "├──────────────────────┼──────────────────┼──────────────────────────────────────────┤\n",
      "│ money_market_bonus_1 │ collateral_mma_1 │                                   0.0953 │\n",
      "╘══════════════════════╧══════════════════╧══════════════════════════════════════════╛\n"
     ]
    }
   ],
   "source": [
    "print(factor_mmb_cmma)"
   ]
  },
  {
   "cell_type": "code",
   "execution_count": 208,
   "metadata": {
    "collapsed": true
   },
   "outputs": [],
   "source": []
  },
  {
   "cell_type": "code",
   "execution_count": 220,
   "metadata": {
    "collapsed": false
   },
   "outputs": [
    {
     "name": "stdout",
     "output_type": "stream",
     "text": [
      "0.151670177466\n"
     ]
    }
   ],
   "source": [
    "print(belief_nopriors['collateral_mma'].values[1])"
   ]
  },
  {
   "cell_type": "code",
   "execution_count": 216,
   "metadata": {
    "collapsed": false
   },
   "outputs": [
    {
     "name": "stdout",
     "output_type": "stream",
     "text": [
      "╒══════════════════════╤═══════════════════════════╕\n",
      "│ money_market_bonus   │   phi(money_market_bonus) │\n",
      "╞══════════════════════╪═══════════════════════════╡\n",
      "│ money_market_bonus_0 │                    0.8524 │\n",
      "├──────────────────────┼───────────────────────────┤\n",
      "│ money_market_bonus_1 │                    0.1476 │\n",
      "╘══════════════════════╧═══════════════════════════╛\n"
     ]
    }
   ],
   "source": [
    "print(belief_nopriors['money_market_bonus'])"
   ]
  },
  {
   "cell_type": "code",
   "execution_count": 825,
   "metadata": {
    "collapsed": false
   },
   "outputs": [],
   "source": [
    "#,\n",
    "                     \n",
    "#                      ('collateral_mma', 'checking_usd'), ('collateral_mma', 'cash_management'), \n",
    "#                      ('collateral_mma', 'fx_products'), ('collateral_mma', 'letters_of_credit'),\n",
    "#                     ('collateral_mma', 'enterprise_sweep')\n",
    "                     \n",
    "#                     ])\n",
    "esp_eligible_products = ['Money Market Bonus','Collateral MMA'\n",
    "'Cash Management',\n",
    "'FX Products',\n",
    "'Letters of Credit',\n",
    "'Enterprise Sweep',\n",
    "'Checking USD']\n",
    "\n",
    "def ESP_Markov_Model_Joint_Prob(esp_money_market_jointprob_probabilities,week_n_one_time= None,\n",
    "                                      product_name = None,range_of_weeks=24,evidence_=None,single=True):\n",
    "    \"\"\"Returns the probability of having a given ESP product during a certain month.. \n",
    "    If no month_n is given, then will return distributions of each product per month for 24 months. \n",
    "    Otherwise, will only products for that month.\n",
    "    If no product_name is given, then will return all products for a given month. Or, that particular product.\n",
    "    \n",
    "    WIth a single week_n_one_time set, return individual probabilities of \n",
    "    prob_checking, prob_cmma, prob_mmb, prob_cm, prob_fx, prob_loc, prob_es\"\"\"\n",
    "    start_time = time.time()\n",
    "    prob_mmb = []\n",
    "    prob_cmma = []\n",
    "    prob_cm = []\n",
    "    prob_fx = []\n",
    "    prob_loc = []\n",
    "    prob_es = []\n",
    "    prob_checking = []\n",
    "    prob_checking_original = []\n",
    "    prob_given_month_no_priors_having_product = {}\n",
    "    products =['money_market_bonus','collateral_mma','cash_management',\n",
    "                                        'fx_products','letters_of_credit','enterprise_sweep','checking_usd']\n",
    "    \n",
    "    model = MarkovModel([('money_market_bonus', 'collateral_mma'), ('money_market_bonus', 'checking_usd'), \n",
    "                     ('money_market_bonus', 'cash_management'), ('money_market_bonus', 'fx_products'),\n",
    "                    ('money_market_bonus', 'letters_of_credit'), ('money_market_bonus', 'enterprise_sweep'),\n",
    "                    ('collateral_mma','cash_management'),('collateral_mma', 'fx_products'),('collateral_mma', 'letters_of_credit'),\n",
    "                        ('collateral_mma', 'enterprise_sweep'),('collateral_mma', 'checking_usd'),('cash_management', 'fx_products'),\n",
    "                        ('cash_management', 'fx_products'),('cash_management', 'letters_of_credit'),('cash_management', 'enterprise_sweep'),\n",
    "                        ('cash_management', 'checking_usd'),('fx_products', 'letters_of_credit'),('fx_products', 'enterprise_sweep'),\n",
    "                         ('fx_products', 'checking_usd'),('letters_of_credit', 'enterprise_sweep'),('letters_of_credit', 'checking_usd'),\n",
    "                         ('enterprise_sweep', 'checking_usd')])\n",
    "    \n",
    "    model_mmb = MarkovModel([('money_market_bonus', 'collateral_mma'), ('money_market_bonus', 'checking_usd'), \n",
    "                     ('money_market_bonus', 'cash_management'), ('money_market_bonus', 'fx_products'),\n",
    "                    ('money_market_bonus', 'letters_of_credit'), ('money_market_bonus', 'enterprise_sweep')])\n",
    "    model_cmma = MarkovModel([('collateral_mma','cash_management'),('collateral_mma', 'fx_products'),\n",
    "                              ('collateral_mma', 'letters_of_credit'),\n",
    "                        ('collateral_mma', 'enterprise_sweep'),('collateral_mma', 'checking_usd'),\n",
    "                              ('money_market_bonus', 'collateral_mma')])\n",
    "    model_cm = MarkovModel([('cash_management', 'fx_products'),('cash_management', 'letters_of_credit'),\n",
    "                            ('cash_management', 'enterprise_sweep'),\n",
    "                        ('cash_management', 'checking_usd'),('collateral_mma','cash_management'),('money_market_bonus', 'cash_management')])\n",
    "    model_checking = MarkovModel([('cash_management', 'checking_usd'),('collateral_mma', 'checking_usd'),('money_market_bonus', 'checking_usd'),\n",
    "                                 ('collateral_mma', 'checking_usd'),('letters_of_credit', 'checking_usd'),('enterprise_sweep', 'checking_usd'),\n",
    "                                 ('fx_products', 'checking_usd')])\n",
    "    model_fx = MarkovModel([('fx_products', 'letters_of_credit'),('fx_products', 'enterprise_sweep'),\n",
    "                         ('fx_products', 'checking_usd'),('cash_management', 'fx_products'),('collateral_mma', 'fx_products'),\n",
    "                           ('money_market_bonus', 'fx_products')])\n",
    "    model_loc = MarkovModel([('letters_of_credit', 'enterprise_sweep'),('letters_of_credit', 'checking_usd'),('fx_products', 'letters_of_credit'),\n",
    "                             ('cash_management', 'letters_of_credit'),('collateral_mma', 'letters_of_credit'), ('money_market_bonus', 'letters_of_credit') ])\n",
    "    model_es = MarkovModel([('enterprise_sweep', 'checking_usd'),('letters_of_credit', 'enterprise_sweep'),('fx_products', 'enterprise_sweep'),\n",
    "                           ('cash_management', 'enterprise_sweep'),('collateral_mma', 'enterprise_sweep'),('money_market_bonus', 'enterprise_sweep')])\n",
    "    \n",
    "    def markov_inference(dict_of_esp_jointprob):\n",
    "        factor_mmb_cmma = Factor(variables=['money_market_bonus', 'collateral_mma'],\n",
    "                             cardinality=[2, 2],\n",
    "                             values=[dict_of_esp_jointprob['mmb0_cmma0'], dict_of_esp_jointprob['mmb0_cmma1'],\n",
    "                                    dict_of_esp_jointprob['mmb1_cmma0'], dict_of_esp_jointprob['mmb1_cmma1']])\n",
    "        factor_mmb_cm = Factor(variables=['money_market_bonus', 'cash_management'],\n",
    "                            cardinality=[2, 2],\n",
    "                            values=[dict_of_esp_jointprob['mmb0_cm0'], dict_of_esp_jointprob['mmb0_cm1'],\n",
    "                                    dict_of_esp_jointprob['mmb1_cm0'], dict_of_esp_jointprob['mmb1_cm1']])\n",
    "        factor_mmb_fx = Factor(variables=['money_market_bonus', 'fx_products'],\n",
    "                             cardinality=[2, 2],\n",
    "                             values=[dict_of_esp_jointprob['mmb0_fx0'], dict_of_esp_jointprob['mmb0_fx1'],\n",
    "                                    dict_of_esp_jointprob['mmb1_fx0'], dict_of_esp_jointprob['mmb1_fx1']])\n",
    "        factor_mmb_loc = Factor(variables=['money_market_bonus', 'letters_of_credit'],\n",
    "                             cardinality=[2, 2],\n",
    "                             values=[dict_of_esp_jointprob['mmb0_loc0'], dict_of_esp_jointprob['mmb0_loc1'],\n",
    "                                    dict_of_esp_jointprob['mmb1_loc0'], dict_of_esp_jointprob['mmb1_loc1']])\n",
    "        factor_mmb_es = Factor(variables=['money_market_bonus', 'enterprise_sweep'],\n",
    "                             cardinality=[2, 2],\n",
    "                             values=[dict_of_esp_jointprob['mmb0_es0'], dict_of_esp_jointprob['mmb0_es1'],\n",
    "                                    dict_of_esp_jointprob['mmb1_es0'], dict_of_esp_jointprob['mmb1_es1']])  \n",
    "        factor_mmb_checking = Factor(variables=['money_market_bonus', 'checking_usd'],\n",
    "                             cardinality=[2, 2],\n",
    "                             values=[dict_of_esp_jointprob['mmb0_checking0'], dict_of_esp_jointprob['mmb0_checking1'],\n",
    "                                    dict_of_esp_jointprob['mmb1_checking0'], dict_of_esp_jointprob['mmb1_checking1']])   \n",
    "        # collateral mma\n",
    "\n",
    "        factor_cmma_cm = Factor(variables=['collateral_mma','cash_management'],\n",
    "                            cardinality=[2, 2],\n",
    "                        values=[dict_of_esp_jointprob['cmma0_cm0'], dict_of_esp_jointprob['cmma0_cm1'],\n",
    "                                dict_of_esp_jointprob['cmma1_cm0'], dict_of_esp_jointprob['cmma1_cm1']])\n",
    "\n",
    "        factor_cmma_fx = Factor(variables=['collateral_mma', 'fx_products'],\n",
    "                            cardinality=[2, 2],\n",
    "                            values=[dict_of_esp_jointprob['cmma0_fx0'], dict_of_esp_jointprob['cmma0_fx1'],\n",
    "                                    dict_of_esp_jointprob['cmma1_fx0'], dict_of_esp_jointprob['cmma1_fx1']])\n",
    "        factor_cmma_loc = Factor(variables=['collateral_mma', 'letters_of_credit'],\n",
    "                             cardinality=[2, 2],\n",
    "                             values=[dict_of_esp_jointprob['cmma0_loc0'], dict_of_esp_jointprob['cmma0_loc1'],\n",
    "                                    dict_of_esp_jointprob['cmma1_loc0'], dict_of_esp_jointprob['cmma1_loc1']])\n",
    "        factor_cmma_es= Factor(variables=['collateral_mma', 'enterprise_sweep'],\n",
    "                             cardinality=[2, 2],\n",
    "                             values=[dict_of_esp_jointprob['cmma0_es0'], dict_of_esp_jointprob['cmma0_es1'],\n",
    "                                    dict_of_esp_jointprob['cmma1_es0'], dict_of_esp_jointprob['cmma1_es1']])\n",
    "        factor_cmma_checking = Factor(variables=['collateral_mma', 'checking_usd'],\n",
    "                             cardinality=[2, 2],\n",
    "                             values=[dict_of_esp_jointprob['cmma0_checking0'], dict_of_esp_jointprob['cmma0_checking1'],\n",
    "                                    dict_of_esp_jointprob['cmma1_checking0'],dict_of_esp_jointprob['cmma1_checking1']])  \n",
    "        # cash management\n",
    "        factor_cm_fx = Factor(variables=['cash_management', 'fx_products'],\n",
    "                            cardinality=[2, 2],\n",
    "                            values=[dict_of_esp_jointprob['cm0_fx0'], dict_of_esp_jointprob['cm0_fx1'],\n",
    "                                    dict_of_esp_jointprob['cm1_fx0'], dict_of_esp_jointprob['cm1_fx1']])\n",
    "        factor_cm_loc = Factor(variables=['cash_management', 'letters_of_credit'],\n",
    "                             cardinality=[2, 2],\n",
    "                             values=[dict_of_esp_jointprob['cm0_loc0'], dict_of_esp_jointprob['cm0_loc1'],\n",
    "                                    dict_of_esp_jointprob['cm1_loc0'], dict_of_esp_jointprob['cm1_loc1']])\n",
    "        factor_cm_es= Factor(variables=['cash_management', 'enterprise_sweep'],\n",
    "                             cardinality=[2, 2],\n",
    "                             values=[dict_of_esp_jointprob['cm0_es0'], dict_of_esp_jointprob['cm0_es1'],\n",
    "                                    dict_of_esp_jointprob['cm1_es0'], dict_of_esp_jointprob['cm1_es1']])\n",
    "        factor_cm_checking = Factor(variables=['cash_management', 'checking_usd'],\n",
    "                             cardinality=[2, 2],\n",
    "                             values=[dict_of_esp_jointprob['cm0_checking0'], dict_of_esp_jointprob['cm0_checking1'],\n",
    "                                    dict_of_esp_jointprob['cm1_checking0'], dict_of_esp_jointprob['cm1_checking1']])  \n",
    "\n",
    "        # FX products\n",
    "        factor_fx_loc = Factor(variables=['fx_products', 'letters_of_credit'],\n",
    "                             cardinality=[2, 2],\n",
    "                             values=[dict_of_esp_jointprob['fx0_loc0'], dict_of_esp_jointprob['fx0_loc1'],\n",
    "                                    dict_of_esp_jointprob['fx1_loc0'], dict_of_esp_jointprob['fx1_loc1']])\n",
    "        factor_fx_es= Factor(variables=['fx_products', 'enterprise_sweep'],\n",
    "                             cardinality=[2, 2],\n",
    "                             values=[dict_of_esp_jointprob['fx0_es0'], dict_of_esp_jointprob['fx0_es1'],\n",
    "                                    dict_of_esp_jointprob['fx1_es0'], dict_of_esp_jointprob['fx1_es1']])\n",
    "        factor_fx_checking = Factor(variables=['fx_products', 'checking_usd'],\n",
    "                             cardinality=[2, 2],\n",
    "                             values=[dict_of_esp_jointprob['fx0_checking0'], dict_of_esp_jointprob['fx0_checking1'],\n",
    "                                    dict_of_esp_jointprob['fx1_checking0'], dict_of_esp_jointprob['fx1_checking1']])  \n",
    "\n",
    "        # letters of credit\n",
    "\n",
    "        factor_loc_es= Factor(variables=['letters_of_credit', 'enterprise_sweep'],\n",
    "                             cardinality=[2, 2],\n",
    "                             values=[dict_of_esp_jointprob['loc0_es0'], dict_of_esp_jointprob['loc0_es1'],\n",
    "                                    dict_of_esp_jointprob['loc1_es0'], dict_of_esp_jointprob['loc1_es1']])\n",
    "        factor_loc_checking = Factor(variables=['letters_of_credit', 'checking_usd'],\n",
    "                         cardinality=[2, 2],\n",
    "                         values=[dict_of_esp_jointprob['loc0_checking0'], dict_of_esp_jointprob['loc0_checking1'],\n",
    "                                dict_of_esp_jointprob['loc1_checking0'], dict_of_esp_jointprob['loc1_checking1']])  \n",
    "        #enterprise sweep\n",
    "\n",
    "        factor_es_checking = Factor(variables=['enterprise_sweep', 'checking_usd'],\n",
    "                             cardinality=[2, 2],\n",
    "                             values=[dict_of_esp_jointprob['es0_checking0'], dict_of_esp_jointprob['es0_checking1'],\n",
    "                                    dict_of_esp_jointprob['es1_checking0'], dict_of_esp_jointprob['es1_checking1']])  \n",
    "\n",
    "\n",
    "        model.add_factors(factor_mmb_cmma , factor_mmb_cm, factor_mmb_fx, factor_mmb_loc,factor_mmb_es, factor_mmb_checking,\n",
    "                          factor_cmma_cm , factor_cmma_fx, factor_cmma_loc, factor_cmma_es,factor_cmma_checking,\n",
    "             factor_cm_fx,   factor_cm_loc,    factor_cm_es,  factor_cm_checking , factor_fx_loc,\n",
    "                  factor_fx_es ,  factor_fx_checking,   factor_loc_es, factor_loc_checking , factor_es_checking )#,\n",
    "        model_mmb.add_factors(factor_mmb_cmma , factor_mmb_cm, factor_mmb_fx, factor_mmb_loc,factor_mmb_es, factor_mmb_checking)\n",
    "        model_cmma.add_factors(factor_cmma_cm , factor_cmma_fx, factor_cmma_loc, factor_cmma_es,factor_cmma_checking,factor_mmb_cmma )\n",
    "        model_cm.add_factors(factor_cm_fx,   factor_cm_loc,    factor_cm_es,  factor_cm_checking,factor_cmma_cm,factor_mmb_cm)\n",
    "        model_checking.add_factors(factor_mmb_checking,factor_cmma_checking,factor_cm_checking,factor_fx_checking,factor_loc_checking , factor_es_checking)\n",
    "        model_fx.add_factors(factor_fx_es ,  factor_fx_checking,factor_fx_loc, factor_cm_fx,factor_cmma_fx,factor_mmb_fx)\n",
    "        model_loc.add_factors(factor_loc_es, factor_loc_checking, factor_fx_loc,factor_cm_loc,factor_cmma_loc,factor_mmb_loc  )\n",
    "        model_es.add_factors(factor_es_checking ,factor_loc_es,factor_fx_es,factor_cm_es,factor_mmb_es,factor_cmma_es)\n",
    "        #print(model.markov_blanket('money_market_bonus'))\n",
    "        belief_propagation = BeliefPropagation(model)\n",
    "        belief_propagation_mmb = BeliefPropagation(model_mmb)\n",
    "        belief_propagation_cmma = BeliefPropagation(model_cmma)\n",
    "        belief_propagation_cm = BeliefPropagation(model_cm)\n",
    "        belief_propagation_checking = BeliefPropagation(model_checking)\n",
    "        belief_propagation_fx = BeliefPropagation(model_fx)\n",
    "        belief_propagation_loc = BeliefPropagation(model_loc)\n",
    "        belief_propagation_es = BeliefPropagation(model_es)\n",
    "        #var_elimination = VariableElimination(model)\n",
    "        \n",
    "        all_products = ['money_market_bonus','collateral_mma', 'cash_management','enterprise_sweep',\n",
    "                                    'fx_products','letters_of_credit','checking_usd']\n",
    "        \n",
    "\n",
    "        # perform inference for all product except the one in the for loop\n",
    "        for prod in all_products:\n",
    "            if evidence_==None:\n",
    "                new_evidence=evidence_\n",
    "\n",
    "            else:\n",
    "                new_evidence = {key: value for key, value in evidence_.items() \n",
    "                 if key != prod}\n",
    "            belief_inference_products = str(prod)\n",
    "            #print(belief_inference_products,'belief inference')\n",
    "        # go through and only look at one varaible at a time for inference\n",
    "\n",
    "\n",
    "            belief = belief_propagation.query(variables=[belief_inference_products], evidence=new_evidence)\n",
    "            belief_mmb = belief_propagation_mmb.query(variables=[belief_inference_products], evidence=new_evidence)\n",
    "            belief_cmma = belief_propagation_cmma.query(variables=[belief_inference_products], evidence=new_evidence)\n",
    "            belief_cm = belief_propagation_cm.query(variables=[belief_inference_products], evidence=new_evidence)\n",
    "            belief_checking = belief_propagation_checking.query(variables=[belief_inference_products], evidence=new_evidence)\n",
    "            belief_fx = belief_propagation_fx.query(variables=[belief_inference_products], evidence=new_evidence)\n",
    "            belief_loc = belief_propagation_loc.query(variables=[belief_inference_products], evidence=new_evidence)\n",
    "            belief_es = belief_propagation_es.query(variables=[belief_inference_products], evidence=new_evidence)\n",
    "            #return belief_nopriors\n",
    "            try:\n",
    "                mmb = belief_mmb['money_market_bonus'].values[1]\n",
    "                if mmb <0 :\n",
    "                    mmb = .0000001\n",
    "                elif mmb >1:\n",
    "                    mmb =1\n",
    "                prob_mmb.append(mmb)# one is having the product\n",
    "            except:\n",
    "                pass\n",
    "            try:\n",
    "                cmma = belief_cmma['collateral_mma'].values[1]\n",
    "                if cmma <0:\n",
    "                    cmma = .0000001\n",
    "                elif cmma >1:\n",
    "                    cmma =1\n",
    "                prob_cmma.append(cmma)\n",
    "            except:## don't have this product\n",
    "                pass\n",
    "            try:\n",
    "                cm = belief_cm['cash_management'].values[1]\n",
    "                if cm <0:\n",
    "                    cm = .0000001\n",
    "                elif cm >1:\n",
    "                    cm =1\n",
    "                prob_cm.append(cm)\n",
    "            except:\n",
    "                pass\n",
    "            try:\n",
    "                checking = belief_checking['checking_usd'].values[1]\n",
    "                if checking <0:\n",
    "                    checking = .0000001\n",
    "                elif checking >1:\n",
    "                    checking =1\n",
    "                prob_checking.append(checking)\n",
    "            except:\n",
    "                pass\n",
    "            try:\n",
    "                fx = belief_fx['fx_products'].values[1]\n",
    "                if fx <0:\n",
    "                    fx = .0000001\n",
    "                elif fx >1:\n",
    "                    fx =1\n",
    "                prob_fx.append(fx)\n",
    "            except:\n",
    "                pass\n",
    "            try:\n",
    "                loc = belief_loc['letters_of_credit'].values[1]\n",
    "                if loc <0:\n",
    "                    loc = .0000001\n",
    "                elif loc > 1:\n",
    "                    loc = 1\n",
    "                prob_loc.append(loc)\n",
    "            except:\n",
    "                \n",
    "                pass\n",
    "            try:\n",
    "                es = belief_es['enterprise_sweep'].values[1]\n",
    "                if es<0:\n",
    "                    es = .0000001\n",
    "                elif es >1:\n",
    "                    es = 1\n",
    "                prob_es.append(es)\n",
    "            except:\n",
    "                pass\n",
    "\n",
    "\n",
    "\n",
    "    if single==False:\n",
    "        for week_n_loop in range(range_of_weeks):\n",
    "            dict_of_esp_jointprob = esp_money_market_jointprob_probabilities(week_n_loop)\n",
    "            markov_inference(dict_of_esp_jointprob)\n",
    "    else:\n",
    "        dict_of_esp_jointprob = esp_money_market_jointprob_probabilities(week_n_one_time)\n",
    "        markov_inference(dict_of_esp_jointprob)\n",
    "        # the order of the factor model is a0_b0, a0_b1, ,a1_b0, a1_b1\n",
    "        #http://conference.scipy.org/proceedings/scipy2015/pdfs/ankur_ankan.pdf\n",
    "        \n",
    "    print(prob_checking,'checking', prob_cmma,'cmma', prob_mmb,'mmb', prob_cm,'cm', prob_fx,'fx', prob_loc,'loc',\n",
    "          prob_es,'es',prob_checking_original,'checking original')\n",
    "    #return prob_checking, prob_cmma, prob_mmb, prob_cm, prob_fx, prob_loc, prob_es, prob_checking_original\n",
    "    return prob_checking[0], prob_cmma[0], prob_mmb[0], prob_cm[0], prob_fx[0], prob_loc[0], prob_es[0]\n",
    "\n",
    "    end_time = time.time()\n",
    "    print('{} weeks took {} seconds'.format(range_of_weeks,end_time-start_time))\n",
    "\n",
    "        \n"
   ]
  },
  {
   "cell_type": "code",
   "execution_count": 687,
   "metadata": {
    "collapsed": false
   },
   "outputs": [],
   "source": [
    "q = {'123':234,'34':234}"
   ]
  },
  {
   "cell_type": "raw",
   "metadata": {},
   "source": []
  },
  {
   "cell_type": "code",
   "execution_count": 703,
   "metadata": {
    "collapsed": false
   },
   "outputs": [
    {
     "data": {
      "text/plain": [
       "{'123': 234, '34': 234}"
      ]
     },
     "execution_count": 703,
     "metadata": {},
     "output_type": "execute_result"
    }
   ],
   "source": [
    "q"
   ]
  },
  {
   "cell_type": "code",
   "execution_count": 702,
   "metadata": {
    "collapsed": true
   },
   "outputs": [],
   "source": [
    "r = ['hello','bye']"
   ]
  },
  {
   "cell_type": "code",
   "execution_count": 696,
   "metadata": {
    "collapsed": true
   },
   "outputs": [],
   "source": [
    "t = r.remove('hello')"
   ]
  },
  {
   "cell_type": "code",
   "execution_count": 704,
   "metadata": {
    "collapsed": false
   },
   "outputs": [],
   "source": [
    "q = r.copy()"
   ]
  },
  {
   "cell_type": "code",
   "execution_count": 707,
   "metadata": {
    "collapsed": false
   },
   "outputs": [
    {
     "data": {
      "text/plain": [
       "['hello', 'bye']"
      ]
     },
     "execution_count": 707,
     "metadata": {},
     "output_type": "execute_result"
    }
   ],
   "source": [
    "q"
   ]
  },
  {
   "cell_type": "code",
   "execution_count": 708,
   "metadata": {
    "collapsed": false
   },
   "outputs": [],
   "source": [
    "q.remove('hello')"
   ]
  },
  {
   "cell_type": "code",
   "execution_count": 709,
   "metadata": {
    "collapsed": false
   },
   "outputs": [
    {
     "data": {
      "text/plain": [
       "['bye']"
      ]
     },
     "execution_count": 709,
     "metadata": {},
     "output_type": "execute_result"
    }
   ],
   "source": [
    "q"
   ]
  },
  {
   "cell_type": "code",
   "execution_count": 790,
   "metadata": {
    "collapsed": false
   },
   "outputs": [
    {
     "ename": "TypeError",
     "evalue": "object of type 'NoneType' has no len()",
     "output_type": "error",
     "traceback": [
      "\u001b[0;31m---------------------------------------------------------------------------\u001b[0m",
      "\u001b[0;31mTypeError\u001b[0m                                 Traceback (most recent call last)",
      "\u001b[0;32m<ipython-input-790-48ab06a8724d>\u001b[0m in \u001b[0;36m<module>\u001b[0;34m()\u001b[0m\n\u001b[0;32m----> 1\u001b[0;31m \u001b[0mlen\u001b[0m\u001b[0;34m(\u001b[0m\u001b[0;32mNone\u001b[0m\u001b[0;34m)\u001b[0m\u001b[0;34m\u001b[0m\u001b[0m\n\u001b[0m",
      "\u001b[0;31mTypeError\u001b[0m: object of type 'NoneType' has no len()"
     ]
    }
   ],
   "source": [
    "len(None)"
   ]
  },
  {
   "cell_type": "code",
   "execution_count": 688,
   "metadata": {
    "collapsed": false
   },
   "outputs": [
    {
     "name": "stdout",
     "output_type": "stream",
     "text": [
      "('123', 234)\n",
      "('34', 234)\n"
     ]
    }
   ],
   "source": [
    "for i in q.items():\n",
    "    print(i)"
   ]
  },
  {
   "cell_type": "code",
   "execution_count": 804,
   "metadata": {
    "collapsed": false
   },
   "outputs": [
    {
     "data": {
      "text/plain": [
       "0.40157000000000004"
      ]
     },
     "execution_count": 804,
     "metadata": {},
     "output_type": "execute_result"
    }
   ],
   "source": [
    ".000040157 * 10_000"
   ]
  },
  {
   "cell_type": "code",
   "execution_count": 808,
   "metadata": {
    "collapsed": false
   },
   "outputs": [
    {
     "name": "stdout",
     "output_type": "stream",
     "text": [
      "[4.0157709922530947e-05] checking [1.2038462963082518e-05] cmma [1e-07] mmb [9.365811488381443e-06] cm [1.5266027642786764e-06] fx [3.8705321257196976e-06] loc [1e-07] es [] checking original\n"
     ]
    }
   ],
   "source": [
    "checking, cmma, mmb , cm, fx, loc, es = ESP_Markov_Model_Joint_Prob(ESP_Joint_Product_Probabilities,single=True,\n",
    "                                                                    week_n_one_time=1,evidence_={'checking_usd':1}) "
   ]
  },
  {
   "cell_type": "code",
   "execution_count": 786,
   "metadata": {
    "collapsed": false
   },
   "outputs": [
    {
     "name": "stdout",
     "output_type": "stream",
     "text": [
      "[4.0354005480437385e-06] checking [3.8571849160913087e-09] cmma [-1.1099880193271565e-10] mmb [-6.1946485285373075e-09] cm [2.0866482658597157e-09] fx [-3.8079332435125275e-10] loc [-1.4592754882071724e-10] es [4.035400548043741e-06] checking original\n"
     ]
    }
   ],
   "source": [
    "checking, cmma, mmb , cm, fx, loc, es = ESP_Markov_Model_Joint_Prob(ESP_Joint_Product_Probabilities,single=True,\n",
    "                                                                    week_n_one_time=1,\n",
    "                                            evidence_={'money_market_bonus':0,'collateral_mma':0,\n",
    "                                                       'cash_management':0,'enterprise_sweep':0,\n",
    "                                    'fx_products':0,'letters_of_credit':0,'checking_usd':0}) "
   ]
  },
  {
   "cell_type": "code",
   "execution_count": 782,
   "metadata": {
    "collapsed": false
   },
   "outputs": [
    {
     "data": {
      "text/plain": [
       "0"
      ]
     },
     "execution_count": 782,
     "metadata": {},
     "output_type": "execute_result"
    }
   ],
   "source": [
    "sum([np.random.choice([1,0],p=np.array([checking,(1-checking)])) for _ in range(100000)])"
   ]
  },
  {
   "cell_type": "code",
   "execution_count": null,
   "metadata": {
    "collapsed": true
   },
   "outputs": [],
   "source": []
  },
  {
   "cell_type": "code",
   "execution_count": 761,
   "metadata": {
    "collapsed": false
   },
   "outputs": [
    {
     "name": "stdout",
     "output_type": "stream",
     "text": [
      "[4.0354005480437385e-06] checking [3.8571849160913087e-09] cmma [-1.1099880193271565e-10] mmb [-6.1946485285373075e-09] cm [2.0866482658597157e-09] fx [-3.8079332435125275e-10] loc [-1.4592754882071724e-10] es [4.035400548043741e-06] checking original\n"
     ]
    },
    {
     "data": {
      "text/plain": [
       "(4.0354005480437385e-06,\n",
       " 3.8571849160913087e-09,\n",
       " -1.1099880193271565e-10,\n",
       " -6.1946485285373075e-09,\n",
       " 2.0866482658597157e-09,\n",
       " -3.8079332435125275e-10,\n",
       " -1.4592754882071724e-10)"
      ]
     },
     "execution_count": 761,
     "metadata": {},
     "output_type": "execute_result"
    }
   ],
   "source": [
    "ESP_Markov_Model_Joint_Prob(ESP_Joint_Product_Probabilities,single=True,week_n_one_time=1,\n",
    "                                            evidence_={'money_market_bonus':0,'collateral_mma':0,\n",
    "                                                       'cash_management':0,'enterprise_sweep':0,\n",
    "                                    'fx_products':0,'letters_of_credit':0,'checking_usd':0}) "
   ]
  },
  {
   "cell_type": "code",
   "execution_count": 760,
   "metadata": {
    "collapsed": false
   },
   "outputs": [
    {
     "name": "stdout",
     "output_type": "stream",
     "text": [
      "[1.0000330502700987] checking [1.04553458234917] cmma [0.74728153013867094] mmb [0.94206236852484204] cm [0.047931926065992621] fx [1.0087517421642502] loc [0.48742317172106725] es [1.0000330502700987] checking original\n"
     ]
    },
    {
     "data": {
      "text/plain": [
       "(1.0000330502700987,\n",
       " 1.04553458234917,\n",
       " 0.74728153013867094,\n",
       " 0.94206236852484204,\n",
       " 0.047931926065992621,\n",
       " 1.0087517421642502,\n",
       " 0.48742317172106725)"
      ]
     },
     "execution_count": 760,
     "metadata": {},
     "output_type": "execute_result"
    }
   ],
   "source": [
    "ESP_Markov_Model_Joint_Prob(ESP_Joint_Product_Probabilities,single=True,week_n_one_time=20,\n",
    "                                            evidence_={'money_market_bonus':1,'collateral_mma':1,\n",
    "                                                       'cash_management':1,'enterprise_sweep':1,\n",
    "                                    'fx_products':1,'letters_of_credit':1,'checking_usd':1}) "
   ]
  },
  {
   "cell_type": "code",
   "execution_count": null,
   "metadata": {
    "collapsed": true
   },
   "outputs": [],
   "source": []
  },
  {
   "cell_type": "code",
   "execution_count": 676,
   "metadata": {
    "collapsed": false,
    "scrolled": true
   },
   "outputs": [
    {
     "name": "stdout",
     "output_type": "stream",
     "text": [
      "[4.3698345599389846e-05] checking [1.3548142644674604e-05] cmma [1.9192892520880829e-06] mmb [1.3754136770404781e-05] cm [1.3842988279675637e-06] fx [6.6005183489786797e-07] loc [1.9522484836281464e-06] es\n"
     ]
    }
   ],
   "source": [
    "checking, cmma, mmb, cm, fx, loc, es = ESP_Markov_Model_Joint_Prob(ESP_Joint_Product_Probabilities,single=True,week_n_one_time=100)"
   ]
  },
  {
   "cell_type": "code",
   "execution_count": 677,
   "metadata": {
    "collapsed": false
   },
   "outputs": [
    {
     "data": {
      "text/plain": [
       "0.99995630165440064"
      ]
     },
     "execution_count": 677,
     "metadata": {},
     "output_type": "execute_result"
    }
   ],
   "source": [
    "1-checking"
   ]
  },
  {
   "cell_type": "code",
   "execution_count": 678,
   "metadata": {
    "collapsed": false
   },
   "outputs": [
    {
     "data": {
      "text/plain": [
       "0"
      ]
     },
     "execution_count": 678,
     "metadata": {},
     "output_type": "execute_result"
    }
   ],
   "source": [
    "# get a checking account\n",
    "np.random.choice(np.array([1,0]),p=np.array([checking,(1-checking)]))"
   ]
  },
  {
   "cell_type": "code",
   "execution_count": null,
   "metadata": {
    "collapsed": false,
    "scrolled": true
   },
   "outputs": [
    {
     "name": "stdout",
     "output_type": "stream",
     "text": [
      "[3.3577559808914049e-05] checking [3.6405909598721107e-07] cmma [2.1759873812657778e-09] mmb [4.6996217692877312e-07] cm [1.0792098227838924e-05] fx [9.7129482650820388e-07] loc [1e-07] es [] checking original\n",
      "[3.3723163598940902e-05] checking [4.1977864033313378e-07] cmma [7.2574061077814217e-09] mmb [5.3575617601883386e-07] cm [1.0048129014260131e-05] fx [8.9975472877436265e-07] loc [1e-07] es [] checking original\n",
      "[3.3698872434756628e-05] checking [4.7581942135148548e-07] cmma [1.2323746150301733e-08] mmb [6.0300866660695573e-07] cm [9.3341363030393906e-06] fx [8.3242069371473917e-07] loc [1e-07] es [] checking original\n",
      "[3.3524957228302394e-05] checking [5.3181516934322654e-07] cmma [1.7355685367624342e-08] mmb [6.712032877201709e-07] cm [8.6523282383736469e-06] fx [7.6920034285729894e-07] loc [1e-07] es [] checking original\n",
      "[3.3220243318187495e-05] checking [5.8743166894775774e-07] cmma [2.2335727095622471e-08] mmb [7.3985315988786747e-07] cm [8.0041831762662253e-06] fx [7.0997818162734386e-07] loc [1e-07] es [] checking original\n",
      "[3.2802152139358012e-05] checking [6.4236780017660347e-07] cmma [2.7248135925270152e-08] mmb [8.0850465359708444e-07] cm [7.3905607211680921e-06] fx [6.5462056921186848e-07] loc [1e-07] es [] checking original\n",
      "[3.2286748560896078e-05] checking [6.9635597747583716e-07] cmma [3.2078873033487045e-08] mmb [8.7674010055901601e-07] cm [6.811800157244996e-06] fx [6.0298003165044324e-07] loc [1e-07] es [] checking original\n",
      "[3.1688792800200901e-05] checking [7.4916207500413344e-07] cmma [3.6815531260774501e-08] mmb [9.4417958443261091e-07] cm [6.2678074242523914e-06] fx [5.5489898710720102e-07] loc [1e-07] es [] checking original\n",
      "[3.1021795921344904e-05] checking [8.0058491883605078e-07] cmma [4.1447270102746943e-08] mmb [1.0104819365114461e-06] cm [5.7581317028436931e-06] fx [5.1021294614888696e-07] loc [1e-07] es [] checking original\n",
      "[3.0298078020864722e-05] checking [8.5045541961674397e-07] cmma [4.5964750767194799e-08] mmb [1.0753450512201169e-06] cm [5.2820325941206809e-06] fx [4.6875324420004597e-07] loc [1.9512278210279335e-09] es [] checking original\n",
      "[2.9528828295313725e-05] checking [8.9863541232153793e-07] cmma [5.0360071441744896e-08] mmb [1.1385056260993068e-06] cm [4.8385388030853756e-06] fx [4.3034935813490671e-07] loc [6.64096315100175e-09] es [] checking original\n",
      "[2.872416627132906e-05] checking [9.4501626322536855e-07] cmma [5.4626702917327134e-08] mmb [1.19973842129424e-06] cm [4.4264991651135119e-06] fx [3.9483085416540041e-07] loc [1.141625806414652e-08] es [] checking original\n",
      "[2.7893203560583295e-05] checking [9.8951729797370521e-07] cmma [5.8759424717633603e-08] mmb [1.2588551244059907e-06] cm [4.0446267883993519e-06] fx [3.6202900976696739e-07] loc [1.6259542594097336e-08] es [] checking original\n",
      "[2.7044105578696495e-05] checking [1.0320840987760704e-06] cmma [6.2754261892978133e-08] mmb [1.3157028979227162e-06] cm [3.6915370232934879e-06] fx [3.3177814832130302e-07] loc [2.1156673056968528e-08] es [] checking original\n"
     ]
    }
   ],
   "source": [
    "## new probs\n",
    "probs = [ESP_Markov_Model_Joint_Prob(ESP_Joint_Product_Probabilities,single=True,week_n_one_time=i) for i in range(152)]"
   ]
  },
  {
   "cell_type": "code",
   "execution_count": null,
   "metadata": {
    "collapsed": false
   },
   "outputs": [],
   "source": [
    "## FINAL - new probs\n",
    "plt.figure(figsize=(12,8))\n",
    "plt.plot([probs[i][0] for i in range(len(probs))],label='checking',color='black')\n",
    "plt.plot([probs[i][1] for i in range(len(probs))],label='cmma',color='red')\n",
    "plt.plot([probs[i][2] for i in range(len(probs))],label='mmb')\n",
    "plt.plot([probs[i][3] for i in range(len(probs))],label='cm')\n",
    "plt.plot([probs[i][4] for i in range(len(probs))],label='fx')\n",
    "plt.plot([probs[i][5] for i in range(len(probs))],label='loc')\n",
    "plt.plot([probs[i][6] for i in range(len(probs))],label='es')\n",
    "#plt.plot([probs[i][7] for i in range(len(probs))],label='ORIGINAL CHECKING')\n",
    "plt.legend()\n",
    "plt.title('Product prob over time')\n",
    "plt.xlabel('week number')\n",
    "plt.ylabel('Probability')"
   ]
  },
  {
   "cell_type": "code",
   "execution_count": 813,
   "metadata": {
    "collapsed": false,
    "scrolled": true
   },
   "outputs": [
    {
     "name": "stdout",
     "output_type": "stream",
     "text": [
      "[4.0091850456980385e-05] checking [2.4847536246721044e-06] cmma [8.1118572306544641e-09] mmb [7.5712040617391443e-07] cm [4.7598686233406457e-07] fx [2.4091422692550767e-07] loc [1e-07] es [] checking original\n",
      "[4.0157709922530947e-05] checking [2.4371304897881454e-06] cmma [1.4647173755742598e-08] mmb [9.3796030354556138e-07] cm [4.3434707687037728e-07] fx [2.2717228803244745e-07] loc [1e-07] es [] checking original\n",
      "[4.0078804496253169e-05] checking [2.3858038093548626e-06] cmma [2.1172230195836294e-08] mmb [1.0941175252123749e-06] cm [3.9633209175787338e-07] fx [2.139311139849487e-07] loc [1e-07] es [] checking original\n",
      "[3.9867200617693237e-05] checking [2.3315514540312654e-06] cmma [2.7560837451058397e-08] mmb [1.2280133506349967e-06] cm [3.616345470161856e-07] fx [2.0120891231930991e-07] loc [1e-07] es [] checking original\n",
      "[3.9534856816906682e-05] checking [2.2750667706192531e-06] cmma [3.3711735486648542e-08] mmb [1.3418729873394647e-06] cm [3.2997201066255999e-07] fx [1.890179757734968e-07] loc [1e-07] es [] checking original\n",
      "[3.9093527325346197e-05] checking [2.2169656819287361e-06] cmma [3.9545395998869497e-08] mmb [1.4377391539689935e-06] cm [3.0108509286979128e-07] fx [1.7736539952609946e-07] loc [1e-07] es [] checking original\n",
      "[3.8554678800786146e-05] checking [2.157793329566514e-06] cmma [4.500114786524997e-08] mmb [1.517484881353808e-06] cm [2.7473568823457986e-07] fx [1.6625373390545047e-07] loc [1e-07] es [] checking original\n",
      "[3.7929419461351018e-05] checking [2.0980302796348096e-06] cmma [5.0034597597626635e-08] mmb [1.5828255673014772e-06] cm [2.5070533889071341e-07] fx [1.5568157776450516e-07] loc [1e-07] es [] checking original\n",
      "[3.7228439877683028e-05] checking [2.0380983112660407e-06] cmma [5.4615319209120181e-08] mmb [1.6353303197203759e-06] cm [2.2879371148574612e-07] fx [1.4564411728252808e-07] loc [1e-07] es [] checking original\n",
      "[3.6461964640560446e-05] checking [1.9783658077796431e-06] cmma [5.8724789929841086e-08] mmb [1.6764326216096016e-06] cm [2.0881718132362207e-07] fx [1.3613361455788477e-07] loc [1.4892739661265462e-10] es [] checking original\n",
      "[3.563971410225384e-05] checking [1.9191527700329345e-06] cmma [6.2354550073324903e-08] mmb [1.7074403503810748e-06] cm [1.9060751725804001e-07] fx [1.2713984999444058e-07] loc [5.1125680238807608e-10] es [] checking original\n",
      "[3.4770875382057302e-05] checking [1.860735471259193e-06] cmma [6.5504567078223116e-08] mmb [1.7295451829247519e-06] cm [1.7401066120140434e-07] fx [1.186505221545785e-07] loc [8.8873639046601052e-10] es [] checking original\n",
      "[3.3864081828351894e-05] checking [1.8033507723499937e-06] cmma [6.8181785338657903e-08] mmb [1.743831416786848e-06] cm [1.5888559639115783e-07] fx [1.1065160845212562e-07] loc [1.2828935890972281e-09] es [] checking original\n",
      "[3.292740013992663e-05] checking [1.7472001161525915e-06] cmma [7.0398844902212853e-08] mmb [1.7512842368048726e-06] cm [1.4510329882836127e-07] fx [1.0312768978613224e-07] loc [1.695348523336098e-09] es [] checking original\n",
      "[3.1968324366883169e-05] checking [1.6924532189235681e-06] cmma [7.2172953466436171e-08] mmb [1.7527974555328548e-06] cm [1.3254576657191402e-07] fx [9.6062241969233852e-08] loc [2.1278221034881653e-09] es [] checking original\n",
      "[3.0993776035154018e-05] checking [1.6392514766135202e-06] cmma [7.3524897351990433e-08] mmb [1.7491807547965737e-06] cm [1.2110512183515237e-07] fx [8.9437896580110316e-08] loc [2.582144640888583e-09] es [] checking original\n",
      "[3.0010109667431941e-05] checking [1.5877111031602699e-06] cmma [7.4478178281598827e-08] mmb [1.7411664547425451e-06] cm [1.1068278108916327e-07] fx [8.3236673666343519e-08] loc [3.0602650316229927e-09] es [] checking original\n",
      "[2.902312300619055e-05] checking [1.5379260174455084e-06] cmma [7.5058263856546713e-08] mmb [1.7294158357870057e-06] cm [1.0118868862852858e-07] fx [7.7440188539889448e-08] loc [3.5642605511877569e-09] es [] checking original\n",
      "[2.8038071280599155e-05] checking [1.4899704950272966e-06] cmma [7.5291940603971209e-08] mmb [1.7145250379328498e-06] cm [9.2540609299925823e-08] fx [7.2029834740663182e-08] loc [4.0963473056180815e-09] es [] checking original\n",
      "[2.7059684897714046e-05] checking [1.4439016002032737e-06] cmma [7.5206759375282016e-08] mmb [1.6970305610043633e-06] cm [8.4663476331714991e-08] fx [6.6986945092741864e-08] loc [4.6588913872967266e-09] es [] checking original\n",
      "[2.6092189978646442e-05] checking [1.399761413391336e-06] cmma [7.4830563715059159e-08] mmb [1.6774143884522031e-06] cm [7.7488790433035819e-08] fx [6.2292932640897109e-08] loc [5.2544207864987965e-09] es [] checking original\n",
      "[2.5139331201828209e-05] checking [1.3575790682402135e-06] cmma [7.4191092596481086e-08] mmb [1.6561087565053929e-06] cm [7.0954066553807574e-08] fx [5.7929413131140848e-08] loc [5.8856381127362854e-09] es [] checking original\n",
      "[2.4204396457446818e-05] checking [1.317372612305538e-06] cmma [7.3315649639104812e-08] mmb [1.6335005895936473e-06] cm [6.5002324912199096e-08] fx [5.3878310586400956e-08] loc [6.5554341831459742e-09] es [] checking original\n",
      "[2.3290242859100318e-05] checking [1.2791507045514494e-06] cmma [7.2230831592593689e-08] mmb [1.6099356221328225e-06] cm [5.9581623103531705e-08] fx [5.0121947426112878e-08] loc [7.2669025385233614e-09] es [] checking original\n",
      "[2.2399323700288762e-05] checking [1.2429141623665805e-06] cmma [7.096230949032623e-08] mmb [1.5857222259595398e-06] cm [5.4644626304152522e-08] fx [4.664312048530639e-08] loc [8.0233549511502756e-09] es [] checking original\n",
      "[2.1533715984129307e-05] checking [1.2086573702195301e-06] cmma [6.9534656453898331e-08] mmb [1.561134961918462e-06] cm [5.0148212775603229e-08] fx [4.3425164203666246e-08] loc [8.8283379923023696e-09] es [] checking original\n",
      "[2.0695148194333304e-05] checking [1.1763695615253619e-06] cmma [6.7971216667197565e-08] mmb [1.5364178733480932e-06] cm [4.6053112058493162e-08] fx [4.0452002177119702e-08] loc [9.6856507312623443e-09] es [] checking original\n",
      "[1.9885028013738451e-05] checking [1.1460359847535972e-06] cmma [6.6294010540487496e-08] mmb [1.5117875384789158e-06] cm [4.2323573422015143e-08] fx [3.7708188192925243e-08] loc [1.0599363641813369e-08] es [] checking original\n",
      "[1.9104469733325762e-05] checking [1.117638964282019e-06] cmma [6.4523671554004467e-08] mmb [1.4874358980517411e-06] cm [3.8927062304212672e-08] fx [3.51789378032522e-08] loc [1.1573838796553077e-08] es [] checking original\n",
      "[1.8354321129483872e-05] checking [1.0911588659910967e-06] cmma [6.267941070986645e-08] mmb [1.4635328737849062e-06] cm [3.5833982640181668e-08] fx [3.2850151431197757e-08] loc [1.2613751433959362e-08] es [] checking original\n",
      "[1.7635189620177022e-05] checking [1.0665749771029353e-06] cmma [6.0779004933277596e-08] mmb [1.4402287926670031e-06] cm [3.3017423130669115e-08] fx [3.0708429946502972e-08] loc [1.3724112987964749e-08] es [] checking original\n",
      "[1.694746754152053e-05] checking [1.0438663092977528e-06] cmma [5.8838806151508465e-08] mmb [1.4176566314277526e-06] cm [3.0452925652383724e-08] fx [2.87410835954181e-08] loc [1.4910295674863913e-08] es [] checking original\n",
      "[1.6291356415005098e-05] checking [1.0230123336914262e-06] cmma [5.6873768144121864e-08] mmb [1.3959340949439183e-06] cm [2.8118274154167628e-08] fx [2.6936135119807504e-08] loc [1.6178058737698741e-08] es [] checking original\n",
      "[1.5666890102196934e-05] checking [1.0039936558307828e-06] cmma [5.4897488602386342e-08] mmb [1.3751655417703746e-06] cm [2.5993302520457558e-08] fx [2.5282317854349644e-08] loc [1.7533576453846683e-08] es [] checking original\n",
      "[1.5073956768167168e-05] checking [9.867926384600058e-07] cmma [5.292226416156108e-08] mmb [1.3554437694492049e-06] cm [2.4059720015703652e-08] fx [2.3769069547311836e-08] loc [1.8983468017389575e-08] es [] checking original\n",
      "[1.4512319597183414e-05] checking [9.7139397943273727e-07] cmma [5.0959156478366314e-08] mmb [1.3368516717423685e-06] cm [2.2300953051174949e-08] fx [2.2386522609686934e-08] loc [2.0534829413972762e-08] es [] checking original\n",
      "[1.3981636224364718e-05] checking [9.5778525179080619e-07] cmma [4.9018067718934051e-08] mmb [1.3194637794568074e-06] cm [2.0702002139480353e-08] fx [2.1125491459355139e-08] loc [2.2195267412286908e-08] es [] checking original\n",
      "[1.3481476865111242e-05] checking [9.459574127026491e-07] cmma [4.7107824101183523e-08] mmb [1.3033476960851233e-06] cm [1.9249313022835091e-08] fx [1.9977457591344605e-08] loc [2.3972935803028661e-08] es [] checking original\n",
      "[1.3011341140241525e-05] checking [9.3590528765291314e-07] cmma [4.5236266401083283e-08] mmb [1.2885654390709457e-06] cm [1.7930661079326106e-08] fx [1.8934552972245146e-08] loc [2.5876574023231987e-08] es [] checking original\n",
      "[1.2570673608984526e-05] checking [9.2762803599980304e-07] cmma [4.3410346585731258e-08] mmb [1.27517469712615e-06] cm [1.6735048227947653e-08] fx [1.7989542326482693e-08] loc [2.7915548311218127e-08] es [] checking original\n",
      "[1.2158878034373801e-05] checking [9.2112960376872304e-07] cmma [4.1636229978602178e-08] mmb [1.2632300136778213e-06] cm [1.5652611668816421e-08] fx [1.7135804854666861e-08] loc [3.0099895545104368e-08] es [] checking original\n",
      "[1.1775330416278268e-05] checking [9.1641916933004787e-07] cmma [3.9919402594590088e-08] mmb [1.2527839062068458e-06] cm [1.4674543910626147e-08] fx [1.6367315899821829e-08] loc [3.2440369925845551e-08] es [] checking original\n",
      "[1.1419390836385227e-05] checking [9.1351158741534612e-07] cmma [3.8264783505465461e-08] mmb [1.2438879309577536e-06] cm [1.3793023654005615e-08] fx [1.5678629056317591e-08] loc [3.4948492674174448e-08] es [] checking original\n",
      "[1.1090414167039176e-05] checking [9.1242783676052051e-07] cmma [3.6676842310870873e-08] mmb [1.2365937022515914e-06] cm [1.3001157218018658e-08] fx [1.5064859199114835e-08] loc [3.7636604919567212e-08] es [] checking original\n",
      "[1.0787759702048061e-05] checking [9.1319547652591047e-07] cmma [3.5159721996764244e-08] mmb [1.2309538754206741e-06] cm [1.229293031866642e-08] fx [1.4521666897974718e-08] loc [4.0517923968498092e-08] es [] checking original\n",
      "[1.051079977251476e-05] checking [9.1584911653268955e-07] cmma [3.3717367663025189e-08] mmb [1.2270231022068266e-06] cm [1.1663170134069504e-08] fx [1.4045244673083453e-08] loc [4.3606603148782618e-08] es [] checking original\n",
      "[1.0258927414550313e-05] checking [9.2043090627185914e-07] cmma [3.2353661795507881e-08] mmb [1.2248589673236697e-06] cm [1.1107517722248513e-08] fx [1.3632305545690553e-08] loc [4.6917795436743556e-08] es [] checking original\n",
      "[1.0031563158492198e-05] checking [9.2699104758683512e-07] cmma [3.1072566945892502e-08] mmb [1.2245229147794624e-06] cm [1.0622410995385071e-08] fx [1.3280074340517986e-08] loc [5.046772108429247e-08] es [] checking original\n",
      "[9.8281610110987254e-06] checking [9.3558833590318204e-07] cmma [2.9878276866022102e-08] mmb [1.2260811724906683e-06] cm [1.0205078600522207e-08] fx [1.2986282206594641e-08] loc [5.4273739473805673e-08] es [] checking original\n",
      "[9.6482137032284156e-06] checking [9.4629073487947897e-07] cmma [2.8775377322800609e-08] mmb [1.2296056836885641e-06] cm [9.8535452123238189e-09] fx [1.2749164840609132e-08] loc [5.8354425439908097e-08] es [] checking original\n",
      "[9.491257275847344e-06] checking [9.5917598938184976e-07] cmma [2.7769017996021345e-08] mmb [1.2351750536327168e-06] cm [9.5666489103279367e-09] fx [1.2567464922728149e-08] loc [6.2729650308969e-08] es [] checking original\n",
      "[9.3568750769389792e-06] checking [9.7433228174140818e-07] cmma [2.6865097035580629e-08] mmb [1.2428755201969351e-06] cm [9.3440714927580375e-09] fx [1.2440439310046455e-08] loc [6.7420667919280743e-08] es [] checking original\n"
     ]
    }
   ],
   "source": [
    "probs = [ESP_Markov_Model_Joint_Prob(ESP_Joint_Product_Probabilities,single=True,week_n_one_time=i) for i in range(52)]"
   ]
  },
  {
   "cell_type": "code",
   "execution_count": 814,
   "metadata": {
    "collapsed": false
   },
   "outputs": [
    {
     "data": {
      "text/plain": [
       "<matplotlib.text.Text at 0x11e234cc0>"
      ]
     },
     "execution_count": 814,
     "metadata": {},
     "output_type": "execute_result"
    },
    {
     "data": {
      "image/png": "[encoded data removed]",
      "text/plain": [
       "<matplotlib.figure.Figure at 0x125094e80>"
      ]
     },
     "metadata": {},
     "output_type": "display_data"
    }
   ],
   "source": [
    "## FINAL\n",
    "plt.figure(figsize=(12,8))\n",
    "plt.plot([probs[i][0] for i in range(len(probs))],label='checking',color='black')\n",
    "plt.plot([probs[i][1] for i in range(len(probs))],label='cmma',color='red')\n",
    "plt.plot([probs[i][2] for i in range(len(probs))],label='mmb')\n",
    "plt.plot([probs[i][3] for i in range(len(probs))],label='cm')\n",
    "plt.plot([probs[i][4] for i in range(len(probs))],label='fx')\n",
    "plt.plot([probs[i][5] for i in range(len(probs))],label='loc')\n",
    "plt.plot([probs[i][6] for i in range(len(probs))],label='es')\n",
    "#plt.plot([probs[i][7] for i in range(len(probs))],label='ORIGINAL CHECKING')\n",
    "plt.legend()\n",
    "plt.title('Product prob over time')\n",
    "plt.xlabel('week number')\n",
    "plt.ylabel('Probability')"
   ]
  },
  {
   "cell_type": "code",
   "execution_count": 816,
   "metadata": {
    "collapsed": false
   },
   "outputs": [],
   "source": [
    "t = {'1':1,'2':2}"
   ]
  },
  {
   "cell_type": "code",
   "execution_count": 819,
   "metadata": {
    "collapsed": true
   },
   "outputs": [],
   "source": [
    "r = {'1':3, '2':2}"
   ]
  },
  {
   "cell_type": "code",
   "execution_count": 820,
   "metadata": {
    "collapsed": false
   },
   "outputs": [
    {
     "data": {
      "text/plain": [
       "False"
      ]
     },
     "execution_count": 820,
     "metadata": {},
     "output_type": "execute_result"
    }
   ],
   "source": [
    "t==r"
   ]
  },
  {
   "cell_type": "code",
   "execution_count": null,
   "metadata": {
    "collapsed": true
   },
   "outputs": [],
   "source": []
  }
 ],
 "metadata": {
  "kernelspec": {
   "display_name": "SVB",
   "language": "python",
   "name": "svb"
  },
  "language_info": {
   "codemirror_mode": {
    "name": "ipython",
    "version": 3
   },
   "file_extension": ".py",
   "mimetype": "text/x-python",
   "name": "python",
   "nbconvert_exporter": "python",
   "pygments_lexer": "ipython3",
   "version": "3.6.1"
  }
 },
 "nbformat": 4,
 "nbformat_minor": 2
}
