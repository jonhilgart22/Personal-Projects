{
 "cells": [
  {
   "cell_type": "code",
   "execution_count": 224,
   "metadata": {
    "collapsed": false
   },
   "outputs": [
    {
     "name": "stdout",
     "output_type": "stream",
     "text": [
      "Populating the interactive namespace from numpy and matplotlib\n"
     ]
    },
    {
     "name": "stderr",
     "output_type": "stream",
     "text": [
      "/Users/jonathanhilgart/anaconda/envs/SVB/lib/python3.6/site-packages/IPython/html.py:14: ShimWarning: The `IPython.html` package has been deprecated since IPython 4.0. You should import from `notebook` instead. `IPython.html.widgets` has moved to `ipywidgets`.\n",
      "  \"`IPython.html.widgets` has moved to `ipywidgets`.\", ShimWarning)\n"
     ]
    }
   ],
   "source": [
    "from pgmpy.models import MarkovModel\n",
    "from pgmpy.factors import Factor\n",
    "from pgmpy.readwrite import XMLBIFWriter\n",
    "from pgmpy.inference import BeliefPropagation\n",
    "import scipy.stats as stats\n",
    "import numpy as np\n",
    "import seaborn as sns\n",
    "%pylab inline"
   ]
  },
  {
   "cell_type": "code",
   "execution_count": 225,
   "metadata": {
    "collapsed": true
   },
   "outputs": [],
   "source": [
    "esp_eligible_products = ['Money Market Bonus','Collateral MMA'\n",
    "'Cash Management',\n",
    "'FX Products',\n",
    "'Letters of Credit',\n",
    "'Enterprise Sweep',\n",
    "'Checking USD']"
   ]
  },
  {
   "cell_type": "code",
   "execution_count": 293,
   "metadata": {
    "collapsed": false
   },
   "outputs": [],
   "source": [
    "## define a probability distribution over each pair of varaibles\n",
    "def esp_money_market_conditional_probabilities(month_number):\n",
    "    \"\"\"Returns the conditions probabilities of money market and every other ESP product.\n",
    "    Compute the probabilities distribution of money market = yes and moeny market = 0 no, then take the\n",
    "    complement to find the corresponding probabilities for the other class.\n",
    "    \n",
    "    Returns a dictionary of each probabilitiy distribution given the time\"\"\"\n",
    "    # money market bonus conditional probability distributions\n",
    "    mmb1_and_cmma1_dist = stats.norm(loc = 5, scale=2)\n",
    "    mmb0_and_cmma1_dist = stats.norm(loc = 86, scale=20)\n",
    "    mmb1_and_checking1_dist = stats.norm(loc = 25, scale=10)\n",
    "    mmb0_and_checking1_dist = stats.norm(loc = 5, scale=1)\n",
    "    mmb1_and_cm1_dist = stats.norm(loc = 9, scale=5)\n",
    "    mmb0_and_cm1_dist = stats.norm(loc = 8, scale=21)\n",
    "    mmb1_and_fx1_dist = stats.norm(loc = 15, scale=55)\n",
    "    mmb0_and_fx1_dist = stats.norm(loc = 7, scale=55)\n",
    "    mmb1_and_loc1_dist = stats.norm(loc = 10, scale=25)\n",
    "    mmb0_and_loc1_dist = stats.norm(loc = 1.2, scale=21)\n",
    "    mmb1_and_es1_dist = stats.norm(loc = .7, scale=95)\n",
    "    mmb0_and_es1_dist = stats.norm(loc = 8, scale=55)\n",
    "    \n",
    "    # find the probabilities given a month number for money market bonus\n",
    "    mmb1_cmma1 = mmb1_and_cmma1_dist.pdf(month_number)\n",
    "    mmb1_cmma0 = 1-mmb1_cmma1\n",
    "    mmb0_cmma1 = mmb0_and_cmma1_dist.pdf(month_number)\n",
    "    mmb0_cmma0 = 1-mmb0_cmma1\n",
    "    \n",
    "    mmb1_checking1 = mmb1_and_checking1_dist.pdf(month_number)\n",
    "    mmb1_checking0 = 1 - mmb1_checking1\n",
    "    mmb0_checking1 = mmb0_and_checking1_dist.pdf(month_number)\n",
    "    mmb0_checking0 = 1-mmb0_checking1\n",
    "    \n",
    "    mmb1_cm1 = mmb1_and_cm1_dist.pdf(month_number)\n",
    "    mmb1_cm0 = 1 - mmb1_cm1\n",
    "    mmb0_cm1 = mmb0_and_cm1_dist.pdf(month_number)\n",
    "    mmb0_cm0 = 1-mmb0_cm1\n",
    "    \n",
    "    mmb1_fx1 = mmb1_and_fx1_dist.pdf(month_number)\n",
    "    mmb1_fx0 = 1 - mmb1_fx1\n",
    "    mmb0_fx1 = mmb0_and_fx1_dist.pdf(month_number)\n",
    "    mmb0_fx0 = 1-mmb0_fx1\n",
    "    \n",
    "    mmb1_loc1 = mmb1_and_loc1_dist.pdf(month_number)\n",
    "    mmb1_loc0 = 1 - mmb1_loc1\n",
    "    mmb0_loc1 = mmb0_and_loc1_dist.pdf(month_number)\n",
    "    mmb0_loc0 = 1-mmb0_loc1\n",
    "    \n",
    "    mmb1_es1 = mmb1_and_es1_dist.pdf(month_number)\n",
    "    mmb1_es0 = 1 - mmb1_es1\n",
    "    mmb0_es1 = mmb0_and_es1_dist.pdf(month_number)\n",
    "    mmb0_es0 = 1-mmb0_es1\n",
    "    \n",
    "    # return the probabilities in the form of a dictionary\n",
    "    money_market_conditional_probabilities = {}\n",
    "    money_market_conditional_probabilities['mmb1_cmma1'] = mmb1_cmma1\n",
    "    money_market_conditional_probabilities['mmb1_cmma0'] = mmb1_cmma0\n",
    "    money_market_conditional_probabilities['mmb0_cmma1'] = mmb0_cmma1\n",
    "    money_market_conditional_probabilities['mmb0_cmma0'] = mmb0_cmma0\n",
    "    \n",
    "    money_market_conditional_probabilities['mmb1_checking1'] = mmb1_checking1\n",
    "    money_market_conditional_probabilities['mmb1_checking0'] = mmb1_checking0\n",
    "    money_market_conditional_probabilities['mmb0_checking1'] = mmb0_checking1\n",
    "    money_market_conditional_probabilities['mmb0_checking0'] = mmb0_checking0\n",
    "    \n",
    "    money_market_conditional_probabilities['mmb1_cm1'] = mmb1_cm1\n",
    "    money_market_conditional_probabilities['mmb1_cm0'] = mmb1_cm0\n",
    "    money_market_conditional_probabilities['mmb0_cm1'] = mmb0_cm1\n",
    "    money_market_conditional_probabilities['mmb0_cm0'] = mmb0_cm0\n",
    "    \n",
    "    money_market_conditional_probabilities['mmb1_fx1'] = mmb1_fx1\n",
    "    money_market_conditional_probabilities['mmb1_fx0'] = mmb1_fx0\n",
    "    money_market_conditional_probabilities['mmb0_fx1'] = mmb0_fx1\n",
    "    money_market_conditional_probabilities['mmb0_fx0'] = mmb0_fx0\n",
    "    \n",
    "    money_market_conditional_probabilities['mmb1_loc1'] = mmb1_loc1\n",
    "    money_market_conditional_probabilities['mmb1_loc0'] = mmb1_loc0\n",
    "    money_market_conditional_probabilities['mmb0_loc1'] = mmb0_loc1\n",
    "    money_market_conditional_probabilities['mmb0_loc0'] = mmb0_loc0\n",
    "    \n",
    "    money_market_conditional_probabilities['mmb1_es1'] = mmb1_es1\n",
    "    money_market_conditional_probabilities['mmb1_es0'] = mmb1_es0\n",
    "    money_market_conditional_probabilities['mmb0_es1'] = mmb0_es1\n",
    "    money_market_conditional_probabilities['mmb0_es0'] = mmb0_es0\n",
    "    \n",
    "    \n",
    "    return money_market_conditional_probabilities\n",
    "    \n",
    "    \n",
    "    \n",
    "\n",
    "    "
   ]
  },
  {
   "cell_type": "code",
   "execution_count": 294,
   "metadata": {
    "collapsed": false
   },
   "outputs": [
    {
     "data": {
      "text/plain": [
       "{'mmb0_checking0': 1.0,\n",
       " 'mmb0_checking1': 3.9403962771360244e-267,\n",
       " 'mmb0_cm0': 0.99405056310473472,\n",
       " 'mmb0_cm1': 0.0059494368952653287,\n",
       " 'mmb0_cmma0': 0.99858364811291989,\n",
       " 'mmb0_cmma1': 0.0014163518870800595,\n",
       " 'mmb0_es0': 0.99387592721948692,\n",
       " 'mmb0_es1': 0.0061240727805130721,\n",
       " 'mmb0_fx0': 0.99394137085651268,\n",
       " 'mmb0_fx1': 0.0060586291434872666,\n",
       " 'mmb0_loc0': 0.99655320009958426,\n",
       " 'mmb0_loc1': 0.0034467999004157753,\n",
       " 'mmb1_checking0': 0.98704824043341077,\n",
       " 'mmb1_checking1': 0.012951759566589175,\n",
       " 'mmb1_cm0': 0.9999999996412432,\n",
       " 'mmb1_cm1': 3.5875678159281587e-10,\n",
       " 'mmb1_cmma0': 1.0,\n",
       " 'mmb1_cmma1': 6.2883619143909686e-68,\n",
       " 'mmb1_es0': 0.99614499408587709,\n",
       " 'mmb1_es1': 0.0038550059141228723,\n",
       " 'mmb1_fx0': 0.99345842622158864,\n",
       " 'mmb1_fx1': 0.006541573778411333,\n",
       " 'mmb1_loc0': 0.99223255780067143,\n",
       " 'mmb1_loc1': 0.0077674421993285192}"
      ]
     },
     "execution_count": 294,
     "metadata": {},
     "output_type": "execute_result"
    }
   ],
   "source": [
    "dict_of_esp_money_market_cpd = esp_money_market_conditional_probabilities(40) \n",
    "dict_of_esp_money_market_cpd "
   ]
  },
  {
   "cell_type": "code",
   "execution_count": 295,
   "metadata": {
    "collapsed": false
   },
   "outputs": [],
   "source": [
    "model = MarkovModel([('money_market_bonus', 'collateral_mma'), ('money_market_bonus', 'checking_usd'), \n",
    "                     ('money_market_bonus', 'cash_management'), ('money_market_bonus', 'fx_products'),\n",
    "                    ('money_market_bonus', 'letters_of_credit'), ('money_market_bonus', 'enterprise_sweep')])#,\n",
    "                     \n",
    "#                      ('collateral_mma', 'checking_usd'), ('collateral_mma', 'cash_management'), \n",
    "#                      ('collateral_mma', 'fx_products'), ('collateral_mma', 'letters_of_credit'),\n",
    "#                     ('collateral_mma', 'enterprise_sweep')\n",
    "                     \n",
    "#                     ])\n",
    "esp_eligible_products = ['Money Market Bonus','Collateral MMA'\n",
    "'Cash Management',\n",
    "'FX Products',\n",
    "'Letters of Credit',\n",
    "'Enterprise Sweep',\n",
    "'Checking USD']\n",
    "\n",
    "def esp_product_probability_over_time(esp_money_market_conditional_probabilities,month_n= None,\n",
    "                                      product_name = None,range_of_months=72,evidence_=None):\n",
    "    \"\"\"Returns the probability of having a given ESP product during a certain month. \n",
    "    If no month_n is given, then will return distributions of each product per month for 24 months. \n",
    "    Otherwise, will only products for that month.\n",
    "    If no product_name is given, then will return all products for a given month. Or, that particular product\"\"\"\n",
    "    prob_mmb = []\n",
    "    prob_cmma = []\n",
    "    prob_cm = []\n",
    "    prob_fx = []\n",
    "    prob_loc = []\n",
    "    prob_es = []\n",
    "    prob_checking = []\n",
    "    prob_given_month_no_priors_having_product = {}\n",
    "    products =['money_market_bonus','collateral_mma','cash_management',\n",
    "                                        'fx_products','letters_of_credit','enterprise_sweep','checking_usd']\n",
    "    \n",
    "    if month_n_one_time != None:\n",
    "        dict_of_esp_money_market_cpd = esp_money_market_conditional_probabilities(month_n_one_time) \n",
    "\n",
    "            factor_mmb_cmma = Factor(variables=['money_market_bonus', 'collateral_mma'],\n",
    "                                cardinality=[2, 2],\n",
    "                                values=[dict_of_esp_money_market_cpd['mmb0_cmma0'], dict_of_esp_money_market_cpd['mmb0_cmma1'],\n",
    "                                        dict_of_esp_money_market_cpd['mmb1_cmma0'], dict_of_esp_money_market_cpd['mmb1_cmma1']])\n",
    "            factor_mmb_cm = Factor(variables=['money_market_bonus', 'cash_management'],\n",
    "                                cardinality=[2, 2],\n",
    "                                values=[dict_of_esp_money_market_cpd['mmb0_cm0'], dict_of_esp_money_market_cpd['mmb0_cm1'],\n",
    "                                        dict_of_esp_money_market_cpd['mmb1_cm0'], dict_of_esp_money_market_cpd['mmb1_cm1']])\n",
    "            factor_mmb_fx = Factor(variables=['money_market_bonus', 'fx_products'],\n",
    "                                 cardinality=[2, 2],\n",
    "                                 values=[dict_of_esp_money_market_cpd['mmb0_fx0'], dict_of_esp_money_market_cpd['mmb0_fx1'],\n",
    "                                        dict_of_esp_money_market_cpd['mmb1_fx0'], dict_of_esp_money_market_cpd['mmb1_fx1']])\n",
    "            factor_mmb_loc = Factor(variables=['money_market_bonus', 'letters_of_credit'],\n",
    "                                 cardinality=[2, 2],\n",
    "                                 values=[dict_of_esp_money_market_cpd['mmb0_loc0'], dict_of_esp_money_market_cpd['mmb0_loc1'],\n",
    "                                        dict_of_esp_money_market_cpd['mmb1_loc0'], dict_of_esp_money_market_cpd['mmb1_loc1']])\n",
    "            factor_mmb_es = Factor(variables=['money_market_bonus', 'enterprise_sweep'],\n",
    "                                 cardinality=[2, 2],\n",
    "                                 values=[dict_of_esp_money_market_cpd['mmb0_es0'], dict_of_esp_money_market_cpd['mmb0_es1'],\n",
    "                                        dict_of_esp_money_market_cpd['mmb1_es0'], dict_of_esp_money_market_cpd['mmb1_es1']])  \n",
    "            factor_mmb_checking = Factor(variables=['money_market_bonus', 'checking_usd'],\n",
    "                                 cardinality=[2, 2],\n",
    "                                 values=[dict_of_esp_money_market_cpd['mmb0_checking0'], dict_of_esp_money_market_cpd['mmb0_checking1'],\n",
    "                                        dict_of_esp_money_market_cpd['mmb1_checking0'], dict_of_esp_money_market_cpd['mmb1_checking1']])   \n",
    "\n",
    "#             factor_cmma_checking = Factor(variables=['collateral_mma', 'checking_usd'],\n",
    "#                                 cardinality=[2, 2],\n",
    "#                                 values=[dict_of_esp_money_market_cpd['mmb0_cmma0'], dict_of_esp_money_market_cpd['mmb0_cmma1'],\n",
    "#                                         dict_of_esp_money_market_cpd['mmb1_cmma0'], dict_of_esp_money_market_cpd['mmb1_cmma1']])\n",
    "\n",
    "#             factor_cmma_cm = Factor(variables=['collateral_mma', 'checking_usd'],\n",
    "#                                 cardinality=[2, 2],\n",
    "#                                 values=[.4, .6, .3, .7])\n",
    "\n",
    "#             factor_cmma_fx = Factor(variables=['collateral_mma', 'fx_products'],\n",
    "#                                 cardinality=[2, 2],\n",
    "#                                 values=[.2, .8, .9, .1])\n",
    "\n",
    "#             factor_cmma_loc = Factor(variables=['collateral_mma', 'letters_of_credit'],\n",
    "#                                 cardinality=[2, 2],\n",
    "#                                 values=[.3, .7, .4, .6])\n",
    "\n",
    "#             factor_cmma_es = Factor(variables=['collateral_mma', 'letters_of_credit'],\n",
    "#                                 cardinality=[2, 2],\n",
    "#                                 values=[.1, .9, .4, .6])\n",
    "\n",
    "            model.add_factors(factor_mmb_cmma, factor_mmb_cm,\n",
    "                               factor_mmb_fx, factor_mmb_loc,factor_mmb_es ,factor_mmb_checking)#,\n",
    "            belief_propagation = BeliefPropagation(model)\n",
    "            if evidence_ == None:\n",
    "                belief_nopriors = belief_propagation.query(variables=['money_market_bonus','collateral_mma','cash_management',\n",
    "                                            'fx_products','letters_of_credit','enterprise_sweep','checking_usd'],\n",
    "                                                          evidence=evidence_)\n",
    "                return \n",
    "            else:\n",
    "                \n",
    "\n",
    "            ## append the probabilities over time\n",
    "            prob_mmb.append(belief_nopriors ['money_market_bonus'].values[1]) # one is having the product\n",
    "            prob_cmma.append(belief_nopriors['collateral_mma'].values[1])\n",
    "            prob_cm.append(belief_nopriors['cash_management'].values[1])\n",
    "            prob_fx.append(belief_nopriors['fx_products'].values[1])\n",
    "            prob_loc.append(belief_nopriors['letters_of_credit'].values[1])\n",
    "            prob_es.append(belief_nopriors['enterprise_sweep'].values[1])\n",
    "            prob_checking.append(belief_nopriors['checking_usd'].values[1])\n",
    "    else:\n",
    "        for month_n_loop in range(range_of_months):\n",
    "            dict_of_esp_money_market_cpd = esp_money_market_conditional_probabilities(month_n_loop) \n",
    "\n",
    "            factor_mmb_cmma = Factor(variables=['money_market_bonus', 'collateral_mma'],\n",
    "                                cardinality=[2, 2],\n",
    "                                values=[dict_of_esp_money_market_cpd['mmb0_cmma0'], dict_of_esp_money_market_cpd['mmb0_cmma1'],\n",
    "                                        dict_of_esp_money_market_cpd['mmb1_cmma0'], dict_of_esp_money_market_cpd['mmb1_cmma1']])\n",
    "            factor_mmb_cm = Factor(variables=['money_market_bonus', 'cash_management'],\n",
    "                                cardinality=[2, 2],\n",
    "                                values=[dict_of_esp_money_market_cpd['mmb0_cm0'], dict_of_esp_money_market_cpd['mmb0_cm1'],\n",
    "                                        dict_of_esp_money_market_cpd['mmb1_cm0'], dict_of_esp_money_market_cpd['mmb1_cm1']])\n",
    "            factor_mmb_fx = Factor(variables=['money_market_bonus', 'fx_products'],\n",
    "                                 cardinality=[2, 2],\n",
    "                                 values=[dict_of_esp_money_market_cpd['mmb0_fx0'], dict_of_esp_money_market_cpd['mmb0_fx1'],\n",
    "                                        dict_of_esp_money_market_cpd['mmb1_fx0'], dict_of_esp_money_market_cpd['mmb1_fx1']])\n",
    "            factor_mmb_loc = Factor(variables=['money_market_bonus', 'letters_of_credit'],\n",
    "                                 cardinality=[2, 2],\n",
    "                                 values=[dict_of_esp_money_market_cpd['mmb0_loc0'], dict_of_esp_money_market_cpd['mmb0_loc1'],\n",
    "                                        dict_of_esp_money_market_cpd['mmb1_loc0'], dict_of_esp_money_market_cpd['mmb1_loc1']])\n",
    "            factor_mmb_es = Factor(variables=['money_market_bonus', 'enterprise_sweep'],\n",
    "                                 cardinality=[2, 2],\n",
    "                                 values=[dict_of_esp_money_market_cpd['mmb0_es0'], dict_of_esp_money_market_cpd['mmb0_es1'],\n",
    "                                        dict_of_esp_money_market_cpd['mmb1_es0'], dict_of_esp_money_market_cpd['mmb1_es1']])  \n",
    "            factor_mmb_checking = Factor(variables=['money_market_bonus', 'checking_usd'],\n",
    "                                 cardinality=[2, 2],\n",
    "                                 values=[dict_of_esp_money_market_cpd['mmb0_checking0'], dict_of_esp_money_market_cpd['mmb0_checking1'],\n",
    "                                        dict_of_esp_money_market_cpd['mmb1_checking0'], dict_of_esp_money_market_cpd['mmb1_checking1']])   \n",
    "\n",
    "#             factor_cmma_checking = Factor(variables=['collateral_mma', 'checking_usd'],\n",
    "#                                 cardinality=[2, 2],\n",
    "#                                 values=[dict_of_esp_money_market_cpd['mmb0_cmma0'], dict_of_esp_money_market_cpd['mmb0_cmma1'],\n",
    "#                                         dict_of_esp_money_market_cpd['mmb1_cmma0'], dict_of_esp_money_market_cpd['mmb1_cmma1']])\n",
    "\n",
    "#             factor_cmma_cm = Factor(variables=['collateral_mma', 'checking_usd'],\n",
    "#                                 cardinality=[2, 2],\n",
    "#                                 values=[.4, .6, .3, .7])\n",
    "\n",
    "#             factor_cmma_fx = Factor(variables=['collateral_mma', 'fx_products'],\n",
    "#                                 cardinality=[2, 2],\n",
    "#                                 values=[.2, .8, .9, .1])\n",
    "\n",
    "#             factor_cmma_loc = Factor(variables=['collateral_mma', 'letters_of_credit'],\n",
    "#                                 cardinality=[2, 2],\n",
    "#                                 values=[.3, .7, .4, .6])\n",
    "\n",
    "#             factor_cmma_es = Factor(variables=['collateral_mma', 'letters_of_credit'],\n",
    "#                                 cardinality=[2, 2],\n",
    "#                                 values=[.1, .9, .4, .6])\n",
    "\n",
    "            model.add_factors(factor_mmb_cmma, factor_mmb_cm,\n",
    "                               factor_mmb_fx, factor_mmb_loc,factor_mmb_es ,factor_mmb_checking)#,\n",
    "            belief_propagation = BeliefPropagation(model)\n",
    "            belief_nopriors = belief_propagation.query(variables=['money_market_bonus','collateral_mma','cash_management',\n",
    "                                        'fx_products','letters_of_credit','enterprise_sweep','checking_usd'],\n",
    "                                                      evidence=evidence_)\n",
    "\n",
    "            ## append the probabilities over time\n",
    "            prob_mmb.append(belief_nopriors ['money_market_bonus'].values[1]) # one is having the product\n",
    "            prob_cmma.append(belief_nopriors['collateral_mma'].values[1])\n",
    "            prob_cm.append(belief_nopriors['cash_management'].values[1])\n",
    "            prob_fx.append(belief_nopriors['fx_products'].values[1])\n",
    "            prob_loc.append(belief_nopriors['letters_of_credit'].values[1])\n",
    "            prob_es.append(belief_nopriors['enterprise_sweep'].values[1])\n",
    "            prob_checking.append(belief_nopriors['checking_usd'].values[1])\n",
    "\n",
    "    plt.figure(figsize=(15,8))\n",
    "    plt.plot([_ for _ in range( range_of_months)], prob_mmb,label='mmb')\n",
    "    plt.plot([_ for _ in range( range_of_months)], prob_cmma,label='cmma')\n",
    "    plt.plot([_ for _ in range( range_of_months)], prob_fx,label='fx')\n",
    "    plt.plot([_ for _ in range( range_of_months)], prob_loc,label='loc')\n",
    "    plt.plot([_ for _ in range( range_of_months)], prob_es,label='es')\n",
    "    plt.plot([_ for _ in range( range_of_months)], prob_checking,label='checking')\n",
    "    plt.legend()\n",
    "    \n",
    "        \n",
    "        \n",
    "# fig = plt.plot([i for i in range(50)],have_money_market,label='have money_market_bonus')\n",
    "# fig.title('Haev money market bonus')\n",
    "\n",
    "                # factor_cmma_checking,factor_cmma_cm,factor_cmma_fx,factor_cmma_loc,factor_cmma_es )"
   ]
  },
  {
   "cell_type": "code",
   "execution_count": 296,
   "metadata": {
    "collapsed": false
   },
   "outputs": [
    {
     "data": {
      "image/png": "[encoded data removed]",
      "text/plain": [
       "<matplotlib.figure.Figure at 0x11e6b63c8>"
      ]
     },
     "metadata": {},
     "output_type": "display_data"
    }
   ],
   "source": [
    "esp_product_probability_over_time(esp_money_market_conditional_probabilities)"
   ]
  },
  {
   "cell_type": "code",
   "execution_count": null,
   "metadata": {
    "collapsed": true
   },
   "outputs": [],
   "source": []
  },
  {
   "cell_type": "code",
   "execution_count": 249,
   "metadata": {
    "collapsed": false
   },
   "outputs": [
    {
     "data": {
      "text/plain": [
       "(collateral_mma _|_ fx_products, enterprise_sweep, checking_usd, letters_of_credit, cash_management | money_market_bonus)\n",
       "(checking_usd _|_ fx_products, enterprise_sweep, collateral_mma, letters_of_credit, cash_management | money_market_bonus)\n",
       "(cash_management _|_ fx_products, enterprise_sweep, checking_usd, collateral_mma, letters_of_credit | money_market_bonus)\n",
       "(fx_products _|_ enterprise_sweep, checking_usd, collateral_mma, letters_of_credit, cash_management | money_market_bonus)\n",
       "(letters_of_credit _|_ fx_products, enterprise_sweep, checking_usd, collateral_mma, cash_management | money_market_bonus)\n",
       "(enterprise_sweep _|_ fx_products, checking_usd, collateral_mma, letters_of_credit, cash_management | money_market_bonus)"
      ]
     },
     "execution_count": 249,
     "metadata": {},
     "output_type": "execute_result"
    }
   ],
   "source": [
    "model.get_local_independencies()"
   ]
  },
  {
   "cell_type": "code",
   "execution_count": 252,
   "metadata": {
    "collapsed": false
   },
   "outputs": [
    {
     "name": "stdout",
     "output_type": "stream",
     "text": [
      "╒══════════════════════╤════════════════╤════════════════════════════════════════╕\n",
      "│ money_market_bonus   │ checking_usd   │   phi(money_market_bonus,checking_usd) │\n",
      "╞══════════════════════╪════════════════╪════════════════════════════════════════╡\n",
      "│ money_market_bonus_0 │ checking_usd_0 │                                 1.0000 │\n",
      "├──────────────────────┼────────────────┼────────────────────────────────────────┤\n",
      "│ money_market_bonus_0 │ checking_usd_1 │                                 0.0000 │\n",
      "├──────────────────────┼────────────────┼────────────────────────────────────────┤\n",
      "│ money_market_bonus_1 │ checking_usd_0 │                                 0.9978 │\n",
      "├──────────────────────┼────────────────┼────────────────────────────────────────┤\n",
      "│ money_market_bonus_1 │ checking_usd_1 │                                 0.0022 │\n",
      "╘══════════════════════╧════════════════╧════════════════════════════════════════╛\n"
     ]
    }
   ],
   "source": [
    "from IPython.display import Image\n",
    "print(factor_mmb_checking)"
   ]
  },
  {
   "cell_type": "code",
   "execution_count": 220,
   "metadata": {
    "collapsed": false
   },
   "outputs": [],
   "source": [
    "belief_propagation = BeliefPropagation(model)"
   ]
  },
  {
   "cell_type": "code",
   "execution_count": 221,
   "metadata": {
    "collapsed": false
   },
   "outputs": [],
   "source": [
    "belief = belief_propagation.query(variables=['collateral_mma'])"
   ]
  },
  {
   "cell_type": "code",
   "execution_count": 237,
   "metadata": {
    "collapsed": false
   },
   "outputs": [
    {
     "data": {
      "text/plain": [
       "array([  1.00000000e+00,   1.35741448e-53])"
      ]
     },
     "execution_count": 237,
     "metadata": {},
     "output_type": "execute_result"
    }
   ],
   "source": [
    "belief['collateral_mma'].values"
   ]
  },
  {
   "cell_type": "code",
   "execution_count": 301,
   "metadata": {
    "collapsed": false
   },
   "outputs": [],
   "source": [
    "factor_mmb_cmma = Factor(variables=['money_market_bonus', 'collateral_mma'],\n",
    "                    cardinality=[2, 2],\n",
    "                    values=[dict_of_esp_money_market_cpd['mmb0_cmma0'], dict_of_esp_money_market_cpd['mmb0_cmma1'],\n",
    "                            dict_of_esp_money_market_cpd['mmb1_cmma0'], dict_of_esp_money_market_cpd['mmb1_cmma1']])\n",
    "factor_mmb_cm = Factor(variables=['money_market_bonus', 'cash_management'],\n",
    "                    cardinality=[2, 2],\n",
    "                    values=[dict_of_esp_money_market_cpd['mmb0_cm0'], dict_of_esp_money_market_cpd['mmb0_cm1'],\n",
    "                            dict_of_esp_money_market_cpd['mmb1_cm0'], dict_of_esp_money_market_cpd['mmb1_cm1']])\n",
    "factor_mmb_fx = Factor(variables=['money_market_bonus', 'fx_products'],\n",
    "                     cardinality=[2, 2],\n",
    "                     values=[dict_of_esp_money_market_cpd['mmb0_fx0'], dict_of_esp_money_market_cpd['mmb0_fx1'],\n",
    "                            dict_of_esp_money_market_cpd['mmb1_fx0'], dict_of_esp_money_market_cpd['mmb1_fx1']])\n",
    "factor_mmb_loc = Factor(variables=['money_market_bonus', 'letters_of_credit'],\n",
    "                     cardinality=[2, 2],\n",
    "                     values=[dict_of_esp_money_market_cpd['mmb0_loc0'], dict_of_esp_money_market_cpd['mmb0_loc1'],\n",
    "                            dict_of_esp_money_market_cpd['mmb1_loc0'], dict_of_esp_money_market_cpd['mmb1_loc1']])\n",
    "factor_mmb_es = Factor(variables=['money_market_bonus', 'enterprise_sweep'],\n",
    "                     cardinality=[2, 2],\n",
    "                     values=[dict_of_esp_money_market_cpd['mmb0_es0'], dict_of_esp_money_market_cpd['mmb0_es1'],\n",
    "                            dict_of_esp_money_market_cpd['mmb1_es0'], dict_of_esp_money_market_cpd['mmb1_es1']])  \n",
    "factor_mmb_checking = Factor(variables=['money_market_bonus', 'checking_usd'],\n",
    "                     cardinality=[2, 2],\n",
    "                     values=[dict_of_esp_money_market_cpd['mmb0_checking0'], dict_of_esp_money_market_cpd['mmb0_checking1'],\n",
    "                            dict_of_esp_money_market_cpd['mmb1_checking0'], dict_of_esp_money_market_cpd['mmb1_checking1']])   \n",
    "\n",
    "# factor_cmma_checking = Factor(variables=['collateral_mma', 'checking_usd'],\n",
    "#                     cardinality=[2, 2],\n",
    "#                     values=[.1, .9, .5, .5])\n",
    "\n",
    "# factor_cmma_cm = Factor(variables=['collateral_mma', 'checking_usd'],\n",
    "#                     cardinality=[2, 2],\n",
    "#                     values=[.4, .6, .3, .7])\n",
    "\n",
    "# factor_cmma_fx = Factor(variables=['collateral_mma', 'fx_products'],\n",
    "#                     cardinality=[2, 2],\n",
    "#                     values=[.2, .8, .9, .1])\n",
    "\n",
    "# factor_cmma_loc = Factor(variables=['collateral_mma', 'letters_of_credit'],\n",
    "#                     cardinality=[2, 2],\n",
    "#                     values=[.3, .7, .4, .6])\n",
    "\n",
    "# factor_cmma_es = Factor(variables=['collateral_mma', 'letters_of_credit'],\n",
    "#                     cardinality=[2, 2],\n",
    "#                     values=[.1, .9, .4, .6])\n",
    "\n",
    "model.add_factors(factor_mmb_cmma, factor_mmb_cm,\n",
    "                   factor_mmb_fx, factor_mmb_loc,factor_mmb_es ,factor_mmb_checking)#,\n",
    "belief_propagation = BeliefPropagation(model)\n",
    "tes = belief_propagation.query(variables=['cash_management','enterprise_sweep','money_market_bonus'],\n",
    "                              evidence={'checking_usd':0})"
   ]
  },
  {
   "cell_type": "code",
   "execution_count": 302,
   "metadata": {
    "collapsed": false
   },
   "outputs": [
    {
     "name": "stdout",
     "output_type": "stream",
     "text": [
      "\n"
     ]
    }
   ],
   "source": [
    "print(model)"
   ]
  },
  {
   "cell_type": "code",
   "execution_count": 303,
   "metadata": {
    "collapsed": false
   },
   "outputs": [
    {
     "data": {
      "text/plain": [
       "array([  1.00000000e+000,   1.23750423e-166])"
      ]
     },
     "execution_count": 303,
     "metadata": {},
     "output_type": "execute_result"
    }
   ],
   "source": [
    "tes['cash_management'].values"
   ]
  },
  {
   "cell_type": "code",
   "execution_count": 304,
   "metadata": {
    "collapsed": false
   },
   "outputs": [
    {
     "data": {
      "text/plain": [
       "array([  1.00000000e+000,   7.45345104e-161])"
      ]
     },
     "execution_count": 304,
     "metadata": {},
     "output_type": "execute_result"
    }
   ],
   "source": [
    "tes['enterprise_sweep'].values"
   ]
  },
  {
   "cell_type": "code",
   "execution_count": 305,
   "metadata": {
    "collapsed": false
   },
   "outputs": [
    {
     "data": {
      "text/plain": [
       "array([ 0.73019158,  0.26980842])"
      ]
     },
     "execution_count": 305,
     "metadata": {},
     "output_type": "execute_result"
    }
   ],
   "source": [
    "tes['money_market_bonus'].values"
   ]
  },
  {
   "cell_type": "code",
   "execution_count": null,
   "metadata": {
    "collapsed": true
   },
   "outputs": [],
   "source": []
  }
 ],
 "metadata": {
  "kernelspec": {
   "display_name": "SVB",
   "language": "python",
   "name": "svb"
  },
  "language_info": {
   "codemirror_mode": {
    "name": "ipython",
    "version": 3
   },
   "file_extension": ".py",
   "mimetype": "text/x-python",
   "name": "python",
   "nbconvert_exporter": "python",
   "pygments_lexer": "ipython3",
   "version": "3.6.1"
  }
 },
 "nbformat": 4,
 "nbformat_minor": 2
}
