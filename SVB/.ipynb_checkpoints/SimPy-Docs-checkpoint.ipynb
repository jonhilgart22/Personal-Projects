{
 "cells": [
  {
   "cell_type": "code",
   "execution_count": 4,
   "metadata": {
    "collapsed": false
   },
   "outputs": [],
   "source": [
    "import simpy"
   ]
  },
  {
   "cell_type": "code",
   "execution_count": 3,
   "metadata": {
    "collapsed": false
   },
   "outputs": [
    {
     "name": "stdout",
     "output_type": "stream",
     "text": [
      "Python 3.5.2 :: Anaconda custom (x86_64)\r\n"
     ]
    }
   ],
   "source": [
    "!python -V"
   ]
  },
  {
   "cell_type": "code",
   "execution_count": 57,
   "metadata": {
    "collapsed": false
   },
   "outputs": [],
   "source": [
    ">>> class Car(object):\n",
    "...     def __init__(self, env):\n",
    "...         self.env = env\n",
    "...         self.action = env.process(self.run())\n",
    "...\n",
    "...     def run(self):\n",
    "...         while True:\n",
    "...             print('Start parking and charging at %d' % self.env.now)\n",
    "...             charge_duration = 5\n",
    "...             # We may get interrupted while charging the battery\n",
    "...             try:\n",
    "...                 yield self.env.process(self.charge(charge_duration))\n",
    "...             except simpy.Interrupt:\n",
    "...                 # When we received an interrupt, we stop charging and\n",
    "...                 # switch to the \"driving\" state\n",
    "...                 print('Was interrupted. Hope, the battery is full enough ...')\n",
    "...\n",
    "...             print('Start driving at %d' % self.env.now)\n",
    "...             trip_duration = 2\n",
    "...             yield self.env.timeout(trip_duration)\n",
    "...\n",
    "...     def charge(self, duration):\n",
    "...         yield self.env.timeout(duration)\n",
    "\n",
    ">>> def driver(env, car):\n",
    "...     yield env.timeout(3)\n",
    "...     car.action.interrupt()\n",
    "\n",
    "\n",
    ">>> def car(env, name, bcs, driving_time, charge_duration):\n",
    "        # Simulate driving to the BCS\n",
    "        yield env.timeout(driving_time)\n",
    "        # Request one of its charging spots\n",
    "        print('%s arriving at %d' % (name, env.now))\n",
    "        number_of_cars_charging = 0\n",
    "        with bcs.request() as req:\n",
    "            yield req\n",
    "            \n",
    "            # Charge the battery\n",
    "            print('%s starting to charge at %s' % (name, env.now))\n",
    "            number_of_cars_charging+=1\n",
    "            print()\n",
    "            print('There are {} cars charging start'.format(number_of_cars_charging))\n",
    "            yield env.timeout(charge_duration)\n",
    "            print('%s leaving the bcs at %s' % (name, env.now))\n",
    "            number_of_cars_charging -=1\n",
    "            print('There are {} cars charging left'.format(number_of_cars_charging))\n",
    "\n"
   ]
  },
  {
   "cell_type": "code",
   "execution_count": 58,
   "metadata": {
    "collapsed": false
   },
   "outputs": [
    {
     "name": "stdout",
     "output_type": "stream",
     "text": [
      "0\n",
      "1\n",
      "2\n",
      "3\n"
     ]
    }
   ],
   "source": [
    ">>> env = simpy.Environment()\n",
    ">>> bcs = simpy.Resource(env, capacity=2)\n",
    "\n",
    "for i in range(4):\n",
    "    print(i)\n",
    "    env.process(car(env, 'Car %d' % i, bcs, i*2, 5))"
   ]
  },
  {
   "cell_type": "code",
   "execution_count": 59,
   "metadata": {
    "collapsed": false
   },
   "outputs": [
    {
     "name": "stdout",
     "output_type": "stream",
     "text": [
      "Car 0 arriving at 0\n",
      "Car 0 starting to charge at 0\n",
      "\n",
      "There are 1 cars charging start\n",
      "Car 1 arriving at 2\n",
      "Car 1 starting to charge at 2\n",
      "\n",
      "There are 1 cars charging start\n",
      "Car 2 arriving at 4\n",
      "Car 0 leaving the bcs at 5\n",
      "There are 0 cars charging left\n",
      "Car 2 starting to charge at 5\n",
      "\n",
      "There are 1 cars charging start\n",
      "Car 3 arriving at 6\n",
      "Car 1 leaving the bcs at 7\n",
      "There are 0 cars charging left\n",
      "Car 3 starting to charge at 7\n",
      "\n",
      "There are 1 cars charging start\n",
      "Car 2 leaving the bcs at 10\n",
      "There are 0 cars charging left\n",
      "Car 3 leaving the bcs at 12\n",
      "There are 0 cars charging left\n"
     ]
    }
   ],
   "source": [
    "env.run()"
   ]
  },
  {
   "cell_type": "code",
   "execution_count": 112,
   "metadata": {
    "collapsed": false
   },
   "outputs": [],
   "source": [
    "\"\"\"\n",
    "Bank renege example\n",
    "\n",
    "Covers:\n",
    "\n",
    "- Resources: Resource\n",
    "- Condition events\n",
    "\n",
    "Scenario:\n",
    "  A counter with a random service time and customers who renege. Based on the\n",
    "  program bank08.py from TheBank tutorial of SimPy 2. (KGM)\n",
    "\n",
    "\"\"\"\n",
    "import random\n",
    "\n",
    "import simpy\n",
    "\n",
    "\n",
    "\n",
    "\n",
    "def source(env, number, interval, counter):\n",
    "    \"\"\"Source generates customers randomly\"\"\"\n",
    "    for i in range(number):\n",
    "        c = customer(env, 'Customer%02d' % i, counter, time_in_bank=12.0)\n",
    "        env.process(c)\n",
    "        t = random.expovariate(1.0 / interval)\n",
    "        yield env.timeout(t)\n",
    "\n",
    "\n",
    "def customer(env, name, counter, time_in_bank):\n",
    "    \"\"\"Customer arrives, is served and leaves.\"\"\"\n",
    "    global total_card_holders ### should set this as a class variable in the future\n",
    "    arrive = env.now\n",
    "    print('%7.4f %s: Here I am' % (arrive, name))\n",
    "\n",
    "    with counter.request() as req:\n",
    "        patience = random.uniform(MIN_PATIENCE, MAX_PATIENCE)\n",
    "        # Wait for the counter or abort at the end of our tether\n",
    "        results = yield req | env.timeout(patience)\n",
    "\n",
    "        wait = env.now - arrive\n",
    "        \n",
    "        if req in results:\n",
    "            # We got to the counter\n",
    "            print('%7.4f %s: Waited %6.3f' % (env.now, name, wait))\n",
    "            total_card_holders += counter.count\n",
    "            \n",
    "            tib = random.expovariate(1.0 / time_in_bank)\n",
    "            yield env.timeout(tib)\n",
    "            print('%7.4f %s: Finished' % (env.now, name))\n",
    "            ### assign people who reach the counter a credit card for 100 time steps\n",
    "            number_of_card_holders = simpy.Resource(env, capacity=1000)\n",
    "            yield env.process(purchase_card(env,name,1,number_of_card_holders))\n",
    "            #purchase_card(env,name,1)\n",
    "            \n",
    "        \n",
    "        else:\n",
    "            # We reneged\n",
    "            print('%7.4f %s: RENEGED after %6.3f' % (env.now, name, wait))\n",
    "\n",
    "    \n",
    "    \n",
    "def purchase_card(env, n, number,num_card_holders):\n",
    "    \"\"\"Generate 'card purchases' for people who reached the bank teller\"\"\"\n",
    "    global total_card_holders\n",
    "    purchase_card_time = env.now\n",
    "    with num_card_holders.request() as req:\n",
    "        \n",
    "    #card_purchaser = ('Card-Holder%02d' %  total_card_holders, card_lifetime=100.0)\n",
    "  \n",
    "        yield env.timeout(1) # no delay\n",
    "        print( \" {} got a credit card at time {}\".format(n,purchase_card_time,purchase_card_time))\n",
    "        \n",
    "\n"
   ]
  },
  {
   "cell_type": "code",
   "execution_count": 113,
   "metadata": {
    "collapsed": false
   },
   "outputs": [
    {
     "name": "stdout",
     "output_type": "stream",
     "text": [
      "Bank renege\n",
      " 0.0000 Customer00: Here I am\n",
      " 0.0000 Customer00: Waited  0.000\n",
      " 3.8595 Customer00: Finished\n",
      " Customer00 got a credit card at time 3.859488768899587\n",
      "10.2006 Customer01: Here I am\n",
      "10.2006 Customer01: Waited  0.000\n",
      "12.7265 Customer02: Here I am\n",
      "13.9003 Customer02: RENEGED after  1.174\n",
      "23.7507 Customer01: Finished\n",
      " Customer01 got a credit card at time 23.750678978331123\n",
      "34.9993 Customer03: Here I am\n",
      "34.9993 Customer03: Waited  0.000\n",
      "37.9599 Customer03: Finished\n",
      " Customer03 got a credit card at time 37.95994607648084\n",
      "40.4798 Customer04: Here I am\n",
      "40.4798 Customer04: Waited  0.000\n",
      "43.1401 Customer04: Finished\n",
      " Customer04 got a credit card at time 43.14010734889202\n",
      "47.5190 Customer05: Here I am\n",
      "47.5190 Customer05: Waited  0.000\n",
      "50.5073 Customer05: Finished\n",
      " Customer05 got a credit card at time 50.50727962519127\n",
      "58.0139 Customer06: Here I am\n",
      "58.0139 Customer06: Waited  0.000\n",
      "58.0921 Customer06: Finished\n",
      " Customer06 got a credit card at time 58.092122232466316\n",
      "66.9120 Customer07: Here I am\n",
      "66.9120 Customer07: Waited  0.000\n",
      "71.9027 Customer07: Finished\n",
      " Customer07 got a credit card at time 71.90271071081571\n",
      "83.3016 Customer08: Here I am\n",
      "83.3016 Customer08: Waited  0.000\n",
      "84.9915 Customer09: Here I am\n",
      "86.1849 Customer09: RENEGED after  1.193\n",
      "88.2261 Customer08: Finished\n",
      " Customer08 got a credit card at time 88.22605545231124\n",
      "Total card holdres finished 8\n"
     ]
    }
   ],
   "source": [
    "# Setup and start the simulation\n",
    "print('Bank renege')\n",
    "random.seed(RANDOM_SEED)\n",
    "env = simpy.Environment()\n",
    "\n",
    "\n",
    "\n",
    "RANDOM_SEED = 42\n",
    "NEW_CUSTOMERS = 10  # Total number of customers\n",
    "INTERVAL_CUSTOMERS = 10.0  # Generate new customers roughly every x seconds\n",
    "MIN_PATIENCE = 1  # Min. customer patience\n",
    "MAX_PATIENCE = 3  # Max. customer patience\n",
    "\n",
    "# Start processes and run\n",
    "counter = simpy.Resource(env, capacity=1)\n",
    "total_card_holders = 0\n",
    "env.process(source(env, NEW_CUSTOMERS, INTERVAL_CUSTOMERS, counter))\n",
    "env.run()\n",
    "print('Total card holdres finished {}'.format(total_card_holders ))"
   ]
  },
  {
   "cell_type": "code",
   "execution_count": 95,
   "metadata": {
    "collapsed": false
   },
   "outputs": [
    {
     "data": {
      "text/plain": [
       "23"
      ]
     },
     "execution_count": 95,
     "metadata": {},
     "output_type": "execute_result"
    }
   ],
   "source": [
    ">>> def sub(env):\n",
    "...     yield env.timeout(1)\n",
    "...     return 23\n",
    "...\n",
    ">>> def parent(env):\n",
    "...     ret = yield env.process(sub(env))\n",
    "...     return ret\n",
    "...\n",
    ">>> env.run(env.process(parent(env)))\n"
   ]
  },
  {
   "cell_type": "code",
   "execution_count": null,
   "metadata": {
    "collapsed": true
   },
   "outputs": [],
   "source": []
  }
 ],
 "metadata": {
  "kernelspec": {
   "display_name": "Python [default]",
   "language": "python",
   "name": "python3"
  },
  "language_info": {
   "codemirror_mode": {
    "name": "ipython",
    "version": 3
   },
   "file_extension": ".py",
   "mimetype": "text/x-python",
   "name": "python",
   "nbconvert_exporter": "python",
   "pygments_lexer": "ipython3",
   "version": "3.5.2"
  }
 },
 "nbformat": 4,
 "nbformat_minor": 2
}
