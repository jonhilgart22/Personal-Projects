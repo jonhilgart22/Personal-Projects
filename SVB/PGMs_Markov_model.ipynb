{
 "cells": [
  {
   "cell_type": "code",
   "execution_count": 224,
   "metadata": {
    "collapsed": false
   },
   "outputs": [
    {
     "name": "stdout",
     "output_type": "stream",
     "text": [
      "Populating the interactive namespace from numpy and matplotlib\n"
     ]
    },
    {
     "name": "stderr",
     "output_type": "stream",
     "text": [
      "/Users/jonathanhilgart/anaconda/envs/SVB/lib/python3.6/site-packages/IPython/html.py:14: ShimWarning: The `IPython.html` package has been deprecated since IPython 4.0. You should import from `notebook` instead. `IPython.html.widgets` has moved to `ipywidgets`.\n",
      "  \"`IPython.html.widgets` has moved to `ipywidgets`.\", ShimWarning)\n"
     ]
    }
   ],
   "source": [
    "from pgmpy.models import MarkovModel\n",
    "from pgmpy.factors import Factor\n",
    "from pgmpy.readwrite import XMLBIFWriter\n",
    "from pgmpy.inference import BeliefPropagation\n",
    "import scipy.stats as stats\n",
    "import numpy as np\n",
    "import seaborn as sns\n",
    "%pylab inline"
   ]
  },
  {
   "cell_type": "code",
   "execution_count": 225,
   "metadata": {
    "collapsed": true
   },
   "outputs": [],
   "source": [
    "esp_eligible_products = ['Money Market Bonus','Collateral MMA'\n",
    "'Cash Management',\n",
    "'FX Products',\n",
    "'Letters of Credit',\n",
    "'Enterprise Sweep',\n",
    "'Checking USD']"
   ]
  },
  {
   "cell_type": "code",
   "execution_count": 226,
   "metadata": {
    "collapsed": false
   },
   "outputs": [],
   "source": [
    "## define a probability distribution over each pair of varaibles\n",
    "def esp_money_market_conditional_probabilities(month_number):\n",
    "    \"\"\"Returns the conditions probabilities of money market and every other ESP product.\n",
    "    Compute the probabilities distribution of money market = yes and moeny market = 0 no, then take the\n",
    "    complement to find the corresponding probabilities for the other class.\n",
    "    \n",
    "    Returns a dictionary of each probabilitiy distribution given the time\"\"\"\n",
    "    \n",
    "    mmb1_and_cmma1_dist = stats.norm(loc = 15, scale=2)\n",
    "    mmb0_and_cmma1_dist = stats.norm(loc = 85, scale=20)\n",
    "    \n",
    "    mmb1_and_checking1_dist = stats.norm(loc = 25, scale=10)\n",
    "    mmb0_and_checking1_dist = stats.norm(loc = 5, scale=1)\n",
    "    \n",
    "    mmb1_and_cm1_dist = stats.norm(loc = 45, scale=5)\n",
    "    mmb0_and_cm1_dist = stats.norm(loc = 38, scale=21)\n",
    "    \n",
    "    mmb1_and_fx1_dist = stats.norm(loc = 15, scale=55)\n",
    "    mmb0_and_fx1_dist = stats.norm(loc = 150, scale=55)\n",
    "    \n",
    "    mmb1_and_loc1_dist = stats.norm(loc = 35, scale=25)\n",
    "    mmb0_and_loc1_dist = stats.norm(loc = 15, scale=21)\n",
    "    \n",
    "    mmb1_and_es1_dist = stats.norm(loc = 185, scale=95)\n",
    "    mmb0_and_es1_dist = stats.norm(loc = 85, scale=55)\n",
    "    \n",
    "    # find the probabilities given a month number\n",
    "    mmb1_cmma1 = mmb1_and_cmma1_dist.pdf(month_number)\n",
    "    mmb1_cmma0 = 1-mmb1_cmma1\n",
    "    mmb0_cmma1 = mmb0_and_cmma1_dist.pdf(month_number)\n",
    "    mmb0_cmma0 = 1-mmb0_cmma1\n",
    "    \n",
    "    mmb1_checking1 = mmb1_and_checking1_dist.pdf(month_number)\n",
    "    mmb1_checking0 = 1 - mmb1_checking1\n",
    "    mmb0_checking1 = mmb0_and_checking1_dist.pdf(month_number)\n",
    "    mmb0_checking0 = 1-mmb0_checking1\n",
    "    \n",
    "    mmb1_cm1 = mmb1_and_cm1_dist.pdf(month_number)\n",
    "    mmb1_cm0 = 1 - mmb1_cm1\n",
    "    mmb0_cm1 = mmb0_and_cm1_dist.pdf(month_number)\n",
    "    mmb0_cm0 = 1-mmb0_cm1\n",
    "    \n",
    "    mmb1_fx1 = mmb1_and_fx1_dist.pdf(month_number)\n",
    "    mmb1_fx0 = 1 - mmb1_fx1\n",
    "    mmb0_fx1 = mmb0_and_fx1_dist.pdf(month_number)\n",
    "    mmb0_fx0 = 1-mmb0_fx1\n",
    "    \n",
    "    mmb1_loc1 = mmb1_and_loc1_dist.pdf(month_number)\n",
    "    mmb1_loc0 = 1 - mmb1_loc1\n",
    "    mmb0_loc1 = mmb0_and_loc1_dist.pdf(month_number)\n",
    "    mmb0_loc0 = 1-mmb0_loc1\n",
    "    \n",
    "    mmb1_es1 = mmb1_and_es1_dist.pdf(month_number)\n",
    "    mmb1_es0 = 1 - mmb1_es1\n",
    "    mmb0_es1 = mmb0_and_es1_dist.pdf(month_number)\n",
    "    mmb0_es0 = 1-mmb0_es1\n",
    "    \n",
    "    # return the probabilities in the form of a dictionary\n",
    "    money_market_conditional_probabilities = {}\n",
    "    money_market_conditional_probabilities['mmb1_cmma1'] = mmb1_cmma1\n",
    "    money_market_conditional_probabilities['mmb1_cmma0'] = mmb1_cmma0\n",
    "    money_market_conditional_probabilities['mmb0_cmma1'] = mmb0_cmma1\n",
    "    money_market_conditional_probabilities['mmb0_cmma0'] = mmb0_cmma0\n",
    "    \n",
    "    money_market_conditional_probabilities['mmb1_checking1'] = mmb1_checking1\n",
    "    money_market_conditional_probabilities['mmb1_checking0'] = mmb1_checking0\n",
    "    money_market_conditional_probabilities['mmb0_checking1'] = mmb0_checking1\n",
    "    money_market_conditional_probabilities['mmb0_checking0'] = mmb0_checking0\n",
    "    \n",
    "    money_market_conditional_probabilities['mmb1_cm1'] = mmb1_cm1\n",
    "    money_market_conditional_probabilities['mmb1_cm0'] = mmb1_cm0\n",
    "    money_market_conditional_probabilities['mmb0_cm1'] = mmb0_cm1\n",
    "    money_market_conditional_probabilities['mmb0_cm0'] = mmb0_cm0\n",
    "    \n",
    "    money_market_conditional_probabilities['mmb1_fx1'] = mmb1_fx1\n",
    "    money_market_conditional_probabilities['mmb1_fx0'] = mmb1_fx0\n",
    "    money_market_conditional_probabilities['mmb0_fx1'] = mmb0_fx1\n",
    "    money_market_conditional_probabilities['mmb0_fx0'] = mmb0_fx0\n",
    "    \n",
    "    money_market_conditional_probabilities['mmb1_loc1'] = mmb1_loc1\n",
    "    money_market_conditional_probabilities['mmb1_loc0'] = mmb1_loc0\n",
    "    money_market_conditional_probabilities['mmb0_loc1'] = mmb0_loc1\n",
    "    money_market_conditional_probabilities['mmb0_loc0'] = mmb0_loc0\n",
    "    \n",
    "    money_market_conditional_probabilities['mmb1_es1'] = mmb1_es1\n",
    "    money_market_conditional_probabilities['mmb1_es0'] = mmb1_es0\n",
    "    money_market_conditional_probabilities['mmb0_es1'] = mmb0_es1\n",
    "    money_market_conditional_probabilities['mmb0_es0'] = mmb0_es0\n",
    "    \n",
    "    \n",
    "    return money_market_conditional_probabilities\n",
    "    \n",
    "    \n",
    "    \n",
    "\n",
    "    "
   ]
  },
  {
   "cell_type": "code",
   "execution_count": 227,
   "metadata": {
    "collapsed": false
   },
   "outputs": [
    {
     "data": {
      "text/plain": [
       "{'mmb0_checking0': 1.0,\n",
       " 'mmb0_checking1': 3.9403962771360244e-267,\n",
       " 'mmb0_cm0': 0.98108870881910382,\n",
       " 'mmb0_cm1': 0.018911291180896208,\n",
       " 'mmb0_cmma0': 0.99841301740821664,\n",
       " 'mmb0_cmma1': 0.0015869825917833708,\n",
       " 'mmb0_es0': 0.99480979696548355,\n",
       " 'mmb0_es1': 0.0051902030345164548,\n",
       " 'mmb0_fx0': 0.99901834606339657,\n",
       " 'mmb0_fx1': 0.00098165393660341925,\n",
       " 'mmb0_loc0': 0.99064718349885705,\n",
       " 'mmb0_loc1': 0.0093528165011429291,\n",
       " 'mmb1_checking0': 0.98704824043341077,\n",
       " 'mmb1_checking1': 0.012951759566589175,\n",
       " 'mmb1_cm0': 0.95160585509617135,\n",
       " 'mmb1_cm1': 0.048394144903828672,\n",
       " 'mmb1_cmma0': 1.0,\n",
       " 'mmb1_cmma1': 2.3475976789875732e-35,\n",
       " 'mmb1_es0': 0.99868987846256363,\n",
       " 'mmb1_es1': 0.0013101215374364088,\n",
       " 'mmb1_fx0': 0.99345842622158864,\n",
       " 'mmb1_fx1': 0.006541573778411333,\n",
       " 'mmb1_loc0': 0.98435829224098181,\n",
       " 'mmb1_loc1': 0.015641707759018235}"
      ]
     },
     "execution_count": 227,
     "metadata": {},
     "output_type": "execute_result"
    }
   ],
   "source": [
    "dict_of_esp_money_market_cpd = esp_money_market_conditional_probabilities(40) \n",
    "dict_of_esp_money_market_cpd "
   ]
  },
  {
   "cell_type": "code",
   "execution_count": 290,
   "metadata": {
    "collapsed": false
   },
   "outputs": [],
   "source": [
    "model = MarkovModel([('money_market_bonus', 'collateral_mma'), ('money_market_bonus', 'checking_usd'), \n",
    "                     ('money_market_bonus', 'cash_management'), ('money_market_bonus', 'fx_products'),\n",
    "                    ('money_market_bonus', 'letters_of_credit'), ('money_market_bonus', 'enterprise_sweep')])#,\n",
    "                     \n",
    "#                      ('collateral_mma', 'checking_usd'), ('collateral_mma', 'cash_management'), \n",
    "#                      ('collateral_mma', 'fx_products'), ('collateral_mma', 'letters_of_credit'),\n",
    "#                     ('collateral_mma', 'enterprise_sweep')\n",
    "                     \n",
    "#                     ])\n",
    "esp_eligible_products = ['Money Market Bonus','Collateral MMA'\n",
    "'Cash Management',\n",
    "'FX Products',\n",
    "'Letters of Credit',\n",
    "'Enterprise Sweep',\n",
    "'Checking USD']\n",
    "\n",
    "def esp_product_probability_over_time(esp_money_market_conditional_probabilities,month_n= None,\n",
    "                                      product_name = None,range_of_months=72,evidence_=None):\n",
    "    \"\"\"Returns the probability of having a given ESP product during a certain month. \n",
    "    If no month_n is given, then will return distributions of each product per month for 24 months. \n",
    "    Otherwise, will only products for that month.\n",
    "    If no product_name is given, then will return all products for a given month. Or, that particular product\"\"\"\n",
    "    prob_mmb = []\n",
    "    prob_cmma = []\n",
    "    prob_cm = []\n",
    "    prob_fx = []\n",
    "    prob_loc = []\n",
    "    prob_es = []\n",
    "    prob_checking = []\n",
    "    \n",
    "    if month_n != None:\n",
    "        pass\n",
    "    else:\n",
    "        for month_n in range(range_of_months):\n",
    "            dict_of_esp_money_market_cpd = esp_money_market_conditional_probabilities(month_n) \n",
    "\n",
    "            factor_mmb_cmma = Factor(variables=['money_market_bonus', 'collateral_mma'],\n",
    "                                cardinality=[2, 2],\n",
    "                                values=[dict_of_esp_money_market_cpd['mmb0_cmma0'], dict_of_esp_money_market_cpd['mmb0_cmma1'],\n",
    "                                        dict_of_esp_money_market_cpd['mmb1_cmma0'], dict_of_esp_money_market_cpd['mmb1_cmma1']])\n",
    "            factor_mmb_cm = Factor(variables=['money_market_bonus', 'cash_management'],\n",
    "                                cardinality=[2, 2],\n",
    "                                values=[dict_of_esp_money_market_cpd['mmb0_cm0'], dict_of_esp_money_market_cpd['mmb0_cm1'],\n",
    "                                        dict_of_esp_money_market_cpd['mmb1_cm0'], dict_of_esp_money_market_cpd['mmb1_cm1']])\n",
    "            factor_mmb_fx = Factor(variables=['money_market_bonus', 'fx_products'],\n",
    "                                 cardinality=[2, 2],\n",
    "                                 values=[dict_of_esp_money_market_cpd['mmb0_fx0'], dict_of_esp_money_market_cpd['mmb0_fx1'],\n",
    "                                        dict_of_esp_money_market_cpd['mmb1_fx0'], dict_of_esp_money_market_cpd['mmb1_fx1']])\n",
    "            factor_mmb_loc = Factor(variables=['money_market_bonus', 'letters_of_credit'],\n",
    "                                 cardinality=[2, 2],\n",
    "                                 values=[dict_of_esp_money_market_cpd['mmb0_loc0'], dict_of_esp_money_market_cpd['mmb0_loc1'],\n",
    "                                        dict_of_esp_money_market_cpd['mmb1_loc0'], dict_of_esp_money_market_cpd['mmb1_loc1']])\n",
    "            factor_mmb_es = Factor(variables=['money_market_bonus', 'enterprise_sweep'],\n",
    "                                 cardinality=[2, 2],\n",
    "                                 values=[dict_of_esp_money_market_cpd['mmb0_es0'], dict_of_esp_money_market_cpd['mmb0_es1'],\n",
    "                                        dict_of_esp_money_market_cpd['mmb1_es0'], dict_of_esp_money_market_cpd['mmb1_es1']])  \n",
    "            factor_mmb_checking = Factor(variables=['money_market_bonus', 'checking_usd'],\n",
    "                                 cardinality=[2, 2],\n",
    "                                 values=[dict_of_esp_money_market_cpd['mmb0_checking0'], dict_of_esp_money_market_cpd['mmb0_checking1'],\n",
    "                                        dict_of_esp_money_market_cpd['mmb1_checking0'], dict_of_esp_money_market_cpd['mmb1_checking1']])   \n",
    "\n",
    "#             factor_cmma_checking = Factor(variables=['collateral_mma', 'checking_usd'],\n",
    "#                                 cardinality=[2, 2],\n",
    "#                                 values=[dict_of_esp_money_market_cpd['mmb0_cmma0'], dict_of_esp_money_market_cpd['mmb0_cmma1'],\n",
    "#                                         dict_of_esp_money_market_cpd['mmb1_cmma0'], dict_of_esp_money_market_cpd['mmb1_cmma1']])\n",
    "\n",
    "#             factor_cmma_cm = Factor(variables=['collateral_mma', 'checking_usd'],\n",
    "#                                 cardinality=[2, 2],\n",
    "#                                 values=[.4, .6, .3, .7])\n",
    "\n",
    "#             factor_cmma_fx = Factor(variables=['collateral_mma', 'fx_products'],\n",
    "#                                 cardinality=[2, 2],\n",
    "#                                 values=[.2, .8, .9, .1])\n",
    "\n",
    "#             factor_cmma_loc = Factor(variables=['collateral_mma', 'letters_of_credit'],\n",
    "#                                 cardinality=[2, 2],\n",
    "#                                 values=[.3, .7, .4, .6])\n",
    "\n",
    "#             factor_cmma_es = Factor(variables=['collateral_mma', 'letters_of_credit'],\n",
    "#                                 cardinality=[2, 2],\n",
    "#                                 values=[.1, .9, .4, .6])\n",
    "\n",
    "            model.add_factors(factor_mmb_cmma, factor_mmb_cm,\n",
    "                               factor_mmb_fx, factor_mmb_loc,factor_mmb_es ,factor_mmb_checking)#,\n",
    "            belief_propagation = BeliefPropagation(model)\n",
    "            belief_nopriors = belief_propagation.query(variables=['money_market_bonus','collateral_mma','cash_management',\n",
    "                                        'fx_products','letters_of_credit','enterprise_sweep','checking_usd'])\n",
    "            #belief_cmma = belief_propagation.query(variables=['collateral_mma'])\n",
    "            #belief_cm = belief_propagation.query(variables=['cash_management'])\n",
    "            #belief_fx = belief_propagation.query(variables=['fx_products'])\n",
    "            #belief_loc = belief_propagation.query(variables=['letters_of_credit'])\n",
    "            ## append the probabilities over time\n",
    "            prob_mmb.append(belief_nopriors ['money_market_bonus'].values[1]) # one is having the product\n",
    "            prob_cmma.append(belief_nopriors['collateral_mma'].values[1])\n",
    "            prob_cm.append(belief_nopriors['cash_management'].values[1])\n",
    "            prob_fx.append(belief_nopriors['fx_products'].values[1])\n",
    "            prob_loc.append(belief_nopriors['letters_of_credit'].values[1])\n",
    "            prob_es.append(belief_nopriors['enterprise_sweep'].values[1])\n",
    "            prob_checking.append(belief_nopriors['checking_usd'].values[1])\n",
    "\n",
    "    plt.figure(figsize=(15,8))\n",
    "    plt.plot([_ for _ in range( range_of_months)], prob_mmb,label='mmb')\n",
    "    plt.plot([_ for _ in range( range_of_months)], prob_cmma,label='cmma')\n",
    "    plt.plot([_ for _ in range( range_of_months)], prob_fx,label='fx')\n",
    "    plt.plot([_ for _ in range( range_of_months)], prob_loc,label='loc')\n",
    "    plt.plot([_ for _ in range( range_of_months)], prob_es,label='es')\n",
    "    plt.plot([_ for _ in range( range_of_months)], prob_checking,label='checking')\n",
    "    plt.legend()\n",
    "    \n",
    "        \n",
    "        \n",
    "# fig = plt.plot([i for i in range(50)],have_money_market,label='have money_market_bonus')\n",
    "# fig.title('Haev money market bonus')\n",
    "\n",
    "                # factor_cmma_checking,factor_cmma_cm,factor_cmma_fx,factor_cmma_loc,factor_cmma_es )"
   ]
  },
  {
   "cell_type": "code",
   "execution_count": 291,
   "metadata": {
    "collapsed": false
   },
   "outputs": [
    {
     "name": "stdout",
     "output_type": "stream",
     "text": [
      "[ 0.99641768  0.00358232] fx products\n",
      "[  9.99974962e-01   2.50376284e-05] fx products\n",
      "[  9.99999821e-01   1.78646142e-07] fx products\n",
      "[  9.99999999e-01   1.31259910e-09] fx products\n",
      "[  1.00000000e+00   1.06543446e-11] fx products\n",
      "[  1.00000000e+00   9.16520476e-14] fx products\n",
      "[  1.00000000e+00   7.11862597e-16] fx products\n",
      "[  1.00000000e+00   5.21657362e-18] fx products\n",
      "[  1.00000000e+00   3.78539520e-20] fx products\n",
      "[  1.00000000e+00   2.74818541e-22] fx products\n",
      "[  1.00000000e+00   1.99507817e-24] fx products\n",
      "[  1.00000000e+00   1.44366346e-26] fx products\n",
      "[  1.00000000e+00   1.03516403e-28] fx products\n",
      "[  1.00000000e+00   7.29535784e-31] fx products\n",
      "[  1.00000000e+00   5.02041137e-33] fx products\n",
      "[  1.00000000e+00   3.38634640e-35] fx products\n",
      "[  1.00000000e+00   2.28046962e-37] fx products\n",
      "[  1.00000000e+00   1.56352951e-39] fx products\n",
      "[  1.00000000e+00   1.09678795e-41] fx products\n",
      "[  1.00000000e+00   7.81404312e-44] fx products\n",
      "[  1.00000000e+00   5.60204652e-46] fx products\n",
      "[  1.00000000e+00   4.01801884e-48] fx products\n",
      "[  1.00000000e+00   2.87591675e-50] fx products\n",
      "[  1.00000000e+00   2.05238078e-52] fx products\n",
      "[  1.00000000e+00   1.45988364e-54] fx products\n",
      "[  1.00000000e+00   1.03486040e-56] fx products\n",
      "[  1.00000000e+00   7.30948742e-59] fx products\n",
      "[  1.00000000e+00   5.14366599e-61] fx products\n",
      "[  1.00000000e+00   3.60555073e-63] fx products\n",
      "[  1.00000000e+00   2.51710286e-65] fx products\n",
      "[  1.00000000e+00   1.74965896e-67] fx products\n",
      "[  1.00000000e+00   1.21055508e-69] fx products\n",
      "[  1.00000000e+00   8.33296407e-72] fx products\n",
      "[  1.00000000e+00   5.70347090e-74] fx products\n",
      "[  1.00000000e+00   3.87854748e-76] fx products\n",
      "[  1.00000000e+00   2.61802064e-78] fx products\n",
      "[  1.00000000e+00   1.75209162e-80] fx products\n",
      "[  1.00000000e+00   1.16108498e-82] fx products\n",
      "[  1.00000000e+00   7.60865490e-85] fx products\n",
      "[  1.00000000e+00   4.92401612e-87] fx products\n",
      "[  1.00000000e+00   3.14348040e-89] fx products\n",
      "[  1.00000000e+00   1.97809725e-91] fx products\n",
      "[  1.00000000e+00   1.22665293e-93] fx products\n",
      "[  1.00000000e+00   7.49901630e-96] fx products\n",
      "[  1.00000000e+00   4.52441614e-98] fx products\n",
      "[  1.00000000e+000   2.69848756e-100] fx products\n",
      "[  1.00000000e+000   1.59426852e-102] fx products\n",
      "[  1.00000000e+000   9.34952400e-105] fx products\n",
      "[  1.00000000e+000   5.45231130e-107] fx products\n",
      "[  1.00000000e+000   3.16566151e-109] fx products\n",
      "[  1.00000000e+000   1.83088451e-111] fx products\n",
      "[  1.00000000e+000   1.05458192e-113] fx products\n",
      "[  1.00000000e+000   6.04469810e-116] fx products\n",
      "[  1.00000000e+000   3.44364766e-118] fx products\n",
      "[  1.00000000e+000   1.94714278e-120] fx products\n",
      "[  1.00000000e+000   1.09114727e-122] fx products\n",
      "[  1.00000000e+000   6.05184647e-125] fx products\n",
      "[  1.00000000e+000   3.31814993e-127] fx products\n",
      "[  1.00000000e+000   1.79669832e-129] fx products\n",
      "[  1.00000000e+000   9.60001392e-132] fx products\n",
      "[  1.00000000e+000   5.05823983e-134] fx products\n",
      "[  1.00000000e+000   2.62677386e-136] fx products\n",
      "[  1.00000000e+000   1.34382682e-138] fx products\n",
      "[  1.00000000e+000   6.76997879e-141] fx products\n",
      "[  1.00000000e+000   3.35734353e-143] fx products\n",
      "[  1.00000000e+000   1.63839402e-145] fx products\n",
      "[  1.00000000e+000   7.86518551e-148] fx products\n",
      "[  1.00000000e+000   3.71298597e-150] fx products\n",
      "[  1.00000000e+000   1.72312697e-152] fx products\n",
      "[  1.00000000e+000   7.85861855e-155] fx products\n",
      "[  1.00000000e+000   3.52098672e-157] fx products\n",
      "[  1.00000000e+000   1.54926200e-159] fx products\n"
     ]
    },
    {
     "data": {
      "image/png": "[encoded data removed]",
      "text/plain": [
       "<matplotlib.figure.Figure at 0x11e550cc0>"
      ]
     },
     "metadata": {},
     "output_type": "display_data"
    }
   ],
   "source": [
    "esp_product_probability_over_time(esp_money_market_conditional_probabilities)"
   ]
  },
  {
   "cell_type": "code",
   "execution_count": null,
   "metadata": {
    "collapsed": true
   },
   "outputs": [],
   "source": []
  },
  {
   "cell_type": "code",
   "execution_count": 249,
   "metadata": {
    "collapsed": false
   },
   "outputs": [
    {
     "data": {
      "text/plain": [
       "(collateral_mma _|_ fx_products, enterprise_sweep, checking_usd, letters_of_credit, cash_management | money_market_bonus)\n",
       "(checking_usd _|_ fx_products, enterprise_sweep, collateral_mma, letters_of_credit, cash_management | money_market_bonus)\n",
       "(cash_management _|_ fx_products, enterprise_sweep, checking_usd, collateral_mma, letters_of_credit | money_market_bonus)\n",
       "(fx_products _|_ enterprise_sweep, checking_usd, collateral_mma, letters_of_credit, cash_management | money_market_bonus)\n",
       "(letters_of_credit _|_ fx_products, enterprise_sweep, checking_usd, collateral_mma, cash_management | money_market_bonus)\n",
       "(enterprise_sweep _|_ fx_products, checking_usd, collateral_mma, letters_of_credit, cash_management | money_market_bonus)"
      ]
     },
     "execution_count": 249,
     "metadata": {},
     "output_type": "execute_result"
    }
   ],
   "source": [
    "model.get_local_independencies()"
   ]
  },
  {
   "cell_type": "code",
   "execution_count": 252,
   "metadata": {
    "collapsed": false
   },
   "outputs": [
    {
     "name": "stdout",
     "output_type": "stream",
     "text": [
      "╒══════════════════════╤════════════════╤════════════════════════════════════════╕\n",
      "│ money_market_bonus   │ checking_usd   │   phi(money_market_bonus,checking_usd) │\n",
      "╞══════════════════════╪════════════════╪════════════════════════════════════════╡\n",
      "│ money_market_bonus_0 │ checking_usd_0 │                                 1.0000 │\n",
      "├──────────────────────┼────────────────┼────────────────────────────────────────┤\n",
      "│ money_market_bonus_0 │ checking_usd_1 │                                 0.0000 │\n",
      "├──────────────────────┼────────────────┼────────────────────────────────────────┤\n",
      "│ money_market_bonus_1 │ checking_usd_0 │                                 0.9978 │\n",
      "├──────────────────────┼────────────────┼────────────────────────────────────────┤\n",
      "│ money_market_bonus_1 │ checking_usd_1 │                                 0.0022 │\n",
      "╘══════════════════════╧════════════════╧════════════════════════════════════════╛\n"
     ]
    }
   ],
   "source": [
    "from IPython.display import Image\n",
    "print(factor_mmb_checking)"
   ]
  },
  {
   "cell_type": "code",
   "execution_count": 220,
   "metadata": {
    "collapsed": false
   },
   "outputs": [],
   "source": [
    "belief_propagation = BeliefPropagation(model)"
   ]
  },
  {
   "cell_type": "code",
   "execution_count": 221,
   "metadata": {
    "collapsed": false
   },
   "outputs": [],
   "source": [
    "belief = belief_propagation.query(variables=['collateral_mma'])"
   ]
  },
  {
   "cell_type": "code",
   "execution_count": 237,
   "metadata": {
    "collapsed": false
   },
   "outputs": [
    {
     "data": {
      "text/plain": [
       "array([  1.00000000e+00,   1.35741448e-53])"
      ]
     },
     "execution_count": 237,
     "metadata": {},
     "output_type": "execute_result"
    }
   ],
   "source": [
    "belief['collateral_mma'].values"
   ]
  },
  {
   "cell_type": "code",
   "execution_count": 267,
   "metadata": {
    "collapsed": false
   },
   "outputs": [],
   "source": [
    "factor_mmb_cmma = Factor(variables=['money_market_bonus', 'collateral_mma'],\n",
    "                    cardinality=[2, 2],\n",
    "                    values=[dict_of_esp_money_market_cpd['mmb0_cmma0'], dict_of_esp_money_market_cpd['mmb0_cmma1'],\n",
    "                            dict_of_esp_money_market_cpd['mmb1_cmma0'], dict_of_esp_money_market_cpd['mmb1_cmma1']])\n",
    "factor_mmb_cm = Factor(variables=['money_market_bonus', 'cash_management'],\n",
    "                    cardinality=[2, 2],\n",
    "                    values=[dict_of_esp_money_market_cpd['mmb0_cm0'], dict_of_esp_money_market_cpd['mmb0_cm1'],\n",
    "                            dict_of_esp_money_market_cpd['mmb1_cm0'], dict_of_esp_money_market_cpd['mmb1_cm1']])\n",
    "factor_mmb_fx = Factor(variables=['money_market_bonus', 'fx_products'],\n",
    "                     cardinality=[2, 2],\n",
    "                     values=[dict_of_esp_money_market_cpd['mmb0_fx0'], dict_of_esp_money_market_cpd['mmb0_fx1'],\n",
    "                            dict_of_esp_money_market_cpd['mmb1_fx0'], dict_of_esp_money_market_cpd['mmb1_fx1']])\n",
    "factor_mmb_loc = Factor(variables=['money_market_bonus', 'letters_of_credit'],\n",
    "                     cardinality=[2, 2],\n",
    "                     values=[dict_of_esp_money_market_cpd['mmb0_loc0'], dict_of_esp_money_market_cpd['mmb0_loc1'],\n",
    "                            dict_of_esp_money_market_cpd['mmb1_loc0'], dict_of_esp_money_market_cpd['mmb1_loc1']])\n",
    "factor_mmb_es = Factor(variables=['money_market_bonus', 'enterprise_sweep'],\n",
    "                     cardinality=[2, 2],\n",
    "                     values=[dict_of_esp_money_market_cpd['mmb0_es0'], dict_of_esp_money_market_cpd['mmb0_es1'],\n",
    "                            dict_of_esp_money_market_cpd['mmb1_es0'], dict_of_esp_money_market_cpd['mmb1_es1']])  \n",
    "factor_mmb_checking = Factor(variables=['money_market_bonus', 'checking_usd'],\n",
    "                     cardinality=[2, 2],\n",
    "                     values=[dict_of_esp_money_market_cpd['mmb0_checking0'], dict_of_esp_money_market_cpd['mmb0_checking1'],\n",
    "                            dict_of_esp_money_market_cpd['mmb1_checking0'], dict_of_esp_money_market_cpd['mmb1_checking1']])   \n",
    "\n",
    "# factor_cmma_checking = Factor(variables=['collateral_mma', 'checking_usd'],\n",
    "#                     cardinality=[2, 2],\n",
    "#                     values=[.1, .9, .5, .5])\n",
    "\n",
    "# factor_cmma_cm = Factor(variables=['collateral_mma', 'checking_usd'],\n",
    "#                     cardinality=[2, 2],\n",
    "#                     values=[.4, .6, .3, .7])\n",
    "\n",
    "# factor_cmma_fx = Factor(variables=['collateral_mma', 'fx_products'],\n",
    "#                     cardinality=[2, 2],\n",
    "#                     values=[.2, .8, .9, .1])\n",
    "\n",
    "# factor_cmma_loc = Factor(variables=['collateral_mma', 'letters_of_credit'],\n",
    "#                     cardinality=[2, 2],\n",
    "#                     values=[.3, .7, .4, .6])\n",
    "\n",
    "# factor_cmma_es = Factor(variables=['collateral_mma', 'letters_of_credit'],\n",
    "#                     cardinality=[2, 2],\n",
    "#                     values=[.1, .9, .4, .6])\n",
    "\n",
    "model.add_factors(factor_mmb_cmma, factor_mmb_cm,\n",
    "                   factor_mmb_fx, factor_mmb_loc,factor_mmb_es ,factor_mmb_checking)#,\n",
    "belief_propagation = BeliefPropagation(model)\n",
    "tes = belief_propagation.query(variables=['cash_management','enterprise_sweep','money_market_bonus'])"
   ]
  },
  {
   "cell_type": "code",
   "execution_count": 292,
   "metadata": {
    "collapsed": false
   },
   "outputs": [
    {
     "name": "stdout",
     "output_type": "stream",
     "text": [
      "\n"
     ]
    }
   ],
   "source": [
    "print(model)"
   ]
  },
  {
   "cell_type": "code",
   "execution_count": 268,
   "metadata": {
    "collapsed": false
   },
   "outputs": [
    {
     "data": {
      "text/plain": [
       "array([  1.00000000e+00,   3.10604417e-96])"
      ]
     },
     "execution_count": 268,
     "metadata": {},
     "output_type": "execute_result"
    }
   ],
   "source": [
    "tes['cash_management'].values"
   ]
  },
  {
   "cell_type": "code",
   "execution_count": 269,
   "metadata": {
    "collapsed": false
   },
   "outputs": [
    {
     "data": {
      "text/plain": [
       "array([  1.00000000e+000,   1.27548181e-121])"
      ]
     },
     "execution_count": 269,
     "metadata": {},
     "output_type": "execute_result"
    }
   ],
   "source": [
    "tes['enterprise_sweep'].values"
   ]
  },
  {
   "cell_type": "code",
   "execution_count": 271,
   "metadata": {
    "collapsed": false
   },
   "outputs": [
    {
     "data": {
      "text/plain": [
       "array([ 0.75236808,  0.24763192])"
      ]
     },
     "execution_count": 271,
     "metadata": {},
     "output_type": "execute_result"
    }
   ],
   "source": [
    "tes['money_market_bonus'].values"
   ]
  },
  {
   "cell_type": "code",
   "execution_count": null,
   "metadata": {
    "collapsed": true
   },
   "outputs": [],
   "source": []
  }
 ],
 "metadata": {
  "kernelspec": {
   "display_name": "SVB",
   "language": "python",
   "name": "svb"
  },
  "language_info": {
   "codemirror_mode": {
    "name": "ipython",
    "version": 3
   },
   "file_extension": ".py",
   "mimetype": "text/x-python",
   "name": "python",
   "nbconvert_exporter": "python",
   "pygments_lexer": "ipython3",
   "version": "3.6.1"
  }
 },
 "nbformat": 4,
 "nbformat_minor": 2
}
