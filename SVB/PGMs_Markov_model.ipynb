{
 "cells": [
  {
   "cell_type": "code",
   "execution_count": 1,
   "metadata": {
    "collapsed": false
   },
   "outputs": [
    {
     "name": "stdout",
     "output_type": "stream",
     "text": [
      "Populating the interactive namespace from numpy and matplotlib\n"
     ]
    },
    {
     "name": "stderr",
     "output_type": "stream",
     "text": [
      "/Users/jonathanhilgart/anaconda/envs/SVB/lib/python3.6/site-packages/IPython/html.py:14: ShimWarning: The `IPython.html` package has been deprecated since IPython 4.0. You should import from `notebook` instead. `IPython.html.widgets` has moved to `ipywidgets`.\n",
      "  \"`IPython.html.widgets` has moved to `ipywidgets`.\", ShimWarning)\n"
     ]
    }
   ],
   "source": [
    "from pgmpy.models import MarkovModel\n",
    "from pgmpy.factors import Factor\n",
    "from pgmpy.readwrite import XMLBIFWriter\n",
    "from pgmpy.inference import BeliefPropagation\n",
    "import scipy.stats as stats\n",
    "import numpy as np\n",
    "import seaborn as sns\n",
    "import matplotlib.pyplot as plt\n",
    "from pgmpy.inference import VariableElimination\n",
    "%pylab inline"
   ]
  },
  {
   "cell_type": "code",
   "execution_count": 2,
   "metadata": {
    "collapsed": true
   },
   "outputs": [],
   "source": [
    "esp_eligible_products = ['Money Market Bonus','Collateral MMA',\n",
    "'Cash Management',\n",
    "'FX Products',\n",
    "'Letters of Credit',\n",
    "'Enterprise Sweep',\n",
    "'Checking USD']"
   ]
  },
  {
   "cell_type": "code",
   "execution_count": 6,
   "metadata": {
    "collapsed": false
   },
   "outputs": [],
   "source": [
    "from pgmpy.factors import JointProbabilityDistribution as Joint"
   ]
  },
  {
   "cell_type": "code",
   "execution_count": null,
   "metadata": {
    "collapsed": true
   },
   "outputs": [],
   "source": []
  },
  {
   "cell_type": "code",
   "execution_count": 4,
   "metadata": {
    "collapsed": false
   },
   "outputs": [],
   "source": [
    " checking_prob = np.poly1d([ -1.25712688e-07,  -2.44667686e-04,   9.74145030e-01])"
   ]
  },
  {
   "cell_type": "code",
   "execution_count": 31,
   "metadata": {
    "collapsed": false
   },
   "outputs": [],
   "source": [
    "## define a probability distribution over each pair of varaibles\n",
    "def ESP_Joint_Product_Probabilities(week_n):\n",
    "    \"\"\"Returns the conditions probabilities of money market and every other ESP product.\n",
    "    Joint probability are from 2013-2016 GP with L10 desc data.\n",
    "    \n",
    "    Returns a dictionary of each probabilitiy distribution given the time.\n",
    "    \n",
    "    Takes inputs as weeks. need to conver to days interally in the function\"\"\"\n",
    "    days = week_n*7\n",
    "\n",
    "    \n",
    "    # find the probabilities given a month number for money market bonus\n",
    " \n",
    "    \n",
    "    mmb1_cmma1 = np.poly1d([  1.57710236e-11 , -4.50918313e-08,   5.17171411e-05,   4.19854824e-03] )\n",
    "    mmb1_cmma0 = np.poly1d([  5.25022109e-08 , -3.66526133e-05 ,  4.31836634e-02])\n",
    "    mmb0_cmma1 = np.poly1d([  2.39132559e-10 , -5.22063431e-07 ,  3.28246525e-04 ,  1.09429264e-01])\n",
    "    mmb0_cmma0 = np.poly1d([ -1.34227959e-10 ,  4.08578338e-07 , -3.34042008e-04 ,  1.10449016e-01])\n",
    "    \n",
    "    mmb1_cm1 = np.poly1d([ -2.72325078e-08  , 5.32423195e-05 ,  2.38412505e-03])\n",
    "    mmb1_cm0 = np.poly1d([  6.60564241e-08 , -5.44885860e-05 ,  4.67588381e-02])\n",
    "    mmb0_cm1 = np.poly1d([  3.16255512e-10 , -7.74450019e-07 ,  5.56003734e-04  , 4.71241933e-02]  )\n",
    "    mmb0_cm0 = np.poly1d([  1.41849046e-07 , -1.75714227e-04 ,  7.94067952e-02] )\n",
    "    \n",
    "    mmb1_fx1 = np.poly1d( [  3.93071703e-08,  -4.24533508e-05 ,  1.02708813e-02] )\n",
    "    mmb1_fx0 = np.poly1d([ -6.18015494e-09,   4.68190039e-05 ,  3.79494063e-02])\n",
    "    mmb0_fx1 = np.poly1d([  9.79641242e-11 , -1.97399479e-07 ,  1.24149742e-04  , 3.76001760e-02])\n",
    "    mmb0_fx0 = np.poly1d([ -1.61318891e-08  , 4.00025566e-05  , 5.82964383e-02])\n",
    "    \n",
    "    mmb1_loc1 = np.poly1d([ -4.22550570e-09  , 5.65017578e-06 , -3.96488802e-04])\n",
    "    mmb1_loc0 = np.poly1d([  1.21432277e-07 , -7.56422505e-05  , 5.94759824e-02])\n",
    "    mmb0_loc1 = np.poly1d([  1.38119839e-10 , -2.43899273e-07  , 1.23190415e-04 , -5.11590717e-03])\n",
    "    mmb0_loc0 = np.poly1d([  4.90160780e-09 , -1.10602879e-05,   8.06727522e-03] )\n",
    "    \n",
    "    mmb1_es1 = np.poly1d([ -3.44219706e-10 ,  3.77089961e-07 ,  5.65117553e-05] )\n",
    "    mmb1_es0 = np.poly1d([  1.31831110e-07,  -8.26822418e-05 ,  6.08844357e-02])\n",
    "    mmb0_es1 = np.poly1d([  9.36293242e-11  ,-1.83673854e-07 ,  9.34740975e-05 , -7.24107407e-04])\n",
    "    mmb0_es0 = np.poly1d(  [  5.35776109e-09,  -1.62917100e-05  , 1.13478188e-02] )\n",
    "\n",
    "    mmb1_checking1 = np.poly1d([  8.99847816e-11 , -2.12253976e-07 ,  1.73945104e-04,   2.43084138e-02]  )\n",
    "    mmb1_checking0 = np.poly1d([  5.58809362e-10,  -1.19722344e-06 ,  6.02004728e-04] )\n",
    "    mmb0_checking1 = np.poly1d([  4.76383257e-10 , -1.22998136e-06 ,  4.85653876e-04 ,  8.38437547e-01] )\n",
    "    mmb0_checking0 = np.poly1d([ -1.42872744e-10 ,  4.74608836e-07 , -2.78432877e-04,   4.27906033e-02])\n",
    "    \n",
    "    ## Collatral CMMA\n",
    "    cmma1_cm1 = np.poly1d([  3.75813976e-10 , -8.56156960e-07,   5.90366126e-04 ,  4.05775990e-02]  )\n",
    "    cmma1_cm0 = np.poly1d([  6.13492897e-08 , -9.60537438e-05 ,  6.11042095e-02]  )\n",
    "    cmma0_cm1 = np.poly1d([ -1.91945343e-06 ,  2.01259639e-02] )\n",
    "    cmma0_cm0 = np.poly1d([ -5.30441353e-10  , 1.64201864e-06 , -1.36724991e-03 ,  5.64692343e-01])\n",
    "    \n",
    "    cmma1_fx1 = np.poly1d([ -1.06499066e-08 ,  3.17261485e-05 ,  5.02692557e-03])\n",
    "    cmma1_fx0 = np.poly1d([  1.98711324e-10,  -4.70445387e-07 ,  3.16964167e-04  , 1.10315607e-01])\n",
    "    cmma0_fx1 = np.poly1d([  1.96260309e-10 , -3.77250869e-07 ,  1.92240042e-04  , 2.46124176e-02] )\n",
    "    cmma0_fx0 = np.poly1d([  5.40086652e-08 , -1.00737395e-04 ,  1.81095840e-01])\n",
    "\n",
    "    \n",
    "    cmma1_loc1 = np.poly1d([  3.70118002e-08 , -3.21635779e-05,   1.31499011e-02] )\n",
    "    cmma1_loc0 = np.poly1d([  2.08776657e-10 , -4.56851028e-07  , 3.06623482e-04  , 1.14971490e-01]  )\n",
    "    cmma0_loc1 = np.poly1d([ -3.20735229e-09 ,  4.27585774e-06,  -3.26305490e-04] )\n",
    "    cmma0_loc0 = np.poly1d([ -6.19025251e-09 , -2.20873660e-05  , 4.47722538e-02] )\n",
    "    \n",
    "    cmma1_es1 = np.poly1d([ -1.48874965e-06  , 4.09690027e-03] )\n",
    "    cmma1_es0 = np.poly1d([  3.20684365e-10 , -6.51792778e-07 ,  4.03725687e-04 ,  1.09675529e-01] )\n",
    "    cmma0_es1 = np.poly1d([  1.70001207e-08 , -2.27327923e-05 ,  1.01116227e-02])\n",
    "    cmma0_es0 = np.poly1d([  4.54790548e-06 ,  7.22027214e-03])\n",
    "    \n",
    "    cmma1_checking1 = np.poly1d([  5.38817243e-11 , -2.13296293e-07 ,  2.17272948e-04 ,  1.28643234e-01])\n",
    "    cmma1_checking0 = np.poly1d([ -1.84114473e-08  , 3.30581359e-05]  )\n",
    "    cmma0_checking1 = np.poly1d([ -7.70005472e-08 , -2.48167069e-04 ,  8.20246692e-01] )\n",
    "    cmma0_checking0 = np.poly1d([ -5.35019543e-10 ,  1.49208839e-06 , -8.83207458e-04 ,  1.46021278e-01]  )\n",
    "    # Cash Management \n",
    "    cm1_fx1 = np.poly1d([ -2.70627054e-08 ,  5.19710745e-05 , -4.78058702e-04]  )\n",
    "    cm1_fx0 = np.poly1d([  2.89145542e-10 , -7.46952150e-07  , 5.56072910e-04 ,  4.85444905e-02])\n",
    "    cm0_fx1 = np.poly1d([  7.12815404e-08 , -8.22838713e-05  , 6.13188854e-02] )\n",
    "    cm0_fx0 = np.poly1d([  5.83993963e-08  ,-1.40060734e-04 ,  2.12669564e-01] )\n",
    "    \n",
    "    cm1_loc1 = np.poly1d([  4.47474747e-08 , -4.33348854e-05 ,  9.54895666e-03] )\n",
    "    cm1_loc0 = np.poly1d([  2.43510803e-10 , -6.48374341e-07  , 5.18691100e-04  , 5.80813503e-02] )\n",
    "    cm0_loc1 = np.poly1d([ -1.17427554e-08 ,  1.60433608e-05 ,  3.22858720e-03] )\n",
    "    cm0_loc0 = np.poly1d([  2.21567279e-08 , -4.56547282e-05 ,  2.20794046e-02] )\n",
    "    \n",
    "    cm1_es1 = np.poly1d([ -5.55717354e-09,   5.75912822e-06 ,  2.30458591e-03] )\n",
    "    cm1_es0 = np.poly1d([  3.65384783e-10 , -8.62726003e-07  , 6.23268737e-04  , 4.66759004e-02]  )\n",
    "    cm0_es1 = np.poly1d([  1.59971864e-08 , -2.08982898e-05 ,  9.78864771e-03] )\n",
    "    cm0_es0 = np.poly1d([  5.78028518e-08 , -7.79834752e-05 ,  2.44262031e-02] )\n",
    "    \n",
    "    cm1_checking1 = np.poly1d([  1.43943080e-10 , -4.93480198e-07 ,  4.63116275e-04 ,  6.36292036e-02])\n",
    "    cm1_checking0 = np.poly1d([  2.61895039e-11 ,  2.48094805e-07 , -3.82818021e-05] )\n",
    "    cm0_checking1 = np.poly1d([  7.48405322e-10 , -3.72667166e-04 ,  8.70122284e-01] )\n",
    "    cm0_checking0 = np.poly1d([ -4.55146941e-10 ,  1.39890895e-06  ,-8.47100059e-04  , 1.44938778e-01] )\n",
    "    # FX Product\n",
    "    fx1_loc1  = np.poly1d([  2.01357420e-09  , 3.10466740e-06,  -5.74409740e-04])\n",
    "    fx1_loc0 = np.poly1d([  6.95316968e-08 , -6.15776782e-05 ,  6.59750461e-02] )\n",
    "    fx0_loc1 = np.poly1d([  2.62723478e-08 , -2.50278370e-05 ,  1.23840581e-02])\n",
    "    fx0_loc0 = np.poly1d([  1.29735983e-07 , -1.51562549e-04 ,  5.47190566e-02])\n",
    "    \n",
    "    fx1_es1 = np.poly1d([  9.94976489e-09 , -1.22575266e-05 ,  3.57454442e-03] )\n",
    "    fx1_es0 = np.poly1d([  5.80052009e-08 , -4.28792489e-05 ,  6.13492405e-02])\n",
    "    fx0_es1 = np.poly1d([ -1.13432662e-09 , -1.13048920e-06 ,  8.21780373e-03])\n",
    "    fx0_es0 = np.poly1d([  8.81774854e-08 , -8.35743008e-05  , 2.82923665e-02])\n",
    "    \n",
    "    fx1_checking1 = np.poly1d([  1.84966108e-08 , -2.33534059e-06 ,  5.58696220e-02])\n",
    "    fx1_checking0 = np.poly1d([ -1.47985464e-09 ,  2.30811673e-06 , -3.12663009e-04])\n",
    "    fx0_checking1 = np.poly1d([ -1.87681081e-07 , -1.01155762e-04 ,  9.02077297e-01])\n",
    "    fx0_checking0 = np.poly1d([  1.93691007e-07 , -8.56782841e-05 ,  6.47010923e-02]  )\n",
    "    # Letters of Credit\n",
    "    loc1_es1 = np.poly1d([  6.45185408e-10  , 1.39583672e-06,  -4.28818903e-04] )\n",
    "    loc1_es0 = np.poly1d([  1.42269641e-07 , -1.06416798e-04,   2.32737341e-02])\n",
    "    loc0_es1 = np.poly1d([  3.80518705e-08 , -3.26178930e-05 ,  1.52293001e-02] )\n",
    "    loc0_es0 = np.poly1d([  7.74987542e-08 , -5.69940202e-05 ,  1.60416749e-02] )\n",
    "    \n",
    "    loc1_checking1 = np.poly1d([  1.19975953e-08  ,-4.36318499e-06,   8.83611847e-03])\n",
    "    loc1_checking0 = np.poly1d([  1.42269641e-07 , -1.06416798e-04 ,  2.32737341e-02])\n",
    "    loc0_checking1 = np.poly1d([ -1.81182065e-07  ,-9.91279172e-05,   9.49110801e-01] )\n",
    "    loc0_checking0 = np.poly1d([  4.66096924e-09 , -5.77978671e-06,   3.25966754e-03])\n",
    "    # Enterprise sweep\n",
    "    es1_checking1 = np.poly1d([  3.74529130e-09 , -7.08765196e-06  , 1.01527895e-02] )\n",
    "    es1_checking0 = np.poly1d([  7.18261848e-10 , -1.59588865e-06 ,  8.40472809e-04]  )\n",
    "    es0_checking1 = np.poly1d([ -1.72929761e-07 , -9.64034502e-05 ,  9.47794130e-01] )\n",
    "    es0_checking0 = np.poly1d([  2.27269367e-08,  -2.62312569e-05  , 5.93025507e-03] )\n",
    "    \n",
    "    \n",
    "    \n",
    "    # return the probabilities in the form of a dictionary\n",
    "    money_market_joint_probabilities = {}\n",
    "    money_market_joint_probabilities['mmb1_cmma1'] = mmb1_cmma1(days)\n",
    "    money_market_joint_probabilities['mmb1_cmma0'] = mmb1_cmma0(days)\n",
    "    money_market_joint_probabilities['mmb0_cmma1'] = mmb0_cmma1(days)\n",
    "    money_market_joint_probabilities['mmb0_cmma0'] = mmb0_cmma0(days)\n",
    "    \n",
    "    money_market_joint_probabilities['mmb1_checking1'] = mmb1_checking1(days)\n",
    "    money_market_joint_probabilities['mmb1_checking0'] = mmb1_checking0(days)\n",
    "    money_market_joint_probabilities['mmb0_checking1'] = mmb0_checking1(days)\n",
    "    money_market_joint_probabilities['mmb0_checking0'] = mmb0_checking0(days)\n",
    "    \n",
    "    money_market_joint_probabilities['mmb1_cm1'] = mmb1_cm1(days)\n",
    "    money_market_joint_probabilities['mmb1_cm0'] = mmb1_cm0(days)\n",
    "    money_market_joint_probabilities['mmb0_cm1'] = mmb0_cm1(days)\n",
    "    money_market_joint_probabilities['mmb0_cm0'] = mmb0_cm0(days)\n",
    "    \n",
    "    money_market_joint_probabilities['mmb1_fx1'] = mmb1_fx1(days)\n",
    "    money_market_joint_probabilities['mmb1_fx0'] = mmb1_fx0(days)\n",
    "    money_market_joint_probabilities['mmb0_fx1'] = mmb0_fx1(days)\n",
    "    money_market_joint_probabilities['mmb0_fx0'] = mmb0_fx0(days)\n",
    "    \n",
    "    money_market_joint_probabilities['mmb1_loc1'] = mmb1_loc1(days)\n",
    "    money_market_joint_probabilities['mmb1_loc0'] = mmb1_loc0(days)\n",
    "    money_market_joint_probabilities['mmb0_loc1'] = mmb0_loc1(days)\n",
    "    money_market_joint_probabilities['mmb0_loc0'] = mmb0_loc0(days)\n",
    "    \n",
    "    money_market_joint_probabilities['mmb1_es1'] = mmb1_es1(days)\n",
    "    money_market_joint_probabilities['mmb1_es0'] = mmb1_es0(days)\n",
    "    money_market_joint_probabilities['mmb0_es1'] = mmb0_es1(days)\n",
    "    money_market_joint_probabilities['mmb0_es0'] = mmb0_es0(days)\n",
    "                                                                      \n",
    "    money_market_joint_probabilities['mmb1_checking1'] = mmb1_checking1(days)\n",
    "    money_market_joint_probabilities['mmb1_checking0'] = mmb1_checking0(days)\n",
    "    money_market_joint_probabilities['mmb0_checking1'] = mmb0_checking1(days)\n",
    "    money_market_joint_probabilities['mmb0_checking0'] = mmb0_checking0(days)\n",
    "        # collateral mma\n",
    "    money_market_joint_probabilities['cmma1_cm1'] = cmma1_cm1(days)\n",
    "    money_market_joint_probabilities['cmma1_cm0'] = cmma1_cm0(days)\n",
    "    money_market_joint_probabilities['cmma0_cm1'] = cmma0_cm1(days)\n",
    "    money_market_joint_probabilities['cmma0_cm0'] = cmma0_cm0(days)\n",
    "    \n",
    "    money_market_joint_probabilities['cmma1_fx1'] = cmma1_fx1(days)\n",
    "    money_market_joint_probabilities['cmma1_fx0'] = cmma1_fx0(days)\n",
    "    money_market_joint_probabilities['cmma0_fx1'] = cmma0_fx1(days)\n",
    "    money_market_joint_probabilities['cmma0_fx0'] = cmma0_fx0(days)\n",
    "    \n",
    "    money_market_joint_probabilities['cmma1_loc1'] = cmma1_loc1(days)\n",
    "    money_market_joint_probabilities['cmma1_loc0'] = cmma1_loc0(days)\n",
    "    money_market_joint_probabilities['cmma0_loc1'] = cmma0_loc1(days)\n",
    "    money_market_joint_probabilities['cmma0_loc0'] = cmma0_loc0(days)\n",
    "    \n",
    "    money_market_joint_probabilities['cmma1_es1'] = cmma1_es1(days)\n",
    "    money_market_joint_probabilities['cmma1_es0'] = cmma1_es0(days)\n",
    "    money_market_joint_probabilities['cmma0_es1'] = cmma0_es1(days)\n",
    "    money_market_joint_probabilities['cmma0_es0'] = cmma0_es0(days)\n",
    "    \n",
    "    money_market_joint_probabilities['cmma1_checking1'] = cmma1_checking1(days)\n",
    "    money_market_joint_probabilities['cmma1_checking0'] = cmma1_checking0(days)\n",
    "    money_market_joint_probabilities['cmma0_checking1'] = cmma0_checking1(days)\n",
    "    money_market_joint_probabilities['cmma0_checking0'] = cmma0_checking0(days)\n",
    "        # cash management\n",
    "    money_market_joint_probabilities['cm1_fx1'] = cm1_fx1(days)\n",
    "    money_market_joint_probabilities['cm1_fx0'] = cm1_fx0(days)\n",
    "    money_market_joint_probabilities['cm0_fx1'] = cm0_fx1(days)\n",
    "    money_market_joint_probabilities['cm0_fx0'] = cm0_fx0(days)\n",
    "    \n",
    "    money_market_joint_probabilities['cm1_loc1'] = cm1_loc1(days)\n",
    "    money_market_joint_probabilities['cm1_loc0'] = cm1_loc0(days)\n",
    "    money_market_joint_probabilities['cm0_loc1'] = cm0_loc1(days)\n",
    "    money_market_joint_probabilities['cm0_loc0'] = cm0_loc0(days)\n",
    "    \n",
    "    money_market_joint_probabilities['cm1_es1'] = cm1_es1(days)\n",
    "    money_market_joint_probabilities['cm1_es0'] = cm1_es0(days)\n",
    "    money_market_joint_probabilities['cm0_es1'] = cm0_es1(days)\n",
    "    money_market_joint_probabilities['cm0_es0'] = cm0_es0(days)\n",
    "    \n",
    "    money_market_joint_probabilities['cm1_checking1'] = cm1_checking1(days)\n",
    "    money_market_joint_probabilities['cm1_checking0'] = cm1_checking0(days)\n",
    "    money_market_joint_probabilities['cm0_checking1'] = cm0_checking1(days)\n",
    "    money_market_joint_probabilities['cm0_checking0'] = cm0_checking0(days)\n",
    "    # fx products\n",
    "                                                                \n",
    "    money_market_joint_probabilities['fx1_loc1'] = fx1_loc1(days)\n",
    "    money_market_joint_probabilities['fx1_loc0'] = fx1_loc0(days)\n",
    "    money_market_joint_probabilities['fx0_loc1'] = fx0_loc1(days)\n",
    "    money_market_joint_probabilities['fx0_loc0'] = fx0_loc0(days)\n",
    "    \n",
    "    money_market_joint_probabilities['fx1_es1'] = fx1_es1(days)\n",
    "    money_market_joint_probabilities['fx1_es0'] = fx1_es0(days)\n",
    "    money_market_joint_probabilities['fx0_es1'] = fx0_es1(days)\n",
    "    money_market_joint_probabilities['fx0_es0'] = fx0_es0(days)\n",
    "    \n",
    "    money_market_joint_probabilities['fx1_checking1'] = fx1_checking1(days)\n",
    "    money_market_joint_probabilities['fx1_checking0'] = fx1_checking0(days)\n",
    "    money_market_joint_probabilities['fx0_checking1'] = fx0_checking1(days)\n",
    "    money_market_joint_probabilities['fx0_checking0'] = fx0_checking0(days)\n",
    "        # letters of credit\n",
    "        \n",
    "    money_market_joint_probabilities['loc1_es1'] = loc1_es1(days)\n",
    "    money_market_joint_probabilities['loc1_es0'] = loc1_es0(days)\n",
    "    money_market_joint_probabilities['loc0_es1'] = loc0_es1(days)\n",
    "    money_market_joint_probabilities['loc0_es0'] = loc0_es0(days)\n",
    "    \n",
    "    money_market_joint_probabilities['loc1_checking1'] = loc1_checking1(days)\n",
    "    money_market_joint_probabilities['loc1_checking0'] = loc1_checking0(days)\n",
    "    money_market_joint_probabilities['loc0_checking1'] = loc0_checking1(days)\n",
    "    money_market_joint_probabilities['loc0_checking0'] = loc0_checking0(days)\n",
    "    #enterprise sweep\n",
    "    money_market_joint_probabilities['es1_checking1'] = es1_checking1(days)\n",
    "    money_market_joint_probabilities['es1_checking0'] = es1_checking0(days)\n",
    "    money_market_joint_probabilities['es0_checking1'] = es0_checking1(days)\n",
    "    money_market_joint_probabilities['es0_checking0'] = es0_checking0(days)\n",
    "                                                                \n",
    "                                                                \n",
    "                             \n",
    "                                                                      \n",
    "    \n",
    "    return money_market_joint_probabilities\n",
    "    \n",
    "    \n",
    "    \n",
    "\n",
    "    "
   ]
  },
  {
   "cell_type": "code",
   "execution_count": 32,
   "metadata": {
    "collapsed": false
   },
   "outputs": [],
   "source": [
    "dict_of_esp_money_market_joint_prob = ESP_Joint_Product_Probabilities(5) \n",
    "\n"
   ]
  },
  {
   "cell_type": "code",
   "execution_count": 33,
   "metadata": {
    "collapsed": false
   },
   "outputs": [
    {
     "data": {
      "text/plain": [
       "{'cm0_checking0': 0.1169844249736546,\n",
       " 'cm0_checking1': 0.85707984998651943,\n",
       " 'cm0_es0': 0.021767589961454999,\n",
       " 'cm0_es1': 0.0090768041203400009,\n",
       " 'cm0_fx0': 0.20783897757046751,\n",
       " 'cm0_fx1': 0.058526269791490004,\n",
       " 'cm0_loc0': 0.020508631104677502,\n",
       " 'cm0_loc1': 0.0037757199526349998,\n",
       " 'cm1_checking0': -2.9566401782722501e-05,\n",
       " 'cm1_checking1': 0.07923993154200501,\n",
       " 'cm1_es0': 0.067449132713896132,\n",
       " 'cm1_es1': 0.0024993478601134998,\n",
       " 'cm1_fx0': 0.067104423081363246,\n",
       " 'cm1_fx1': 0.0013077770913850002,\n",
       " 'cm1_loc0': 0.075451720757953616,\n",
       " 'cm1_loc1': 0.0080870513275074999,\n",
       " 'cmma0_checking0': 0.11691388628484388,\n",
       " 'cmma0_checking1': 0.81146651891468002,\n",
       " 'cmma0_cm0': 0.51882732631099016,\n",
       " 'cmma0_cm1': 0.020058783029949998,\n",
       " 'cmma0_es0': 0.0073794488317999998,\n",
       " 'cmma0_es1': 0.0093368001173574997,\n",
       " 'cmma0_fx0': 0.17763619178987,\n",
       " 'cmma0_fx1': 0.030887101416223375,\n",
       " 'cmma0_loc0': 0.043991612930675252,\n",
       " 'cmma0_loc1': -0.00018057947565524999,\n",
       " 'cmma1_checking0': 3.2413735244500004e-05,\n",
       " 'cmma1_checking1': 0.13598880940000435,\n",
       " 'cmma1_cm0': 0.057817481346882499,\n",
       " 'cmma1_cm1': 0.060207734158220998,\n",
       " 'cmma1_es0': 0.12302123123409936,\n",
       " 'cmma1_es1': 0.0040447940322500004,\n",
       " 'cmma1_fx0': 0.12084157699394149,\n",
       " 'cmma1_fx1': 0.0061242946319150001,\n",
       " 'cmma1_loc0': 0.12515262065986887,\n",
       " 'cmma1_loc1': 0.012069515328744999,\n",
       " 'es0_checking0': 0.0050400015759575001,\n",
       " 'es0_checking1': 0.94420817028577497,\n",
       " 'es1_checking0': 0.00078549657701380002,\n",
       " 'es1_checking1': 0.0099093096632425007,\n",
       " 'fx0_checking0': 0.061939623840075002,\n",
       " 'fx0_checking1': 0.89830693600577494,\n",
       " 'fx0_es0': 0.025475283391614999,\n",
       " 'fx0_es1': 0.0081768470578905007,\n",
       " 'fx0_loc0': 0.049573293964175001,\n",
       " 'fx0_loc1': 0.011540267431054999,\n",
       " 'fx1_checking0': -0.000233691745384,\n",
       " 'fx1_checking1': 0.055810543427580003,\n",
       " 'fx1_es0': 0.0599195231596025,\n",
       " 'fx1_es1': 0.0031577194509902497,\n",
       " 'fx1_loc0': 0.063905003691580003,\n",
       " 'fx1_loc1': -0.00046327975260499995,\n",
       " 'loc0_checking0': 0.0030630846924689999,\n",
       " 'loc0_checking1': 0.94541937586837499,\n",
       " 'loc0_es0': 0.014141820166895001,\n",
       " 'loc0_es1': 0.014134287386362502,\n",
       " 'loc1_checking0': 0.019723426480224997,\n",
       " 'loc1_checking1': 0.0086981040495925002,\n",
       " 'loc1_es0': 0.019723426480224997,\n",
       " 'loc1_es1': -0.00037917426567520002,\n",
       " 'mmb0_checking0': 0.033620722760200998,\n",
       " 'mmb0_checking1': 0.85394913042614384,\n",
       " 'mmb0_cm0': 0.073430562336350008,\n",
       " 'mmb0_cm1': 0.065649182171802004,\n",
       " 'mmb0_cmma0': 0.099252299160307866,\n",
       " 'mmb0_cmma1': 0.12028861748049212,\n",
       " 'mmb0_es0': 0.01078417220733525,\n",
       " 'mmb0_es1': 0.0023264998916250751,\n",
       " 'mmb0_fx0': 0.0596767662168525,\n",
       " 'mmb0_fx1': 0.041707802820050072,\n",
       " 'mmb0_loc0': 0.0076861696130549996,\n",
       " 'mmb0_loc1': -0.0010970973663278743,\n",
       " 'mmb1_checking0': 0.00056078644906844993,\n",
       " 'mmb1_checking1': 0.030140339416911101,\n",
       " 'mmb1_cm0': 0.044932656709522498,\n",
       " 'mmb1_cm1': 0.0042142464104450005,\n",
       " 'mmb1_cmma0': 0.0419651371428525,\n",
       " 'mmb1_cmma1': 0.0059540868677943493,\n",
       " 'mmb1_es0': 0.058152050346750001,\n",
       " 'mmb1_es1': 6.9288234795150002e-05,\n",
       " 'mmb1_fx0': 0.039580500746698499,\n",
       " 'mmb1_fx1': 0.0088331653056175005,\n",
       " 'mmb1_loc0': 0.056977258171825002,\n",
       " 'mmb1_loc1': -0.0002039088941825}"
      ]
     },
     "execution_count": 33,
     "metadata": {},
     "output_type": "execute_result"
    }
   ],
   "source": [
    "dict_of_esp_money_market_joint_prob"
   ]
  },
  {
   "cell_type": "code",
   "execution_count": 38,
   "metadata": {
    "collapsed": false
   },
   "outputs": [],
   "source": [
    "#,\n",
    "                     \n",
    "#                      ('collateral_mma', 'checking_usd'), ('collateral_mma', 'cash_management'), \n",
    "#                      ('collateral_mma', 'fx_products'), ('collateral_mma', 'letters_of_credit'),\n",
    "#                     ('collateral_mma', 'enterprise_sweep')\n",
    "                     \n",
    "#                     ])\n",
    "esp_eligible_products = ['Money Market Bonus','Collateral MMA'\n",
    "'Cash Management',\n",
    "'FX Products',\n",
    "'Letters of Credit',\n",
    "'Enterprise Sweep',\n",
    "'Checking USD']\n",
    "\n",
    "def ESP_Markov_Model_Joint_Prob(esp_money_market_jointprob_probabilities,week_n_one_time= None,\n",
    "                                      product_name = None,range_of_weeks=24,evidence_=None):\n",
    "    \"\"\"Returns the probability of having a given ESP product during a certain month.. \n",
    "    If no month_n is given, then will return distributions of each product per month for 24 months. \n",
    "    Otherwise, will only products for that month.\n",
    "    If no product_name is given, then will return all products for a given month. Or, that particular product\"\"\"\n",
    "    prob_mmb = []\n",
    "    prob_cmma = []\n",
    "    prob_cm = []\n",
    "    prob_fx = []\n",
    "    prob_loc = []\n",
    "    prob_es = []\n",
    "    prob_checking = []\n",
    "    prob_given_month_no_priors_having_product = {}\n",
    "    products =['money_market_bonus','collateral_mma','cash_management',\n",
    "                                        'fx_products','letters_of_credit','enterprise_sweep','checking_usd']\n",
    "    \n",
    "    model = MarkovModel([('money_market_bonus', 'collateral_mma'), ('money_market_bonus', 'checking_usd'), \n",
    "                     ('money_market_bonus', 'cash_management'), ('money_market_bonus', 'fx_products'),\n",
    "                    ('money_market_bonus', 'letters_of_credit'), ('money_market_bonus', 'enterprise_sweep'),\n",
    "                    ('collateral_mma','cash_management'),('collateral_mma', 'fx_products'),('collateral_mma', 'letters_of_credit'),\n",
    "                        ('collateral_mma', 'enterprise_sweep'),('collateral_mma', 'checking_usd'),('cash_management', 'fx_products'),\n",
    "                        ('cash_management', 'fx_products'),('cash_management', 'letters_of_credit'),('cash_management', 'enterprise_sweep'),\n",
    "                        ('cash_management', 'checking_usd'),('fx_products', 'letters_of_credit'),('fx_products', 'enterprise_sweep'),\n",
    "                         ('fx_products', 'checking_usd'),('letters_of_credit', 'enterprise_sweep'),('letters_of_credit', 'checking_usd'),\n",
    "                         ('enterprise_sweep', 'checking_usd')])\n",
    "    \n",
    "\n",
    "    if week_n_one_time != None:\n",
    "        dict_of_esp_money_market_cpd = esp_money_market_jointprob_probabilities(week_n_one_time) \n",
    "\n",
    "        factor_mmb_cmma = Joint(variables=['money_market_bonus', 'collateral_mma'],\n",
    "                        cardinality=[2, 2],\n",
    "                        values=[dict_of_esp_money_market_cpd['mmb0_cmma0'], dict_of_esp_money_market_cpd['mmb0_cmma1'],\n",
    "                                    dict_of_esp_money_market_cpd['mmb1_cmma0'], dict_of_esp_money_market_cpd['mmb1_cmma1']])\n",
    "        factor_mmb_cm = Joint(variables=['money_market_bonus', 'cash_management'],\n",
    "                            cardinality=[2, 2],\n",
    "                            values=[dict_of_esp_money_market_cpd['mmb0_cm0'], dict_of_esp_money_market_cpd['mmb0_cm1'],\n",
    "                                    dict_of_esp_money_market_cpd['mmb1_cm0'], dict_of_esp_money_market_cpd['mmb1_cm1']])\n",
    "        factor_mmb_fx = Joint(variables=['money_market_bonus', 'fx_products'],\n",
    "                             cardinality=[2, 2],\n",
    "                             values=[dict_of_esp_money_market_cpd['mmb0_fx0'], dict_of_esp_money_market_cpd['mmb0_fx1'],\n",
    "                                    dict_of_esp_money_market_cpd['mmb1_fx0'], dict_of_esp_money_market_cpd['mmb1_fx1']])\n",
    "        factor_mmb_loc = Joint(variables=['money_market_bonus', 'letters_of_credit'],\n",
    "                             cardinality=[2, 2],\n",
    "                             values=[dict_of_esp_money_market_cpd['mmb0_loc0'], dict_of_esp_money_market_cpd['mmb0_loc1'],\n",
    "                                    dict_of_esp_money_market_cpd['mmb1_loc0'], dict_of_esp_money_market_cpd['mmb1_loc1']])\n",
    "        factor_mmb_es = Joint(variables=['money_market_bonus', 'enterprise_sweep'],\n",
    "                             cardinality=[2, 2],\n",
    "                             values=[dict_of_esp_money_market_cpd['mmb0_es0'], dict_of_esp_money_market_cpd['mmb0_es1'],\n",
    "                                    dict_of_esp_money_market_cpd['mmb1_es0'], dict_of_esp_money_market_cpd['mmb1_es1']])  \n",
    "        factor_mmb_checking = Joint(variables=['money_market_bonus', 'checking_usd'],\n",
    "                             cardinality=[2, 2],\n",
    "                             values=[dict_of_esp_money_market_cpd['mmb0_checking0'], dict_of_esp_money_market_cpd['mmb0_checking1'],\n",
    "                                    dict_of_esp_money_market_cpd['mmb1_checking0'], dict_of_esp_money_market_cpd['mmb1_checking1']])   \n",
    "\n",
    "\n",
    "        model.add_factors(factor_mmb_cmma, factor_mmb_cm,\n",
    "                           factor_mmb_fx, factor_mmb_loc,factor_mmb_es ,factor_mmb_checking)#,\n",
    "        belief_propagation = BeliefPropagation(model)\n",
    "        if evidence_ == None:\n",
    "            belief_nopriors = belief_propagation.query(variables=['money_market_bonus','collateral_mma','cash_management',\n",
    "                                        'fx_products','letters_of_credit','enterprise_sweep','checking_usd'],\n",
    "                                                      evidence=evidence_)\n",
    "            return \n",
    "        else:\n",
    "\n",
    "\n",
    "            ## append the probabilities over time\n",
    "            prob_mmb.append(belief_nopriors ['money_market_bonus'].values[1]) # one is having the product\n",
    "            prob_cmma.append(belief_nopriors['collateral_mma'].values[1])\n",
    "            prob_cm.append(belief_nopriors['cash_management'].values[1])\n",
    "            prob_fx.append(belief_nopriors['fx_products'].values[1])\n",
    "            prob_loc.append(belief_nopriors['letters_of_credit'].values[1])\n",
    "            prob_es.append(belief_nopriors['enterprise_sweep'].values[1])\n",
    "            prob_checking.append(belief_nopriors['checking_usd'].values[1])\n",
    "    else:\n",
    "        for week_n_loop in range(range_of_weeks):\n",
    "            dict_of_esp_jointprob = esp_money_market_jointprob_probabilities(week_n_loop)\n",
    "            \n",
    "            # the order of the factor model is a0_b0, a0_b1, ,a1_b0, a1_b1\n",
    "            #http://conference.scipy.org/proceedings/scipy2015/pdfs/ankur_ankan.pdf\n",
    "            #mmb\n",
    "            factor_mmb_cmma = Factor(variables=['money_market_bonus', 'collateral_mma'],\n",
    "                                cardinality=[2, 2],\n",
    "                                values=[dict_of_esp_jointprob['mmb0_cmma0'], dict_of_esp_jointprob['mmb0_cmma1'],\n",
    "                                        dict_of_esp_jointprob['mmb1_cmma0'], dict_of_esp_jointprob['mmb1_cmma1']])\n",
    "            factor_mmb_cm = Factor(variables=['money_market_bonus', 'cash_management'],\n",
    "                                cardinality=[2, 2],\n",
    "                                values=[dict_of_esp_jointprob['mmb0_cm0'], dict_of_esp_jointprob['mmb0_cm1'],\n",
    "                                        dict_of_esp_jointprob['mmb1_cm0'], dict_of_esp_jointprob['mmb1_cm1']])\n",
    "            factor_mmb_fx = Factor(variables=['money_market_bonus', 'fx_products'],\n",
    "                                 cardinality=[2, 2],\n",
    "                                 values=[dict_of_esp_jointprob['mmb0_fx0'], dict_of_esp_jointprob['mmb0_fx1'],\n",
    "                                        dict_of_esp_jointprob['mmb1_fx0'], dict_of_esp_jointprob['mmb1_fx1']])\n",
    "            factor_mmb_loc = Factor(variables=['money_market_bonus', 'letters_of_credit'],\n",
    "                                 cardinality=[2, 2],\n",
    "                                 values=[dict_of_esp_jointprob['mmb0_loc0'], dict_of_esp_jointprob['mmb0_loc1'],\n",
    "                                        dict_of_esp_jointprob['mmb1_loc0'], dict_of_esp_jointprob['mmb1_loc1']])\n",
    "            factor_mmb_es = Factor(variables=['money_market_bonus', 'enterprise_sweep'],\n",
    "                                 cardinality=[2, 2],\n",
    "                                 values=[dict_of_esp_jointprob['mmb0_es0'], dict_of_esp_jointprob['mmb0_es1'],\n",
    "                                        dict_of_esp_jointprob['mmb1_es0'], dict_of_esp_jointprob['mmb1_es1']])  \n",
    "            factor_mmb_checking = Factor(variables=['money_market_bonus', 'checking_usd'],\n",
    "                                 cardinality=[2, 2],\n",
    "                                 values=[dict_of_esp_jointprob['mmb0_checking0'], dict_of_esp_jointprob['mmb0_checking1'],\n",
    "                                        dict_of_esp_jointprob['mmb1_checking0'], dict_of_esp_jointprob['mmb1_checking1']])   \n",
    "            # collateral mma\n",
    "            \n",
    "            factor_cmma_cm = Factor(variables=['collateral_mma','cash_management'],\n",
    "                                cardinality=[2, 2],\n",
    "                                values=[dict_of_esp_jointprob['cmma0_cm0'], dict_of_esp_jointprob['cmma0_cm1'],\n",
    "                                        dict_of_esp_jointprob['cmma1_cm0'], dict_of_esp_jointprob['cmma1_cm1']])\n",
    "            \n",
    "            factor_cmma_fx = Factor(variables=['collateral_mma', 'fx_products'],\n",
    "                                cardinality=[2, 2],\n",
    "                                values=[dict_of_esp_jointprob['cmma0_fx0'], dict_of_esp_jointprob['cmma0_fx1'],\n",
    "                                        dict_of_esp_jointprob['cmma1_fx0'], dict_of_esp_jointprob['cmma1_fx1']])\n",
    "            factor_cmma_loc = Factor(variables=['collateral_mma', 'letters_of_credit'],\n",
    "                                 cardinality=[2, 2],\n",
    "                                 values=[dict_of_esp_jointprob['cmma0_loc0'], dict_of_esp_jointprob['cmma0_loc1'],\n",
    "                                        dict_of_esp_jointprob['cmma1_loc0'], dict_of_esp_jointprob['cmma1_loc1']])\n",
    "            factor_cmma_es= Factor(variables=['collateral_mma', 'enterprise_sweep'],\n",
    "                                 cardinality=[2, 2],\n",
    "                                 values=[dict_of_esp_jointprob['cmma0_es0'], dict_of_esp_jointprob['cmma0_es1'],\n",
    "                                        dict_of_esp_jointprob['cmma1_es0'], dict_of_esp_jointprob['cmma1_es1']])\n",
    "            factor_cmma_checking = Factor(variables=['collateral_mma', 'checking_usd'],\n",
    "                                 cardinality=[2, 2],\n",
    "                                 values=[dict_of_esp_jointprob['cmma0_checking0'], dict_of_esp_jointprob['cmma0_checking1'],\n",
    "                                        dict_of_esp_jointprob['cmma1_checking0'],dict_of_esp_jointprob['cmma1_checking1']])  \n",
    "            # cash management\n",
    "            factor_cm_fx = Factor(variables=['cash_management', 'fx_products'],\n",
    "                                cardinality=[2, 2],\n",
    "                                values=[dict_of_esp_jointprob['cm0_fx0'], dict_of_esp_jointprob['cm0_fx1'],\n",
    "                                        dict_of_esp_jointprob['cm1_fx0'], dict_of_esp_jointprob['cm1_fx1']])\n",
    "            factor_cm_loc = Factor(variables=['cash_management', 'letters_of_credit'],\n",
    "                                 cardinality=[2, 2],\n",
    "                                 values=[dict_of_esp_jointprob['cm0_loc0'], dict_of_esp_jointprob['cm0_loc1'],\n",
    "                                        dict_of_esp_jointprob['cm1_loc0'], dict_of_esp_jointprob['cm1_loc1']])\n",
    "            factor_cm_es= Factor(variables=['cash_management', 'enterprise_sweep'],\n",
    "                                 cardinality=[2, 2],\n",
    "                                 values=[dict_of_esp_jointprob['cm0_es0'], dict_of_esp_jointprob['cm0_es1'],\n",
    "                                        dict_of_esp_jointprob['cm1_es0'], dict_of_esp_jointprob['cm1_es1']])\n",
    "            factor_cm_checking = Factor(variables=['cash_management', 'checking_usd'],\n",
    "                                 cardinality=[2, 2],\n",
    "                                 values=[dict_of_esp_jointprob['cm0_checking0'], dict_of_esp_jointprob['cm0_checking1'],\n",
    "                                        dict_of_esp_jointprob['cm1_checking0'], dict_of_esp_jointprob['cm1_checking1']])  \n",
    "            \n",
    "            # FX products\n",
    "            factor_fx_loc = Factor(variables=['fx_products', 'letters_of_credit'],\n",
    "                                 cardinality=[2, 2],\n",
    "                                 values=[dict_of_esp_jointprob['fx0_loc0'], dict_of_esp_jointprob['fx0_loc1'],\n",
    "                                        dict_of_esp_jointprob['fx1_loc0'], dict_of_esp_jointprob['fx1_loc1']])\n",
    "            factor_fx_es= Factor(variables=['fx_products', 'enterprise_sweep'],\n",
    "                                 cardinality=[2, 2],\n",
    "                                 values=[dict_of_esp_jointprob['fx0_es0'], dict_of_esp_jointprob['fx0_es1'],\n",
    "                                        dict_of_esp_jointprob['fx1_es0'], dict_of_esp_jointprob['fx1_es1']])\n",
    "            factor_fx_checking = Factor(variables=['fx_products', 'checking_usd'],\n",
    "                                 cardinality=[2, 2],\n",
    "                                 values=[dict_of_esp_jointprob['fx0_checking0'], dict_of_esp_jointprob['fx0_checking1'],\n",
    "                                        dict_of_esp_jointprob['fx1_checking0'], dict_of_esp_jointprob['fx1_checking1']])  \n",
    "            \n",
    "            # letters of credit\n",
    "            \n",
    "            factor_loc_es= Factor(variables=['letters_of_credit', 'enterprise_sweep'],\n",
    "                                 cardinality=[2, 2],\n",
    "                                 values=[dict_of_esp_jointprob['loc0_es0'], dict_of_esp_jointprob['loc0_es1'],\n",
    "                                        dict_of_esp_jointprob['loc1_es0'], dict_of_esp_jointprob['loc1_es1']])\n",
    "            factor_loc_checking = Factor(variables=['letters_of_credit', 'checking_usd'],\n",
    "                                 cardinality=[2, 2],\n",
    "                                 values=[dict_of_esp_jointprob['loc0_checking0'], dict_of_esp_jointprob['loc0_checking1'],\n",
    "                                        dict_of_esp_jointprob['loc1_checking0'], dict_of_esp_jointprob['loc1_checking1']])  \n",
    "            #enterprise sweep\n",
    "            \n",
    "            factor_es_checking = Factor(variables=['enterprise_sweep', 'checking_usd'],\n",
    "                                 cardinality=[2, 2],\n",
    "                                 values=[dict_of_esp_jointprob['es0_checking0'], dict_of_esp_jointprob['es0_checking1'],\n",
    "                                        dict_of_esp_jointprob['es1_checking0'], dict_of_esp_jointprob['es1_checking1']])  \n",
    "            \n",
    "\n",
    "            \n",
    "\n",
    "            model.add_factors(factor_mmb_cmma, factor_mmb_cm, factor_mmb_fx, factor_mmb_loc,factor_mmb_es ,factor_mmb_checking,\n",
    "                factor_cmma_cm , factor_cmma_fx, factor_cmma_loc,   factor_cmma_es,factor_cmma_checking,\n",
    "                    factor_cm_fx,   factor_cm_loc,    factor_cm_es,  factor_cm_checking , factor_fx_loc,\n",
    "                      factor_fx_es ,  factor_fx_checking,   factor_loc_es, factor_loc_checking , factor_es_checking )#,\n",
    "            \n",
    "            \n",
    "            belief_propagation = BeliefPropagation(model)\n",
    "            #var_elimination = VariableElimination(model)\n",
    "#             belief_nopriors = belief_propagation.query(variables=['money_market_bonus',\n",
    "#                                         'fx_products','letters_of_credit','checking_usd'],\n",
    "#                                                       evidence=evidence_)\n",
    "            belief_nopriors = belief_propagation.query(variables=['money_market_bonus','collateral_mma',\n",
    "                                                                  'cash_management','enterprise_sweep',\n",
    "                                         'fx_products','letters_of_credit','checking_usd'],\n",
    "                                                   evidence=evidence_)\n",
    "\n",
    "            ## append the probabilities over time\n",
    "            prob_mmb.append(belief_nopriors ['money_market_bonus'].values[1]) # one is having the product\n",
    "            prob_cmma.append(belief_nopriors['collateral_mma'].values[1])\n",
    "            prob_cm.append(belief_nopriors['cash_management'].values[1])\n",
    "            prob_fx.append(belief_nopriors['fx_products'].values[1])\n",
    "            prob_loc.append(belief_nopriors['letters_of_credit'].values[1])\n",
    "            prob_es.append(belief_nopriors['enterprise_sweep'].values[1])\n",
    "            prob_checking.append(belief_nopriors['checking_usd'].values[1])\n",
    "    \n",
    "    plt.figure(figsize=(15,8))\n",
    "    plt.plot([_ for _ in range( range_of_weeks)], prob_mmb,label='mmb')\n",
    "    print(prob_mmb)\n",
    "    plt.plot([_ for _ in range( range_of_weeks)], prob_cmma,label='cmma')\n",
    "    plt.plot([_ for _ in range( range_of_weeks)], prob_fx,label='fx')\n",
    "    plt.plot([_ for _ in range( range_of_weeks)], prob_loc,label='loc')\n",
    "    plt.plot([_ for _ in range( range_of_weeks)], prob_cm,label='cm')\n",
    "    plt.plot([_ for _ in range( range_of_weeks)], prob_es,label='es')\n",
    "    plt.plot([_ for _ in range( range_of_weeks)], prob_checking,label='checking')\n",
    "    #print(prob_checking)\n",
    "    plt.legend()\n",
    "    \n",
    "        \n",
    "        \n",
    "# fig = plt.plot([i for i in range(50)],have_money_market,label='have money_market_bonus')\n",
    "# fig.title('Haev money market bonus')\n",
    "\n",
    "                # factor_cmma_checking,factor_cmma_cm,factor_cmma_fx,factor_cmma_loc,factor_cmma_es )"
   ]
  },
  {
   "cell_type": "code",
   "execution_count": 25,
   "metadata": {
    "collapsed": false
   },
   "outputs": [
    {
     "name": "stdout",
     "output_type": "stream",
     "text": [
      "[5.8270795241299428e-08, 3.2662593362470472e-15, 1.7577385602838772e-22, 9.0661123828220059e-30, 4.4750359249113027e-37, 2.1110485677228057e-44, 9.506147880705942e-52, 4.0817369287142143e-59, 1.6695214295066134e-66, 6.4991119751725841e-74, 2.4058560281261346e-81, 8.4625690740903038e-89, 2.8264112226960097e-96, 8.957122830116209e-104, 2.6916180545279754e-111, 7.6646139242170219e-119, 2.0669239152683498e-126, 5.2752540972160931e-134, 1.2734239820653558e-141, 2.9055945769879749e-149, 0.0, 0.0, 0.0, 0.0, 0.0, 0.0, 0.0, 0.0, 0.0, 0.0]\n"
     ]
    },
    {
     "data": {
      "image/png": "[encoded data removed]",
      "text/plain": [
       "<matplotlib.figure.Figure at 0x11b99d7b8>"
      ]
     },
     "metadata": {},
     "output_type": "display_data"
    }
   ],
   "source": [
    "ESP_Markov_Model_Joint_Prob(ESP_Joint_Product_Probabilities,range_of_weeks=30,evidence_={'checking_usd':1,\n",
    "                                                                                         'fx_products':1})"
   ]
  },
  {
   "cell_type": "code",
   "execution_count": 39,
   "metadata": {
    "collapsed": false
   },
   "outputs": [
    {
     "name": "stderr",
     "output_type": "stream",
     "text": [
      "/Users/jonathanhilgart/anaconda/envs/SVB/lib/python3.6/site-packages/pgmpy/factors/Factor.py:377: RuntimeWarning: invalid value encountered in true_divide\n",
      "  phi.values = phi.values / phi.values.sum()\n"
     ]
    },
    {
     "name": "stdout",
     "output_type": "stream",
     "text": [
      "[0.11199172429029683, 0.026220732910149966, 0.0057267190369223401, 0.001266064510280736, 0.00029268797285279726, 7.1531346692792208e-05, 1.8547084146728838e-05, 5.1066706835542334e-06, 1.4928212446322435e-06, 4.6297352186996524e-07, 1.5212913519368601e-07, 5.2846393954272948e-08, 1.9329220467240696e-08, 7.3853465653073553e-09, 0.0, nan, nan, nan, nan, nan, nan, nan, nan, nan, nan, nan, nan, nan, nan, nan]\n"
     ]
    },
    {
     "data": {
      "image/png": "[encoded data removed]",
      "text/plain": [
       "<matplotlib.figure.Figure at 0x11b982da0>"
      ]
     },
     "metadata": {},
     "output_type": "display_data"
    }
   ],
   "source": [
    "ESP_Markov_Model_Joint_Prob(ESP_Joint_Product_Probabilities,range_of_weeks=30)"
   ]
  },
  {
   "cell_type": "code",
   "execution_count": null,
   "metadata": {
    "collapsed": true
   },
   "outputs": [],
   "source": []
  },
  {
   "cell_type": "code",
   "execution_count": 249,
   "metadata": {
    "collapsed": false
   },
   "outputs": [
    {
     "data": {
      "text/plain": [
       "(collateral_mma _|_ fx_products, enterprise_sweep, checking_usd, letters_of_credit, cash_management | money_market_bonus)\n",
       "(checking_usd _|_ fx_products, enterprise_sweep, collateral_mma, letters_of_credit, cash_management | money_market_bonus)\n",
       "(cash_management _|_ fx_products, enterprise_sweep, checking_usd, collateral_mma, letters_of_credit | money_market_bonus)\n",
       "(fx_products _|_ enterprise_sweep, checking_usd, collateral_mma, letters_of_credit, cash_management | money_market_bonus)\n",
       "(letters_of_credit _|_ fx_products, enterprise_sweep, checking_usd, collateral_mma, cash_management | money_market_bonus)\n",
       "(enterprise_sweep _|_ fx_products, checking_usd, collateral_mma, letters_of_credit, cash_management | money_market_bonus)"
      ]
     },
     "execution_count": 249,
     "metadata": {},
     "output_type": "execute_result"
    }
   ],
   "source": [
    "model.get_local_independencies()"
   ]
  },
  {
   "cell_type": "code",
   "execution_count": 183,
   "metadata": {
    "collapsed": false
   },
   "outputs": [
    {
     "name": "stdout",
     "output_type": "stream",
     "text": [
      "╒══════════════════════╤════════════════╤════════════════════════════════════════╕\n",
      "│ money_market_bonus   │ checking_usd   │   phi(money_market_bonus,checking_usd) │\n",
      "╞══════════════════════╪════════════════╪════════════════════════════════════════╡\n",
      "│ money_market_bonus_0 │ checking_usd_0 │                                 0.9912 │\n",
      "├──────────────────────┼────────────────┼────────────────────────────────────────┤\n",
      "│ money_market_bonus_0 │ checking_usd_1 │                                 0.5662 │\n",
      "├──────────────────────┼────────────────┼────────────────────────────────────────┤\n",
      "│ money_market_bonus_1 │ checking_usd_0 │                                 0.0000 │\n",
      "├──────────────────────┼────────────────┼────────────────────────────────────────┤\n",
      "│ money_market_bonus_1 │ checking_usd_1 │                                 0.0088 │\n",
      "╘══════════════════════╧════════════════╧════════════════════════════════════════╛\n"
     ]
    }
   ],
   "source": [
    "from IPython.display import Image\n",
    "print(factor_mmb_checking)"
   ]
  },
  {
   "cell_type": "code",
   "execution_count": 220,
   "metadata": {
    "collapsed": false
   },
   "outputs": [],
   "source": [
    "belief_propagation = BeliefPropagation(model)"
   ]
  },
  {
   "cell_type": "code",
   "execution_count": 221,
   "metadata": {
    "collapsed": false
   },
   "outputs": [],
   "source": [
    "belief = belief_propagation.query(variables=['collateral_mma'])"
   ]
  },
  {
   "cell_type": "code",
   "execution_count": 237,
   "metadata": {
    "collapsed": false
   },
   "outputs": [
    {
     "data": {
      "text/plain": [
       "array([  1.00000000e+00,   1.35741448e-53])"
      ]
     },
     "execution_count": 237,
     "metadata": {},
     "output_type": "execute_result"
    }
   ],
   "source": [
    "belief['collateral_mma'].values"
   ]
  },
  {
   "cell_type": "code",
   "execution_count": 59,
   "metadata": {
    "collapsed": true
   },
   "outputs": [],
   "source": [
    "dict_of_esp_money_market_cpd = dict_of_esp_money_market_joint_prob"
   ]
  },
  {
   "cell_type": "code",
   "execution_count": 60,
   "metadata": {
    "collapsed": false
   },
   "outputs": [
    {
     "ename": "ValueError",
     "evalue": "Factor inconsistent with the model.",
     "output_type": "error",
     "traceback": [
      "\u001b[0;31m---------------------------------------------------------------------------\u001b[0m",
      "\u001b[0;31mValueError\u001b[0m                                Traceback (most recent call last)",
      "\u001b[0;32m<ipython-input-60-50ef8e63c66c>\u001b[0m in \u001b[0;36m<module>\u001b[0;34m()\u001b[0m\n\u001b[1;32m     46\u001b[0m model.add_factors(factor_mmb_cmma, factor_mmb_cm,\n\u001b[1;32m     47\u001b[0m                    factor_mmb_fx, factor_mmb_loc,factor_mmb_es ,factor_mmb_checking)#,\n\u001b[0;32m---> 48\u001b[0;31m \u001b[0mbelief_propagation\u001b[0m \u001b[0;34m=\u001b[0m \u001b[0mBeliefPropagation\u001b[0m\u001b[0;34m(\u001b[0m\u001b[0mmodel\u001b[0m\u001b[0;34m)\u001b[0m\u001b[0;34m\u001b[0m\u001b[0m\n\u001b[0m\u001b[1;32m     49\u001b[0m tes = belief_propagation.query(variables=['cash_management','enterprise_sweep','money_market_bonus'],\n\u001b[1;32m     50\u001b[0m                               evidence={'checking_usd':0})\n",
      "\u001b[0;32m/Users/jonathanhilgart/anaconda/envs/SVB/lib/python3.6/site-packages/pgmpy/inference/ExactInference.py\u001b[0m in \u001b[0;36m__init__\u001b[0;34m(self, model)\u001b[0m\n\u001b[1;32m    309\u001b[0m         \u001b[0;32mfrom\u001b[0m \u001b[0mpgmpy\u001b[0m\u001b[0;34m.\u001b[0m\u001b[0mmodels\u001b[0m \u001b[0;32mimport\u001b[0m \u001b[0mJunctionTree\u001b[0m\u001b[0;34m\u001b[0m\u001b[0m\n\u001b[1;32m    310\u001b[0m \u001b[0;34m\u001b[0m\u001b[0m\n\u001b[0;32m--> 311\u001b[0;31m         \u001b[0msuper\u001b[0m\u001b[0;34m(\u001b[0m\u001b[0mBeliefPropagation\u001b[0m\u001b[0;34m,\u001b[0m \u001b[0mself\u001b[0m\u001b[0;34m)\u001b[0m\u001b[0;34m.\u001b[0m\u001b[0m__init__\u001b[0m\u001b[0;34m(\u001b[0m\u001b[0mmodel\u001b[0m\u001b[0;34m)\u001b[0m\u001b[0;34m\u001b[0m\u001b[0m\n\u001b[0m\u001b[1;32m    312\u001b[0m \u001b[0;34m\u001b[0m\u001b[0m\n\u001b[1;32m    313\u001b[0m         \u001b[0;32mif\u001b[0m \u001b[0;32mnot\u001b[0m \u001b[0misinstance\u001b[0m\u001b[0;34m(\u001b[0m\u001b[0mmodel\u001b[0m\u001b[0;34m,\u001b[0m \u001b[0mJunctionTree\u001b[0m\u001b[0;34m)\u001b[0m\u001b[0;34m:\u001b[0m\u001b[0;34m\u001b[0m\u001b[0m\n",
      "\u001b[0;32m/Users/jonathanhilgart/anaconda/envs/SVB/lib/python3.6/site-packages/pgmpy/inference/base.py\u001b[0m in \u001b[0;36m__init__\u001b[0;34m(self, model)\u001b[0m\n\u001b[1;32m     56\u001b[0m     \u001b[0;32mdef\u001b[0m \u001b[0m__init__\u001b[0m\u001b[0;34m(\u001b[0m\u001b[0mself\u001b[0m\u001b[0;34m,\u001b[0m \u001b[0mmodel\u001b[0m\u001b[0;34m)\u001b[0m\u001b[0;34m:\u001b[0m\u001b[0;34m\u001b[0m\u001b[0m\n\u001b[1;32m     57\u001b[0m         \u001b[0mself\u001b[0m\u001b[0;34m.\u001b[0m\u001b[0mmodel\u001b[0m \u001b[0;34m=\u001b[0m \u001b[0mmodel\u001b[0m\u001b[0;34m\u001b[0m\u001b[0m\n\u001b[0;32m---> 58\u001b[0;31m         \u001b[0mmodel\u001b[0m\u001b[0;34m.\u001b[0m\u001b[0mcheck_model\u001b[0m\u001b[0;34m(\u001b[0m\u001b[0;34m)\u001b[0m\u001b[0;34m\u001b[0m\u001b[0m\n\u001b[0m\u001b[1;32m     59\u001b[0m \u001b[0;34m\u001b[0m\u001b[0m\n\u001b[1;32m     60\u001b[0m         \u001b[0;32mif\u001b[0m \u001b[0misinstance\u001b[0m\u001b[0;34m(\u001b[0m\u001b[0mmodel\u001b[0m\u001b[0;34m,\u001b[0m \u001b[0mJunctionTree\u001b[0m\u001b[0;34m)\u001b[0m\u001b[0;34m:\u001b[0m\u001b[0;34m\u001b[0m\u001b[0m\n",
      "\u001b[0;32m/Users/jonathanhilgart/anaconda/envs/SVB/lib/python3.6/site-packages/pgmpy/models/MarkovModel.py\u001b[0m in \u001b[0;36mcheck_model\u001b[0;34m(self)\u001b[0m\n\u001b[1;32m    229\u001b[0m             \u001b[0;32mfor\u001b[0m \u001b[0mvar1\u001b[0m\u001b[0;34m,\u001b[0m \u001b[0mvar2\u001b[0m \u001b[0;32min\u001b[0m \u001b[0mitertools\u001b[0m\u001b[0;34m.\u001b[0m\u001b[0mcombinations\u001b[0m\u001b[0;34m(\u001b[0m\u001b[0mfactor\u001b[0m\u001b[0;34m.\u001b[0m\u001b[0mvariables\u001b[0m\u001b[0;34m,\u001b[0m \u001b[0;36m2\u001b[0m\u001b[0;34m)\u001b[0m\u001b[0;34m:\u001b[0m\u001b[0;34m\u001b[0m\u001b[0m\n\u001b[1;32m    230\u001b[0m                 \u001b[0;32mif\u001b[0m \u001b[0mvar2\u001b[0m \u001b[0;32mnot\u001b[0m \u001b[0;32min\u001b[0m \u001b[0mself\u001b[0m\u001b[0;34m.\u001b[0m\u001b[0mneighbors\u001b[0m\u001b[0;34m(\u001b[0m\u001b[0mvar1\u001b[0m\u001b[0;34m)\u001b[0m\u001b[0;34m:\u001b[0m\u001b[0;34m\u001b[0m\u001b[0m\n\u001b[0;32m--> 231\u001b[0;31m                     \u001b[0;32mraise\u001b[0m \u001b[0mValueError\u001b[0m\u001b[0;34m(\u001b[0m\u001b[0;34m\"Factor inconsistent with the model.\"\u001b[0m\u001b[0;34m)\u001b[0m\u001b[0;34m\u001b[0m\u001b[0m\n\u001b[0m\u001b[1;32m    232\u001b[0m         \u001b[0;32mreturn\u001b[0m \u001b[0;32mTrue\u001b[0m\u001b[0;34m\u001b[0m\u001b[0m\n\u001b[1;32m    233\u001b[0m \u001b[0;34m\u001b[0m\u001b[0m\n",
      "\u001b[0;31mValueError\u001b[0m: Factor inconsistent with the model."
     ]
    }
   ],
   "source": [
    "\n",
    "\n",
    "factor_mmb_cmma = Factor(variables=['money_market_bonus', 'collateral_mma'],\n",
    "                    cardinality=[2, 2],\n",
    "                    values=[dict_of_esp_money_market_cpd['mmb0_cmma0'], dict_of_esp_money_market_cpd['mmb0_cmma1'],\n",
    "                            dict_of_esp_money_market_cpd['mmb1_cmma0'], dict_of_esp_money_market_cpd['mmb1_cmma1']])\n",
    "factor_mmb_cm = Factor(variables=['money_market_bonus', 'cash_management'],\n",
    "                    cardinality=[2, 2],\n",
    "                    values=[dict_of_esp_money_market_cpd['mmb0_cm0'], dict_of_esp_money_market_cpd['mmb0_cm1'],\n",
    "                            dict_of_esp_money_market_cpd['mmb1_cm0'], dict_of_esp_money_market_cpd['mmb1_cm1']])\n",
    "factor_mmb_fx = Factor(variables=['money_market_bonus', 'fx_products'],\n",
    "                     cardinality=[2, 2],\n",
    "                     values=[dict_of_esp_money_market_cpd['mmb0_fx0'], dict_of_esp_money_market_cpd['mmb0_fx1'],\n",
    "                            dict_of_esp_money_market_cpd['mmb1_fx0'], dict_of_esp_money_market_cpd['mmb1_fx1']])\n",
    "factor_mmb_loc = Factor(variables=['money_market_bonus', 'letters_of_credit'],\n",
    "                     cardinality=[2, 2],\n",
    "                     values=[dict_of_esp_money_market_cpd['mmb0_loc0'], dict_of_esp_money_market_cpd['mmb0_loc1'],\n",
    "                            dict_of_esp_money_market_cpd['mmb1_loc0'], dict_of_esp_money_market_cpd['mmb1_loc1']])\n",
    "factor_mmb_es = Factor(variables=['money_market_bonus', 'enterprise_sweep'],\n",
    "                     cardinality=[2, 2],\n",
    "                     values=[dict_of_esp_money_market_cpd['mmb0_es0'], dict_of_esp_money_market_cpd['mmb0_es1'],\n",
    "                            dict_of_esp_money_market_cpd['mmb1_es0'], dict_of_esp_money_market_cpd['mmb1_es1']])  \n",
    "factor_mmb_checking = Factor(variables=['money_market_bonus', 'checking_usd'],\n",
    "                     cardinality=[2, 2],\n",
    "                     values=[dict_of_esp_money_market_cpd['mmb0_checking0'], dict_of_esp_money_market_cpd['mmb0_checking1'],\n",
    "                            dict_of_esp_money_market_cpd['mmb1_checking0'], dict_of_esp_money_market_cpd['mmb1_checking1']])   \n",
    "\n",
    "# factor_cmma_checking = Factor(variables=['collateral_mma', 'checking_usd'],\n",
    "#                     cardinality=[2, 2],\n",
    "#                     values=[.1, .9, .5, .5])\n",
    "\n",
    "# factor_cmma_cm = Factor(variables=['collateral_mma', 'checking_usd'],\n",
    "#                     cardinality=[2, 2],\n",
    "#                     values=[.4, .6, .3, .7])\n",
    "\n",
    "# factor_cmma_fx = Factor(variables=['collateral_mma', 'fx_products'],\n",
    "#                     cardinality=[2, 2],\n",
    "#                     values=[.2, .8, .9, .1])\n",
    "\n",
    "# factor_cmma_loc = Factor(variables=['collateral_mma', 'letters_of_credit'],\n",
    "#                     cardinality=[2, 2],\n",
    "#                     values=[.3, .7, .4, .6])\n",
    "\n",
    "# factor_cmma_es = Factor(variables=['collateral_mma', 'letters_of_credit'],\n",
    "#                     cardinality=[2, 2],\n",
    "#                     values=[.1, .9, .4, .6])\n",
    "\n",
    "model.add_factors(factor_mmb_cmma, factor_mmb_cm,\n",
    "                   factor_mmb_fx, factor_mmb_loc,factor_mmb_es ,factor_mmb_checking)#,\n",
    "belief_propagation = BeliefPropagation(model)\n",
    "tes = belief_propagation.query(variables=['cash_management','enterprise_sweep','money_market_bonus'],\n",
    "                              evidence={'checking_usd':0})"
   ]
  },
  {
   "cell_type": "code",
   "execution_count": null,
   "metadata": {
    "collapsed": true
   },
   "outputs": [],
   "source": [
    "cm0_checking0': 0.98050885200000004,\n",
    "'cm0_checking1': 0.61828162900000005,\n",
    "'cm0_es0': 0.99938906900000002\n",
    "'cm1_checking0': 8.3459461199999996e-06,\n",
    " 'cm1_checking1': 0.019491147600000001,"
   ]
  },
  {
   "cell_type": "code",
   "execution_count": 181,
   "metadata": {
    "collapsed": false
   },
   "outputs": [],
   "source": [
    "model = MarkovModel([( 'cm','check'), ('cm', 'C'),\\\n",
    "('C', 'D'), ('D', 'A')])\n",
    "factor_a_b = Factor(variables=['cm', 'check'],\n",
    "    cardinality=[2, 2], \\\n",
    "    values=[.98, .62, .0000083, .02])\n",
    "# factor_b_c = Factor(variables=['B', 'C'],\n",
    "#     cardinaity=[2, 2],\n",
    "#     values=[100, 3, 2, 4])\n",
    "factor_c_d = Factor(variables=['C', 'cm'],\n",
    "    cardinality=[2, 2],\n",
    "    values=[.3, .5, .1, .6])\n",
    "\n",
    "model.add_factors(factor_a_b, \n",
    "factor_c_d)"
   ]
  },
  {
   "cell_type": "code",
   "execution_count": 182,
   "metadata": {
    "collapsed": false
   },
   "outputs": [
    {
     "ename": "TypeError",
     "evalue": "reduce() of empty sequence with no initial value",
     "output_type": "error",
     "traceback": [
      "\u001b[0;31m---------------------------------------------------------------------------\u001b[0m",
      "\u001b[0;31mTypeError\u001b[0m                                 Traceback (most recent call last)",
      "\u001b[0;32m<ipython-input-182-eb4eaae66dc0>\u001b[0m in \u001b[0;36m<module>\u001b[0;34m()\u001b[0m\n\u001b[0;32m----> 1\u001b[0;31m \u001b[0mbelief\u001b[0m \u001b[0;34m=\u001b[0m \u001b[0mBeliefPropagation\u001b[0m\u001b[0;34m(\u001b[0m\u001b[0mmodel\u001b[0m\u001b[0;34m)\u001b[0m\u001b[0;34m\u001b[0m\u001b[0m\n\u001b[0m",
      "\u001b[0;32m/Users/jonathanhilgart/anaconda/envs/SVB/lib/python3.6/site-packages/pgmpy/inference/ExactInference.py\u001b[0m in \u001b[0;36m__init__\u001b[0;34m(self, model)\u001b[0m\n\u001b[1;32m    312\u001b[0m \u001b[0;34m\u001b[0m\u001b[0m\n\u001b[1;32m    313\u001b[0m         \u001b[0;32mif\u001b[0m \u001b[0;32mnot\u001b[0m \u001b[0misinstance\u001b[0m\u001b[0;34m(\u001b[0m\u001b[0mmodel\u001b[0m\u001b[0;34m,\u001b[0m \u001b[0mJunctionTree\u001b[0m\u001b[0;34m)\u001b[0m\u001b[0;34m:\u001b[0m\u001b[0;34m\u001b[0m\u001b[0m\n\u001b[0;32m--> 314\u001b[0;31m             \u001b[0mself\u001b[0m\u001b[0;34m.\u001b[0m\u001b[0mjunction_tree\u001b[0m \u001b[0;34m=\u001b[0m \u001b[0mmodel\u001b[0m\u001b[0;34m.\u001b[0m\u001b[0mto_junction_tree\u001b[0m\u001b[0;34m(\u001b[0m\u001b[0;34m)\u001b[0m\u001b[0;34m\u001b[0m\u001b[0m\n\u001b[0m\u001b[1;32m    315\u001b[0m         \u001b[0;32melse\u001b[0m\u001b[0;34m:\u001b[0m\u001b[0;34m\u001b[0m\u001b[0m\n\u001b[1;32m    316\u001b[0m             \u001b[0mself\u001b[0m\u001b[0;34m.\u001b[0m\u001b[0mjunction_tree\u001b[0m \u001b[0;34m=\u001b[0m \u001b[0mcopy\u001b[0m\u001b[0;34m.\u001b[0m\u001b[0mdeepcopy\u001b[0m\u001b[0;34m(\u001b[0m\u001b[0mmodel\u001b[0m\u001b[0;34m)\u001b[0m\u001b[0;34m\u001b[0m\u001b[0m\n",
      "\u001b[0;32m/Users/jonathanhilgart/anaconda/envs/SVB/lib/python3.6/site-packages/pgmpy/models/MarkovModel.py\u001b[0m in \u001b[0;36mto_junction_tree\u001b[0;34m(self)\u001b[0m\n\u001b[1;32m    518\u001b[0m             \u001b[0;31m# multiply it with the factors associated with the variables present\u001b[0m\u001b[0;34m\u001b[0m\u001b[0;34m\u001b[0m\u001b[0m\n\u001b[1;32m    519\u001b[0m             \u001b[0;31m# in the clique (or node)\u001b[0m\u001b[0;34m\u001b[0m\u001b[0;34m\u001b[0m\u001b[0m\n\u001b[0;32m--> 520\u001b[0;31m             \u001b[0mclique_potential\u001b[0m \u001b[0;34m*=\u001b[0m \u001b[0mfactor_product\u001b[0m\u001b[0;34m(\u001b[0m\u001b[0;34m*\u001b[0m\u001b[0mclique_factors\u001b[0m\u001b[0;34m)\u001b[0m\u001b[0;34m\u001b[0m\u001b[0m\n\u001b[0m\u001b[1;32m    521\u001b[0m             \u001b[0mclique_trees\u001b[0m\u001b[0;34m.\u001b[0m\u001b[0madd_factors\u001b[0m\u001b[0;34m(\u001b[0m\u001b[0mclique_potential\u001b[0m\u001b[0;34m)\u001b[0m\u001b[0;34m\u001b[0m\u001b[0m\n\u001b[1;32m    522\u001b[0m \u001b[0;34m\u001b[0m\u001b[0m\n",
      "\u001b[0;32m/Users/jonathanhilgart/anaconda/envs/SVB/lib/python3.6/site-packages/pgmpy/factors/Factor.py\u001b[0m in \u001b[0;36mfactor_product\u001b[0;34m(*args)\u001b[0m\n\u001b[1;32m    836\u001b[0m     \u001b[0;32mif\u001b[0m \u001b[0;32mnot\u001b[0m \u001b[0mall\u001b[0m\u001b[0;34m(\u001b[0m\u001b[0misinstance\u001b[0m\u001b[0;34m(\u001b[0m\u001b[0mphi\u001b[0m\u001b[0;34m,\u001b[0m \u001b[0mFactor\u001b[0m\u001b[0;34m)\u001b[0m \u001b[0;32mfor\u001b[0m \u001b[0mphi\u001b[0m \u001b[0;32min\u001b[0m \u001b[0margs\u001b[0m\u001b[0;34m)\u001b[0m\u001b[0;34m:\u001b[0m\u001b[0;34m\u001b[0m\u001b[0m\n\u001b[1;32m    837\u001b[0m         \u001b[0;32mraise\u001b[0m \u001b[0mTypeError\u001b[0m\u001b[0;34m(\u001b[0m\u001b[0;34m\"Arguments must be factors\"\u001b[0m\u001b[0;34m)\u001b[0m\u001b[0;34m\u001b[0m\u001b[0m\n\u001b[0;32m--> 838\u001b[0;31m     \u001b[0;32mreturn\u001b[0m \u001b[0mreduce\u001b[0m\u001b[0;34m(\u001b[0m\u001b[0;32mlambda\u001b[0m \u001b[0mphi1\u001b[0m\u001b[0;34m,\u001b[0m \u001b[0mphi2\u001b[0m\u001b[0;34m:\u001b[0m \u001b[0mphi1\u001b[0m \u001b[0;34m*\u001b[0m \u001b[0mphi2\u001b[0m\u001b[0;34m,\u001b[0m \u001b[0margs\u001b[0m\u001b[0;34m)\u001b[0m\u001b[0;34m\u001b[0m\u001b[0m\n\u001b[0m\u001b[1;32m    839\u001b[0m \u001b[0;34m\u001b[0m\u001b[0m\n\u001b[1;32m    840\u001b[0m \u001b[0;34m\u001b[0m\u001b[0m\n",
      "\u001b[0;31mTypeError\u001b[0m: reduce() of empty sequence with no initial value"
     ]
    }
   ],
   "source": [
    "belief = BeliefPropagation(model)"
   ]
  },
  {
   "cell_type": "code",
   "execution_count": 147,
   "metadata": {
    "collapsed": false
   },
   "outputs": [],
   "source": [
    "test = belief.query(variables=['B','C'],\n",
    "                              evidence={'A':0})"
   ]
  },
  {
   "cell_type": "code",
   "execution_count": 148,
   "metadata": {
    "collapsed": false
   },
   "outputs": [
    {
     "data": {
      "text/plain": [
       "array([ 0.95238095,  0.04761905])"
      ]
     },
     "execution_count": 148,
     "metadata": {},
     "output_type": "execute_result"
    }
   ],
   "source": [
    "test['B'].values"
   ]
  },
  {
   "cell_type": "code",
   "execution_count": 101,
   "metadata": {
    "collapsed": false
   },
   "outputs": [
    {
     "name": "stdout",
     "output_type": "stream",
     "text": [
      "{'B': <Factor representing phi(B:2) at 0x111dedf98>, 'C': <Factor representing phi(C:2) at 0x111dedf60>}\n"
     ]
    }
   ],
   "source": [
    "print(test)"
   ]
  },
  {
   "cell_type": "code",
   "execution_count": 100,
   "metadata": {
    "collapsed": false
   },
   "outputs": [
    {
     "name": "stdout",
     "output_type": "stream",
     "text": [
      "╒═════╤═════╤════════════╕\n",
      "│ A   │ B   │   phi(A,B) │\n",
      "╞═════╪═════╪════════════╡\n",
      "│ A_0 │ B_0 │   100.0000 │\n",
      "├─────┼─────┼────────────┤\n",
      "│ A_0 │ B_1 │     5.0000 │\n",
      "├─────┼─────┼────────────┤\n",
      "│ A_1 │ B_0 │     5.0000 │\n",
      "├─────┼─────┼────────────┤\n",
      "│ A_1 │ B_1 │   100.0000 │\n",
      "╘═════╧═════╧════════════╛\n"
     ]
    }
   ],
   "source": [
    "print(factor_a_b)"
   ]
  },
  {
   "cell_type": "code",
   "execution_count": 74,
   "metadata": {
    "collapsed": false
   },
   "outputs": [
    {
     "ename": "SyntaxError",
     "evalue": "invalid syntax (<ipython-input-74-30c3e5ed4930>, line 1)",
     "output_type": "error",
     "traceback": [
      "\u001b[0;36m  File \u001b[0;32m\"<ipython-input-74-30c3e5ed4930>\"\u001b[0;36m, line \u001b[0;32m1\u001b[0m\n\u001b[0;31m    pgmpy=0.1.2\u001b[0m\n\u001b[0m              ^\u001b[0m\n\u001b[0;31mSyntaxError\u001b[0m\u001b[0;31m:\u001b[0m invalid syntax\n"
     ]
    }
   ],
   "source": [
    "belief_propagation = BeliefPropagation(model)\n",
    "tes = belief_propagation.query(variables=['cash_management','enterprise_sweep','money_market_bonus'],\n",
    "                              evidence={'checking_usd':0})"
   ]
  },
  {
   "cell_type": "code",
   "execution_count": null,
   "metadata": {
    "collapsed": true
   },
   "outputs": [],
   "source": [
    "Discre"
   ]
  }
 ],
 "metadata": {
  "kernelspec": {
   "display_name": "SVB",
   "language": "python",
   "name": "svb"
  },
  "language_info": {
   "codemirror_mode": {
    "name": "ipython",
    "version": 3
   },
   "file_extension": ".py",
   "mimetype": "text/x-python",
   "name": "python",
   "nbconvert_exporter": "python",
   "pygments_lexer": "ipython3",
   "version": "3.6.1"
  }
 },
 "nbformat": 4,
 "nbformat_minor": 2
}
