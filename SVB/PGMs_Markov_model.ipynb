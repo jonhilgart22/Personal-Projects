{
 "cells": [
  {
   "cell_type": "code",
   "execution_count": 433,
   "metadata": {
    "collapsed": false
   },
   "outputs": [
    {
     "name": "stdout",
     "output_type": "stream",
     "text": [
      "Populating the interactive namespace from numpy and matplotlib\n"
     ]
    }
   ],
   "source": [
    "from pgmpy.models import MarkovModel\n",
    "from pgmpy.factors import Factor\n",
    "from pgmpy.readwrite import XMLBIFWriter\n",
    "from pgmpy.inference import BeliefPropagation\n",
    "import scipy.stats as stats\n",
    "import numpy as np\n",
    "import seaborn as sns\n",
    "import matplotlib.pyplot as plt\n",
    "%pylab inline"
   ]
  },
  {
   "cell_type": "code",
   "execution_count": 313,
   "metadata": {
    "collapsed": true
   },
   "outputs": [],
   "source": [
    "esp_eligible_products = ['Money Market Bonus','Collateral MMA',\n",
    "'Cash Management',\n",
    "'FX Products',\n",
    "'Letters of Credit',\n",
    "'Enterprise Sweep',\n",
    "'Checking USD']"
   ]
  },
  {
   "cell_type": "code",
   "execution_count": 689,
   "metadata": {
    "collapsed": false
   },
   "outputs": [],
   "source": [
    "## define a probability distribution over each pair of varaibles\n",
    "def Esp_Money_Market_Conditional_Probabilities(month_number):\n",
    "    \"\"\"Returns the conditions probabilities of money market and every other ESP product.\n",
    "    Compute the probabilities distribution of money market = yes and moeny market = 0 no, then take the\n",
    "    complement to find the corresponding probabilities for the other class.\n",
    "    \n",
    "    Returns a dictionary of each probabilitiy distribution given the time\"\"\"\n",
    "    # money market bonus conditional probability distributions\n",
    "#     mmb1_and_cmma1_dist = stats.norm(loc = 5, scale=2)\n",
    "#     mmb1_and_cmma0_dist = stats.norm(loc = 86, scale=20)\n",
    "#     mmb1_and_checking1_dist = stats.norm(loc = 25, scale=10)\n",
    "#     mmb1_and_checking0_dist = stats.norm(loc = 5, scale=1)\n",
    "#     mmb1_and_cm1_dist = stats.norm(loc = 9, scale=5)\n",
    "#     mmb1_and_cm0_dist = stats.norm(loc = 8, scale=21)\n",
    "#     mmb1_and_fx1_dist = stats.norm(loc = 15, scale=55)\n",
    "#     mmb1_and_fx0_dist = stats.norm(loc = 7, scale=55)\n",
    "#     mmb1_and_loc1_dist = stats.norm(loc = 10, scale=25)\n",
    "#     mmb1_and_loc0_dist = stats.norm(loc = 1.2, scale=21)\n",
    "#     mmb1_and_es1_dist = stats.norm(loc = .7, scale=95)\n",
    "#     mmb1_and_es0_dist = stats.norm(loc = 8, scale=55)\n",
    "######## TAKE HISTORICAL PROBABILITIES FOR EACH TIME STEP#######\n",
    "\n",
    "    mmb1_dist = stats.norm(loc = 5, scale=2)\n",
    "    mmb1_prob = mmb1_dist.pdf(month_number)\n",
    "    mmb0_prob =  1 - mmb1_prob\n",
    "    \n",
    "    cmma1_dist = stats.norm(loc = 5, scale=1)\n",
    "    cmma1_prob = cmma1_dist.pdf(month_number)\n",
    "    cmma0_prob = 1-cmma1_prob\n",
    "    \n",
    "    checking1_dist = stats.norm(loc = 4, scale=11)\n",
    "    checking1_prob = checking1_dist.pdf(month_number)\n",
    "    checking0_prob = 1 - checking1_prob \n",
    "    \n",
    "    cm1_dist = stats.norm(loc = 20, scale=5)\n",
    "    cm1_prob = cm1_dist.pdf(month_number)\n",
    "    cm0_prob = 1 - cm1_prob\n",
    "    \n",
    "    \n",
    "    fx1_dist = stats.norm(loc = 15, scale=2)\n",
    "    fx1_prob = fx1_dist.pdf(month_number)\n",
    "    fx0_prob = 1 - fx1_prob\n",
    "    \n",
    "    loc1_dist = stats.norm(loc = 10, scale=15)\n",
    "    loc1_prob = loc1_dist.pdf(month_number)\n",
    "    loc0_prob = 1 - loc1_prob\n",
    "    \n",
    "    es1_dist = stats.norm(loc = .7, scale=15)\n",
    "    es1_prob = es1_dist.pdf(month_number)\n",
    "    es0_prob = 1 - es1_prob\n",
    "    \n",
    "    \n",
    "    \n",
    "    # find the probabilities given a month number for money market bonus\n",
    "#     mmb1_cmma1 = mmb1_and_cmma1_dist.pdf(month_number)\n",
    "#     mmb0_cmma1 = 1-mmb1_cmma1\n",
    "#     mmb1_cmma0 = mmb1_and_cmma0_dist.pdf(month_number)\n",
    "#     mmb0_cmma0 = 1-mmb1_cmma0\n",
    "    \n",
    "#     mmb1_checking1 = mmb1_and_checking1_dist.pdf(month_number)\n",
    "#     mmb0_checking1 = 1 - mmb1_checking1\n",
    "#     mmb1_checking0 = mmb1_and_checking0_dist.pdf(month_number)\n",
    "#     mmb0_checking0 = 1-mmb1_checking0\n",
    "    \n",
    "#     mmb1_cm1 = mmb1_and_cm1_dist.pdf(month_number)\n",
    "#     mmb0_cm1 = 1 - mmb1_cm1\n",
    "#     mmb1_cm0 = mmb1_and_cm0_dist.pdf(month_number)\n",
    "#     mmb0_cm0 = 1-mmb1_cm0\n",
    "    \n",
    "#     mmb1_fx1 = mmb1_and_fx1_dist.pdf(month_number)\n",
    "#     mmb0_fx1 = 1 - mmb1_fx1\n",
    "#     mmb1_fx0 = mmb1_and_fx0_dist.pdf(month_number)\n",
    "#     mmb0_fx0 = 1-mmb1_fx0\n",
    "    \n",
    "#     mmb1_loc1 = mmb1_and_loc1_dist.pdf(month_number)\n",
    "#     mmb0_loc1 = 1 - mmb1_loc1\n",
    "#     mmb1_loc0 = mmb1_and_loc0_dist.pdf(month_number)\n",
    "#     mmb0_loc0 = 1-mmb1_loc0\n",
    "    \n",
    "#     mmb1_es1 = mmb1_and_es1_dist.pdf(month_number)\n",
    "#     mmb0_es1 = 1 - mmb1_es1\n",
    "#     mmb1_es0 = mmb1_and_es0_dist.pdf(month_number)\n",
    "#     mmb0_es0 = 1-mmb1_es0\n",
    "\n",
    "    mmb1_cmma1 = mmb1_prob * cmma1_prob\n",
    "    mmb0_cmma1 = mmb0_prob * cmma1_prob\n",
    "    mmb1_cmma0 = mmb1_prob * cmma0_prob\n",
    "    mmb0_cmma0 = mmb0_prob * cmma0_prob\n",
    "\n",
    "    mmb1_checking1 = mmb1_prob * checking1_prob\n",
    "    mmb0_checking1 = mmb0_prob * checking1_prob\n",
    "    mmb1_checking0 = mmb1_prob * checking0_prob\n",
    "    mmb0_checking0 = mmb0_prob * checking0_prob\n",
    "    \n",
    "    mmb1_cm1 = mmb1_prob * cm1_prob\n",
    "    mmb0_cm1 = mmb0_prob * cm1_prob\n",
    "    mmb1_cm0 = mmb1_prob * cm0_prob\n",
    "    mmb0_cm0 = mmb0_prob * cm0_prob\n",
    "    \n",
    "    mmb1_fx1 = mmb1_prob * fx1_prob\n",
    "    mmb0_fx1 = mmb0_prob * fx1_prob\n",
    "    mmb1_fx0 = mmb1_prob * fx0_prob\n",
    "    mmb0_fx0 = mmb0_prob * fx0_prob\n",
    "    \n",
    "    mmb1_loc1 = mmb1_prob * loc1_prob\n",
    "    mmb0_loc1 = mmb0_prob * loc1_prob\n",
    "    mmb1_loc0 = mmb1_prob * loc0_prob\n",
    "    mmb0_loc0 = mmb0_prob * loc0_prob\n",
    "    \n",
    "    mmb1_es1 = mmb1_prob * es1_prob\n",
    "    mmb0_es1 = mmb0_prob * es1_prob\n",
    "    mmb1_es0 = mmb1_prob * es0_prob\n",
    "    mmb0_es0 = mmb0_prob * es0_prob\n",
    "    \n",
    "    # return the probabilities in the form of a dictionary\n",
    "    money_market_conditional_probabilities = {}\n",
    "    money_market_conditional_probabilities['mmb1_cmma1'] = mmb1_cmma1\n",
    "    money_market_conditional_probabilities['mmb1_cmma0'] = mmb1_cmma0\n",
    "    money_market_conditional_probabilities['mmb0_cmma1'] = mmb0_cmma1\n",
    "    money_market_conditional_probabilities['mmb0_cmma0'] = mmb0_cmma0\n",
    "    \n",
    "    money_market_conditional_probabilities['mmb1_checking1'] = mmb1_checking1\n",
    "    money_market_conditional_probabilities['mmb1_checking0'] = mmb1_checking0\n",
    "    money_market_conditional_probabilities['mmb0_checking1'] = mmb0_checking1\n",
    "    money_market_conditional_probabilities['mmb0_checking0'] = mmb0_checking0\n",
    "    \n",
    "    money_market_conditional_probabilities['mmb1_cm1'] = mmb1_cm1\n",
    "    money_market_conditional_probabilities['mmb1_cm0'] = mmb1_cm0\n",
    "    money_market_conditional_probabilities['mmb0_cm1'] = mmb0_cm1\n",
    "    money_market_conditional_probabilities['mmb0_cm0'] = mmb0_cm0\n",
    "    \n",
    "    money_market_conditional_probabilities['mmb1_fx1'] = mmb1_fx1\n",
    "    money_market_conditional_probabilities['mmb1_fx0'] = mmb1_fx0\n",
    "    money_market_conditional_probabilities['mmb0_fx1'] = mmb0_fx1\n",
    "    money_market_conditional_probabilities['mmb0_fx0'] = mmb0_fx0\n",
    "    \n",
    "    money_market_conditional_probabilities['mmb1_loc1'] = mmb1_loc1\n",
    "    money_market_conditional_probabilities['mmb1_loc0'] = mmb1_loc0\n",
    "    money_market_conditional_probabilities['mmb0_loc1'] = mmb0_loc1\n",
    "    money_market_conditional_probabilities['mmb0_loc0'] = mmb0_loc0\n",
    "    \n",
    "    money_market_conditional_probabilities['mmb1_es1'] = mmb1_es1\n",
    "    money_market_conditional_probabilities['mmb1_es0'] = mmb1_es0\n",
    "    money_market_conditional_probabilities['mmb0_es1'] = mmb0_es1\n",
    "    money_market_conditional_probabilities['mmb0_es0'] = mmb0_es0\n",
    "    \n",
    "    \n",
    "    return money_market_conditional_probabilities\n",
    "    \n",
    "    \n",
    "    \n",
    "\n",
    "    "
   ]
  },
  {
   "cell_type": "code",
   "execution_count": 691,
   "metadata": {
    "collapsed": false
   },
   "outputs": [
    {
     "name": "stdout",
     "output_type": "stream",
     "text": [
      "0.991235849753  mmb0 prob\n",
      "0.99999851328  cmma 0 prob\n"
     ]
    }
   ],
   "source": [
    "dict_of_esp_money_market_cpd = Esp_Money_Market_Conditional_Probabilities(0) \n",
    "\n"
   ]
  },
  {
   "cell_type": "code",
   "execution_count": 635,
   "metadata": {
    "collapsed": false
   },
   "outputs": [],
   "source": [
    "test = np.array(\n",
    "    [.1,.1,.1,.12,.2,.23,.23,.3,.34,.35,.4,.6,.7,.8,.8,.8,.82,.84,.89,.9,.93,.95,.98,.98,.99,.997,.92\n",
    "                 ,.87,.88,.96\n",
    "                 ,.81,.79,.84,.82,.86,.90,.91,.81,.82,.87,.81,.76,.73,.72,.84,.64,\n",
    "                  .61,.60,.72,.76,.75,.62,.54,.49,.48,.32,.45,.43,.42,.22,.19,.25,.10,.8,.6,.2,.1,.1,.05,.05]).reshape(-1,1)"
   ]
  },
  {
   "cell_type": "code",
   "execution_count": 646,
   "metadata": {
    "collapsed": true
   },
   "outputs": [],
   "source": [
    "test_x = np.array([_ for _ in range(70)]).reshape(-1,1)"
   ]
  },
  {
   "cell_type": "code",
   "execution_count": 647,
   "metadata": {
    "collapsed": false
   },
   "outputs": [
    {
     "data": {
      "text/plain": [
       "(70, 1)"
      ]
     },
     "execution_count": 647,
     "metadata": {},
     "output_type": "execute_result"
    }
   ],
   "source": [
    "test.shape"
   ]
  },
  {
   "cell_type": "code",
   "execution_count": 648,
   "metadata": {
    "collapsed": false
   },
   "outputs": [
    {
     "data": {
      "text/plain": [
       "(70, 1)"
      ]
     },
     "execution_count": 648,
     "metadata": {},
     "output_type": "execute_result"
    }
   ],
   "source": [
    "test_x.shape"
   ]
  },
  {
   "cell_type": "code",
   "execution_count": 661,
   "metadata": {
    "collapsed": false
   },
   "outputs": [],
   "source": [
    "final = np.hstack((test_x,test))"
   ]
  },
  {
   "cell_type": "code",
   "execution_count": 663,
   "metadata": {
    "collapsed": false
   },
   "outputs": [
    {
     "data": {
      "text/plain": [
       "70"
      ]
     },
     "execution_count": 663,
     "metadata": {},
     "output_type": "execute_result"
    }
   ],
   "source": [
    "len(test)"
   ]
  },
  {
   "cell_type": "code",
   "execution_count": 664,
   "metadata": {
    "collapsed": false
   },
   "outputs": [
    {
     "data": {
      "text/plain": [
       "[<matplotlib.lines.Line2D at 0x12245f6d8>]"
      ]
     },
     "execution_count": 664,
     "metadata": {},
     "output_type": "execute_result"
    },
    {
     "data": {
      "image/png": "[encoded data removed]",
      "text/plain": [
       "<matplotlib.figure.Figure at 0x12237ee48>"
      ]
     },
     "metadata": {},
     "output_type": "display_data"
    }
   ],
   "source": [
    "plt.plot([_ for _ in range(len(test[:,0]))],test.ravel())"
   ]
  },
  {
   "cell_type": "code",
   "execution_count": 677,
   "metadata": {
    "collapsed": false
   },
   "outputs": [
    {
     "data": {
      "text/plain": [
       "<scipy.stats._distn_infrastructure.rv_frozen at 0x1223a4828>"
      ]
     },
     "execution_count": 677,
     "metadata": {},
     "output_type": "execute_result"
    }
   ],
   "source": [
    "stats.norm(0, 0.062226452356625161)"
   ]
  },
  {
   "cell_type": "code",
   "execution_count": 678,
   "metadata": {
    "collapsed": false
   },
   "outputs": [],
   "source": [
    "kde_test= KernelDensity(kernel='gaussian', bandwidth=15.0).fit(test)\n",
    "kde_test2 =  KernelDensity(kernel='gaussian', bandwidth=1.0).fit(test)\n",
    "kde_test3 = KernelDensity(kernel='gaussian', bandwidth=35.0).fit(test)\n",
    "kde_test4 = KernelDensity(kernel='gaussian', bandwidth=350.0).fit(test)\n",
    "kde_test5 = KernelDensity(kernel='gaussian', bandwidth=3500.0).fit(test)"
   ]
  },
  {
   "cell_type": "code",
   "execution_count": 671,
   "metadata": {
    "collapsed": false
   },
   "outputs": [
    {
     "data": {
      "text/plain": [
       "-3.8235501593610826"
      ]
     },
     "execution_count": 671,
     "metadata": {},
     "output_type": "execute_result"
    }
   ],
   "source": [
    "kde_test.score(10)"
   ]
  },
  {
   "cell_type": "code",
   "execution_count": 695,
   "metadata": {
    "collapsed": false
   },
   "outputs": [
    {
     "data": {
      "text/plain": [
       "1.3666355232673208e-80"
      ]
     },
     "execution_count": 695,
     "metadata": {},
     "output_type": "execute_result"
    }
   ],
   "source": [
    "np.exp(kde_test2.score(20))"
   ]
  },
  {
   "cell_type": "code",
   "execution_count": 696,
   "metadata": {
    "collapsed": false
   },
   "outputs": [
    {
     "data": {
      "text/plain": [
       "0.011523295521543554"
      ]
     },
     "execution_count": 696,
     "metadata": {},
     "output_type": "execute_result"
    }
   ],
   "source": [
    "np.exp(kde_test.score(20))"
   ]
  },
  {
   "cell_type": "code",
   "execution_count": 697,
   "metadata": {
    "collapsed": false
   },
   "outputs": [
    {
     "data": {
      "text/plain": [
       "0.0097746725006606968"
      ]
     },
     "execution_count": 697,
     "metadata": {},
     "output_type": "execute_result"
    }
   ],
   "source": [
    "np.exp(kde_test3.score(20))"
   ]
  },
  {
   "cell_type": "code",
   "execution_count": 700,
   "metadata": {
    "collapsed": false
   },
   "outputs": [
    {
     "data": {
      "text/plain": [
       "0.001138084672744574"
      ]
     },
     "execution_count": 700,
     "metadata": {},
     "output_type": "execute_result"
    }
   ],
   "source": [
    "np.exp(kde_test4.score(20))"
   ]
  },
  {
   "cell_type": "code",
   "execution_count": 570,
   "metadata": {
    "collapsed": false
   },
   "outputs": [
    {
     "data": {
      "text/plain": [
       "-253.91733859395384"
      ]
     },
     "execution_count": 570,
     "metadata": {},
     "output_type": "execute_result"
    }
   ],
   "source": [
    "sum(kde_test.score(test))"
   ]
  },
  {
   "cell_type": "code",
   "execution_count": 571,
   "metadata": {
    "collapsed": false
   },
   "outputs": [
    {
     "data": {
      "text/plain": [
       "-70.323866078960748"
      ]
     },
     "execution_count": 571,
     "metadata": {},
     "output_type": "execute_result"
    }
   ],
   "source": [
    "sum(kde_test2.score(test))"
   ]
  },
  {
   "cell_type": "code",
   "execution_count": 572,
   "metadata": {
    "collapsed": false
   },
   "outputs": [
    {
     "data": {
      "text/plain": [
       "-313.20522885726103"
      ]
     },
     "execution_count": 572,
     "metadata": {},
     "output_type": "execute_result"
    }
   ],
   "source": [
    "sum(kde_test3.score(test))"
   ]
  },
  {
   "cell_type": "code",
   "execution_count": 582,
   "metadata": {
    "collapsed": false
   },
   "outputs": [
    {
     "data": {
      "text/plain": [
       "-474.38106981270522"
      ]
     },
     "execution_count": 582,
     "metadata": {},
     "output_type": "execute_result"
    }
   ],
   "source": [
    "sum(kde_test4.score_samples(test))"
   ]
  },
  {
   "cell_type": "code",
   "execution_count": 580,
   "metadata": {
    "collapsed": false
   },
   "outputs": [
    {
     "data": {
      "text/plain": [
       "-635.56197516449799"
      ]
     },
     "execution_count": 580,
     "metadata": {},
     "output_type": "execute_result"
    }
   ],
   "source": [
    "sum(kde_test5.score_samples(test))"
   ]
  },
  {
   "cell_type": "code",
   "execution_count": 596,
   "metadata": {
    "collapsed": false
   },
   "outputs": [
    {
     "data": {
      "text/plain": [
       "array([[ 1.68563878]])"
      ]
     },
     "execution_count": 596,
     "metadata": {},
     "output_type": "execute_result"
    }
   ],
   "source": [
    "kde_test.score()"
   ]
  },
  {
   "cell_type": "code",
   "execution_count": 628,
   "metadata": {
    "collapsed": false
   },
   "outputs": [
    {
     "data": {
      "text/plain": [
       "15.0"
      ]
     },
     "execution_count": 628,
     "metadata": {},
     "output_type": "execute_result"
    }
   ],
   "source": [
    "kde_test.score_samples()"
   ]
  },
  {
   "cell_type": "code",
   "execution_count": 681,
   "metadata": {
    "collapsed": false
   },
   "outputs": [
    {
     "data": {
      "text/plain": [
       "[<matplotlib.lines.Line2D at 0x122549978>]"
      ]
     },
     "execution_count": 681,
     "metadata": {},
     "output_type": "execute_result"
    },
    {
     "data": {
      "image/png": "[encoded data removed]",
      "text/plain": [
       "<matplotlib.figure.Figure at 0x121b5e978>"
      ]
     },
     "metadata": {},
     "output_type": "display_data"
    }
   ],
   "source": [
    "plt.plot(kde_test5.sample(50)[:,0])"
   ]
  },
  {
   "cell_type": "code",
   "execution_count": 515,
   "metadata": {
    "collapsed": false
   },
   "outputs": [
    {
     "data": {
      "text/plain": [
       "array([-0.41075698, -0.41075698, -0.41076071, -0.41075698, -0.41075698,\n",
       "       -0.41076071])"
      ]
     },
     "execution_count": 515,
     "metadata": {},
     "output_type": "execute_result"
    }
   ],
   "source": [
    ">>> from sklearn.neighbors.kde import KernelDensity\n",
    ">>> import numpy as np\n",
    ">>> X = np.array([[-1, -1], [-2, -1], [-3, -2], [1, 1], [2, 1], [3, 2]])\n",
    ">>> kde = KernelDensity(kernel='gaussian', bandwidth=0.2).fit(X)\n",
    ">>> kde.score_samples(X)\n",
    "array([-0.41075698, -0.41075698, -0.41076071, -0.41075698, -0.41075698,\n",
    "       -0.41076071])"
   ]
  },
  {
   "cell_type": "code",
   "execution_count": 429,
   "metadata": {
    "collapsed": false
   },
   "outputs": [
    {
     "data": {
      "text/plain": [
       "{'mmb0_checking0': 0.89866927824582921,\n",
       " 'mmb0_checking1': 0.03657192392122488,\n",
       " 'mmb0_cm0': 0.92785182886672712,\n",
       " 'mmb0_cm1': 0.0073893733003269867,\n",
       " 'mmb0_cmma0': 0.89602516399535648,\n",
       " 'mmb0_cmma1': 0.039216038171697561,\n",
       " 'mmb0_es0': 0.93131412505163191,\n",
       " 'mmb0_es1': 0.0039270771154221945,\n",
       " 'mmb0_fx0': 0.9286443086201579,\n",
       " 'mmb0_fx1': 0.0065968935468961746,\n",
       " 'mmb0_loc0': 0.92106180356957157,\n",
       " 'mmb0_loc1': 0.014179398597482552,\n",
       " 'mmb1_checking0': 0.062226452356625161,\n",
       " 'mmb1_checking1': 0.0025323454763207069,\n",
       " 'mmb1_cm0': 0.064247136316580633,\n",
       " 'mmb1_cm1': 0.00051166151636523839,\n",
       " 'mmb1_cmma0': 0.062043366260977527,\n",
       " 'mmb1_cmma1': 0.0027154315719683476,\n",
       " 'mmb1_es0': 0.064486875688794451,\n",
       " 'mmb1_es1': 0.00027192214415141695,\n",
       " 'mmb1_fx0': 0.064302009900015805,\n",
       " 'mmb1_fx1': 0.00045678793293006176,\n",
       " 'mmb1_loc0': 0.063776975384320353,\n",
       " 'mmb1_loc1': 0.00098182244862551654}"
      ]
     },
     "execution_count": 429,
     "metadata": {},
     "output_type": "execute_result"
    }
   ],
   "source": [
    "dict_of_esp_money_market_cpd"
   ]
  },
  {
   "cell_type": "code",
   "execution_count": 399,
   "metadata": {
    "collapsed": false
   },
   "outputs": [],
   "source": [
    "vec_0_no_mmb = np.array([dict_of_esp_money_market_cpd['mmb0_checking0'],dict_of_esp_money_market_cpd['mmb0_checking1'],\n",
    "             dict_of_esp_money_market_cpd['mmb0_cm0'],dict_of_esp_money_market_cpd['mmb0_cm1'],\n",
    "             dict_of_esp_money_market_cpd['mmb0_cmma0'],dict_of_esp_money_market_cpd['mmb0_cmma1'],\n",
    "             dict_of_esp_money_market_cpd['mmb0_es0'],dict_of_esp_money_market_cpd['mmb0_es1'],\n",
    "             dict_of_esp_money_market_cpd['mmb0_fx0'],dict_of_esp_money_market_cpd['mmb0_fx1'],\n",
    "             dict_of_esp_money_market_cpd['mmb0_loc0'],dict_of_esp_money_market_cpd['mmb0_loc1']])\n",
    "vec_0_yes_mmb  = np.array([dict_of_esp_money_market_cpd['mmb1_checking0'],dict_of_esp_money_market_cpd['mmb1_checking1'],\n",
    "             dict_of_esp_money_market_cpd['mmb1_cm0'],dict_of_esp_money_market_cpd['mmb1_cm1'],\n",
    "             dict_of_esp_money_market_cpd['mmb1_cmma0'],dict_of_esp_money_market_cpd['mmb1_cmma1'],\n",
    "             dict_of_esp_money_market_cpd['mmb1_es0'],dict_of_esp_money_market_cpd['mmb1_es1'],\n",
    "             dict_of_esp_money_market_cpd['mmb1_fx0'],dict_of_esp_money_market_cpd['mmb1_fx1'],\n",
    "             dict_of_esp_money_market_cpd['mmb1_loc0'],dict_of_esp_money_market_cpd['mmb1_loc1']])"
   ]
  },
  {
   "cell_type": "code",
   "execution_count": 401,
   "metadata": {
    "collapsed": false
   },
   "outputs": [
    {
     "data": {
      "text/plain": [
       "array([  8.74878818e-03,   1.53620659e-05,   8.62576404e-03,\n",
       "         1.38386210e-04,   8.68733992e-03,   7.68103295e-05,\n",
       "         8.72734714e-03,   3.68031071e-05,   8.70290030e-03,\n",
       "         6.12499506e-05,   8.63504725e-03,   1.29102994e-04])"
      ]
     },
     "execution_count": 401,
     "metadata": {},
     "output_type": "execute_result"
    }
   ],
   "source": [
    "vec_0_yes_mmb "
   ]
  },
  {
   "cell_type": "code",
   "execution_count": 459,
   "metadata": {
    "collapsed": false
   },
   "outputs": [],
   "source": [
    "vec_0_dot = vec_0_no_mmb.dot(vec_0_yes_mmb)"
   ]
  },
  {
   "cell_type": "code",
   "execution_count": 444,
   "metadata": {
    "collapsed": false
   },
   "outputs": [],
   "source": [
    "vec_0_no_norm = np.linalg.norm(vec_0_no_mmb)"
   ]
  },
  {
   "cell_type": "code",
   "execution_count": 453,
   "metadata": {
    "collapsed": false
   },
   "outputs": [],
   "source": [
    "vec_0_yes_norm = np.linalg.norm(vec_0_yes_mmb)"
   ]
  },
  {
   "cell_type": "code",
   "execution_count": 393,
   "metadata": {
    "collapsed": true
   },
   "outputs": [],
   "source": [
    "vec_50_no_mmb = np.array([dict_of_esp_money_market_cpd['mmb0_checking0'],dict_of_esp_money_market_cpd['mmb0_checking1'],\n",
    "             dict_of_esp_money_market_cpd['mmb0_cm0'],dict_of_esp_money_market_cpd['mmb0_cm1'],\n",
    "             dict_of_esp_money_market_cpd['mmb0_cmma0'],dict_of_esp_money_market_cpd['mmb0_cmma1'],\n",
    "             dict_of_esp_money_market_cpd['mmb0_es0'],dict_of_esp_money_market_cpd['mmb0_es1'],\n",
    "             dict_of_esp_money_market_cpd['mmb0_fx0'],dict_of_esp_money_market_cpd['mmb0_fx1'],\n",
    "             dict_of_esp_money_market_cpd['mmb0_loc0'],dict_of_esp_money_market_cpd['mmb0_loc1']])\n",
    "vec_50_yes_mmb  = np.array([dict_of_esp_money_market_cpd['mmb1_checking0'],dict_of_esp_money_market_cpd['mmb1_checking1'],\n",
    "             dict_of_esp_money_market_cpd['mmb1_cm0'],dict_of_esp_money_market_cpd['mmb1_cm1'],\n",
    "             dict_of_esp_money_market_cpd['mmb1_cmma0'],dict_of_esp_money_market_cpd['mmb1_cmma1'],\n",
    "             dict_of_esp_money_market_cpd['mmb1_es0'],dict_of_esp_money_market_cpd['mmb1_es1'],\n",
    "             dict_of_esp_money_market_cpd['mmb1_fx0'],dict_of_esp_money_market_cpd['mmb1_fx1'],\n",
    "             dict_of_esp_money_market_cpd['mmb1_loc0'],dict_of_esp_money_market_cpd['mmb1_loc1']])"
   ]
  },
  {
   "cell_type": "code",
   "execution_count": 397,
   "metadata": {
    "collapsed": false
   },
   "outputs": [
    {
     "data": {
      "text/plain": [
       "array([  2.33521798e-111,   4.10042760e-114,   2.33931841e-111,\n",
       "         4.67787829e-127,   2.33931841e-111,   5.47241062e-222,\n",
       "         2.33073229e-111,   8.58611426e-114,   2.32546039e-111,\n",
       "         1.38580159e-113,   2.32893924e-111,   1.03791660e-113])"
      ]
     },
     "execution_count": 397,
     "metadata": {},
     "output_type": "execute_result"
    }
   ],
   "source": [
    "vec_50_yes_mmb"
   ]
  },
  {
   "cell_type": "code",
   "execution_count": 458,
   "metadata": {
    "collapsed": false
   },
   "outputs": [],
   "source": [
    "vec_50_dot = vec_50_no_mmb.dot(vec_50_yes_mmb)"
   ]
  },
  {
   "cell_type": "code",
   "execution_count": 443,
   "metadata": {
    "collapsed": false
   },
   "outputs": [],
   "source": [
    "vec_50_no_norm = np.linalg.norm(vec_50_no_mmb)"
   ]
  },
  {
   "cell_type": "code",
   "execution_count": 452,
   "metadata": {
    "collapsed": false
   },
   "outputs": [],
   "source": [
    "vec_50_yes_norm = np.linalg.norm(vec_50_yes_mmb)"
   ]
  },
  {
   "cell_type": "code",
   "execution_count": 382,
   "metadata": {
    "collapsed": true
   },
   "outputs": [],
   "source": [
    "vec_25_no_mmb = np.array([dict_of_esp_money_market_cpd['mmb0_checking0'],dict_of_esp_money_market_cpd['mmb0_checking1'],\n",
    "             dict_of_esp_money_market_cpd['mmb0_cm0'],dict_of_esp_money_market_cpd['mmb0_cm1'],\n",
    "             dict_of_esp_money_market_cpd['mmb0_cmma0'],dict_of_esp_money_market_cpd['mmb0_cmma1'],\n",
    "             dict_of_esp_money_market_cpd['mmb0_es0'],dict_of_esp_money_market_cpd['mmb0_es1'],\n",
    "             dict_of_esp_money_market_cpd['mmb0_fx0'],dict_of_esp_money_market_cpd['mmb0_fx1'],\n",
    "             dict_of_esp_money_market_cpd['mmb0_loc0'],dict_of_esp_money_market_cpd['mmb0_loc1']])\n",
    "vec_25_yes_mmb  = np.array([dict_of_esp_money_market_cpd['mmb1_checking0'],dict_of_esp_money_market_cpd['mmb1_checking1'],\n",
    "             dict_of_esp_money_market_cpd['mmb1_cm0'],dict_of_esp_money_market_cpd['mmb1_cm1'],\n",
    "             dict_of_esp_money_market_cpd['mmb1_cmma0'],dict_of_esp_money_market_cpd['mmb1_cmma1'],\n",
    "             dict_of_esp_money_market_cpd['mmb1_es0'],dict_of_esp_money_market_cpd['mmb1_es1'],\n",
    "             dict_of_esp_money_market_cpd['mmb1_fx0'],dict_of_esp_money_market_cpd['mmb1_fx1'],\n",
    "             dict_of_esp_money_market_cpd['mmb1_loc0'],dict_of_esp_money_market_cpd['mmb1_loc1']])"
   ]
  },
  {
   "cell_type": "code",
   "execution_count": 457,
   "metadata": {
    "collapsed": false
   },
   "outputs": [],
   "source": [
    "vec_25_dot = vec_25_no_mmb.dot(vec_25_yes_mmb)"
   ]
  },
  {
   "cell_type": "code",
   "execution_count": 440,
   "metadata": {
    "collapsed": false
   },
   "outputs": [],
   "source": [
    "vec_25_no_norm = np.linalg.norm(vec_25_no_mmb)"
   ]
  },
  {
   "cell_type": "code",
   "execution_count": 467,
   "metadata": {
    "collapsed": false
   },
   "outputs": [],
   "source": [
    "vec_25_yes_norm = np.linalg.norm(vec_25_yes_mmb)"
   ]
  },
  {
   "cell_type": "code",
   "execution_count": 468,
   "metadata": {
    "collapsed": true
   },
   "outputs": [],
   "source": [
    "vec_75_no_mmb = np.array([dict_of_esp_money_market_cpd['mmb0_checking0'],dict_of_esp_money_market_cpd['mmb0_checking1'],\n",
    "             dict_of_esp_money_market_cpd['mmb0_cm0'],dict_of_esp_money_market_cpd['mmb0_cm1'],\n",
    "             dict_of_esp_money_market_cpd['mmb0_cmma0'],dict_of_esp_money_market_cpd['mmb0_cmma1'],\n",
    "             dict_of_esp_money_market_cpd['mmb0_es0'],dict_of_esp_money_market_cpd['mmb0_es1'],\n",
    "             dict_of_esp_money_market_cpd['mmb0_fx0'],dict_of_esp_money_market_cpd['mmb0_fx1'],\n",
    "             dict_of_esp_money_market_cpd['mmb0_loc0'],dict_of_esp_money_market_cpd['mmb0_loc1']])\n",
    "vec_75_yes_mmb  = np.array([dict_of_esp_money_market_cpd['mmb1_checking0'],dict_of_esp_money_market_cpd['mmb1_checking1'],\n",
    "             dict_of_esp_money_market_cpd['mmb1_cm0'],dict_of_esp_money_market_cpd['mmb1_cm1'],\n",
    "             dict_of_esp_money_market_cpd['mmb1_cmma0'],dict_of_esp_money_market_cpd['mmb1_cmma1'],\n",
    "             dict_of_esp_money_market_cpd['mmb1_es0'],dict_of_esp_money_market_cpd['mmb1_es1'],\n",
    "             dict_of_esp_money_market_cpd['mmb1_fx0'],dict_of_esp_money_market_cpd['mmb1_fx1'],\n",
    "             dict_of_esp_money_market_cpd['mmb1_loc0'],dict_of_esp_money_market_cpd['mmb1_loc1']])\n",
    "vec_75_dot = vec_75_no_mmb.dot(vec_75_yes_mmb)\n",
    "vec_75_no_norm = np.linalg.norm(vec_75_no_mmb)\n",
    "vec_75_yes_norm = np.linalg.norm(vec_75_yes_mmb)"
   ]
  },
  {
   "cell_type": "code",
   "execution_count": 476,
   "metadata": {
    "collapsed": true
   },
   "outputs": [],
   "source": [
    "vec_0_no_mmb = np.array([dict_of_esp_money_market_cpd['mmb0_checking0'],dict_of_esp_money_market_cpd['mmb0_checking1'],\n",
    "             dict_of_esp_money_market_cpd['mmb0_cm0'],dict_of_esp_money_market_cpd['mmb0_cm1'],\n",
    "             dict_of_esp_money_market_cpd['mmb0_cmma0'],dict_of_esp_money_market_cpd['mmb0_cmma1'],\n",
    "             dict_of_esp_money_market_cpd['mmb0_es0'],dict_of_esp_money_market_cpd['mmb0_es1'],\n",
    "             dict_of_esp_money_market_cpd['mmb0_fx0'],dict_of_esp_money_market_cpd['mmb0_fx1'],\n",
    "             dict_of_esp_money_market_cpd['mmb0_loc0'],dict_of_esp_money_market_cpd['mmb0_loc1']])\n",
    "vec_0_yes_mmb  = np.array([dict_of_esp_money_market_cpd['mmb1_checking0'],dict_of_esp_money_market_cpd['mmb1_checking1'],\n",
    "             dict_of_esp_money_market_cpd['mmb1_cm0'],dict_of_esp_money_market_cpd['mmb1_cm1'],\n",
    "             dict_of_esp_money_market_cpd['mmb1_cmma0'],dict_of_esp_money_market_cpd['mmb1_cmma1'],\n",
    "             dict_of_esp_money_market_cpd['mmb1_es0'],dict_of_esp_money_market_cpd['mmb1_es1'],\n",
    "             dict_of_esp_money_market_cpd['mmb1_fx0'],dict_of_esp_money_market_cpd['mmb1_fx1'],\n",
    "             dict_of_esp_money_market_cpd['mmb1_loc0'],dict_of_esp_money_market_cpd['mmb1_loc1']])\n",
    "vec_0_dot = vec_75_no_mmb.dot(vec_0_yes_mmb)\n",
    "vec_0_no_norm = np.linalg.norm(vec_0_no_mmb)\n",
    "vec_0_yes_norm = np.linalg.norm(vec_0_yes_mmb)"
   ]
  },
  {
   "cell_type": "code",
   "execution_count": null,
   "metadata": {
    "collapsed": true
   },
   "outputs": [],
   "source": []
  },
  {
   "cell_type": "code",
   "execution_count": 475,
   "metadata": {
    "collapsed": false
   },
   "outputs": [
    {
     "data": {
      "text/plain": [
       "<matplotlib.text.Text at 0x11f98ff60>"
      ]
     },
     "execution_count": 475,
     "metadata": {},
     "output_type": "execute_result"
    },
    {
     "data": {
      "image/png": "[encoded data removed]",
      "text/plain": [
       "<matplotlib.figure.Figure at 0x11f0676d8>"
      ]
     },
     "metadata": {},
     "output_type": "display_data"
    }
   ],
   "source": [
    "plt.plot(np.array([vec_0_yes_norm,vec_25_yes_norm,vec_50_yes_norm,vec_75_yes_norm]))\n",
    "plt.ylim(-1,2)\n",
    "plt.title('norm of having product mmb')"
   ]
  },
  {
   "cell_type": "code",
   "execution_count": 470,
   "metadata": {
    "collapsed": false
   },
   "outputs": [
    {
     "data": {
      "text/plain": [
       "<matplotlib.text.Text at 0x11dfa98d0>"
      ]
     },
     "execution_count": 470,
     "metadata": {},
     "output_type": "execute_result"
    },
    {
     "data": {
      "image/png": "[encoded data removed]",
      "text/plain": [
       "<matplotlib.figure.Figure at 0x11f062358>"
      ]
     },
     "metadata": {},
     "output_type": "display_data"
    }
   ],
   "source": [
    "plt.plot(np.array([vec_0_no_norm,vec_25_no_norm,vec_50_no_norm]))\n",
    "plt.ylim(2.0,3.5)\n",
    "plt.title('norm of NOT having product mmb')"
   ]
  },
  {
   "cell_type": "code",
   "execution_count": 477,
   "metadata": {
    "collapsed": false
   },
   "outputs": [
    {
     "data": {
      "text/plain": [
       "<matplotlib.text.Text at 0x11fa30978>"
      ]
     },
     "execution_count": 477,
     "metadata": {},
     "output_type": "execute_result"
    },
    {
     "data": {
      "image/png": "[encoded data removed]",
      "text/plain": [
       "<matplotlib.figure.Figure at 0x11f9db748>"
      ]
     },
     "metadata": {},
     "output_type": "display_data"
    }
   ],
   "source": [
    "plt.plot(np.array([vec_0_dot,vec_25_dot,vec_50_dot, vec_75_dot]))\n",
    "plt.ylim(-1,1)\n",
    "plt.title('Inner product of having / not having product mmb')"
   ]
  },
  {
   "cell_type": "code",
   "execution_count": 692,
   "metadata": {
    "collapsed": false
   },
   "outputs": [],
   "source": [
    "model = MarkovModel([('money_market_bonus', 'collateral_mma'), ('money_market_bonus', 'checking_usd'), \n",
    "                     ('money_market_bonus', 'cash_management'), ('money_market_bonus', 'fx_products'),\n",
    "                    ('money_market_bonus', 'letters_of_credit'), ('money_market_bonus', 'enterprise_sweep')])#,\n",
    "                     \n",
    "#                      ('collateral_mma', 'checking_usd'), ('collateral_mma', 'cash_management'), \n",
    "#                      ('collateral_mma', 'fx_products'), ('collateral_mma', 'letters_of_credit'),\n",
    "#                     ('collateral_mma', 'enterprise_sweep')\n",
    "                     \n",
    "#                     ])\n",
    "esp_eligible_products = ['Money Market Bonus','Collateral MMA'\n",
    "'Cash Management',\n",
    "'FX Products',\n",
    "'Letters of Credit',\n",
    "'Enterprise Sweep',\n",
    "'Checking USD']\n",
    "\n",
    "def Esp_Product_Probability_Over_Time(esp_money_market_conditional_probabilities,month_n_one_time= None,\n",
    "                                      product_name = None,range_of_months=24,evidence_=None):\n",
    "    \"\"\"Returns the probability of having a given ESP product during a certain month. \n",
    "    If no month_n is given, then will return distributions of each product per month for 24 months. \n",
    "    Otherwise, will only products for that month.\n",
    "    If no product_name is given, then will return all products for a given month. Or, that particular product\"\"\"\n",
    "    prob_mmb = []\n",
    "    prob_cmma = []\n",
    "    prob_cm = []\n",
    "    prob_fx = []\n",
    "    prob_loc = []\n",
    "    prob_es = []\n",
    "    prob_checking = []\n",
    "    prob_given_month_no_priors_having_product = {}\n",
    "    products =['money_market_bonus','collateral_mma','cash_management',\n",
    "                                        'fx_products','letters_of_credit','enterprise_sweep','checking_usd']\n",
    "    \n",
    "    if month_n_one_time != None:\n",
    "        dict_of_esp_money_market_cpd = esp_money_market_conditional_probabilities(month_n_one_time) \n",
    "\n",
    "        factor_mmb_cmma = Factor(variables=['money_market_bonus', 'collateral_mma'],\n",
    "                        cardinality=[2, 2],\n",
    "                        values=[dict_of_esp_money_market_cpd['mmb0_cmma0'], dict_of_esp_money_market_cpd['mmb0_cmma1'],\n",
    "                                    dict_of_esp_money_market_cpd['mmb1_cmma0'], dict_of_esp_money_market_cpd['mmb1_cmma1']])\n",
    "        factor_mmb_cm = Factor(variables=['money_market_bonus', 'cash_management'],\n",
    "                            cardinality=[2, 2],\n",
    "                            values=[dict_of_esp_money_market_cpd['mmb0_cm0'], dict_of_esp_money_market_cpd['mmb0_cm1'],\n",
    "                                    dict_of_esp_money_market_cpd['mmb1_cm0'], dict_of_esp_money_market_cpd['mmb1_cm1']])\n",
    "        factor_mmb_fx = Factor(variables=['money_market_bonus', 'fx_products'],\n",
    "                             cardinality=[2, 2],\n",
    "                             values=[dict_of_esp_money_market_cpd['mmb0_fx0'], dict_of_esp_money_market_cpd['mmb0_fx1'],\n",
    "                                    dict_of_esp_money_market_cpd['mmb1_fx0'], dict_of_esp_money_market_cpd['mmb1_fx1']])\n",
    "        factor_mmb_loc = Factor(variables=['money_market_bonus', 'letters_of_credit'],\n",
    "                             cardinality=[2, 2],\n",
    "                             values=[dict_of_esp_money_market_cpd['mmb0_loc0'], dict_of_esp_money_market_cpd['mmb0_loc1'],\n",
    "                                    dict_of_esp_money_market_cpd['mmb1_loc0'], dict_of_esp_money_market_cpd['mmb1_loc1']])\n",
    "        factor_mmb_es = Factor(variables=['money_market_bonus', 'enterprise_sweep'],\n",
    "                             cardinality=[2, 2],\n",
    "                             values=[dict_of_esp_money_market_cpd['mmb0_es0'], dict_of_esp_money_market_cpd['mmb0_es1'],\n",
    "                                    dict_of_esp_money_market_cpd['mmb1_es0'], dict_of_esp_money_market_cpd['mmb1_es1']])  \n",
    "        factor_mmb_checking = Factor(variables=['money_market_bonus', 'checking_usd'],\n",
    "                             cardinality=[2, 2],\n",
    "                             values=[dict_of_esp_money_market_cpd['mmb0_checking0'], dict_of_esp_money_market_cpd['mmb0_checking1'],\n",
    "                                    dict_of_esp_money_market_cpd['mmb1_checking0'], dict_of_esp_money_market_cpd['mmb1_checking1']])   \n",
    "\n",
    "#             factor_cmma_checking = Factor(variables=['collateral_mma', 'checking_usd'],\n",
    "#                                 cardinality=[2, 2],\n",
    "#                                 values=[dict_of_esp_money_market_cpd['mmb0_cmma0'], dict_of_esp_money_market_cpd['mmb0_cmma1'],\n",
    "#                                         dict_of_esp_money_market_cpd['mmb1_cmma0'], dict_of_esp_money_market_cpd['mmb1_cmma1']])\n",
    "\n",
    "#             factor_cmma_cm = Factor(variables=['collateral_mma', 'checking_usd'],\n",
    "#                                 cardinality=[2, 2],\n",
    "#                                 values=[.4, .6, .3, .7])\n",
    "\n",
    "#             factor_cmma_fx = Factor(variables=['collateral_mma', 'fx_products'],\n",
    "#                                 cardinality=[2, 2],\n",
    "#                                 values=[.2, .8, .9, .1])\n",
    "\n",
    "#             factor_cmma_loc = Factor(variables=['collateral_mma', 'letters_of_credit'],\n",
    "#                                 cardinality=[2, 2],\n",
    "#                                 values=[.3, .7, .4, .6])\n",
    "\n",
    "#             factor_cmma_es = Factor(variables=['collateral_mma', 'letters_of_credit'],\n",
    "#                                 cardinality=[2, 2],\n",
    "#                                 values=[.1, .9, .4, .6])\n",
    "\n",
    "        model.add_factors(factor_mmb_cmma, factor_mmb_cm,\n",
    "                           factor_mmb_fx, factor_mmb_loc,factor_mmb_es ,factor_mmb_checking)#,\n",
    "        belief_propagation = BeliefPropagation(model)\n",
    "        if evidence_ == None:\n",
    "            belief_nopriors = belief_propagation.query(variables=['money_market_bonus','collateral_mma','cash_management',\n",
    "                                        'fx_products','letters_of_credit','enterprise_sweep','checking_usd'],\n",
    "                                                      evidence=evidence_)\n",
    "            return \n",
    "        else:\n",
    "\n",
    "\n",
    "            ## append the probabilities over time\n",
    "            prob_mmb.append(belief_nopriors ['money_market_bonus'].values[1]) # one is having the product\n",
    "            prob_cmma.append(belief_nopriors['collateral_mma'].values[1])\n",
    "            prob_cm.append(belief_nopriors['cash_management'].values[1])\n",
    "            prob_fx.append(belief_nopriors['fx_products'].values[1])\n",
    "            prob_loc.append(belief_nopriors['letters_of_credit'].values[1])\n",
    "            prob_es.append(belief_nopriors['enterprise_sweep'].values[1])\n",
    "            prob_checking.append(belief_nopriors['checking_usd'].values[1])\n",
    "    else:\n",
    "        for month_n_loop in range(range_of_months):\n",
    "            dict_of_esp_money_market_cpd = esp_money_market_conditional_probabilities(month_n_loop) \n",
    "\n",
    "            factor_mmb_cmma = Factor(variables=['money_market_bonus', 'collateral_mma'],\n",
    "                                cardinality=[2, 2],\n",
    "                                values=[dict_of_esp_money_market_cpd['mmb0_cmma0'], dict_of_esp_money_market_cpd['mmb0_cmma1'],\n",
    "                                        dict_of_esp_money_market_cpd['mmb1_cmma0'], dict_of_esp_money_market_cpd['mmb1_cmma1']])\n",
    "            factor_mmb_cm = Factor(variables=['money_market_bonus', 'cash_management'],\n",
    "                                cardinality=[2, 2],\n",
    "                                values=[dict_of_esp_money_market_cpd['mmb0_cm0'], dict_of_esp_money_market_cpd['mmb0_cm1'],\n",
    "                                        dict_of_esp_money_market_cpd['mmb1_cm0'], dict_of_esp_money_market_cpd['mmb1_cm1']])\n",
    "            factor_mmb_fx = Factor(variables=['money_market_bonus', 'fx_products'],\n",
    "                                 cardinality=[2, 2],\n",
    "                                 values=[dict_of_esp_money_market_cpd['mmb0_fx0'], dict_of_esp_money_market_cpd['mmb0_fx1'],\n",
    "                                        dict_of_esp_money_market_cpd['mmb1_fx0'], dict_of_esp_money_market_cpd['mmb1_fx1']])\n",
    "            factor_mmb_loc = Factor(variables=['money_market_bonus', 'letters_of_credit'],\n",
    "                                 cardinality=[2, 2],\n",
    "                                 values=[dict_of_esp_money_market_cpd['mmb0_loc0'], dict_of_esp_money_market_cpd['mmb0_loc1'],\n",
    "                                        dict_of_esp_money_market_cpd['mmb1_loc0'], dict_of_esp_money_market_cpd['mmb1_loc1']])\n",
    "            factor_mmb_es = Factor(variables=['money_market_bonus', 'enterprise_sweep'],\n",
    "                                 cardinality=[2, 2],\n",
    "                                 values=[dict_of_esp_money_market_cpd['mmb0_es0'], dict_of_esp_money_market_cpd['mmb0_es1'],\n",
    "                                        dict_of_esp_money_market_cpd['mmb1_es0'], dict_of_esp_money_market_cpd['mmb1_es1']])  \n",
    "            factor_mmb_checking = Factor(variables=['money_market_bonus', 'checking_usd'],\n",
    "                                 cardinality=[2, 2],\n",
    "                                 values=[dict_of_esp_money_market_cpd['mmb0_checking0'], dict_of_esp_money_market_cpd['mmb0_checking1'],\n",
    "                                        dict_of_esp_money_market_cpd['mmb1_checking0'], dict_of_esp_money_market_cpd['mmb1_checking1']])   \n",
    "\n",
    "#             factor_cmma_checking = Factor(variables=['collateral_mma', 'checking_usd'],\n",
    "#                                 cardinality=[2, 2],\n",
    "#                                 values=[dict_of_esp_money_market_cpd['mmb0_cmma0'], dict_of_esp_money_market_cpd['mmb0_cmma1'],\n",
    "#                                         dict_of_esp_money_market_cpd['mmb1_cmma0'], dict_of_esp_money_market_cpd['mmb1_cmma1']])\n",
    "\n",
    "#             factor_cmma_cm = Factor(variables=['collateral_mma', 'checking_usd'],\n",
    "#                                 cardinality=[2, 2],\n",
    "#                                 values=[.4, .6, .3, .7])\n",
    "\n",
    "#             factor_cmma_fx = Factor(variables=['collateral_mma', 'fx_products'],\n",
    "#                                 cardinality=[2, 2],\n",
    "#                                 values=[.2, .8, .9, .1])\n",
    "\n",
    "#             factor_cmma_loc = Factor(variables=['collateral_mma', 'letters_of_credit'],\n",
    "#                                 cardinality=[2, 2],\n",
    "#                                 values=[.3, .7, .4, .6])\n",
    "\n",
    "#             factor_cmma_es = Factor(variables=['collateral_mma', 'letters_of_credit'],\n",
    "#                                 cardinality=[2, 2],\n",
    "#                                 values=[.1, .9, .4, .6])\n",
    "\n",
    "            model.add_factors(factor_mmb_cmma, factor_mmb_cm,\n",
    "                               factor_mmb_fx, factor_mmb_loc,factor_mmb_es ,factor_mmb_checking)#,\n",
    "            belief_propagation = BeliefPropagation(model)\n",
    "            belief_nopriors = belief_propagation.query(variables=['money_market_bonus','collateral_mma','cash_management',\n",
    "                                        'fx_products','letters_of_credit','enterprise_sweep','checking_usd'],\n",
    "                                                      evidence=evidence_)\n",
    "\n",
    "            ## append the probabilities over time\n",
    "            prob_mmb.append(belief_nopriors ['money_market_bonus'].values[1]) # one is having the product\n",
    "            prob_cmma.append(belief_nopriors['collateral_mma'].values[1])\n",
    "            prob_cm.append(belief_nopriors['cash_management'].values[1])\n",
    "            prob_fx.append(belief_nopriors['fx_products'].values[1])\n",
    "            prob_loc.append(belief_nopriors['letters_of_credit'].values[1])\n",
    "            prob_es.append(belief_nopriors['enterprise_sweep'].values[1])\n",
    "            prob_checking.append(belief_nopriors['checking_usd'].values[1])\n",
    "\n",
    "    plt.figure(figsize=(15,8))\n",
    "    plt.plot([_ for _ in range( range_of_months)], prob_mmb,label='mmb')\n",
    "    plt.plot([_ for _ in range( range_of_months)], prob_cmma,label='cmma')\n",
    "    plt.plot([_ for _ in range( range_of_months)], prob_fx,label='fx')\n",
    "    plt.plot([_ for _ in range( range_of_months)], prob_loc,label='loc')\n",
    "    plt.plot([_ for _ in range( range_of_months)], prob_es,label='es')\n",
    "    plt.plot([_ for _ in range( range_of_months)], prob_checking,label='checking')\n",
    "    plt.legend()\n",
    "    \n",
    "        \n",
    "        \n",
    "# fig = plt.plot([i for i in range(50)],have_money_market,label='have money_market_bonus')\n",
    "# fig.title('Haev money market bonus')\n",
    "\n",
    "                # factor_cmma_checking,factor_cmma_cm,factor_cmma_fx,factor_cmma_loc,factor_cmma_es )"
   ]
  },
  {
   "cell_type": "code",
   "execution_count": 693,
   "metadata": {
    "collapsed": false
   },
   "outputs": [
    {
     "name": "stdout",
     "output_type": "stream",
     "text": [
      "0.991235849753  mmb0 prob\n",
      "0.99999851328  cmma 0 prob\n",
      "0.973004516743  mmb0 prob\n",
      "0.999866169774  cmma 0 prob\n",
      "0.935241202167  mmb0 prob\n",
      "0.995568151588  cmma 0 prob\n",
      "0.87901463774  mmb0 prob\n",
      "0.946009033487  cmma 0 prob\n",
      "0.823967336618  mmb0 prob\n",
      "0.758029275481  cmma 0 prob\n",
      "0.800528859799  mmb0 prob\n",
      "0.601057719599  cmma 0 prob\n",
      "0.823967336618  mmb0 prob\n",
      "0.758029275481  cmma 0 prob\n",
      "0.87901463774  mmb0 prob\n",
      "0.946009033487  cmma 0 prob\n",
      "0.935241202167  mmb0 prob\n",
      "0.995568151588  cmma 0 prob\n",
      "0.973004516743  mmb0 prob\n",
      "0.999866169774  cmma 0 prob\n",
      "0.991235849753  mmb0 prob\n",
      "0.99999851328  cmma 0 prob\n",
      "0.997784075794  mmb0 prob\n",
      "0.999999993924  cmma 0 prob\n",
      "0.999563658652  mmb0 prob\n",
      "0.999999999991  cmma 0 prob\n",
      "0.999933084887  mmb0 prob\n",
      "1.0  cmma 0 prob\n",
      "0.999992008129  mmb0 prob\n",
      "1.0  cmma 0 prob\n",
      "0.99999925664  mmb0 prob\n",
      "1.0  cmma 0 prob\n",
      "0.999999946151  mmb0 prob\n",
      "1.0  cmma 0 prob\n",
      "0.999999996962  mmb0 prob\n",
      "1.0  cmma 0 prob\n",
      "0.999999999867  mmb0 prob\n",
      "1.0  cmma 0 prob\n"
     ]
    },
    {
     "name": "stderr",
     "output_type": "stream",
     "text": [
      "/Users/jonathanhilgart/anaconda/envs/SVB/lib/python3.6/site-packages/pgmpy/factors/Factor.py:659: RuntimeWarning: invalid value encountered in true_divide\n",
      "  phi.values = phi.values / phi1.values\n"
     ]
    },
    {
     "name": "stdout",
     "output_type": "stream",
     "text": [
      "0.999999999995  mmb0 prob\n",
      "1.0  cmma 0 prob\n",
      "1.0  mmb0 prob\n",
      "1.0  cmma 0 prob\n",
      "1.0  mmb0 prob\n",
      "1.0  cmma 0 prob\n",
      "1.0  mmb0 prob\n",
      "1.0  cmma 0 prob\n",
      "1.0  mmb0 prob\n",
      "1.0  cmma 0 prob\n"
     ]
    },
    {
     "data": {
      "image/png": "[encoded data removed]",
      "text/plain": [
       "<matplotlib.figure.Figure at 0x11f9fc390>"
      ]
     },
     "metadata": {},
     "output_type": "display_data"
    }
   ],
   "source": [
    "Esp_Product_Probability_Over_Time(Esp_Money_Market_Conditional_Probabilities)"
   ]
  },
  {
   "cell_type": "code",
   "execution_count": null,
   "metadata": {
    "collapsed": true
   },
   "outputs": [],
   "source": []
  },
  {
   "cell_type": "code",
   "execution_count": 249,
   "metadata": {
    "collapsed": false
   },
   "outputs": [
    {
     "data": {
      "text/plain": [
       "(collateral_mma _|_ fx_products, enterprise_sweep, checking_usd, letters_of_credit, cash_management | money_market_bonus)\n",
       "(checking_usd _|_ fx_products, enterprise_sweep, collateral_mma, letters_of_credit, cash_management | money_market_bonus)\n",
       "(cash_management _|_ fx_products, enterprise_sweep, checking_usd, collateral_mma, letters_of_credit | money_market_bonus)\n",
       "(fx_products _|_ enterprise_sweep, checking_usd, collateral_mma, letters_of_credit, cash_management | money_market_bonus)\n",
       "(letters_of_credit _|_ fx_products, enterprise_sweep, checking_usd, collateral_mma, cash_management | money_market_bonus)\n",
       "(enterprise_sweep _|_ fx_products, checking_usd, collateral_mma, letters_of_credit, cash_management | money_market_bonus)"
      ]
     },
     "execution_count": 249,
     "metadata": {},
     "output_type": "execute_result"
    }
   ],
   "source": [
    "model.get_local_independencies()"
   ]
  },
  {
   "cell_type": "code",
   "execution_count": 252,
   "metadata": {
    "collapsed": false
   },
   "outputs": [
    {
     "name": "stdout",
     "output_type": "stream",
     "text": [
      "╒══════════════════════╤════════════════╤════════════════════════════════════════╕\n",
      "│ money_market_bonus   │ checking_usd   │   phi(money_market_bonus,checking_usd) │\n",
      "╞══════════════════════╪════════════════╪════════════════════════════════════════╡\n",
      "│ money_market_bonus_0 │ checking_usd_0 │                                 1.0000 │\n",
      "├──────────────────────┼────────────────┼────────────────────────────────────────┤\n",
      "│ money_market_bonus_0 │ checking_usd_1 │                                 0.0000 │\n",
      "├──────────────────────┼────────────────┼────────────────────────────────────────┤\n",
      "│ money_market_bonus_1 │ checking_usd_0 │                                 0.9978 │\n",
      "├──────────────────────┼────────────────┼────────────────────────────────────────┤\n",
      "│ money_market_bonus_1 │ checking_usd_1 │                                 0.0022 │\n",
      "╘══════════════════════╧════════════════╧════════════════════════════════════════╛\n"
     ]
    }
   ],
   "source": [
    "from IPython.display import Image\n",
    "print(factor_mmb_checking)"
   ]
  },
  {
   "cell_type": "code",
   "execution_count": 220,
   "metadata": {
    "collapsed": false
   },
   "outputs": [],
   "source": [
    "belief_propagation = BeliefPropagation(model)"
   ]
  },
  {
   "cell_type": "code",
   "execution_count": 221,
   "metadata": {
    "collapsed": false
   },
   "outputs": [],
   "source": [
    "belief = belief_propagation.query(variables=['collateral_mma'])"
   ]
  },
  {
   "cell_type": "code",
   "execution_count": 237,
   "metadata": {
    "collapsed": false
   },
   "outputs": [
    {
     "data": {
      "text/plain": [
       "array([  1.00000000e+00,   1.35741448e-53])"
      ]
     },
     "execution_count": 237,
     "metadata": {},
     "output_type": "execute_result"
    }
   ],
   "source": [
    "belief['collateral_mma'].values"
   ]
  },
  {
   "cell_type": "code",
   "execution_count": 301,
   "metadata": {
    "collapsed": false
   },
   "outputs": [],
   "source": [
    "factor_mmb_cmma = Factor(variables=['money_market_bonus', 'collateral_mma'],\n",
    "                    cardinality=[2, 2],\n",
    "                    values=[dict_of_esp_money_market_cpd['mmb0_cmma0'], dict_of_esp_money_market_cpd['mmb0_cmma1'],\n",
    "                            dict_of_esp_money_market_cpd['mmb1_cmma0'], dict_of_esp_money_market_cpd['mmb1_cmma1']])\n",
    "factor_mmb_cm = Factor(variables=['money_market_bonus', 'cash_management'],\n",
    "                    cardinality=[2, 2],\n",
    "                    values=[dict_of_esp_money_market_cpd['mmb0_cm0'], dict_of_esp_money_market_cpd['mmb0_cm1'],\n",
    "                            dict_of_esp_money_market_cpd['mmb1_cm0'], dict_of_esp_money_market_cpd['mmb1_cm1']])\n",
    "factor_mmb_fx = Factor(variables=['money_market_bonus', 'fx_products'],\n",
    "                     cardinality=[2, 2],\n",
    "                     values=[dict_of_esp_money_market_cpd['mmb0_fx0'], dict_of_esp_money_market_cpd['mmb0_fx1'],\n",
    "                            dict_of_esp_money_market_cpd['mmb1_fx0'], dict_of_esp_money_market_cpd['mmb1_fx1']])\n",
    "factor_mmb_loc = Factor(variables=['money_market_bonus', 'letters_of_credit'],\n",
    "                     cardinality=[2, 2],\n",
    "                     values=[dict_of_esp_money_market_cpd['mmb0_loc0'], dict_of_esp_money_market_cpd['mmb0_loc1'],\n",
    "                            dict_of_esp_money_market_cpd['mmb1_loc0'], dict_of_esp_money_market_cpd['mmb1_loc1']])\n",
    "factor_mmb_es = Factor(variables=['money_market_bonus', 'enterprise_sweep'],\n",
    "                     cardinality=[2, 2],\n",
    "                     values=[dict_of_esp_money_market_cpd['mmb0_es0'], dict_of_esp_money_market_cpd['mmb0_es1'],\n",
    "                            dict_of_esp_money_market_cpd['mmb1_es0'], dict_of_esp_money_market_cpd['mmb1_es1']])  \n",
    "factor_mmb_checking = Factor(variables=['money_market_bonus', 'checking_usd'],\n",
    "                     cardinality=[2, 2],\n",
    "                     values=[dict_of_esp_money_market_cpd['mmb0_checking0'], dict_of_esp_money_market_cpd['mmb0_checking1'],\n",
    "                            dict_of_esp_money_market_cpd['mmb1_checking0'], dict_of_esp_money_market_cpd['mmb1_checking1']])   \n",
    "\n",
    "# factor_cmma_checking = Factor(variables=['collateral_mma', 'checking_usd'],\n",
    "#                     cardinality=[2, 2],\n",
    "#                     values=[.1, .9, .5, .5])\n",
    "\n",
    "# factor_cmma_cm = Factor(variables=['collateral_mma', 'checking_usd'],\n",
    "#                     cardinality=[2, 2],\n",
    "#                     values=[.4, .6, .3, .7])\n",
    "\n",
    "# factor_cmma_fx = Factor(variables=['collateral_mma', 'fx_products'],\n",
    "#                     cardinality=[2, 2],\n",
    "#                     values=[.2, .8, .9, .1])\n",
    "\n",
    "# factor_cmma_loc = Factor(variables=['collateral_mma', 'letters_of_credit'],\n",
    "#                     cardinality=[2, 2],\n",
    "#                     values=[.3, .7, .4, .6])\n",
    "\n",
    "# factor_cmma_es = Factor(variables=['collateral_mma', 'letters_of_credit'],\n",
    "#                     cardinality=[2, 2],\n",
    "#                     values=[.1, .9, .4, .6])\n",
    "\n",
    "model.add_factors(factor_mmb_cmma, factor_mmb_cm,\n",
    "                   factor_mmb_fx, factor_mmb_loc,factor_mmb_es ,factor_mmb_checking)#,\n",
    "belief_propagation = BeliefPropagation(model)\n",
    "tes = belief_propagation.query(variables=['cash_management','enterprise_sweep','money_market_bonus'],\n",
    "                              evidence={'checking_usd':0})"
   ]
  },
  {
   "cell_type": "code",
   "execution_count": 302,
   "metadata": {
    "collapsed": false
   },
   "outputs": [
    {
     "name": "stdout",
     "output_type": "stream",
     "text": [
      "\n"
     ]
    }
   ],
   "source": [
    "print(model)"
   ]
  },
  {
   "cell_type": "code",
   "execution_count": 303,
   "metadata": {
    "collapsed": false
   },
   "outputs": [
    {
     "data": {
      "text/plain": [
       "array([  1.00000000e+000,   1.23750423e-166])"
      ]
     },
     "execution_count": 303,
     "metadata": {},
     "output_type": "execute_result"
    }
   ],
   "source": [
    "tes['cash_management'].values"
   ]
  },
  {
   "cell_type": "code",
   "execution_count": 304,
   "metadata": {
    "collapsed": false
   },
   "outputs": [
    {
     "data": {
      "text/plain": [
       "array([  1.00000000e+000,   7.45345104e-161])"
      ]
     },
     "execution_count": 304,
     "metadata": {},
     "output_type": "execute_result"
    }
   ],
   "source": [
    "tes['enterprise_sweep'].values"
   ]
  },
  {
   "cell_type": "code",
   "execution_count": 305,
   "metadata": {
    "collapsed": false
   },
   "outputs": [
    {
     "data": {
      "text/plain": [
       "array([ 0.73019158,  0.26980842])"
      ]
     },
     "execution_count": 305,
     "metadata": {},
     "output_type": "execute_result"
    }
   ],
   "source": [
    "tes['money_market_bonus'].values"
   ]
  },
  {
   "cell_type": "code",
   "execution_count": null,
   "metadata": {
    "collapsed": true
   },
   "outputs": [],
   "source": [
    "\n"
   ]
  },
  {
   "cell_type": "code",
   "execution_count": null,
   "metadata": {
    "collapsed": true
   },
   "outputs": [],
   "source": []
  },
  {
   "cell_type": "code",
   "execution_count": 714,
   "metadata": {
    "collapsed": false
   },
   "outputs": [],
   "source": [
    "test_markov = np.array([[.9,.05,.05],\n",
    "                       [.2,.7,.1],\n",
    "                       [.03,.27,.7]])"
   ]
  },
  {
   "cell_type": "code",
   "execution_count": 726,
   "metadata": {
    "collapsed": false
   },
   "outputs": [
    {
     "data": {
      "text/plain": [
       "array([[ 0.57189067,  0.25095874,  0.17715059],\n",
       "       [ 0.56098602,  0.25837906,  0.18063492],\n",
       "       [ 0.5491393 ,  0.26628979,  0.1845709 ]])"
      ]
     },
     "execution_count": 726,
     "metadata": {},
     "output_type": "execute_result"
    }
   ],
   "source": [
    "np.linalg.matrix_power(test_markov,15)"
   ]
  },
  {
   "cell_type": "code",
   "execution_count": null,
   "metadata": {
    "collapsed": true
   },
   "outputs": [],
   "source": []
  }
 ],
 "metadata": {
  "kernelspec": {
   "display_name": "SVB",
   "language": "python",
   "name": "svb"
  },
  "language_info": {
   "codemirror_mode": {
    "name": "ipython",
    "version": 3
   },
   "file_extension": ".py",
   "mimetype": "text/x-python",
   "name": "python",
   "nbconvert_exporter": "python",
   "pygments_lexer": "ipython3",
   "version": "3.6.1"
  }
 },
 "nbformat": 4,
 "nbformat_minor": 2
}
