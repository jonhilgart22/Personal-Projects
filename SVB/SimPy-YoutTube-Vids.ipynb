{
 "cells": [
  {
   "cell_type": "code",
   "execution_count": 1,
   "metadata": {
    "collapsed": true,
    "deletable": true,
    "editable": true
   },
   "outputs": [],
   "source": [
    "import simpy\n",
    "import numpy as np\n",
    "#video here https://www.youtube.com/watch?v=0osGrraoCX0"
   ]
  },
  {
   "cell_type": "code",
   "execution_count": null,
   "metadata": {
    "collapsed": true,
    "deletable": true,
    "editable": true
   },
   "outputs": [],
   "source": []
  },
  {
   "cell_type": "code",
   "execution_count": 2,
   "metadata": {
    "collapsed": true,
    "deletable": true,
    "editable": true
   },
   "outputs": [],
   "source": [
    "def main():\n",
    "    env = simpy.Environment()\n",
    "    env.process(traffic_light(env))\n",
    "    env.run(until=120) ## two minutes\n",
    "    print(\"Simulation Complete\")"
   ]
  },
  {
   "cell_type": "code",
   "execution_count": 3,
   "metadata": {
    "collapsed": true,
    "deletable": true,
    "editable": true
   },
   "outputs": [],
   "source": [
    "def traffic_light(env): ## always need the env\n",
    "    while True:\n",
    "        print(\"Light truned green at {}\".format(env.now))\n",
    "        yield env.timeout(30) ## 30 is seconds here\n",
    "        print(\"Light tunred yellow at {}\".format(env.now))\n",
    "        yield env.timeout(5)\n",
    "        print(\"Light turned red at {}\".format(env.now))\n",
    "        yield env.timeout(20) # seconds again for units"
   ]
  },
  {
   "cell_type": "code",
   "execution_count": 4,
   "metadata": {
    "collapsed": false,
    "deletable": true,
    "editable": true
   },
   "outputs": [
    {
     "name": "stdout",
     "output_type": "stream",
     "text": [
      "Light truned green at 0\n",
      "Light tunred yellow at 30\n",
      "Light turned red at 35\n",
      "Light truned green at 55\n",
      "Light tunred yellow at 85\n",
      "Light turned red at 90\n",
      "Light truned green at 110\n",
      "Simulation Complete\n"
     ]
    }
   ],
   "source": [
    "main()"
   ]
  },
  {
   "cell_type": "code",
   "execution_count": 5,
   "metadata": {
    "collapsed": true,
    "deletable": true,
    "editable": true
   },
   "outputs": [],
   "source": [
    "#https://www.youtube.com/watch?v=Bk91DoAEcjY"
   ]
  },
  {
   "cell_type": "code",
   "execution_count": 50,
   "metadata": {
    "collapsed": false,
    "deletable": true,
    "editable": true
   },
   "outputs": [],
   "source": [
    "def main_2():\n",
    "    env = simpy.Environment()\n",
    "    print('before moderator')\n",
    "    moderator(env)\n",
    "    print('after moderator')\n",
    "    #env.process(speaker(env,1)) - works\n",
    "    env.run(until=600)\n",
    "    print(\"Simulation Complete\")\n",
    "    \n",
    "def speaker(env, speaker_num):\n",
    "    print(\"inside speaker\") \n",
    "        \n",
    "#     print('SPeaker{} started at {}'.format(speaker_num, env.now))\n",
    "#     yield env.timeout(np.random.randint(25,35))\n",
    "#     print('Speaker {} finished at {}'.format(speaker_num, env.now))\n",
    " \n",
    "    try:\n",
    "        print('SPeaker {} started at {}'.format(speaker_num,env.now))\n",
    "        yield env.timeout(np.random.randint(25,35))\n",
    "        print('Speaker {} finished at {}'.format(speaker_num , env.now))\n",
    "    except simpy.Interrupt as interupt:\n",
    "        print(interupt.cause)\n",
    "        \n",
    "def moderator(env):\n",
    "#     env.process(speaker(env, 1)) # - this works\n",
    "    print('Inside moderator')\n",
    "    #env.process(speaker(env, 1))\n",
    "    \n",
    "    for speaker_num in range(3):\n",
    "        print(speaker_num)\n",
    "        #env.process(speaker(env, speaker_num))\n",
    "        \n",
    "        speaker_process = env.process(speaker(env, speaker_num))\n",
    "        print('after speaker process')\n",
    "        print(speaker_process)\n",
    "        #yield speaker_process\n",
    "#         yield speaker_process\n",
    "        results = env.timeout(30) |  speaker_process #  30 minutes allocated per talk\n",
    "        print(results)\n",
    "        # either the speaker finishes in 30 minuts OR the talk is cut short\n",
    "        if speaker_process not in results:\n",
    "            speaker_process.interupt('no time left')\n",
    "        else:\n",
    "            print('Talk finished')"
   ]
  },
  {
   "cell_type": "code",
   "execution_count": 51,
   "metadata": {
    "collapsed": false,
    "deletable": true,
    "editable": true
   },
   "outputs": [
    {
     "name": "stdout",
     "output_type": "stream",
     "text": [
      "before moderator\n",
      "Inside moderator\n",
      "0\n",
      "after speaker process\n",
      "<Process(speaker) object at 0x109d30240>\n",
      "<Condition(any_events, (<Timeout(30) object at 0x109d30390>, <Process(speaker) object at 0x109d30240>)) object at 0x109d303c8>\n"
     ]
    },
    {
     "ename": "TypeError",
     "evalue": "argument of type 'Condition' is not iterable",
     "output_type": "error",
     "traceback": [
      "\u001b[0;31m---------------------------------------------------------------------------\u001b[0m",
      "\u001b[0;31mTypeError\u001b[0m                                 Traceback (most recent call last)",
      "\u001b[0;32m<ipython-input-51-0f64bf79e088>\u001b[0m in \u001b[0;36m<module>\u001b[0;34m()\u001b[0m\n\u001b[0;32m----> 1\u001b[0;31m \u001b[0mmain_2\u001b[0m\u001b[0;34m(\u001b[0m\u001b[0;34m)\u001b[0m\u001b[0;34m\u001b[0m\u001b[0m\n\u001b[0m",
      "\u001b[0;32m<ipython-input-50-3e5bdd953f2b>\u001b[0m in \u001b[0;36mmain_2\u001b[0;34m()\u001b[0m\n\u001b[1;32m      2\u001b[0m     \u001b[0menv\u001b[0m \u001b[0;34m=\u001b[0m \u001b[0msimpy\u001b[0m\u001b[0;34m.\u001b[0m\u001b[0mEnvironment\u001b[0m\u001b[0;34m(\u001b[0m\u001b[0;34m)\u001b[0m\u001b[0;34m\u001b[0m\u001b[0m\n\u001b[1;32m      3\u001b[0m     \u001b[0mprint\u001b[0m\u001b[0;34m(\u001b[0m\u001b[0;34m'before moderator'\u001b[0m\u001b[0;34m)\u001b[0m\u001b[0;34m\u001b[0m\u001b[0m\n\u001b[0;32m----> 4\u001b[0;31m     \u001b[0mmoderator\u001b[0m\u001b[0;34m(\u001b[0m\u001b[0menv\u001b[0m\u001b[0;34m)\u001b[0m\u001b[0;34m\u001b[0m\u001b[0m\n\u001b[0m\u001b[1;32m      5\u001b[0m     \u001b[0mprint\u001b[0m\u001b[0;34m(\u001b[0m\u001b[0;34m'after moderator'\u001b[0m\u001b[0;34m)\u001b[0m\u001b[0;34m\u001b[0m\u001b[0m\n\u001b[1;32m      6\u001b[0m     \u001b[0;31m#env.process(speaker(env,1)) - works\u001b[0m\u001b[0;34m\u001b[0m\u001b[0;34m\u001b[0m\u001b[0m\n",
      "\u001b[0;32m<ipython-input-50-3e5bdd953f2b>\u001b[0m in \u001b[0;36mmoderator\u001b[0;34m(env)\u001b[0m\n\u001b[1;32m     39\u001b[0m         \u001b[0mprint\u001b[0m\u001b[0;34m(\u001b[0m\u001b[0mresults\u001b[0m\u001b[0;34m)\u001b[0m\u001b[0;34m\u001b[0m\u001b[0m\n\u001b[1;32m     40\u001b[0m         \u001b[0;31m# either the speaker finishes in 30 minuts OR the talk is cut short\u001b[0m\u001b[0;34m\u001b[0m\u001b[0;34m\u001b[0m\u001b[0m\n\u001b[0;32m---> 41\u001b[0;31m         \u001b[0;32mif\u001b[0m \u001b[0mspeaker_process\u001b[0m \u001b[0;32mnot\u001b[0m \u001b[0;32min\u001b[0m \u001b[0mresults\u001b[0m\u001b[0;34m:\u001b[0m\u001b[0;34m\u001b[0m\u001b[0m\n\u001b[0m\u001b[1;32m     42\u001b[0m             \u001b[0mspeaker_process\u001b[0m\u001b[0;34m.\u001b[0m\u001b[0minterupt\u001b[0m\u001b[0;34m(\u001b[0m\u001b[0;34m'no time left'\u001b[0m\u001b[0;34m)\u001b[0m\u001b[0;34m\u001b[0m\u001b[0m\n\u001b[1;32m     43\u001b[0m         \u001b[0;32melse\u001b[0m\u001b[0;34m:\u001b[0m\u001b[0;34m\u001b[0m\u001b[0m\n",
      "\u001b[0;31mTypeError\u001b[0m: argument of type 'Condition' is not iterable"
     ]
    }
   ],
   "source": [
    "main_2()"
   ]
  },
  {
   "cell_type": "code",
   "execution_count": null,
   "metadata": {
    "collapsed": true,
    "deletable": true,
    "editable": true
   },
   "outputs": [],
   "source": []
  },
  {
   "cell_type": "code",
   "execution_count": null,
   "metadata": {
    "collapsed": true,
    "deletable": true,
    "editable": true
   },
   "outputs": [],
   "source": []
  }
 ],
 "metadata": {
  "kernelspec": {
   "display_name": "Python [conda root]",
   "language": "python",
   "name": "conda-root-py"
  },
  "language_info": {
   "codemirror_mode": {
    "name": "ipython",
    "version": 3
   },
   "file_extension": ".py",
   "mimetype": "text/x-python",
   "name": "python",
   "nbconvert_exporter": "python",
   "pygments_lexer": "ipython3",
   "version": "3.5.2"
  }
 },
 "nbformat": 4,
 "nbformat_minor": 2
}
