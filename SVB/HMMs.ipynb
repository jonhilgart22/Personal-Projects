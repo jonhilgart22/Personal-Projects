{
 "cells": [
  {
   "cell_type": "code",
   "execution_count": 2,
   "metadata": {
    "collapsed": false
   },
   "outputs": [
    {
     "name": "stdout",
     "output_type": "stream",
     "text": [
      "Collecting hmmlearn\n",
      "  Downloading hmmlearn-0.2.0.tar.gz (107kB)\n",
      "\u001b[K    100% |████████████████████████████████| 112kB 3.5MB/s ta 0:00:01\n",
      "\u001b[?25hBuilding wheels for collected packages: hmmlearn\n",
      "  Running setup.py bdist_wheel for hmmlearn ... \u001b[?25l-\b \b\\\b \b|\b \b/\b \b-\b \b\\\b \b|\b \bdone\n",
      "\u001b[?25h  Stored in directory: /Users/jonathanhilgart/Library/Caches/pip/wheels/de/6c/25/c5fc03ff58b509d7b9769a0d5e2f69fc3fe89feebd70b89b86\n",
      "Successfully built hmmlearn\n",
      "Installing collected packages: hmmlearn\n",
      "Successfully installed hmmlearn-0.2.0\n"
     ]
    }
   ],
   "source": [
    "!pip install hmmlearn"
   ]
  },
  {
   "cell_type": "code",
   "execution_count": 12,
   "metadata": {
    "collapsed": false
   },
   "outputs": [
    {
     "data": {
      "text/plain": [
       "array([[[ 1.,  0.],\n",
       "        [ 0.,  1.]],\n",
       "\n",
       "       [[ 1.,  0.],\n",
       "        [ 0.,  1.]],\n",
       "\n",
       "       [[ 1.,  0.],\n",
       "        [ 0.,  1.]]])"
      ]
     },
     "execution_count": 12,
     "metadata": {},
     "output_type": "execute_result"
    }
   ],
   "source": [
    "np.tile(np.identity(2), (3, 1, 1))"
   ]
  },
  {
   "cell_type": "code",
   "execution_count": 17,
   "metadata": {
    "collapsed": false
   },
   "outputs": [
    {
     "name": "stdout",
     "output_type": "stream",
     "text": [
      "Populating the interactive namespace from numpy and matplotlib\n"
     ]
    },
    {
     "name": "stderr",
     "output_type": "stream",
     "text": [
      "/Users/jonathanhilgart/anaconda/envs/SVB/lib/python3.6/site-packages/sklearn/utils/deprecation.py:70: DeprecationWarning: Function sample_gaussian is deprecated; The function sample_gaussian is deprecated in 0.18 and will be removed in 0.20. Use numpy.random.multivariate_normal instead.\n",
      "  warnings.warn(msg, category=DeprecationWarning)\n",
      "/Users/jonathanhilgart/anaconda/envs/SVB/lib/python3.6/site-packages/sklearn/utils/deprecation.py:70: DeprecationWarning: Function sample_gaussian is deprecated; The function sample_gaussian is deprecated in 0.18 and will be removed in 0.20. Use numpy.random.multivariate_normal instead.\n",
      "  warnings.warn(msg, category=DeprecationWarning)\n",
      "/Users/jonathanhilgart/anaconda/envs/SVB/lib/python3.6/site-packages/sklearn/utils/deprecation.py:70: DeprecationWarning: Function sample_gaussian is deprecated; The function sample_gaussian is deprecated in 0.18 and will be removed in 0.20. Use numpy.random.multivariate_normal instead.\n",
      "  warnings.warn(msg, category=DeprecationWarning)\n",
      "/Users/jonathanhilgart/anaconda/envs/SVB/lib/python3.6/site-packages/sklearn/utils/deprecation.py:70: DeprecationWarning: Function sample_gaussian is deprecated; The function sample_gaussian is deprecated in 0.18 and will be removed in 0.20. Use numpy.random.multivariate_normal instead.\n",
      "  warnings.warn(msg, category=DeprecationWarning)\n",
      "/Users/jonathanhilgart/anaconda/envs/SVB/lib/python3.6/site-packages/sklearn/utils/deprecation.py:70: DeprecationWarning: Function sample_gaussian is deprecated; The function sample_gaussian is deprecated in 0.18 and will be removed in 0.20. Use numpy.random.multivariate_normal instead.\n",
      "  warnings.warn(msg, category=DeprecationWarning)\n",
      "/Users/jonathanhilgart/anaconda/envs/SVB/lib/python3.6/site-packages/sklearn/utils/deprecation.py:70: DeprecationWarning: Function sample_gaussian is deprecated; The function sample_gaussian is deprecated in 0.18 and will be removed in 0.20. Use numpy.random.multivariate_normal instead.\n",
      "  warnings.warn(msg, category=DeprecationWarning)\n",
      "/Users/jonathanhilgart/anaconda/envs/SVB/lib/python3.6/site-packages/sklearn/utils/deprecation.py:70: DeprecationWarning: Function sample_gaussian is deprecated; The function sample_gaussian is deprecated in 0.18 and will be removed in 0.20. Use numpy.random.multivariate_normal instead.\n",
      "  warnings.warn(msg, category=DeprecationWarning)\n",
      "/Users/jonathanhilgart/anaconda/envs/SVB/lib/python3.6/site-packages/sklearn/utils/deprecation.py:70: DeprecationWarning: Function sample_gaussian is deprecated; The function sample_gaussian is deprecated in 0.18 and will be removed in 0.20. Use numpy.random.multivariate_normal instead.\n",
      "  warnings.warn(msg, category=DeprecationWarning)\n",
      "/Users/jonathanhilgart/anaconda/envs/SVB/lib/python3.6/site-packages/sklearn/utils/deprecation.py:70: DeprecationWarning: Function sample_gaussian is deprecated; The function sample_gaussian is deprecated in 0.18 and will be removed in 0.20. Use numpy.random.multivariate_normal instead.\n",
      "  warnings.warn(msg, category=DeprecationWarning)\n",
      "/Users/jonathanhilgart/anaconda/envs/SVB/lib/python3.6/site-packages/sklearn/utils/deprecation.py:70: DeprecationWarning: Function sample_gaussian is deprecated; The function sample_gaussian is deprecated in 0.18 and will be removed in 0.20. Use numpy.random.multivariate_normal instead.\n",
      "  warnings.warn(msg, category=DeprecationWarning)\n",
      "/Users/jonathanhilgart/anaconda/envs/SVB/lib/python3.6/site-packages/sklearn/utils/deprecation.py:70: DeprecationWarning: Function sample_gaussian is deprecated; The function sample_gaussian is deprecated in 0.18 and will be removed in 0.20. Use numpy.random.multivariate_normal instead.\n",
      "  warnings.warn(msg, category=DeprecationWarning)\n",
      "/Users/jonathanhilgart/anaconda/envs/SVB/lib/python3.6/site-packages/sklearn/utils/deprecation.py:70: DeprecationWarning: Function sample_gaussian is deprecated; The function sample_gaussian is deprecated in 0.18 and will be removed in 0.20. Use numpy.random.multivariate_normal instead.\n",
      "  warnings.warn(msg, category=DeprecationWarning)\n",
      "/Users/jonathanhilgart/anaconda/envs/SVB/lib/python3.6/site-packages/sklearn/utils/deprecation.py:70: DeprecationWarning: Function sample_gaussian is deprecated; The function sample_gaussian is deprecated in 0.18 and will be removed in 0.20. Use numpy.random.multivariate_normal instead.\n",
      "  warnings.warn(msg, category=DeprecationWarning)\n",
      "/Users/jonathanhilgart/anaconda/envs/SVB/lib/python3.6/site-packages/sklearn/utils/deprecation.py:70: DeprecationWarning: Function sample_gaussian is deprecated; The function sample_gaussian is deprecated in 0.18 and will be removed in 0.20. Use numpy.random.multivariate_normal instead.\n",
      "  warnings.warn(msg, category=DeprecationWarning)\n",
      "/Users/jonathanhilgart/anaconda/envs/SVB/lib/python3.6/site-packages/sklearn/utils/deprecation.py:70: DeprecationWarning: Function sample_gaussian is deprecated; The function sample_gaussian is deprecated in 0.18 and will be removed in 0.20. Use numpy.random.multivariate_normal instead.\n",
      "  warnings.warn(msg, category=DeprecationWarning)\n",
      "/Users/jonathanhilgart/anaconda/envs/SVB/lib/python3.6/site-packages/sklearn/utils/deprecation.py:70: DeprecationWarning: Function sample_gaussian is deprecated; The function sample_gaussian is deprecated in 0.18 and will be removed in 0.20. Use numpy.random.multivariate_normal instead.\n",
      "  warnings.warn(msg, category=DeprecationWarning)\n",
      "/Users/jonathanhilgart/anaconda/envs/SVB/lib/python3.6/site-packages/sklearn/utils/deprecation.py:70: DeprecationWarning: Function sample_gaussian is deprecated; The function sample_gaussian is deprecated in 0.18 and will be removed in 0.20. Use numpy.random.multivariate_normal instead.\n",
      "  warnings.warn(msg, category=DeprecationWarning)\n",
      "/Users/jonathanhilgart/anaconda/envs/SVB/lib/python3.6/site-packages/sklearn/utils/deprecation.py:70: DeprecationWarning: Function sample_gaussian is deprecated; The function sample_gaussian is deprecated in 0.18 and will be removed in 0.20. Use numpy.random.multivariate_normal instead.\n",
      "  warnings.warn(msg, category=DeprecationWarning)\n",
      "/Users/jonathanhilgart/anaconda/envs/SVB/lib/python3.6/site-packages/sklearn/utils/deprecation.py:70: DeprecationWarning: Function sample_gaussian is deprecated; The function sample_gaussian is deprecated in 0.18 and will be removed in 0.20. Use numpy.random.multivariate_normal instead.\n",
      "  warnings.warn(msg, category=DeprecationWarning)\n",
      "/Users/jonathanhilgart/anaconda/envs/SVB/lib/python3.6/site-packages/sklearn/utils/deprecation.py:70: DeprecationWarning: Function sample_gaussian is deprecated; The function sample_gaussian is deprecated in 0.18 and will be removed in 0.20. Use numpy.random.multivariate_normal instead.\n",
      "  warnings.warn(msg, category=DeprecationWarning)\n",
      "/Users/jonathanhilgart/anaconda/envs/SVB/lib/python3.6/site-packages/sklearn/utils/deprecation.py:70: DeprecationWarning: Function sample_gaussian is deprecated; The function sample_gaussian is deprecated in 0.18 and will be removed in 0.20. Use numpy.random.multivariate_normal instead.\n",
      "  warnings.warn(msg, category=DeprecationWarning)\n",
      "/Users/jonathanhilgart/anaconda/envs/SVB/lib/python3.6/site-packages/sklearn/utils/deprecation.py:70: DeprecationWarning: Function sample_gaussian is deprecated; The function sample_gaussian is deprecated in 0.18 and will be removed in 0.20. Use numpy.random.multivariate_normal instead.\n",
      "  warnings.warn(msg, category=DeprecationWarning)\n",
      "/Users/jonathanhilgart/anaconda/envs/SVB/lib/python3.6/site-packages/sklearn/utils/deprecation.py:70: DeprecationWarning: Function sample_gaussian is deprecated; The function sample_gaussian is deprecated in 0.18 and will be removed in 0.20. Use numpy.random.multivariate_normal instead.\n",
      "  warnings.warn(msg, category=DeprecationWarning)\n",
      "/Users/jonathanhilgart/anaconda/envs/SVB/lib/python3.6/site-packages/sklearn/utils/deprecation.py:70: DeprecationWarning: Function sample_gaussian is deprecated; The function sample_gaussian is deprecated in 0.18 and will be removed in 0.20. Use numpy.random.multivariate_normal instead.\n",
      "  warnings.warn(msg, category=DeprecationWarning)\n",
      "/Users/jonathanhilgart/anaconda/envs/SVB/lib/python3.6/site-packages/sklearn/utils/deprecation.py:70: DeprecationWarning: Function sample_gaussian is deprecated; The function sample_gaussian is deprecated in 0.18 and will be removed in 0.20. Use numpy.random.multivariate_normal instead.\n",
      "  warnings.warn(msg, category=DeprecationWarning)\n",
      "/Users/jonathanhilgart/anaconda/envs/SVB/lib/python3.6/site-packages/sklearn/utils/deprecation.py:70: DeprecationWarning: Function sample_gaussian is deprecated; The function sample_gaussian is deprecated in 0.18 and will be removed in 0.20. Use numpy.random.multivariate_normal instead.\n",
      "  warnings.warn(msg, category=DeprecationWarning)\n",
      "/Users/jonathanhilgart/anaconda/envs/SVB/lib/python3.6/site-packages/sklearn/utils/deprecation.py:70: DeprecationWarning: Function sample_gaussian is deprecated; The function sample_gaussian is deprecated in 0.18 and will be removed in 0.20. Use numpy.random.multivariate_normal instead.\n",
      "  warnings.warn(msg, category=DeprecationWarning)\n",
      "/Users/jonathanhilgart/anaconda/envs/SVB/lib/python3.6/site-packages/sklearn/utils/deprecation.py:70: DeprecationWarning: Function sample_gaussian is deprecated; The function sample_gaussian is deprecated in 0.18 and will be removed in 0.20. Use numpy.random.multivariate_normal instead.\n",
      "  warnings.warn(msg, category=DeprecationWarning)\n",
      "/Users/jonathanhilgart/anaconda/envs/SVB/lib/python3.6/site-packages/sklearn/utils/deprecation.py:70: DeprecationWarning: Function sample_gaussian is deprecated; The function sample_gaussian is deprecated in 0.18 and will be removed in 0.20. Use numpy.random.multivariate_normal instead.\n",
      "  warnings.warn(msg, category=DeprecationWarning)\n",
      "/Users/jonathanhilgart/anaconda/envs/SVB/lib/python3.6/site-packages/sklearn/utils/deprecation.py:70: DeprecationWarning: Function sample_gaussian is deprecated; The function sample_gaussian is deprecated in 0.18 and will be removed in 0.20. Use numpy.random.multivariate_normal instead.\n",
      "  warnings.warn(msg, category=DeprecationWarning)\n",
      "/Users/jonathanhilgart/anaconda/envs/SVB/lib/python3.6/site-packages/sklearn/utils/deprecation.py:70: DeprecationWarning: Function sample_gaussian is deprecated; The function sample_gaussian is deprecated in 0.18 and will be removed in 0.20. Use numpy.random.multivariate_normal instead.\n",
      "  warnings.warn(msg, category=DeprecationWarning)\n",
      "/Users/jonathanhilgart/anaconda/envs/SVB/lib/python3.6/site-packages/sklearn/utils/deprecation.py:70: DeprecationWarning: Function sample_gaussian is deprecated; The function sample_gaussian is deprecated in 0.18 and will be removed in 0.20. Use numpy.random.multivariate_normal instead.\n",
      "  warnings.warn(msg, category=DeprecationWarning)\n",
      "/Users/jonathanhilgart/anaconda/envs/SVB/lib/python3.6/site-packages/sklearn/utils/deprecation.py:70: DeprecationWarning: Function sample_gaussian is deprecated; The function sample_gaussian is deprecated in 0.18 and will be removed in 0.20. Use numpy.random.multivariate_normal instead.\n",
      "  warnings.warn(msg, category=DeprecationWarning)\n",
      "/Users/jonathanhilgart/anaconda/envs/SVB/lib/python3.6/site-packages/sklearn/utils/deprecation.py:70: DeprecationWarning: Function sample_gaussian is deprecated; The function sample_gaussian is deprecated in 0.18 and will be removed in 0.20. Use numpy.random.multivariate_normal instead.\n",
      "  warnings.warn(msg, category=DeprecationWarning)\n",
      "/Users/jonathanhilgart/anaconda/envs/SVB/lib/python3.6/site-packages/sklearn/utils/deprecation.py:70: DeprecationWarning: Function sample_gaussian is deprecated; The function sample_gaussian is deprecated in 0.18 and will be removed in 0.20. Use numpy.random.multivariate_normal instead.\n",
      "  warnings.warn(msg, category=DeprecationWarning)\n",
      "/Users/jonathanhilgart/anaconda/envs/SVB/lib/python3.6/site-packages/sklearn/utils/deprecation.py:70: DeprecationWarning: Function sample_gaussian is deprecated; The function sample_gaussian is deprecated in 0.18 and will be removed in 0.20. Use numpy.random.multivariate_normal instead.\n",
      "  warnings.warn(msg, category=DeprecationWarning)\n",
      "/Users/jonathanhilgart/anaconda/envs/SVB/lib/python3.6/site-packages/sklearn/utils/deprecation.py:70: DeprecationWarning: Function sample_gaussian is deprecated; The function sample_gaussian is deprecated in 0.18 and will be removed in 0.20. Use numpy.random.multivariate_normal instead.\n",
      "  warnings.warn(msg, category=DeprecationWarning)\n",
      "/Users/jonathanhilgart/anaconda/envs/SVB/lib/python3.6/site-packages/sklearn/utils/deprecation.py:70: DeprecationWarning: Function sample_gaussian is deprecated; The function sample_gaussian is deprecated in 0.18 and will be removed in 0.20. Use numpy.random.multivariate_normal instead.\n",
      "  warnings.warn(msg, category=DeprecationWarning)\n",
      "/Users/jonathanhilgart/anaconda/envs/SVB/lib/python3.6/site-packages/sklearn/utils/deprecation.py:70: DeprecationWarning: Function sample_gaussian is deprecated; The function sample_gaussian is deprecated in 0.18 and will be removed in 0.20. Use numpy.random.multivariate_normal instead.\n",
      "  warnings.warn(msg, category=DeprecationWarning)\n",
      "/Users/jonathanhilgart/anaconda/envs/SVB/lib/python3.6/site-packages/sklearn/utils/deprecation.py:70: DeprecationWarning: Function sample_gaussian is deprecated; The function sample_gaussian is deprecated in 0.18 and will be removed in 0.20. Use numpy.random.multivariate_normal instead.\n",
      "  warnings.warn(msg, category=DeprecationWarning)\n",
      "/Users/jonathanhilgart/anaconda/envs/SVB/lib/python3.6/site-packages/sklearn/utils/deprecation.py:70: DeprecationWarning: Function sample_gaussian is deprecated; The function sample_gaussian is deprecated in 0.18 and will be removed in 0.20. Use numpy.random.multivariate_normal instead.\n",
      "  warnings.warn(msg, category=DeprecationWarning)\n",
      "/Users/jonathanhilgart/anaconda/envs/SVB/lib/python3.6/site-packages/sklearn/utils/deprecation.py:70: DeprecationWarning: Function sample_gaussian is deprecated; The function sample_gaussian is deprecated in 0.18 and will be removed in 0.20. Use numpy.random.multivariate_normal instead.\n",
      "  warnings.warn(msg, category=DeprecationWarning)\n",
      "/Users/jonathanhilgart/anaconda/envs/SVB/lib/python3.6/site-packages/sklearn/utils/deprecation.py:70: DeprecationWarning: Function sample_gaussian is deprecated; The function sample_gaussian is deprecated in 0.18 and will be removed in 0.20. Use numpy.random.multivariate_normal instead.\n",
      "  warnings.warn(msg, category=DeprecationWarning)\n",
      "/Users/jonathanhilgart/anaconda/envs/SVB/lib/python3.6/site-packages/sklearn/utils/deprecation.py:70: DeprecationWarning: Function sample_gaussian is deprecated; The function sample_gaussian is deprecated in 0.18 and will be removed in 0.20. Use numpy.random.multivariate_normal instead.\n",
      "  warnings.warn(msg, category=DeprecationWarning)\n",
      "/Users/jonathanhilgart/anaconda/envs/SVB/lib/python3.6/site-packages/sklearn/utils/deprecation.py:70: DeprecationWarning: Function sample_gaussian is deprecated; The function sample_gaussian is deprecated in 0.18 and will be removed in 0.20. Use numpy.random.multivariate_normal instead.\n",
      "  warnings.warn(msg, category=DeprecationWarning)\n",
      "/Users/jonathanhilgart/anaconda/envs/SVB/lib/python3.6/site-packages/sklearn/utils/deprecation.py:70: DeprecationWarning: Function sample_gaussian is deprecated; The function sample_gaussian is deprecated in 0.18 and will be removed in 0.20. Use numpy.random.multivariate_normal instead.\n",
      "  warnings.warn(msg, category=DeprecationWarning)\n",
      "/Users/jonathanhilgart/anaconda/envs/SVB/lib/python3.6/site-packages/sklearn/utils/deprecation.py:70: DeprecationWarning: Function sample_gaussian is deprecated; The function sample_gaussian is deprecated in 0.18 and will be removed in 0.20. Use numpy.random.multivariate_normal instead.\n",
      "  warnings.warn(msg, category=DeprecationWarning)\n",
      "/Users/jonathanhilgart/anaconda/envs/SVB/lib/python3.6/site-packages/sklearn/utils/deprecation.py:70: DeprecationWarning: Function sample_gaussian is deprecated; The function sample_gaussian is deprecated in 0.18 and will be removed in 0.20. Use numpy.random.multivariate_normal instead.\n",
      "  warnings.warn(msg, category=DeprecationWarning)\n",
      "/Users/jonathanhilgart/anaconda/envs/SVB/lib/python3.6/site-packages/sklearn/utils/deprecation.py:70: DeprecationWarning: Function sample_gaussian is deprecated; The function sample_gaussian is deprecated in 0.18 and will be removed in 0.20. Use numpy.random.multivariate_normal instead.\n",
      "  warnings.warn(msg, category=DeprecationWarning)\n",
      "/Users/jonathanhilgart/anaconda/envs/SVB/lib/python3.6/site-packages/sklearn/utils/deprecation.py:70: DeprecationWarning: Function sample_gaussian is deprecated; The function sample_gaussian is deprecated in 0.18 and will be removed in 0.20. Use numpy.random.multivariate_normal instead.\n",
      "  warnings.warn(msg, category=DeprecationWarning)\n",
      "/Users/jonathanhilgart/anaconda/envs/SVB/lib/python3.6/site-packages/sklearn/utils/deprecation.py:70: DeprecationWarning: Function sample_gaussian is deprecated; The function sample_gaussian is deprecated in 0.18 and will be removed in 0.20. Use numpy.random.multivariate_normal instead.\n",
      "  warnings.warn(msg, category=DeprecationWarning)\n",
      "/Users/jonathanhilgart/anaconda/envs/SVB/lib/python3.6/site-packages/sklearn/utils/deprecation.py:70: DeprecationWarning: Function sample_gaussian is deprecated; The function sample_gaussian is deprecated in 0.18 and will be removed in 0.20. Use numpy.random.multivariate_normal instead.\n",
      "  warnings.warn(msg, category=DeprecationWarning)\n",
      "/Users/jonathanhilgart/anaconda/envs/SVB/lib/python3.6/site-packages/sklearn/utils/deprecation.py:70: DeprecationWarning: Function sample_gaussian is deprecated; The function sample_gaussian is deprecated in 0.18 and will be removed in 0.20. Use numpy.random.multivariate_normal instead.\n",
      "  warnings.warn(msg, category=DeprecationWarning)\n",
      "/Users/jonathanhilgart/anaconda/envs/SVB/lib/python3.6/site-packages/sklearn/utils/deprecation.py:70: DeprecationWarning: Function sample_gaussian is deprecated; The function sample_gaussian is deprecated in 0.18 and will be removed in 0.20. Use numpy.random.multivariate_normal instead.\n",
      "  warnings.warn(msg, category=DeprecationWarning)\n",
      "/Users/jonathanhilgart/anaconda/envs/SVB/lib/python3.6/site-packages/sklearn/utils/deprecation.py:70: DeprecationWarning: Function sample_gaussian is deprecated; The function sample_gaussian is deprecated in 0.18 and will be removed in 0.20. Use numpy.random.multivariate_normal instead.\n",
      "  warnings.warn(msg, category=DeprecationWarning)\n",
      "/Users/jonathanhilgart/anaconda/envs/SVB/lib/python3.6/site-packages/sklearn/utils/deprecation.py:70: DeprecationWarning: Function sample_gaussian is deprecated; The function sample_gaussian is deprecated in 0.18 and will be removed in 0.20. Use numpy.random.multivariate_normal instead.\n",
      "  warnings.warn(msg, category=DeprecationWarning)\n",
      "/Users/jonathanhilgart/anaconda/envs/SVB/lib/python3.6/site-packages/sklearn/utils/deprecation.py:70: DeprecationWarning: Function sample_gaussian is deprecated; The function sample_gaussian is deprecated in 0.18 and will be removed in 0.20. Use numpy.random.multivariate_normal instead.\n",
      "  warnings.warn(msg, category=DeprecationWarning)\n",
      "/Users/jonathanhilgart/anaconda/envs/SVB/lib/python3.6/site-packages/sklearn/utils/deprecation.py:70: DeprecationWarning: Function sample_gaussian is deprecated; The function sample_gaussian is deprecated in 0.18 and will be removed in 0.20. Use numpy.random.multivariate_normal instead.\n",
      "  warnings.warn(msg, category=DeprecationWarning)\n",
      "/Users/jonathanhilgart/anaconda/envs/SVB/lib/python3.6/site-packages/sklearn/utils/deprecation.py:70: DeprecationWarning: Function sample_gaussian is deprecated; The function sample_gaussian is deprecated in 0.18 and will be removed in 0.20. Use numpy.random.multivariate_normal instead.\n",
      "  warnings.warn(msg, category=DeprecationWarning)\n",
      "/Users/jonathanhilgart/anaconda/envs/SVB/lib/python3.6/site-packages/sklearn/utils/deprecation.py:70: DeprecationWarning: Function sample_gaussian is deprecated; The function sample_gaussian is deprecated in 0.18 and will be removed in 0.20. Use numpy.random.multivariate_normal instead.\n",
      "  warnings.warn(msg, category=DeprecationWarning)\n",
      "/Users/jonathanhilgart/anaconda/envs/SVB/lib/python3.6/site-packages/sklearn/utils/deprecation.py:70: DeprecationWarning: Function sample_gaussian is deprecated; The function sample_gaussian is deprecated in 0.18 and will be removed in 0.20. Use numpy.random.multivariate_normal instead.\n",
      "  warnings.warn(msg, category=DeprecationWarning)\n",
      "/Users/jonathanhilgart/anaconda/envs/SVB/lib/python3.6/site-packages/sklearn/utils/deprecation.py:70: DeprecationWarning: Function sample_gaussian is deprecated; The function sample_gaussian is deprecated in 0.18 and will be removed in 0.20. Use numpy.random.multivariate_normal instead.\n",
      "  warnings.warn(msg, category=DeprecationWarning)\n",
      "/Users/jonathanhilgart/anaconda/envs/SVB/lib/python3.6/site-packages/sklearn/utils/deprecation.py:70: DeprecationWarning: Function sample_gaussian is deprecated; The function sample_gaussian is deprecated in 0.18 and will be removed in 0.20. Use numpy.random.multivariate_normal instead.\n",
      "  warnings.warn(msg, category=DeprecationWarning)\n",
      "/Users/jonathanhilgart/anaconda/envs/SVB/lib/python3.6/site-packages/sklearn/utils/deprecation.py:70: DeprecationWarning: Function sample_gaussian is deprecated; The function sample_gaussian is deprecated in 0.18 and will be removed in 0.20. Use numpy.random.multivariate_normal instead.\n",
      "  warnings.warn(msg, category=DeprecationWarning)\n",
      "/Users/jonathanhilgart/anaconda/envs/SVB/lib/python3.6/site-packages/sklearn/utils/deprecation.py:70: DeprecationWarning: Function sample_gaussian is deprecated; The function sample_gaussian is deprecated in 0.18 and will be removed in 0.20. Use numpy.random.multivariate_normal instead.\n",
      "  warnings.warn(msg, category=DeprecationWarning)\n",
      "/Users/jonathanhilgart/anaconda/envs/SVB/lib/python3.6/site-packages/sklearn/utils/deprecation.py:70: DeprecationWarning: Function sample_gaussian is deprecated; The function sample_gaussian is deprecated in 0.18 and will be removed in 0.20. Use numpy.random.multivariate_normal instead.\n",
      "  warnings.warn(msg, category=DeprecationWarning)\n",
      "/Users/jonathanhilgart/anaconda/envs/SVB/lib/python3.6/site-packages/sklearn/utils/deprecation.py:70: DeprecationWarning: Function sample_gaussian is deprecated; The function sample_gaussian is deprecated in 0.18 and will be removed in 0.20. Use numpy.random.multivariate_normal instead.\n",
      "  warnings.warn(msg, category=DeprecationWarning)\n",
      "/Users/jonathanhilgart/anaconda/envs/SVB/lib/python3.6/site-packages/sklearn/utils/deprecation.py:70: DeprecationWarning: Function sample_gaussian is deprecated; The function sample_gaussian is deprecated in 0.18 and will be removed in 0.20. Use numpy.random.multivariate_normal instead.\n",
      "  warnings.warn(msg, category=DeprecationWarning)\n",
      "/Users/jonathanhilgart/anaconda/envs/SVB/lib/python3.6/site-packages/sklearn/utils/deprecation.py:70: DeprecationWarning: Function sample_gaussian is deprecated; The function sample_gaussian is deprecated in 0.18 and will be removed in 0.20. Use numpy.random.multivariate_normal instead.\n",
      "  warnings.warn(msg, category=DeprecationWarning)\n",
      "/Users/jonathanhilgart/anaconda/envs/SVB/lib/python3.6/site-packages/sklearn/utils/deprecation.py:70: DeprecationWarning: Function sample_gaussian is deprecated; The function sample_gaussian is deprecated in 0.18 and will be removed in 0.20. Use numpy.random.multivariate_normal instead.\n",
      "  warnings.warn(msg, category=DeprecationWarning)\n",
      "/Users/jonathanhilgart/anaconda/envs/SVB/lib/python3.6/site-packages/sklearn/utils/deprecation.py:70: DeprecationWarning: Function sample_gaussian is deprecated; The function sample_gaussian is deprecated in 0.18 and will be removed in 0.20. Use numpy.random.multivariate_normal instead.\n",
      "  warnings.warn(msg, category=DeprecationWarning)\n",
      "/Users/jonathanhilgart/anaconda/envs/SVB/lib/python3.6/site-packages/sklearn/utils/deprecation.py:70: DeprecationWarning: Function sample_gaussian is deprecated; The function sample_gaussian is deprecated in 0.18 and will be removed in 0.20. Use numpy.random.multivariate_normal instead.\n",
      "  warnings.warn(msg, category=DeprecationWarning)\n",
      "/Users/jonathanhilgart/anaconda/envs/SVB/lib/python3.6/site-packages/sklearn/utils/deprecation.py:70: DeprecationWarning: Function sample_gaussian is deprecated; The function sample_gaussian is deprecated in 0.18 and will be removed in 0.20. Use numpy.random.multivariate_normal instead.\n",
      "  warnings.warn(msg, category=DeprecationWarning)\n",
      "/Users/jonathanhilgart/anaconda/envs/SVB/lib/python3.6/site-packages/sklearn/utils/deprecation.py:70: DeprecationWarning: Function sample_gaussian is deprecated; The function sample_gaussian is deprecated in 0.18 and will be removed in 0.20. Use numpy.random.multivariate_normal instead.\n",
      "  warnings.warn(msg, category=DeprecationWarning)\n",
      "/Users/jonathanhilgart/anaconda/envs/SVB/lib/python3.6/site-packages/sklearn/utils/deprecation.py:70: DeprecationWarning: Function sample_gaussian is deprecated; The function sample_gaussian is deprecated in 0.18 and will be removed in 0.20. Use numpy.random.multivariate_normal instead.\n",
      "  warnings.warn(msg, category=DeprecationWarning)\n",
      "/Users/jonathanhilgart/anaconda/envs/SVB/lib/python3.6/site-packages/sklearn/utils/deprecation.py:70: DeprecationWarning: Function sample_gaussian is deprecated; The function sample_gaussian is deprecated in 0.18 and will be removed in 0.20. Use numpy.random.multivariate_normal instead.\n",
      "  warnings.warn(msg, category=DeprecationWarning)\n",
      "/Users/jonathanhilgart/anaconda/envs/SVB/lib/python3.6/site-packages/sklearn/utils/deprecation.py:70: DeprecationWarning: Function sample_gaussian is deprecated; The function sample_gaussian is deprecated in 0.18 and will be removed in 0.20. Use numpy.random.multivariate_normal instead.\n",
      "  warnings.warn(msg, category=DeprecationWarning)\n",
      "/Users/jonathanhilgart/anaconda/envs/SVB/lib/python3.6/site-packages/sklearn/utils/deprecation.py:70: DeprecationWarning: Function sample_gaussian is deprecated; The function sample_gaussian is deprecated in 0.18 and will be removed in 0.20. Use numpy.random.multivariate_normal instead.\n",
      "  warnings.warn(msg, category=DeprecationWarning)\n",
      "/Users/jonathanhilgart/anaconda/envs/SVB/lib/python3.6/site-packages/sklearn/utils/deprecation.py:70: DeprecationWarning: Function sample_gaussian is deprecated; The function sample_gaussian is deprecated in 0.18 and will be removed in 0.20. Use numpy.random.multivariate_normal instead.\n",
      "  warnings.warn(msg, category=DeprecationWarning)\n",
      "/Users/jonathanhilgart/anaconda/envs/SVB/lib/python3.6/site-packages/sklearn/utils/deprecation.py:70: DeprecationWarning: Function sample_gaussian is deprecated; The function sample_gaussian is deprecated in 0.18 and will be removed in 0.20. Use numpy.random.multivariate_normal instead.\n",
      "  warnings.warn(msg, category=DeprecationWarning)\n",
      "/Users/jonathanhilgart/anaconda/envs/SVB/lib/python3.6/site-packages/sklearn/utils/deprecation.py:70: DeprecationWarning: Function sample_gaussian is deprecated; The function sample_gaussian is deprecated in 0.18 and will be removed in 0.20. Use numpy.random.multivariate_normal instead.\n",
      "  warnings.warn(msg, category=DeprecationWarning)\n",
      "/Users/jonathanhilgart/anaconda/envs/SVB/lib/python3.6/site-packages/sklearn/utils/deprecation.py:70: DeprecationWarning: Function sample_gaussian is deprecated; The function sample_gaussian is deprecated in 0.18 and will be removed in 0.20. Use numpy.random.multivariate_normal instead.\n",
      "  warnings.warn(msg, category=DeprecationWarning)\n",
      "/Users/jonathanhilgart/anaconda/envs/SVB/lib/python3.6/site-packages/sklearn/utils/deprecation.py:70: DeprecationWarning: Function sample_gaussian is deprecated; The function sample_gaussian is deprecated in 0.18 and will be removed in 0.20. Use numpy.random.multivariate_normal instead.\n",
      "  warnings.warn(msg, category=DeprecationWarning)\n",
      "/Users/jonathanhilgart/anaconda/envs/SVB/lib/python3.6/site-packages/sklearn/utils/deprecation.py:70: DeprecationWarning: Function sample_gaussian is deprecated; The function sample_gaussian is deprecated in 0.18 and will be removed in 0.20. Use numpy.random.multivariate_normal instead.\n",
      "  warnings.warn(msg, category=DeprecationWarning)\n",
      "/Users/jonathanhilgart/anaconda/envs/SVB/lib/python3.6/site-packages/sklearn/utils/deprecation.py:70: DeprecationWarning: Function sample_gaussian is deprecated; The function sample_gaussian is deprecated in 0.18 and will be removed in 0.20. Use numpy.random.multivariate_normal instead.\n",
      "  warnings.warn(msg, category=DeprecationWarning)\n",
      "/Users/jonathanhilgart/anaconda/envs/SVB/lib/python3.6/site-packages/sklearn/utils/deprecation.py:70: DeprecationWarning: Function sample_gaussian is deprecated; The function sample_gaussian is deprecated in 0.18 and will be removed in 0.20. Use numpy.random.multivariate_normal instead.\n",
      "  warnings.warn(msg, category=DeprecationWarning)\n",
      "/Users/jonathanhilgart/anaconda/envs/SVB/lib/python3.6/site-packages/sklearn/utils/deprecation.py:70: DeprecationWarning: Function sample_gaussian is deprecated; The function sample_gaussian is deprecated in 0.18 and will be removed in 0.20. Use numpy.random.multivariate_normal instead.\n",
      "  warnings.warn(msg, category=DeprecationWarning)\n",
      "/Users/jonathanhilgart/anaconda/envs/SVB/lib/python3.6/site-packages/sklearn/utils/deprecation.py:70: DeprecationWarning: Function sample_gaussian is deprecated; The function sample_gaussian is deprecated in 0.18 and will be removed in 0.20. Use numpy.random.multivariate_normal instead.\n",
      "  warnings.warn(msg, category=DeprecationWarning)\n",
      "/Users/jonathanhilgart/anaconda/envs/SVB/lib/python3.6/site-packages/sklearn/utils/deprecation.py:70: DeprecationWarning: Function sample_gaussian is deprecated; The function sample_gaussian is deprecated in 0.18 and will be removed in 0.20. Use numpy.random.multivariate_normal instead.\n",
      "  warnings.warn(msg, category=DeprecationWarning)\n",
      "/Users/jonathanhilgart/anaconda/envs/SVB/lib/python3.6/site-packages/sklearn/utils/deprecation.py:70: DeprecationWarning: Function sample_gaussian is deprecated; The function sample_gaussian is deprecated in 0.18 and will be removed in 0.20. Use numpy.random.multivariate_normal instead.\n",
      "  warnings.warn(msg, category=DeprecationWarning)\n",
      "/Users/jonathanhilgart/anaconda/envs/SVB/lib/python3.6/site-packages/sklearn/utils/deprecation.py:70: DeprecationWarning: Function sample_gaussian is deprecated; The function sample_gaussian is deprecated in 0.18 and will be removed in 0.20. Use numpy.random.multivariate_normal instead.\n",
      "  warnings.warn(msg, category=DeprecationWarning)\n",
      "/Users/jonathanhilgart/anaconda/envs/SVB/lib/python3.6/site-packages/sklearn/utils/deprecation.py:70: DeprecationWarning: Function sample_gaussian is deprecated; The function sample_gaussian is deprecated in 0.18 and will be removed in 0.20. Use numpy.random.multivariate_normal instead.\n",
      "  warnings.warn(msg, category=DeprecationWarning)\n",
      "/Users/jonathanhilgart/anaconda/envs/SVB/lib/python3.6/site-packages/sklearn/utils/deprecation.py:70: DeprecationWarning: Function sample_gaussian is deprecated; The function sample_gaussian is deprecated in 0.18 and will be removed in 0.20. Use numpy.random.multivariate_normal instead.\n",
      "  warnings.warn(msg, category=DeprecationWarning)\n",
      "/Users/jonathanhilgart/anaconda/envs/SVB/lib/python3.6/site-packages/sklearn/utils/deprecation.py:70: DeprecationWarning: Function sample_gaussian is deprecated; The function sample_gaussian is deprecated in 0.18 and will be removed in 0.20. Use numpy.random.multivariate_normal instead.\n",
      "  warnings.warn(msg, category=DeprecationWarning)\n",
      "/Users/jonathanhilgart/anaconda/envs/SVB/lib/python3.6/site-packages/sklearn/utils/deprecation.py:70: DeprecationWarning: Function sample_gaussian is deprecated; The function sample_gaussian is deprecated in 0.18 and will be removed in 0.20. Use numpy.random.multivariate_normal instead.\n",
      "  warnings.warn(msg, category=DeprecationWarning)\n",
      "/Users/jonathanhilgart/anaconda/envs/SVB/lib/python3.6/site-packages/sklearn/utils/deprecation.py:70: DeprecationWarning: Function sample_gaussian is deprecated; The function sample_gaussian is deprecated in 0.18 and will be removed in 0.20. Use numpy.random.multivariate_normal instead.\n",
      "  warnings.warn(msg, category=DeprecationWarning)\n",
      "/Users/jonathanhilgart/anaconda/envs/SVB/lib/python3.6/site-packages/sklearn/utils/deprecation.py:70: DeprecationWarning: Function sample_gaussian is deprecated; The function sample_gaussian is deprecated in 0.18 and will be removed in 0.20. Use numpy.random.multivariate_normal instead.\n",
      "  warnings.warn(msg, category=DeprecationWarning)\n",
      "/Users/jonathanhilgart/anaconda/envs/SVB/lib/python3.6/site-packages/sklearn/utils/deprecation.py:70: DeprecationWarning: Function sample_gaussian is deprecated; The function sample_gaussian is deprecated in 0.18 and will be removed in 0.20. Use numpy.random.multivariate_normal instead.\n",
      "  warnings.warn(msg, category=DeprecationWarning)\n",
      "/Users/jonathanhilgart/anaconda/envs/SVB/lib/python3.6/site-packages/sklearn/utils/deprecation.py:70: DeprecationWarning: Function sample_gaussian is deprecated; The function sample_gaussian is deprecated in 0.18 and will be removed in 0.20. Use numpy.random.multivariate_normal instead.\n",
      "  warnings.warn(msg, category=DeprecationWarning)\n",
      "/Users/jonathanhilgart/anaconda/envs/SVB/lib/python3.6/site-packages/sklearn/utils/deprecation.py:70: DeprecationWarning: Function sample_gaussian is deprecated; The function sample_gaussian is deprecated in 0.18 and will be removed in 0.20. Use numpy.random.multivariate_normal instead.\n",
      "  warnings.warn(msg, category=DeprecationWarning)\n"
     ]
    }
   ],
   "source": [
    ">>> import numpy as np\n",
    ">>> from hmmlearn import hmm\n",
    "import matplotlib.pyplot as plt\n",
    "%pylab inline\n",
    ">>> np.random.seed(42)\n",
    "\n",
    ">>> model = hmm.GaussianHMM(n_components=3, covariance_type=\"full\")\n",
    ">>> model.startprob_ = np.array([0.6, 0.3, 0.1])\n",
    ">>> model.transmat_ = np.array([[0.7, 0.2, 0.1],\n",
    "...                             [0.3, 0.5, 0.2],\n",
    "...                             [0.3, 0.3, 0.4]])\n",
    ">>> model.means_ = np.array([[0.0, 0.0], [3.0, -3.0], [5.0, 10.0]])\n",
    ">>> model.covars_ = np.tile(np.identity(2), (3, 1, 1))\n",
    ">>> X, Z = model.sample(100)"
   ]
  },
  {
   "cell_type": "code",
   "execution_count": 19,
   "metadata": {
    "collapsed": false
   },
   "outputs": [
    {
     "data": {
      "text/plain": [
       "array([[ 1.11188012,  0.31890218],\n",
       "       [-1.57921282,  0.76743473],\n",
       "       [ 0.58087813, -0.52516981],\n",
       "       [-0.24196227, -1.91328024],\n",
       "       [-0.81644508, -1.523876  ],\n",
       "       [ 0.90802408, -1.4123037 ],\n",
       "       [ 0.62947496,  0.59772047],\n",
       "       [ 0.54438272,  0.11092259],\n",
       "       [ 0.60025385,  0.94743982],\n",
       "       [ 0.60170661,  1.85227818]])"
      ]
     },
     "execution_count": 19,
     "metadata": {},
     "output_type": "execute_result"
    }
   ],
   "source": [
    "X[:10]"
   ]
  },
  {
   "cell_type": "code",
   "execution_count": 21,
   "metadata": {
    "collapsed": false
   },
   "outputs": [
    {
     "data": {
      "text/plain": [
       "array([0, 0, 0, 0, 0, 0, 0, 0, 0, 0])"
      ]
     },
     "execution_count": 21,
     "metadata": {},
     "output_type": "execute_result"
    }
   ],
   "source": [
    "Z[:10]"
   ]
  },
  {
   "cell_type": "code",
   "execution_count": 22,
   "metadata": {
    "collapsed": false
   },
   "outputs": [
    {
     "data": {
      "text/plain": [
       "<matplotlib.collections.PathCollection at 0x11ba312b0>"
      ]
     },
     "execution_count": 22,
     "metadata": {},
     "output_type": "execute_result"
    },
    {
     "data": {
      "image/png": "[encoded data removed]",
      "text/plain": [
       "<matplotlib.figure.Figure at 0x11baa50b8>"
      ]
     },
     "metadata": {},
     "output_type": "display_data"
    }
   ],
   "source": [
    "plt.scatter(X[:,0],X[:,1])"
   ]
  },
  {
   "cell_type": "code",
   "execution_count": null,
   "metadata": {
    "collapsed": true
   },
   "outputs": [],
   "source": []
  }
 ],
 "metadata": {
  "kernelspec": {
   "display_name": "SVB",
   "language": "python",
   "name": "svb"
  },
  "language_info": {
   "codemirror_mode": {
    "name": "ipython",
    "version": 3
   },
   "file_extension": ".py",
   "mimetype": "text/x-python",
   "name": "python",
   "nbconvert_exporter": "python",
   "pygments_lexer": "ipython3",
   "version": "3.6.1"
  }
 },
 "nbformat": 4,
 "nbformat_minor": 2
}
